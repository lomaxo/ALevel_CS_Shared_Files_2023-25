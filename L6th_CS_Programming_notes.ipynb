{
  "cells": [
    {
      "cell_type": "markdown",
      "metadata": {
        "id": "8C_VtC1KxfYq"
      },
      "source": []
    },
    {
      "cell_type": "markdown",
      "metadata": {
        "id": "JhA6MWAeOLW5"
      },
      "source": [
        "# Craig'n'Dave videos\n",
        "\n",
        "1.   [Data types](https://student.craigndave.org/videos/aqa-alevel-slr01-introduction-to-programming-part-1-data-types)\n",
        "2.   [Basic constructs](https://student.craigndave.org/videos/aqa-alevel-slr01-introduction-to-programming-part-2-basic-constructs)\n",
        "3.   [Variables & constraints](https://student.craigndave.org/videos/aqa-alevel-slr01-introduction-to-programming-part-3-variables-and-constants)\n",
        "4.   [Mathematical operators](https://student.craigndave.org/videos/aqa-alevel-slr01-introduction-to-programming-part-4-mathematical-operators)\n",
        "5.   [String handling](https://student.craigndave.org/videos/aqa-alevel-slr01-introduction-to-programming-part-5-string-handling)\n",
        "6.   [Random numbers](https://student.craigndave.org/videos/aqa-alevel-slr01-introduction-to-programming-part-6-random-numbers)\n",
        "\n"
      ]
    },
    {
      "cell_type": "markdown",
      "metadata": {
        "id": "QXZC3AB7Jcs3"
      },
      "source": [
        "# Data Types\n"
      ]
    },
    {
      "cell_type": "code",
      "execution_count": 1,
      "metadata": {
        "colab": {
          "base_uri": "https://localhost:8080/"
        },
        "id": "ncybOBh1Jpzr",
        "outputId": "a23a33c0-fc4f-42d9-ad5e-53dcb4df54a5"
      },
      "outputs": [
        {
          "name": "stdout",
          "output_type": "stream",
          "text": [
            "(2+3j) <class 'complex'>\n"
          ]
        }
      ],
      "source": [
        "import datetime\n",
        "test_variable = 2+ 3j\n",
        "print(test_variable, type(test_variable))\n"
      ]
    },
    {
      "cell_type": "code",
      "execution_count": 2,
      "metadata": {
        "colab": {
          "base_uri": "https://localhost:8080/"
        },
        "id": "lD-VydUr1lQa",
        "outputId": "3873670a-7e2d-43be-a49f-11b9c3e7d625"
      },
      "outputs": [
        {
          "name": "stdout",
          "output_type": "stream",
          "text": [
            "1/2 0.5 <class 'float'>\n",
            "1//2 0 <class 'float'>\n",
            "10//3 3 <class 'int'>\n",
            "10.0//3 3.0 <class 'float'>\n",
            "10.0/3 3.3333333333333335 <class 'float'>\n",
            "<class 'float'>\n",
            "<class 'float'>\n"
          ]
        }
      ],
      "source": [
        "print('1/2', 1/2,type(1/2))\n",
        "print('1//2', 1//2,type(1/2))\n",
        "print('10//3', 10//3,type(10//3))\n",
        "print('10.0//3',10.0//3,type(10.0//3))\n",
        "print('10.0/3', 10.0/3,type(10.0/3))\n",
        "print(type(15/5.0))\n",
        "print(type(15//5.0))\n",
        "# print(type(5/0))"
      ]
    },
    {
      "cell_type": "code",
      "execution_count": 3,
      "metadata": {
        "colab": {
          "base_uri": "https://localhost:8080/"
        },
        "id": "3yPMy_JM3jy9",
        "outputId": "f352fe6e-9e90-407d-9672-5202527433fe"
      },
      "outputs": [
        {
          "name": "stdout",
          "output_type": "stream",
          "text": [
            "2 <class 'int'> 28\n"
          ]
        }
      ],
      "source": [
        "from sys import getsizeof\n",
        "test_var = 2 #set([1,2,3,4,5,6,7,8,9])\n",
        "print(test_var, type(test_var), getsizeof(test_var))"
      ]
    },
    {
      "cell_type": "markdown",
      "metadata": {
        "id": "iewaDX-hxQD1"
      },
      "source": [
        "# Conditions"
      ]
    },
    {
      "cell_type": "markdown",
      "metadata": {
        "id": "Jf5DZNFC5QwC"
      },
      "source": [
        "## `if...elif...else` statements\n",
        "\n",
        "- [Craig'n'Dave](https://student.craigndave.org/videos/aqa-alevel-slr01-introduction-to-programming-part-2-basic-constructs)\n",
        "- [w3schools](https://www.w3schools.com/python/python_conditions.asp)"
      ]
    },
    {
      "cell_type": "markdown",
      "metadata": {
        "id": "cgF2EMaeLjn4"
      },
      "source": [
        "## If expression (or ternary operator)\n",
        "\n",
        "`value_if_true if condition else value_if_false`"
      ]
    },
    {
      "cell_type": "code",
      "execution_count": 4,
      "metadata": {
        "colab": {
          "base_uri": "https://localhost:8080/",
          "height": 34
        },
        "id": "MomyYV3MLvzF",
        "outputId": "9de5a009-9c14-4608-9364-0e7e238d6e0d"
      },
      "outputs": [
        {
          "name": "stdout",
          "output_type": "stream",
          "text": [
            "banana is yellow\n"
          ]
        }
      ],
      "source": [
        "fruit = 'banana'\n",
        "colour = 'yellow' if fruit == 'banana' else 'green'\n",
        "print(f'{fruit} is {colour}')"
      ]
    },
    {
      "cell_type": "markdown",
      "metadata": {
        "id": "07AlzgRh1gRe"
      },
      "source": [
        "Another, even shorter version is:\n",
        "`boolean or value_if_false`\n",
        "This works because zero or empty variables are usually interpretted as False by Python."
      ]
    },
    {
      "cell_type": "code",
      "execution_count": 5,
      "metadata": {
        "colab": {
          "base_uri": "https://localhost:8080/",
          "height": 51
        },
        "id": "XXH7klZh10Y5",
        "outputId": "413ea1d6-fc11-485c-ee8d-90b1c6bb4f84"
      },
      "outputs": [
        {
          "name": "stdout",
          "output_type": "stream",
          "text": [
            "True banana\n",
            "Message is blank\n"
          ]
        }
      ],
      "source": [
        "fruit1 = True or 'pear'\n",
        "fruit2 = False or 'banana'\n",
        "print(fruit1, fruit2)\n",
        "message = \"\"\n",
        "print(message or \"Message is blank\")"
      ]
    },
    {
      "cell_type": "markdown",
      "metadata": {
        "id": "J4UnFigcvyiP"
      },
      "source": [
        "# Iteration\n",
        "Iteration can be _definite_ or _indefinite_. \n",
        "Definite iterations loop for a pre-determined number of times. This is usally achieved with a `for` loop\n",
        "Indefinite iterations have a test condition is checked every time through the loop. The loop only continues if the condition is met. This is usually acheived with a `while` loop.\n",
        "\n",
        "\n",
        "Loops are often be _counter controled_. This could be achieved using definite or indefinite iteration though a `for` loop is probably the best option. \n"
      ]
    },
    {
      "cell_type": "markdown",
      "metadata": {
        "id": "i821-udIjLnL"
      },
      "source": [
        "## `for` loops\n",
        "- [Craig'n'Dave](https://student.craigndave.org/videos/aqa-alevel-slr01-introduction-to-programming-part-2-basic-constructs)\n",
        "- [w3schools](https://www.w3schools.com/python/python_for_loops.asp) "
      ]
    },
    {
      "cell_type": "code",
      "execution_count": 6,
      "metadata": {
        "colab": {
          "base_uri": "https://localhost:8080/",
          "height": 68
        },
        "id": "lKMeZtrn3lDo",
        "outputId": "b4aacce9-3d61-4686-99f4-79399a3f68a3"
      },
      "outputs": [
        {
          "name": "stdout",
          "output_type": "stream",
          "text": [
            "Python\n",
            "programming\n",
            "rocks\n"
          ]
        }
      ],
      "source": [
        "# you can use this to iterate through items in a list, too\n",
        "wordList = ['Python','programming','rocks']\n",
        "for eachWord in wordList:\n",
        "\tprint(eachWord)"
      ]
    },
    {
      "cell_type": "code",
      "execution_count": 7,
      "metadata": {
        "colab": {
          "base_uri": "https://localhost:8080/",
          "height": 68
        },
        "id": "TY7FcSwnfIxF",
        "outputId": "e7d3e4d8-b26b-4ade-8620-fa6896492fbc"
      },
      "outputs": [
        {
          "name": "stdout",
          "output_type": "stream",
          "text": [
            "1. Python\n",
            "2. programming\n",
            "3. rocks\n"
          ]
        }
      ],
      "source": [
        "# to iterate through an item and have both count and value to manipulate\n",
        "wordList = ['Python','programming','rocks']\n",
        "for count, eachWord in enumerate(wordList, 1):\n",
        "  print(f'{count}. {eachWord}')\n",
        "  #print(eachWord)"
      ]
    },
    {
      "cell_type": "markdown",
      "metadata": {
        "id": "sHDjqPJr3LIB"
      },
      "source": [
        "## using `range(a,b,c)`\n",
        "- produces a sequence of numbers `a≤x<b` in steps of `c` \n",
        "- [w3schools](https://www.w3schools.com/python/ref_func_range.asp)"
      ]
    },
    {
      "cell_type": "code",
      "execution_count": 8,
      "metadata": {
        "colab": {
          "base_uri": "https://localhost:8080/",
          "height": 68
        },
        "id": "iSJ68qnXUHa3",
        "outputId": "ade302d9-5642-4e8a-a6ff-70ffc1149f11"
      },
      "outputs": [
        {
          "name": "stdout",
          "output_type": "stream",
          "text": [
            "10\n",
            "12\n",
            "14\n"
          ]
        }
      ],
      "source": [
        "for x in range(10, 15, 2):\n",
        "  print(x)"
      ]
    },
    {
      "cell_type": "code",
      "execution_count": 9,
      "metadata": {
        "colab": {
          "base_uri": "https://localhost:8080/",
          "height": 136
        },
        "id": "R-0KwXG32IPX",
        "outputId": "6e345468-ce50-4382-c21e-669a893a6708"
      },
      "outputs": [
        {
          "name": "stdout",
          "output_type": "stream",
          "text": [
            "34\n",
            "32\n",
            "30\n",
            "28\n",
            "26\n",
            "24\n",
            "22\n"
          ]
        }
      ],
      "source": [
        "# you can use this to go backwards, too **as long as you have a negative step-size and your start & end indices are the right way around**\n",
        "for i in range(34, 20, -2):\n",
        "\tprint(i)"
      ]
    },
    {
      "cell_type": "code",
      "execution_count": 10,
      "metadata": {
        "colab": {
          "base_uri": "https://localhost:8080/",
          "height": 68
        },
        "id": "TpcX4VsnUpNn",
        "outputId": "a4ae9d2f-6eb9-44b2-d4c4-75b454b380bd"
      },
      "outputs": [
        {
          "name": "stdout",
          "output_type": "stream",
          "text": [
            "0. Python\n",
            "1. programming\n",
            "2. rocks\n"
          ]
        }
      ],
      "source": [
        "wordList = ['Python','programming','rocks']\n",
        "for i in range(len(wordList)):\n",
        "  print(f'{i}. {wordList[i]}')"
      ]
    },
    {
      "cell_type": "code",
      "execution_count": 11,
      "metadata": {
        "colab": {
          "base_uri": "https://localhost:8080/"
        },
        "id": "5UrXn6En6UWP",
        "outputId": "7918075b-34b2-4e3b-ed84-0f4f591765da"
      },
      "outputs": [
        {
          "name": "stdout",
          "output_type": "stream",
          "text": [
            "0 Python\n",
            "1 programming\n",
            "2 rocks\n"
          ]
        }
      ],
      "source": [
        "wordList = ['Python','programming','rocks']\n",
        "for number, word in enumerate(wordList):\n",
        "  print(number, word)"
      ]
    },
    {
      "cell_type": "markdown",
      "metadata": {
        "id": "LcuCooCr4BvB"
      },
      "source": [
        "## `while` loops\n",
        "- [Craig'n'Dave](https://student.craigndave.org/videos/aqa-alevel-slr01-introduction-to-programming-part-2-basic-constructs)\n",
        "- [w3schools](https://www.w3schools.com/python/python_while_loops.asp) "
      ]
    },
    {
      "cell_type": "code",
      "execution_count": 12,
      "metadata": {
        "colab": {
          "base_uri": "https://localhost:8080/",
          "height": 136
        },
        "id": "5DALPGsGvfLf",
        "outputId": "361f0ebb-e571-4041-dcff-3420c8c468f0"
      },
      "outputs": [
        {
          "name": "stdout",
          "output_type": "stream",
          "text": [
            "34\n",
            "32\n",
            "30\n",
            "28\n",
            "26\n",
            "24\n",
            "22\n"
          ]
        }
      ],
      "source": [
        "i = 34\n",
        "while i > 20:\n",
        "  print(i)\n",
        "  i = i - 2"
      ]
    },
    {
      "cell_type": "markdown",
      "metadata": {
        "id": "yKcZqYp2w_y_"
      },
      "source": [
        "## Example of indefinite, definite and recursive iteration"
      ]
    },
    {
      "cell_type": "code",
      "execution_count": 13,
      "metadata": {
        "colab": {
          "base_uri": "https://localhost:8080/"
        },
        "id": "NyJHBgFzw0ql",
        "outputId": "ad8b61e6-489d-4b11-cc17-9fece784f44c"
      },
      "outputs": [
        {
          "name": "stdout",
          "output_type": "stream",
          "text": [
            "5040\n",
            "5040\n",
            "5040\n"
          ]
        }
      ],
      "source": [
        "# Calculate factorial n using indefinite iteration\n",
        "def factorial_indefinite(n):\n",
        "    total = 1\n",
        "    i = 1\n",
        "    while i <= n:\n",
        "        total = total * i\n",
        "        i += 1\n",
        "    return total\n",
        "\n",
        "\n",
        "# Calculate factorial n using definite iteration\n",
        "def factorial_definite(n):\n",
        "    total = 1\n",
        "    for i in range(1, n+1):\n",
        "        total = total * i\n",
        "    return total\n",
        "\n",
        "\n",
        "# Calculate factorial n using a recursion\n",
        "def factorial_recursive(n):\n",
        "    if n == 1:\n",
        "        return 1\n",
        "    else:\n",
        "        return n * factorial_recursive(n-1)\n",
        "\n",
        "\n",
        "value = 7\n",
        "print(factorial_indefinite(value))\n",
        "print(factorial_definite(value))\n",
        "print(factorial_recursive(value))"
      ]
    },
    {
      "cell_type": "markdown",
      "metadata": {
        "id": "soSwAzhs4WEs"
      },
      "source": [
        "# Lists\n",
        "- [Craig'n'Dave](https://student.craigndave.org/videos/aqa-alevel-slr01-introduction-to-programming-part-1-data-types)\n",
        "- [w3schools](https://www.w3schools.com/python/python_lists.asp) "
      ]
    },
    {
      "cell_type": "code",
      "execution_count": 14,
      "metadata": {
        "id": "K-euNJbnxumv"
      },
      "outputs": [
        {
          "name": "stdout",
          "output_type": "stream",
          "text": [
            "cat\n"
          ]
        }
      ],
      "source": [
        "pets = ['goldfish', 'cat', 'dog']\n",
        "print(pets[1])"
      ]
    },
    {
      "cell_type": "markdown",
      "metadata": {
        "id": "t7haZ_oLx115"
      },
      "source": [
        "Note that lists in Python are “zero indexed” - the first item is 0.\n",
        "\n",
        "| Index | 0          | 1     | 2     |   |\n",
        "|-------|------------|-------|-------|---|\n",
        "| pets  | 'goldfish' | 'cat' | 'dog' |   |\n",
        "\n",
        "- `list.append(item)` adds item to the end of the list\n",
        "- `list.insert(0, item)` adds an item into position 0"
      ]
    },
    {
      "cell_type": "code",
      "execution_count": 15,
      "metadata": {
        "colab": {
          "base_uri": "https://localhost:8080/"
        },
        "id": "XoCZImR6xSTl",
        "outputId": "db4503ed-81a5-4074-945b-368eb8b23df7"
      },
      "outputs": [
        {
          "name": "stdout",
          "output_type": "stream",
          "text": [
            "['gerbil', 'goldfish', 'cat', 'dog', 'lion', 'tiger', 'bear', 'monkey']\n",
            "['monkey', 'bear']\n"
          ]
        }
      ],
      "source": [
        "pets = ['goldfish', 'cat', 'dog']\n",
        "wild_animals = ['lion', 'tiger', 'bear']\n",
        "animals = pets + wild_animals\n",
        "\n",
        "animals.append('monkey')\n",
        "animals.insert(0, 'gerbil')\n",
        "\n",
        "print(animals)\n",
        "#animals.append(wild_animals)\n",
        "#print(animals)\n",
        "print(animals[:-3:-1])"
      ]
    },
    {
      "cell_type": "markdown",
      "metadata": {
        "id": "kZYUrifhy9Ml"
      },
      "source": [
        "## List Slicing\n",
        "| | |\n",
        "|--|--|\n",
        "|`a[start:stop]`|items from `start` up to, but not including, `stop`.|\n",
        "|`a[start:]`|items from `start` to the end|\n",
        "|`a[:stop]`|items from the beginning up to, but not including, `stop`.|\n",
        "|`a[:]`|a copy of the whole array|\n",
        "| `a[start:stop:step]` | items from `start` to `stop` (not including `stop`), going up by `step`. |\n",
        "`a[1:10:2]` | The 1st, 3rd, 5th, 7th and 9th items. |\n",
        "|`a[::-1]`|Stepping backwards through the list.|\n",
        "|`a[:-3:-1]`|The last two items, reversed.|\n"
      ]
    },
    {
      "cell_type": "code",
      "execution_count": 16,
      "metadata": {
        "colab": {
          "base_uri": "https://localhost:8080/"
        },
        "id": "1uboHBnN0Odr",
        "outputId": "f2f41300-0dbc-49a0-feea-4ddc78943309"
      },
      "outputs": [
        {
          "name": "stdout",
          "output_type": "stream",
          "text": [
            "['cat', 'dog', 'lion']\n",
            "[]\n",
            "['gerbil', 'goldfish', 'cat', 'dog', 'lion', 'tiger', 'bear', 'monkey', 'gerbil', 'goldfish', 'cat', 'dog', 'lion', 'tiger', 'bear', 'monkey', 'gerbil', 'goldfish', 'cat', 'dog', 'lion', 'tiger', 'bear', 'monkey', 'gerbil', 'goldfish', 'cat', 'dog', 'lion', 'tiger', 'bear', 'monkey', 'gerbil', 'goldfish', 'cat', 'dog', 'lion', 'tiger', 'bear', 'monkey']\n",
            "[0, 0, 0, 0, 0, 0, 0, 0, 0, 0]\n"
          ]
        }
      ],
      "source": [
        "print(animals[2:5])\n",
        "print(animals[-2:-4])\n",
        "print(animals * 5)\n",
        "print([0] * 10)"
      ]
    },
    {
      "cell_type": "code",
      "execution_count": 17,
      "metadata": {
        "colab": {
          "base_uri": "https://localhost:8080/"
        },
        "id": "59uucJ75urme",
        "outputId": "f1b4dee3-be8d-4610-8b08-5ad426429900"
      },
      "outputs": [
        {
          "name": "stdout",
          "output_type": "stream",
          "text": [
            "['Jake', 'Thomas', 'Lenny', 'Gavin', 'Matthew', 'Ian', 'Rohan']\n",
            "Ed, William, Toby, Freddie, Rohan, Ian, Matthew, Gavin, Lenny, Thomas and Jake\n"
          ]
        }
      ],
      "source": [
        "name_list = ['Ed', 'William', 'Toby', 'Freddie', 'Rohan', 'Ian', 'Matthew', 'Gavin', 'Lenny', 'Thomas', 'Jake']\n",
        "\n",
        "print(name_list[:-8:-1])\n",
        "\n",
        "#for i in range(len(name_list)):\n",
        "#  print(i, name_list[i])\n",
        "\n",
        "for name in name_list[:-2]:\n",
        "  print(name, end=', ')\n",
        "print(name_list[-2], 'and', name_list[-1])\n"
      ]
    },
    {
      "cell_type": "code",
      "execution_count": 18,
      "metadata": {
        "colab": {
          "base_uri": "https://localhost:8080/"
        },
        "id": "seyRWMdDw5uA",
        "outputId": "3caf1174-3b9c-4c7d-f1ad-ed2b547b437c"
      },
      "outputs": [
        {
          "name": "stdout",
          "output_type": "stream",
          "text": [
            "['Ed', 'William', 'Toby', 'Freddie', 'Rohan', 'Ian', 'Matthew', 'Gavin', 'Lenny', 'Thomas', 'Jake', 'Toby']\n",
            "2\n",
            "2\n"
          ]
        }
      ],
      "source": [
        "name_list.append('Toby')\n",
        "print(name_list)\n",
        "print(name_list.index('Toby'))\n",
        "print(name_list.count('Toby'))\n",
        "\n"
      ]
    },
    {
      "cell_type": "markdown",
      "metadata": {
        "id": "friKlSKe0m9W"
      },
      "source": [
        "## Getting information about a list:\n",
        "\n",
        "| | |\n",
        "|-|-|\n",
        "|`x in my_list`|True if object x is in the list|\n",
        "|`x not in my_list`|True if object x is not in the list|\n",
        "|`len(my_list)`|The length of the list|\n",
        "|`max(my_list)`|The largest item|\n",
        "|`min(my_list)`|The smallest item|\n",
        "|`sum(my_list)`|The sum of all the items|\n",
        "|`lst.count(item)`|Returns the number of occurences of item in the list lst|\n",
        "|`lst.index(item)`|Returns the index of the first occurence of item in the list|\n",
        "\n"
      ]
    },
    {
      "cell_type": "code",
      "execution_count": 19,
      "metadata": {
        "colab": {
          "base_uri": "https://localhost:8080/"
        },
        "id": "9i-WfvaXegDW",
        "outputId": "62f2345a-bdc1-44cd-ba04-2f8c160b081f"
      },
      "outputs": [
        {
          "name": "stdout",
          "output_type": "stream",
          "text": [
            "['Ed', 'William', 'Toby', 'Freddie', 'Rohan', 'Ian', 'Matthew', 'Gavin', 'Lenny', 'Thomas', 'Jake']\n",
            "Ed, William, Toby, Freddie, Rohan, Ian, Matthew, Gavin, Lenny, Thomas, and Jake\n"
          ]
        }
      ],
      "source": [
        "nameList = ['Ed', 'William', 'Toby', 'Freddie', 'Rohan', 'Ian', 'Matthew', 'Gavin', 'Lenny', 'Thomas', 'Jake']\n",
        "\n",
        "print(nameList)\n",
        "for name in nameList[:-1]:\n",
        "  print(name, end=', ')\n",
        "print('and', nameList[-1])\n",
        "\n",
        "#for i in range(len(nameList)):\n",
        "#  print(i, nameList[i])"
      ]
    },
    {
      "cell_type": "markdown",
      "metadata": {
        "id": "ePmuOFZR1nF_"
      },
      "source": [
        "## Manipulating lists\n",
        "| | |\n",
        "|-|-|\n",
        "|`lst.pop()`|Removes the last item in the list and returns it.|\n",
        "|`lst.remove(item)`|Removes the first occurence of item in the list|\n",
        "`lst.reverse()`|Reverses the order of items in the list\n",
        "`lst.sort()`|Sorts the list\n",
        "|`my_list * n`|Joins n copies of the my_list into one big lists|\n"
      ]
    },
    {
      "cell_type": "code",
      "execution_count": 20,
      "metadata": {
        "colab": {
          "base_uri": "https://localhost:8080/"
        },
        "id": "_m1ZDn4T97G5",
        "outputId": "c38c1f91-5b1b-4063-9ff4-a76e107b853b"
      },
      "outputs": [
        {
          "name": "stdout",
          "output_type": "stream",
          "text": [
            "['a', 'b', 'c', 'd']\n",
            "a ['b', 'c', 'd']\n",
            "['e', 'b', 'c', 'd']\n",
            "['e', 'b', 'c', 'd', 'f']\n"
          ]
        }
      ],
      "source": [
        "test_list = ['a', 'b','c','d']\n",
        "print(test_list)\n",
        "letter = test_list.pop(0)\n",
        "print(letter, test_list)\n",
        "test_list.insert(0, 'e')\n",
        "print(test_list)\n",
        "test_list.append('f')\n",
        "print(test_list)"
      ]
    },
    {
      "cell_type": "markdown",
      "metadata": {
        "id": "ISE75mrCIFRD"
      },
      "source": [
        "## List Comprehension\n",
        "\n",
        "Official documentation:\n",
        "https://docs.python.org/3/tutorial/datastructures.html#list-comprehensions\n",
        "\n",
        "A useful website:\n",
        "https://www.programiz.com/python-programming/list-comprehension\n"
      ]
    },
    {
      "cell_type": "markdown",
      "metadata": {
        "id": "5ozfLmpvnLa7"
      },
      "source": [
        "### Examples"
      ]
    },
    {
      "cell_type": "code",
      "execution_count": 21,
      "metadata": {
        "colab": {
          "base_uri": "https://localhost:8080/"
        },
        "id": "1iXcg_yFIMKc",
        "outputId": "43892aed-d2fa-4449-dc5f-42cc1beed621"
      },
      "outputs": [
        {
          "name": "stdout",
          "output_type": "stream",
          "text": [
            "[3, 4, 5, 6, 7, 8, 9, 10, 11, 12]\n"
          ]
        }
      ],
      "source": [
        "# For every item in original_list, name the item x and put x into the new list.\n",
        "original_list = [0, 1, 2, 3, 4, 5, 6, 7, 8, 9]\n",
        "\n",
        "new_list = [item+3 for item in original_list]\n",
        "print(new_list)"
      ]
    },
    {
      "cell_type": "code",
      "execution_count": 22,
      "metadata": {
        "colab": {
          "base_uri": "https://localhost:8080/"
        },
        "id": "PlkZvYNuIbKO",
        "outputId": "884a66f2-6557-48ff-bf11-02e5f9aa0c79"
      },
      "outputs": [
        {
          "name": "stdout",
          "output_type": "stream",
          "text": [
            "[0, 1, 4, 9, 16, 25, 36, 49, 64, 81]\n"
          ]
        }
      ],
      "source": [
        "# For every item in original_list, name the item x and put x**2 into the new list.\n",
        "original_list = range(10)\n",
        "new_list = [x**2 for x in original_list]\n",
        "print(new_list)"
      ]
    },
    {
      "cell_type": "code",
      "execution_count": 23,
      "metadata": {
        "colab": {
          "base_uri": "https://localhost:8080/"
        },
        "id": "BzxfUeFhIVQK",
        "outputId": "79310600-8dd1-4e36-fb1b-d24b52596fb7"
      },
      "outputs": [
        {
          "name": "stdout",
          "output_type": "stream",
          "text": [
            "[0, 3, 6, 9, 12, 15, 18, 21, 24, 27, 30, 33, 36, 39, 42, 45, 48, 51, 54, 57, 60, 63, 66, 69, 72, 75, 78, 81, 84, 87, 90, 93, 96, 99]\n"
          ]
        }
      ],
      "source": [
        "# For every item in original_list, if it is divisible by 3, name the item x and put x into the new list.\n",
        "new_list = [x for x in range(100) if x % 3 == 0]\n",
        "print(new_list)"
      ]
    },
    {
      "cell_type": "markdown",
      "metadata": {
        "id": "pA9zTV1xiT_j"
      },
      "source": [
        "You _can_ do a lot in one line with list comprehension but that doesn't mean you _should_"
      ]
    },
    {
      "cell_type": "code",
      "execution_count": 24,
      "metadata": {
        "colab": {
          "base_uri": "https://localhost:8080/",
          "height": 34
        },
        "id": "9b_hYdiFhi8h",
        "outputId": "d6cfce59-d359-4e68-aba1-b98573997ba6"
      },
      "outputs": [
        {
          "name": "stdout",
          "output_type": "stream",
          "text": [
            "[-5, -50, 91125, 8000]\n"
          ]
        }
      ],
      "source": [
        "original_list = [12, -5, 7, 2, 9, 13, -50, 45, -2, 20]\n",
        "new_list = [i**3 if i > 0 else i for i in original_list if i % 5 == 0]\n",
        "print(new_list)"
      ]
    },
    {
      "cell_type": "markdown",
      "metadata": {
        "id": "RTJR7KIWm9tu"
      },
      "source": [
        "### Nested and double list comprehension (aka list incomprehension)"
      ]
    },
    {
      "cell_type": "code",
      "execution_count": 25,
      "metadata": {
        "colab": {
          "base_uri": "https://localhost:8080/"
        },
        "id": "V9KSKpmvih-E",
        "outputId": "ef69ea97-8947-4f85-8ebd-9df7bc69655e"
      },
      "outputs": [
        {
          "name": "stdout",
          "output_type": "stream",
          "text": [
            "[[1, 3, 5, 7], [2, 4, 6, 8]]\n"
          ]
        }
      ],
      "source": [
        "# Nested list comprehension\n",
        "matrix = [[1, 2], [3,4], [5,6], [7,8]]\n",
        "transpose = [[row[i] for row in matrix] for i in range(2)]\n",
        "print (transpose)"
      ]
    },
    {
      "cell_type": "code",
      "execution_count": 26,
      "metadata": {
        "colab": {
          "base_uri": "https://localhost:8080/",
          "height": 34
        },
        "id": "OkHlCMMmlWpa",
        "outputId": "4a304e00-5bef-4f81-d4e4-006053b86520"
      },
      "outputs": [
        {
          "data": {
            "text/plain": [
              "[(1, 7), (1, 8), (1, 9), (2, 7), (2, 8), (2, 9), (3, 7), (3, 8), (3, 9)]"
            ]
          },
          "execution_count": 26,
          "metadata": {},
          "output_type": "execute_result"
        }
      ],
      "source": [
        "# Double list comprehension\n",
        "a = [1,2,3]\n",
        "b = [7,8,9]\n",
        "[(x,y) for x in a for y in b]\n"
      ]
    },
    {
      "cell_type": "code",
      "execution_count": 27,
      "metadata": {
        "colab": {
          "base_uri": "https://localhost:8080/",
          "height": 68
        },
        "id": "TY1JewFkjnRP",
        "outputId": "9541130e-7c27-4775-8521-faed6e5fcd1d"
      },
      "outputs": [
        {
          "name": "stdout",
          "output_type": "stream",
          "text": [
            "Using list comprehension: [1, 2, 3, 4, 5, 6, 7, 8]\n",
            "Using nested for loops: [1, 2, 3, 4, 5, 6, 7, 8]\n",
            "Using the sum() hack: [1, 2, 3, 4, 5, 6, 7, 8]\n"
          ]
        }
      ],
      "source": [
        "# Flatten a list of lists \n",
        "# eg [[1, 2], [3,4], [5,6], [7,8]] -> [1, 2, 3, 4, 5, 6, 7, 8]\n",
        "\n",
        "matrix = [[1, 2], [3,4], [5,6], [7,8]]\n",
        "new_list = [y for x in matrix for y in x]\n",
        "print(f'Using list comprehension: {new_list}')\n",
        "\n",
        "# There are other ways of achieving the same thing\n",
        "new_list = []\n",
        "for row in matrix:\n",
        "  for item in row:\n",
        "    new_list.append(item)\n",
        "print(f'Using nested for loops: {new_list}')\n",
        "\n",
        "# This achieves the same thing. How?!\n",
        "print(f'Using the sum() hack: {sum(matrix, [])}')\n"
      ]
    },
    {
      "cell_type": "markdown",
      "metadata": {
        "id": "kkrodLSeN9L3"
      },
      "source": [
        "# Dictionaries\n",
        "\n",
        "- [w3schools](https://www.w3schools.com/python/python_dictionaries.asp)"
      ]
    },
    {
      "cell_type": "code",
      "execution_count": null,
      "metadata": {
        "id": "kU5hrkMA7R17"
      },
      "outputs": [],
      "source": []
    },
    {
      "cell_type": "code",
      "execution_count": 28,
      "metadata": {
        "colab": {
          "base_uri": "https://localhost:8080/"
        },
        "id": "iqnLdYifb_wA",
        "outputId": "8b8b741d-3876-419c-e055-ae725631db6c"
      },
      "outputs": [
        {
          "name": "stdout",
          "output_type": "stream",
          "text": [
            "my_value\n"
          ]
        }
      ],
      "source": [
        "d = {0: 'Hello', 1: 'Bob', 4: 'Howdy', 'my_key': 'my_value'}\n",
        "print(d['my_key'])\n"
      ]
    },
    {
      "cell_type": "code",
      "execution_count": 29,
      "metadata": {
        "colab": {
          "base_uri": "https://localhost:8080/"
        },
        "id": "774hRd9URW0A",
        "outputId": "75de55ba-32b7-4f7c-dbae-b2ea9c4ce26e"
      },
      "outputs": [
        {
          "name": "stdout",
          "output_type": "stream",
          "text": [
            "{'Nick': 322, 'Joe': 254}\n",
            "\n",
            "Items\n",
            "-----\n",
            "Nick 322\n",
            "Joe 254\n",
            "\n",
            "Keys:\n",
            "Nick\n",
            "Joe\n",
            "\n",
            "Values:\n",
            "322\n",
            "254\n",
            "Nick has a score\n"
          ]
        }
      ],
      "source": [
        "d = {}\n",
        "d['Nick'] = 322\n",
        "d['Joe'] = 254\n",
        "print(d)\n",
        "# print(d['Nick'])\n",
        "print(\"\\nItems\\n-----\")\n",
        "for key, value in d.items():\n",
        "  print(key, value)\n",
        "\n",
        "\n",
        "print(\"\\nKeys:\")\n",
        "for name in d.keys():\n",
        "  print(name)\n",
        "\n",
        "\n",
        "print(\"\\nValues:\")\n",
        "for num in d.values():\n",
        "  print(num)\n",
        "\n",
        "if 'Nick' in d.keys():\n",
        "  print('Nick has a score')\n",
        "\n",
        "# value = d.pop('Nick')\n",
        "# #del(d['ryan'])\n",
        "# # print(d, value)\n",
        "# print(d)"
      ]
    },
    {
      "cell_type": "code",
      "execution_count": 30,
      "metadata": {
        "colab": {
          "base_uri": "https://localhost:8080/"
        },
        "id": "HgHMZHF-7TEA",
        "outputId": "8e7e28b8-9066-4e06-8302-82393cd82a76"
      },
      "outputs": [
        {
          "name": "stdout",
          "output_type": "stream",
          "text": [
            "13\n",
            "a 1\n",
            "c 2\n",
            "d 4\n",
            "f 13\n",
            "e 30\n"
          ]
        }
      ],
      "source": [
        "a1 = {'a':1, 'f':13, 'd':4, 'c':2, 'e':30}\n",
        "print(a1.get('f'))\n",
        "a2 = sorted(a1, key=a1.get)\n",
        "for key in a2:\n",
        "  print(key, a1[key])\n",
        "#a1_sorted_keys = sorted(a1, key=a1.get, reverse=True)\n",
        "#for r in a1_sorted_keys:\n",
        "#    print(r, a1[r])"
      ]
    },
    {
      "cell_type": "markdown",
      "metadata": {
        "id": "_38Isqao4wAu"
      },
      "source": [
        "# Strings\n",
        "- [Craig'n'Dave](https://student.craigndave.org/videos/aqa-alevel-slr01-introduction-to-programming-part-5-string-handling)\n",
        "- [w3schools](https://www.w3schools.com/python/python_strings.asp)"
      ]
    },
    {
      "cell_type": "markdown",
      "metadata": {
        "id": "Cs_6YMTLBqFM"
      },
      "source": [
        "## f-strings\n",
        "\n",
        "- Only for Python versions 3.6 & above (this *will* work for the November test)\n",
        "- [RealPython](https://realpython.com/python-f-strings/#f-strings-a-new-and-improved-way-to-format-strings-in-python)"
      ]
    },
    {
      "cell_type": "code",
      "execution_count": 31,
      "metadata": {
        "colab": {
          "base_uri": "https://localhost:8080/"
        },
        "id": "FVb7VkUI7Dh0",
        "outputId": "9b822b3e-681d-45ea-f79b-f17058067f3a"
      },
      "outputs": [
        {
          "name": "stdout",
          "output_type": "stream",
          "text": [
            "Hello Bob 74\n",
            "Hello_Bob_74\n"
          ]
        }
      ],
      "source": [
        "name = \"Bob\"\n",
        "age = 74\n",
        "print('Hello', name, age)\n",
        "print('Hello_'+ name + '_'+ str(age))"
      ]
    },
    {
      "cell_type": "code",
      "execution_count": 32,
      "metadata": {
        "colab": {
          "base_uri": "https://localhost:8080/"
        },
        "id": "g82Nd9xiBfOB",
        "outputId": "82712df5-8700-419a-e659-90ec9e151c00"
      },
      "outputs": [
        {
          "name": "stdout",
          "output_type": "stream",
          "text": [
            "Hello, Bob. You are nearly 75.\n"
          ]
        }
      ],
      "source": [
        "# a nice way to insert the contents of variables, or the results of any string manipulation, into a string\n",
        "# it's called that because you put an f before the start of the string!\n",
        "\n",
        "name = \"Bob\"\n",
        "age = 74\n",
        "print(f\"Hello, {name}. You are nearly {age+1}.\")"
      ]
    },
    {
      "cell_type": "code",
      "execution_count": 33,
      "metadata": {
        "colab": {
          "base_uri": "https://localhost:8080/"
        },
        "id": "KHPvMKyhIdgG",
        "outputId": "40783ec6-9300-4e8d-ed6c-aa321966f759"
      },
      "outputs": [
        {
          "name": "stdout",
          "output_type": "stream",
          "text": [
            "The cost is £11.11\n",
            "The cost is £3.70\n",
            "The cost is £1.23\n",
            "The cost is £0.41\n",
            "The cost is £0.14\n",
            "04\n"
          ]
        }
      ],
      "source": [
        "cost = 100 / 3\n",
        "# print(f'Total cost: £{cost:.3f}')\n",
        "\n",
        "\n",
        "for i in range(5):\n",
        "  cost = cost /3\n",
        "  print(f'The cost is £{cost:.2f}')\n",
        "\n",
        "print(f'{4:02.0f}')"
      ]
    },
    {
      "cell_type": "markdown",
      "metadata": {
        "id": "pMswHVpjof59"
      },
      "source": [
        "## String Manipulation\n",
        "You can treat strings like lists and access individual characters or substrings using string splicing.\n",
        "\n",
        "There are also a number of functions that you can perform on strings. The following are all methods of the `string` class:\n",
        "\n",
        "* `string.find(sub_string)`\n",
        "* `string.count(sub_string)`\n",
        "* `string.split(string_to_split_at)`\n",
        "* `string.join(list_to_join)`\n",
        "* `string.replace(string_to_find, string_to_replace)`"
      ]
    },
    {
      "cell_type": "code",
      "execution_count": 34,
      "metadata": {
        "colab": {
          "base_uri": "https://localhost:8080/",
          "height": 136
        },
        "id": "mmKms6BfoiwW",
        "outputId": "e73974b0-3402-4ccb-d368-4c3775193397"
      },
      "outputs": [
        {
          "name": "stdout",
          "output_type": "stream",
          "text": [
            "It was the best of times it was the worst of times.\n",
            ".semit fo tsrow eht saw ti semit fo tseb eht saw tI\n",
            "The word 'best' first occurs at position 11\n",
            "The word 'times' occurs 2 times.\n",
            "['It', 'was', 'the', 'best', 'of', 'times', 'it', 'was', 'the', 'worst', 'of', 'times.']\n",
            "It*-*was*-*the*-*best*-*of*-*times*-*it*-*was*-*the*-*worst*-*of*-*times.\n",
            "It was the best of times it was the worst of times.\n"
          ]
        }
      ],
      "source": [
        "test_string = 'It was the best of times it was the worst of times.'\n",
        "\n",
        "print(test_string)\n",
        "# Reverse a string by using list splicing\n",
        "print(test_string[::-1])\n",
        "\n",
        "# Find the first occurrence of a substring\n",
        "print(f\"The word 'best' first occurs at position {test_string.find('best')}\")\n",
        "\n",
        "# Count the occurrences of a substring\n",
        "print(f\"The word 'times' occurs {test_string.count('times')} times.\")\n",
        "\n",
        "# Split a string into separate words\n",
        "word_list = test_string.split(' ')\n",
        "print(word_list)\n",
        "\n",
        "# Join a list of strings together with a particular character\n",
        "joined_string = '*-*'.join(word_list)\n",
        "print(joined_string)\n",
        "\n",
        "# replace a substring with another substring\n",
        "print(joined_string.replace('*-*', ' '))"
      ]
    },
    {
      "cell_type": "markdown",
      "metadata": {
        "id": "yUwF26ZMZgYu"
      },
      "source": [
        "# Classes & object-orientation\n",
        "\n",
        "- [w3schools](https://www.w3schools.com/python/python_classes.asp)"
      ]
    },
    {
      "cell_type": "markdown",
      "metadata": {
        "id": "keJBnBVNKYfP"
      },
      "source": [
        "# Object Orientated Programming\n",
        "See [Google Slides](https://docs.google.com/presentation/d/1RYPNlH7DPejtm1vUa3USnOm81dKUnmVSzFpnyNCeq5E/edit?usp=sharing)\n",
        "\n",
        "[w3schools](https://www.w3schools.com/python/python_classes.asp)\n",
        "\n",
        "A comparison of Procedural and Object Orientated Programming: https://www.geeksforgeeks.org/differences-between-procedural-and-object-oriented-programming/"
      ]
    },
    {
      "cell_type": "code",
      "execution_count": 35,
      "metadata": {
        "colab": {
          "base_uri": "https://localhost:8080/"
        },
        "id": "6uPexz9kK1F5",
        "outputId": "92c271ae-f7c8-4b27-cdda-f2ef69510b62"
      },
      "outputs": [
        {
          "name": "stdout",
          "output_type": "stream",
          "text": [
            "Fish is of size 1\n",
            "Fish fed\n",
            "Fish fed\n",
            "Fish fed\n",
            "Fish fed\n",
            "It is now a big FISH\n"
          ]
        }
      ],
      "source": [
        "# A procedural program\n",
        "\n",
        "def feed(state, size):\n",
        "  size += 1\n",
        "  print(\"Fish fed\")\n",
        "  if size == 5:\n",
        "    state = \"FISH\"\n",
        "  return state, size\n",
        "\n",
        "\n",
        "thisFishState = \"Fish\"\n",
        "thisFishSize = 1\n",
        "\n",
        "print(thisFishState, \"is of size\", thisFishSize)\n",
        "\n",
        "while thisFishState != \"FISH\":\n",
        "  thisFishState, thisFishSize = feed(thisFishState, thisFishSize)\n",
        "\n",
        "print(\"It is now a big\", thisFishState)\n"
      ]
    },
    {
      "cell_type": "code",
      "execution_count": 36,
      "metadata": {
        "colab": {
          "base_uri": "https://localhost:8080/"
        },
        "id": "LzG2UgQlLUve",
        "outputId": "9d20cd23-5522-476f-e4eb-2dc3b805f0aa"
      },
      "outputs": [
        {
          "name": "stdout",
          "output_type": "stream",
          "text": [
            "Fish\n",
            "Fish is of size 1\n",
            "Fish fed\n",
            "Fish fed\n",
            "Fish fed\n",
            "Fish fed\n",
            "It is now a big FISH\n",
            "It's an animal\n"
          ]
        }
      ],
      "source": [
        "# An OOP program\n",
        "\n",
        "class Animal:\n",
        "  def __init__(self, state, size):\n",
        "    self._state = state\n",
        "    self._size = size\n",
        "\n",
        "  def feed(self):\n",
        "    self._size += 1\n",
        "    print(\"Fish fed\")\n",
        "    if self._size == 5:\n",
        "      self._state = \"FISH\"\n",
        "\n",
        "  def get_state(self):\n",
        "    return self._state\n",
        "\n",
        "  def get_size(self):\n",
        "    return self._size\n",
        "    \n",
        "thisFish = Animal(\"Fish\", 1)\n",
        "print(thisFish._state)\n",
        "\n",
        "print(thisFish.get_state(), \"is of size\", thisFish.get_size())\n",
        "\n",
        "while thisFish.get_state() != \"FISH\":\n",
        "  thisFish.feed()\n",
        "\n",
        "print(\"It is now a big\", thisFish.get_state())\n",
        "if type(thisFish) is Animal:\n",
        "  print(\"It's an animal\")"
      ]
    },
    {
      "cell_type": "code",
      "execution_count": 37,
      "metadata": {
        "colab": {
          "base_uri": "https://localhost:8080/"
        },
        "id": "c1GRpyCKNxEY",
        "outputId": "6b7846c9-d5c2-4cd6-fc24-b4832558f0d1"
      },
      "outputs": [
        {
          "name": "stdout",
          "output_type": "stream",
          "text": [
            "[2, 2, 3, 5, 5, 6, 7, 8]\n"
          ]
        }
      ],
      "source": [
        "my_list = [5,2,5,7,3,2,6,8]\n",
        "sorted_list = sorted(my_list)\n",
        "print(sorted_list)"
      ]
    },
    {
      "cell_type": "code",
      "execution_count": 38,
      "metadata": {
        "colab": {
          "base_uri": "https://localhost:8080/"
        },
        "id": "ooweNrEdN0C-",
        "outputId": "8bef4575-0d70-4be3-d246-ebb31da5344e"
      },
      "outputs": [
        {
          "name": "stdout",
          "output_type": "stream",
          "text": [
            "[2, 2, 3, 5, 5, 6, 7, 8]\n"
          ]
        }
      ],
      "source": [
        "my_list = [5,2,5,7,3,2,6,8]\n",
        "my_list.sort()\n",
        "print(my_list)"
      ]
    },
    {
      "cell_type": "code",
      "execution_count": 39,
      "metadata": {
        "colab": {
          "base_uri": "https://localhost:8080/"
        },
        "id": "ZCX3Mz5tLxEN",
        "outputId": "61fd4637-6785-4d9e-9a52-3ea3f1fcae6f"
      },
      "outputs": [
        {
          "name": "stdout",
          "output_type": "stream",
          "text": [
            "Hello my name is John\n",
            "A person named John\n"
          ]
        }
      ],
      "source": [
        "class Person:\n",
        "  def __init__(self, name, age):\n",
        "    self.name = name\n",
        "    self.age = age\n",
        "\n",
        "  def myfunc(self):\n",
        "    print(\"Hello my name is \" + self.name)\n",
        "\n",
        "  def __str__(self):\n",
        "    return f'A person named {self.name}'\n",
        "\n",
        "p1 = Person(\"John\", 36)\n",
        "p1.myfunc()\n",
        "print(p1)"
      ]
    },
    {
      "cell_type": "markdown",
      "metadata": {
        "id": "zdukFKaRm7em"
      },
      "source": [
        "## docstrings\n",
        "\n",
        "- Special comments, signified by triple speech marks, which go in the first line inside any class/method/function to explain what happens.\n",
        "- Produce a really nice, neat printout when `help(class)` or `help(function)` is executed."
      ]
    },
    {
      "cell_type": "markdown",
      "metadata": {
        "id": "XEIiMJcq8OH_"
      },
      "source": [
        "### Public, Private and Protected"
      ]
    },
    {
      "cell_type": "code",
      "execution_count": 40,
      "metadata": {
        "colab": {
          "base_uri": "https://localhost:8080/"
        },
        "id": "27JCmPPH8M60",
        "outputId": "26945842-cca3-4976-b8f5-7f7effdb1a88"
      },
      "outputs": [
        {
          "name": "stdout",
          "output_type": "stream",
          "text": [
            "Hello my name is John\n",
            "A person named John\n",
            "Sarah\n",
            "36\n",
            "Gertrude\n"
          ]
        }
      ],
      "source": [
        "class Person:\n",
        "  def __init__(self, name, age, mothers_name):\n",
        "    self.name = name        # Public member variable\n",
        "    self._age = age         # Protected member variable\n",
        "    self.__mothers_name = mothers_name  # Private variable\n",
        "\n",
        "  def myfunc(self):\n",
        "    print(\"Hello my name is \" + self.name)\n",
        "\n",
        "  def get_age(self):\n",
        "    return self._age\n",
        "\n",
        "  def get_mothers_name(self):\n",
        "    return self.__mothers_name\n",
        "\n",
        "  def __str__(self):\n",
        "    return f'A person named {self.name}'\n",
        "\n",
        "p1 = Person(\"John\", 36, \"Gertrude\")\n",
        "p1.myfunc()\n",
        "print(p1)\n",
        "p1.name = 'Sarah'\n",
        "print(p1.name)    # Fine\n",
        "print(p1._age)    # Illegal!!!! Mustn't access protected variables\n",
        "print(p1.get_mothers_name())"
      ]
    },
    {
      "cell_type": "code",
      "execution_count": 41,
      "metadata": {
        "id": "ms_kpCRxnsbA"
      },
      "outputs": [
        {
          "name": "stdout",
          "output_type": "stream",
          "text": [
            "test class instance created\n",
            "Help on class TestClass in module __main__:\n",
            "\n",
            "class TestClass(builtins.object)\n",
            " |  This is a test class to demonstrate basic object-oriented functionality, written by JTT.\n",
            " |  \n",
            " |  Methods defined here:\n",
            " |  \n",
            " |  ReportAuthor(self)\n",
            " |      This method prints the author of this class.\n",
            " |  \n",
            " |  __init__(self)\n",
            " |      The constructor for this class prints a confirmation statement, and stored the author's ID as an attribute.\n",
            " |  \n",
            " |  ----------------------------------------------------------------------\n",
            " |  Data descriptors defined here:\n",
            " |  \n",
            " |  __dict__\n",
            " |      dictionary for instance variables (if defined)\n",
            " |  \n",
            " |  __weakref__\n",
            " |      list of weak references to the object (if defined)\n",
            "\n"
          ]
        }
      ],
      "source": [
        "class TestClass:\n",
        "\t\"\"\"This is a test class to demonstrate basic object-oriented functionality, written by JTT.\"\"\"\n",
        "\t\n",
        "\tdef __init__(self):\n",
        "\t\t\"\"\"The constructor for this class prints a confirmation statement, and stored the author's ID as an attribute.\"\"\"\n",
        "\t\tprint(\"test class instance created\")\n",
        "\t\tself.author = \"JTT\"\n",
        "\t\n",
        "\tdef ReportAuthor(self):\n",
        "\t\t\"\"\"This method prints the author of this class.\"\"\"\n",
        "\t\tprint(\"The author of this class is\"+self.author)\n",
        "\n",
        "# create an instance (this should trigger the constructor method)\n",
        "my_instance_of_test_class = TestClass()\n",
        "\n",
        "# print out the docstrings for this class and its attributes & methods\n",
        "help(TestClass)\n"
      ]
    },
    {
      "cell_type": "markdown",
      "metadata": {
        "id": "ayrJW3vxl2nC"
      },
      "source": [
        "## Magic methods\n"
      ]
    },
    {
      "cell_type": "markdown",
      "metadata": {
        "id": "hxwbCJ_fyJ3s"
      },
      "source": [
        "## Operator Overloading\n",
        "\n",
        "`__add__` is a magic function which overrides the `+` operator.\n",
        "\n",
        "`x.__add__(y)`\n",
        "is the same as \n",
        "`x + y`\n",
        "\n",
        "See a complete list of _magic functions_ to overload operators here:\n",
        "https://www.python-course.eu/python3_magic_methods.php\n"
      ]
    },
    {
      "cell_type": "code",
      "execution_count": 42,
      "metadata": {
        "colab": {
          "base_uri": "https://localhost:8080/"
        },
        "id": "7sFetCPNy1Zt",
        "outputId": "b87d55d1-7ad9-4107-dbfb-7c30706f481b"
      },
      "outputs": [
        {
          "name": "stdout",
          "output_type": "stream",
          "text": [
            "The value of x + y is 7\n"
          ]
        }
      ],
      "source": [
        "class Overloaded:\n",
        "    def __init__(self, val):\n",
        "        self.value = val\n",
        "        \n",
        "    def __add__(self, other):\n",
        "       new_object = Overloaded(self.value + other.value)\n",
        "       return new_object\n",
        "\n",
        "x = Overloaded(3)\n",
        "y = Overloaded(4)\n",
        "\n",
        "z = x + y\n",
        "print(f'The value of x + y is {z.value}')\n",
        "\n",
        "# w = x.__add__(y)\n",
        "# print(f'The value of x._add__(y) is {w.value}')\n"
      ]
    },
    {
      "cell_type": "markdown",
      "metadata": {
        "id": "XU7BhG3UUSX1"
      },
      "source": [
        "`__iadd__()` and related _inplace operators_ don't work quite as you might expect. You need to return an object that then gets assigned to the original variable automatically _behind the scenes_. In most cases it will probably look identical to  `__add__()`"
      ]
    },
    {
      "cell_type": "code",
      "execution_count": 43,
      "metadata": {
        "colab": {
          "base_uri": "https://localhost:8080/"
        },
        "id": "5ArWW2KNUysw",
        "outputId": "42dae70a-532a-4e77-b50b-f4efecedf020"
      },
      "outputs": [
        {
          "name": "stdout",
          "output_type": "stream",
          "text": [
            "The value of x is 3\n",
            "The value of x is now 7\n"
          ]
        }
      ],
      "source": [
        "class Overloaded:\n",
        "    def __init__(self, val):\n",
        "        self.value = val\n",
        "        \n",
        "    def __iadd__(self, other):\n",
        "        self.value = self.value + other.value\n",
        "        return self\n",
        "\n",
        "x = Overloaded(3)\n",
        "y = Overloaded(4)\n",
        "\n",
        "print(f'The value of x is {x.value}')\n",
        "x += y\n",
        "print(f'The value of x is now {x.value}')\n",
        "\n"
      ]
    },
    {
      "cell_type": "markdown",
      "metadata": {
        "id": "OE-JJsSZHKC5"
      },
      "source": [
        "## Inheritance\n",
        "Inheritance in OOP allows you to create a new class that has the same propeties (attributes and methods) as an existing class but adds addtional ones.\n",
        "\n",
        "You create a new _derived class_, _subclass_ or _child class_ by putting the _parent class_ in brackets after the class definition:\n",
        "\n",
        "`class ChildClass(ParentClass):`\n",
        "\n",
        "eg:\n",
        "\n",
        "`class Dog(Animal):`"
      ]
    },
    {
      "cell_type": "code",
      "execution_count": 44,
      "metadata": {
        "id": "b7ShJKu2IL1U"
      },
      "outputs": [],
      "source": [
        "class Animal:\n",
        "  def __init__(self, size, colour, food):\n",
        "    self._fav_food = food\n",
        "    self._size = size\n",
        "    self._colour = colour\n",
        "\n",
        "  def feed(self):\n",
        "    print(f\"Yum, I love {self._fav_food}\")\n",
        "\n",
        "  def speak(self):\n",
        "    print(\"Hello, I am a generic animal.\")\n",
        "\n",
        "class Mouse(Animal):\n",
        "  def __init__(self, size, colour):\n",
        "    Animal.__init__(self, size, colour, \"cheese\")\n",
        "\n",
        "  def speak(self):\n",
        "    print(\"Squeak!\")\n",
        "  \n"
      ]
    },
    {
      "cell_type": "code",
      "execution_count": 45,
      "metadata": {
        "id": "KRtx_cLBLXM_"
      },
      "outputs": [
        {
          "name": "stdout",
          "output_type": "stream",
          "text": [
            "Generic Animal:\n",
            "Hello, I am a generic animal.\n",
            "Yum, I love nachos\n"
          ]
        }
      ],
      "source": [
        "print(\"Generic Animal:\")\n",
        "bob = Animal(4, 'brown', 'nachos')\n",
        "bob.speak()\n",
        "bob.feed()"
      ]
    },
    {
      "cell_type": "code",
      "execution_count": 46,
      "metadata": {
        "colab": {
          "base_uri": "https://localhost:8080/"
        },
        "id": "aDt0EctpLbOH",
        "outputId": "72c015e7-95c9-4969-a7b5-68fcde1157d5"
      },
      "outputs": [
        {
          "name": "stdout",
          "output_type": "stream",
          "text": [
            "Mouse:\n",
            "Squeak!\n",
            "Yum, I love cheese\n"
          ]
        }
      ],
      "source": [
        "print(\"Mouse:\")\n",
        "mickey = Mouse(1, 'black')\n",
        "mickey.speak()\n",
        "mickey.feed()"
      ]
    },
    {
      "cell_type": "markdown",
      "metadata": {
        "id": "kmwzjCPHLkWr"
      },
      "source": [
        "Once you have a new inherited class you can find out what type it is using either `type()` or `isinstance()`. \n",
        "\n",
        "Notice how the two functions behave differently? Is mickey a mouse or an animal?"
      ]
    },
    {
      "cell_type": "markdown",
      "metadata": {
        "id": "6gTZFV_ZMWcx"
      },
      "source": [
        "### type()\n",
        "`type(object)` returns a string that describes the exact type of the object. You can use it in an comparison to test against a particular class"
      ]
    },
    {
      "cell_type": "code",
      "execution_count": 47,
      "metadata": {
        "colab": {
          "base_uri": "https://localhost:8080/"
        },
        "id": "AovA1zUqMzrn",
        "outputId": "f01549a6-c475-4b9d-b82f-1bec782c2327"
      },
      "outputs": [
        {
          "name": "stdout",
          "output_type": "stream",
          "text": [
            "<class 'int'>\n",
            "x is an integer\n"
          ]
        }
      ],
      "source": [
        "x = 3\n",
        "print(type(x))\n",
        "if type(x) is int:\n",
        "  print(\"x is an integer\")\n",
        "else:\n",
        "  print(\"x is not an integer\")"
      ]
    },
    {
      "cell_type": "markdown",
      "metadata": {
        "id": "7VgcWUo2NabP"
      },
      "source": [
        "### isinstance()\n",
        "Usually is is much better to use `isinstance()` instead:\n",
        "`isinstance(object, type)` returns True if the object is the type specified **or** if it is a class that derives from that one.\n"
      ]
    },
    {
      "cell_type": "code",
      "execution_count": 48,
      "metadata": {
        "colab": {
          "base_uri": "https://localhost:8080/",
          "height": 218
        },
        "id": "C7TK_QU3Kr_P",
        "outputId": "1d7d62ef-faaf-43ac-9049-5d672e968c27"
      },
      "outputs": [
        {
          "name": "stdout",
          "output_type": "stream",
          "text": [
            "<class '__main__.Animal'>\n",
            "True\n",
            "bob is an animal?: True\n",
            "bob is a mouse?: False\n"
          ]
        }
      ],
      "source": [
        "print(type(bob))\n",
        "print(type(bob) is Animal)\n",
        "print(f'bob is an animal?: {isinstance(bob, Animal)}')\n",
        "print(f'bob is a mouse?: {isinstance(bob, Mouse)}')"
      ]
    },
    {
      "cell_type": "code",
      "execution_count": 49,
      "metadata": {
        "colab": {
          "base_uri": "https://localhost:8080/",
          "height": 215
        },
        "id": "HoT9eD5hLP75",
        "outputId": "c46f5300-1a0e-47eb-fead-e7783ba8aacd"
      },
      "outputs": [
        {
          "name": "stdout",
          "output_type": "stream",
          "text": [
            "<class '__main__.Mouse'>\n",
            "False\n",
            "mickey is an animal?: True\n",
            "mickey is a mouse?: True\n"
          ]
        }
      ],
      "source": [
        "print(type(mickey))\n",
        "print(type(mickey) == Animal)\n",
        "print(f'mickey is an animal?: {isinstance(mickey, Animal)}')\n",
        "print(f'mickey is a mouse?: {isinstance(mickey, Mouse)}')"
      ]
    },
    {
      "cell_type": "markdown",
      "metadata": {
        "id": "choZtv7CcxZK"
      },
      "source": [
        "# Bitwise Logic\n",
        "Boolean logic (and, or, not) usually operates on boolean values ie True or False.\n",
        "\n",
        "It is possible to perform boolean logic on individual bits on an integer. Imagine the binary representation of a number. Then apply the logic operator to each bit individually. This leads to some slightly odd looking resutls if you view the numbers in denary (base 10)."
      ]
    },
    {
      "cell_type": "code",
      "execution_count": 50,
      "metadata": {
        "colab": {
          "base_uri": "https://localhost:8080/",
          "height": 357
        },
        "id": "OfRBsUdddh-z",
        "outputId": "54699322-e6e7-4550-b554-098ef604dbf6"
      },
      "outputs": [
        {
          "name": "stdout",
          "output_type": "stream",
          "text": [
            "x = 108\n",
            "x in binary is 01101100 and in hex it is 6C\n",
            "\n",
            "x     = 1100 -> 12\n",
            "y     = 1010 -> 10\n",
            "x | y = 1110 -> 14\n",
            "\n",
            "x     = 1100 -> 12\n",
            "y     = 1010 -> 10\n",
            "x & y = 1000 -> 8\n",
            "\n",
            "x     = 1100 -> 12\n",
            "y     = 1010 -> 10\n",
            "x ^ y = 0110 -> 6\n",
            "\n",
            "x           = 1100 -> 12\n",
            "~x          = -1101 -> -13 ** Uh oh, two's complement stuff going on here... **\n",
            "\n",
            "~x & 1111 = 0011 -> 3\n",
            "\n"
          ]
        }
      ],
      "source": [
        "x = 0b01101100    # Enter binary numbers by prefixing 0b\n",
        "print(f'x = {x}')\n",
        "print(f'x in binary is {x:08b} and in hex it is {x:X}\\n')\n",
        "\n",
        "x = 0b1100\n",
        "y = 0b1010\n",
        "print(f'x     = {x:b} -> {x}')\n",
        "print(f'y     = {y:b} -> {y}')\n",
        "print(f'x | y = {x|y:04b} -> {x|y}\\n')\n",
        "\n",
        "print(f'x     = {x:b} -> {x}')\n",
        "print(f'y     = {y:b} -> {y}')\n",
        "print(f'x & y = {x&y:04b} -> {x&y}\\n')\n",
        "\n",
        "print(f'x     = {x:b} -> {x}')\n",
        "print(f'y     = {y:b} -> {y}')\n",
        "print(f'x ^ y = {x^y:04b} -> {x^y}\\n')\n",
        "\n",
        "print(f'x           = {x:b} -> {x}')\n",
        "print(f'~x          = {~x:04b} -> {~x} ** Uh oh, two\\'s complement stuff going on here... **\\n')\n",
        "print(f'~x & 1111 = {~x & 0b1111:04b} -> {~x & 0b1111}\\n')"
      ]
    },
    {
      "cell_type": "markdown",
      "metadata": {
        "id": "8OYTj4Odtyhw"
      },
      "source": [
        "# Exception Handling"
      ]
    },
    {
      "cell_type": "code",
      "execution_count": 51,
      "metadata": {
        "colab": {
          "base_uri": "https://localhost:8080/",
          "height": 183
        },
        "id": "Jom-Sg9VuFMo",
        "outputId": "5e75ebe9-22d4-405f-e776-e1117d081809"
      },
      "outputs": [
        {
          "ename": "ZeroDivisionError",
          "evalue": "division by zero",
          "output_type": "error",
          "traceback": [
            "\u001b[0;31m---------------------------------------------------------------------------\u001b[0m",
            "\u001b[0;31mZeroDivisionError\u001b[0m                         Traceback (most recent call last)",
            "Cell \u001b[0;32mIn [51], line 2\u001b[0m\n\u001b[1;32m      1\u001b[0m a \u001b[38;5;241m=\u001b[39m \u001b[38;5;241m0\u001b[39m\n\u001b[0;32m----> 2\u001b[0m b \u001b[38;5;241m=\u001b[39m \u001b[38;5;241m10\u001b[39m \u001b[38;5;241m/\u001b[39m a\n",
            "\u001b[0;31mZeroDivisionError\u001b[0m: division by zero"
          ]
        }
      ],
      "source": [
        "a = 0\n",
        "b = 10 / a"
      ]
    },
    {
      "cell_type": "code",
      "execution_count": null,
      "metadata": {
        "colab": {
          "base_uri": "https://localhost:8080/"
        },
        "id": "XzdnQ8zQuNfm",
        "outputId": "9f4f2d53-3acf-48a3-c2b9-0192aa5f52d3"
      },
      "outputs": [
        {
          "name": "stdout",
          "output_type": "stream",
          "text": [
            "No, no, no. You tried to divide by zero.\n"
          ]
        }
      ],
      "source": [
        "a = 0\n",
        "try:\n",
        "  b = 10 / a\n",
        "except ZeroDivisionError:\n",
        "  print (\"No, no, no. You tried to divide by zero.\")\n",
        "  b = 1\n",
        "\n",
        "print(b)"
      ]
    },
    {
      "cell_type": "markdown",
      "metadata": {
        "id": "ZV3d1jDIknCa"
      },
      "source": [
        "There is sometimes cost to using try except."
      ]
    },
    {
      "cell_type": "code",
      "execution_count": null,
      "metadata": {
        "colab": {
          "base_uri": "https://localhost:8080/"
        },
        "id": "2sBIsxONt3oJ",
        "outputId": "c6b8f247-efc5-49ea-9ceb-55275daa1ff7"
      },
      "outputs": [
        {
          "name": "stdout",
          "output_type": "stream",
          "text": [
            "time= 0.0045503880000978825\n",
            "time= 0.0006370390000256521\n"
          ]
        }
      ],
      "source": [
        "import timeit\n",
        "setup=\"a=0\"\n",
        "stmt1 = '''\\\n",
        "try:\n",
        "    b=10/a\n",
        "except ZeroDivisionError:\n",
        "    pass'''\n",
        "\n",
        "stmt2 = '''\\\n",
        "if a!=0:\n",
        "    b=10/a'''\n",
        "\n",
        "print(\"time=\",timeit.timeit(stmt1,setup,number=10000))\n",
        "print(\"time=\",timeit.timeit(stmt2,setup,number=10000))"
      ]
    },
    {
      "cell_type": "markdown",
      "metadata": {
        "id": "O-NfrcxukzFW"
      },
      "source": [
        "You can raise your own excpetions"
      ]
    },
    {
      "cell_type": "code",
      "execution_count": null,
      "metadata": {
        "colab": {
          "base_uri": "https://localhost:8080/",
          "height": 339
        },
        "id": "TIc_0Hn9kmtf",
        "outputId": "8fe1bb53-5783-46a3-d09c-7c3b56bd8abe"
      },
      "outputs": [
        {
          "name": "stdout",
          "output_type": "stream",
          "text": [
            "Mmm, lovely, cheese\n"
          ]
        },
        {
          "ename": "Exception",
          "evalue": "ignored",
          "output_type": "error",
          "traceback": [
            "\u001b[0;31m---------------------------------------------------------------------------\u001b[0m",
            "\u001b[0;31mException\u001b[0m                                 Traceback (most recent call last)",
            "\u001b[0;32m<ipython-input-5-dfe4c20a1140>\u001b[0m in \u001b[0;36m<module>\u001b[0;34m()\u001b[0m\n\u001b[1;32m      6\u001b[0m \u001b[0;34m\u001b[0m\u001b[0m\n\u001b[1;32m      7\u001b[0m \u001b[0mfood_choice\u001b[0m\u001b[0;34m(\u001b[0m\u001b[0;34m\"cheese\"\u001b[0m\u001b[0;34m)\u001b[0m\u001b[0;34m\u001b[0m\u001b[0;34m\u001b[0m\u001b[0m\n\u001b[0;32m----> 8\u001b[0;31m \u001b[0mfood_choice\u001b[0m\u001b[0;34m(\u001b[0m\u001b[0;34m\"sardines\"\u001b[0m\u001b[0;34m)\u001b[0m\u001b[0;34m\u001b[0m\u001b[0;34m\u001b[0m\u001b[0m\n\u001b[0m",
            "\u001b[0;32m<ipython-input-5-dfe4c20a1140>\u001b[0m in \u001b[0;36mfood_choice\u001b[0;34m(food)\u001b[0m\n\u001b[1;32m      1\u001b[0m \u001b[0;32mdef\u001b[0m \u001b[0mfood_choice\u001b[0m\u001b[0;34m(\u001b[0m\u001b[0mfood\u001b[0m\u001b[0;34m)\u001b[0m\u001b[0;34m:\u001b[0m\u001b[0;34m\u001b[0m\u001b[0;34m\u001b[0m\u001b[0m\n\u001b[1;32m      2\u001b[0m   \u001b[0;32mif\u001b[0m \u001b[0mfood\u001b[0m \u001b[0;34m==\u001b[0m \u001b[0;34m\"sardines\"\u001b[0m\u001b[0;34m:\u001b[0m\u001b[0;34m\u001b[0m\u001b[0;34m\u001b[0m\u001b[0m\n\u001b[0;32m----> 3\u001b[0;31m     \u001b[0;32mraise\u001b[0m \u001b[0mException\u001b[0m\u001b[0;34m(\u001b[0m\u001b[0;34m\"Poor food choice\"\u001b[0m\u001b[0;34m)\u001b[0m\u001b[0;34m\u001b[0m\u001b[0;34m\u001b[0m\u001b[0m\n\u001b[0m\u001b[1;32m      4\u001b[0m   \u001b[0;32melse\u001b[0m\u001b[0;34m:\u001b[0m\u001b[0;34m\u001b[0m\u001b[0;34m\u001b[0m\u001b[0m\n\u001b[1;32m      5\u001b[0m     \u001b[0mprint\u001b[0m \u001b[0;34m(\u001b[0m\u001b[0;34mf\"Mmm, lovely, {food}\"\u001b[0m\u001b[0;34m)\u001b[0m\u001b[0;34m\u001b[0m\u001b[0;34m\u001b[0m\u001b[0m\n",
            "\u001b[0;31mException\u001b[0m: Poor food choice"
          ]
        }
      ],
      "source": [
        "def food_choice(food):\n",
        "  if food == \"sardines\":\n",
        "    raise Exception(\"Poor food choice\")\n",
        "  else:\n",
        "    print (f\"Mmm, lovely, {food}\")\n",
        "\n",
        "food_choice(\"cheese\")\n",
        "food_choice(\"sardines\")"
      ]
    },
    {
      "cell_type": "code",
      "execution_count": null,
      "metadata": {
        "colab": {
          "base_uri": "https://localhost:8080/"
        },
        "id": "Ut2xFKnJ5kf3",
        "outputId": "394e5003-b07f-40eb-a94a-626710589b5f"
      },
      "outputs": [
        {
          "name": "stdout",
          "output_type": "stream",
          "text": [
            "False\n",
            "True\n",
            "False\n"
          ]
        }
      ],
      "source": [
        "#n = '-3'\n",
        "#n = '¼'\n",
        "#n = '4²'\n",
        "n = '三'\n",
        "print(n.isdigit())\n",
        "print(n.isnumeric())\n",
        "print(n.isdecimal())"
      ]
    },
    {
      "cell_type": "code",
      "execution_count": null,
      "metadata": {
        "colab": {
          "base_uri": "https://localhost:8080/"
        },
        "id": "wjKocS3ue8Ow",
        "outputId": "92962ca4-5236-4292-98a3-97195a2018ce"
      },
      "outputs": [
        {
          "name": "stdout",
          "output_type": "stream",
          "text": [
            "Mmm, lovely, cheese\n",
            "Yuck!\n"
          ]
        }
      ],
      "source": [
        "def food_choice(food):\n",
        "  if food == \"sardines\":\n",
        "    raise Exception(\"Poor food choice\")\n",
        "  else:\n",
        "    print (f\"Mmm, lovely, {food}\")\n",
        "\n",
        "food_choice(\"cheese\")\n",
        "try:\n",
        "  food_choice(\"sardines\")\n",
        "except Exception:\n",
        "  print(\"Yuck!\")"
      ]
    },
    {
      "cell_type": "code",
      "execution_count": null,
      "metadata": {
        "colab": {
          "base_uri": "https://localhost:8080/"
        },
        "id": "XyjyuZoOe_02",
        "outputId": "87d8bf4c-bb6a-4c71-c55b-f41a8231eefb"
      },
      "outputs": [
        {
          "name": "stdout",
          "output_type": "stream",
          "text": [
            "Yuck! Bad pie.\n"
          ]
        }
      ],
      "source": [
        "class InvalidFoodError(Exception):\n",
        "  pass\n",
        "\n",
        "\n",
        "def food_choice(food):\n",
        "  if food == \"sardines\":\n",
        "    raise InvalidFoodError(\"Poor food choice: sardines\")\n",
        "  elif food == \"shepherd pie\":\n",
        "    raise InvalidFoodError(\"Bad pie.\")\n",
        "  else:\n",
        "    print (f\"Mmm, lovely, {food}\")\n",
        "\n",
        "#food_choice(\"cheese\")\n",
        "try:\n",
        "  food_choice(\"shepherd pie\")\n",
        "except InvalidFoodError as message:\n",
        "  print(\"Yuck!\", message)"
      ]
    },
    {
      "cell_type": "code",
      "execution_count": null,
      "metadata": {
        "id": "5oK2m_h7wWO_"
      },
      "outputs": [],
      "source": [
        "# file handling \n",
        "  \n",
        "# 1) without using with statement \n",
        "file = open('file_path', 'w') \n",
        "file.write('hello world !') \n",
        "file.close() \n",
        "  \n",
        "# 2) without using with statement \n",
        "file = open('file_path', 'w') \n",
        "try: \n",
        "    file.write('hello world') \n",
        "finally: \n",
        "    file.close() "
      ]
    },
    {
      "cell_type": "code",
      "execution_count": null,
      "metadata": {
        "id": "hUWlYz7uwfHy"
      },
      "outputs": [],
      "source": [
        "# using with statement \n",
        "with open('file_path', 'w') as file: \n",
        "    file.write('hello world !')"
      ]
    },
    {
      "cell_type": "code",
      "execution_count": null,
      "metadata": {
        "id": "tuAqrvCkm3CD"
      },
      "outputs": [],
      "source": [
        "# define Python user-defined exceptions\n",
        "class Error(Exception):\n",
        "   \"\"\"Base class for other exceptions\"\"\"\n",
        "   pass\n",
        "class ValueTooSmallError(Error):\n",
        "   \"\"\"Raised when the input value is too small\"\"\"\n",
        "   pass\n",
        "class ValueTooLargeError(Error):\n",
        "   \"\"\"Raised when the input value is too large\"\"\"\n",
        "   pass\n",
        "# our main program\n",
        "# user guesses a number until he/she gets it right\n",
        "# you need to guess this number\n",
        "number = 10\n",
        "while True:\n",
        "   try:\n",
        "       i_num = int(input(\"Enter a number: \"))\n",
        "       if i_num < number:\n",
        "           raise ValueTooSmallError\n",
        "       elif i_num > number:\n",
        "           raise ValueTooLargeError\n",
        "       break\n",
        "   except ValueTooSmallError:\n",
        "       print(\"This value is too small, try again!\")\n",
        "       print()\n",
        "   except ValueTooLargeError:\n",
        "       print(\"This value is too large, try again!\")\n",
        "       print()\n",
        "print(\"Congratulations! You guessed it correctly.\")"
      ]
    },
    {
      "cell_type": "code",
      "execution_count": null,
      "metadata": {
        "id": "TKjPUbUfnLU5"
      },
      "outputs": [],
      "source": [
        "help (Exception)\n",
        "help (ZeroDivisionError)\n"
      ]
    },
    {
      "cell_type": "markdown",
      "metadata": {
        "id": "gGTPQwT-417o"
      },
      "source": [
        "# Reading and Writing Files"
      ]
    },
    {
      "cell_type": "markdown",
      "metadata": {
        "id": "H3F66Azi5NGo"
      },
      "source": [
        "## Creating a new file\n",
        "The old way: `open()` returns a file object that you can use to interact with the file. You must remember to use `close()` when you have finished."
      ]
    },
    {
      "cell_type": "code",
      "execution_count": null,
      "metadata": {
        "id": "fFNbDoCL48aN"
      },
      "outputs": [],
      "source": [
        "filename = \"files\\test.txt\"\n",
        "file = open(filename, 'w')\n",
        "file.write(\"tested...\")\n",
        "file.close()"
      ]
    },
    {
      "cell_type": "markdown",
      "metadata": {
        "id": "UOmY6B2j5cXT"
      },
      "source": [
        "The newer way: Use `with open(...) as ...` The file will automatically be close at the end of the `with` block, even if an error occurs.\n",
        "\n",
        "\n"
      ]
    },
    {
      "cell_type": "code",
      "execution_count": null,
      "metadata": {
        "id": "royizTNc5HmY"
      },
      "outputs": [],
      "source": [
        "filename = \"test.txt\"\n",
        "with open(filename, 'w') as file:\n",
        "  file.write(\"hello\")\n"
      ]
    },
    {
      "cell_type": "markdown",
      "metadata": {
        "id": "d-2mUBUg2qsW"
      },
      "source": [
        "## Modes\n",
        "`w`: writing - creates a new empty file\n",
        "\n",
        "`r`: reading\n",
        "\n",
        "`a`: append - writes to the end of an existing file (or creates a new one if it doesn't exist)\n",
        "\n",
        "`w+`: writing and reading\n",
        "\n",
        "`a+`: appending and reading\n",
        "\n",
        "`r+`: reading and writing (fails if the file doesn't already exist)"
      ]
    },
    {
      "cell_type": "markdown",
      "metadata": {
        "id": "SN1kRY2LZZSZ"
      },
      "source": [
        "## Writing text to a file\n",
        "Whenever you want to read or write to a file in Python, you first need to _open_ the file. You do this by calling the `open()` function which returns a _file object_ that you can use later to refer to that file.\n",
        "\n",
        "Open takes two parameters. The first is the name of the file you want to read or write. The second is a string which describes what you want to do with the file. If you want to create a competely new file to write to use `'w'`\n",
        "```\n",
        "file = open(\"test.txt\", 'w')\n",
        "```\n",
        "NB: `file` here is just the identifier, i.e. the name we've given this file object. You can call it anything you like.\n",
        "\n",
        "Once you have opened a file for writing, you can write text to it using `file.write()`. `write()` works  like `print()`. It writes a string to the file followed by a new line.\n",
        "\n",
        "```\n",
        "file.write(\"testing...\")\n",
        "```\n",
        "\n",
        "When you have finished using a file, you must close it, so that other programs can access the file. If you don't close it, Python will usually close it for you when your program finishes, but you should always remember to explicityly close files anyway. Files can get corrupted if you don't\n",
        "\n",
        "```\n",
        "file.close()\n",
        "```\n",
        "\n"
      ]
    },
    {
      "cell_type": "markdown",
      "metadata": {
        "id": "T9ynQUyvzkw1"
      },
      "source": [
        "## Reading from a file\n",
        "Reading from a file works in a similar way to writing. You start by calling the open() function which returns a file object that you can use later to refer to that file.\n",
        "\n",
        "Instead of using the \"w\" argument, this time you use \"r\" for _read_\n",
        "\n",
        "`file = open(\"test.txt\", 'r')`\n",
        "\n",
        "Now you can read from the file using: file.read(), file.readline() or file.readlines()\n",
        "\n",
        "|     |   |\n",
        "|--|--|\n",
        "|read()| Reads the entire file and creates a string. |\n",
        "|readline()| Reads one line at a time. Can be used in a loop. |\n",
        "|readlines()| Reads the entire file into a list. Each item is a line from the file.|\n",
        "\n",
        "The following code would read the contents of a file into a list and then display the list\n",
        "```\n",
        "test_file = open('text.txt', 'r')\n",
        "lines_list = test_file.readlines()\n",
        "print(lines_list)\n",
        "```\n",
        "\n",
        "\n",
        "You can also simply iterate through the file that you opened and automatically fetch one line at a time:\n",
        "\n",
        "```\n",
        "for line in file:\n",
        "    print(line.strip())\n",
        "```\n",
        "\n",
        "As before, you should always close the file when finished with it.\n",
        "\n",
        "`file.close()`"
      ]
    },
    {
      "cell_type": "code",
      "execution_count": null,
      "metadata": {
        "colab": {
          "base_uri": "https://localhost:8080/"
        },
        "id": "Qd9ouQc0z9QR",
        "outputId": "13ca1722-5a63-4f9c-dd07-336be634ae1f"
      },
      "outputs": [
        {
          "name": "stdout",
          "output_type": "stream",
          "text": [
            "hello\n",
            "\n",
            "this is some more text\n",
            "\n",
            "and some more\n",
            "\n",
            "and more\n",
            "\n",
            "blah\n",
            "\n",
            "blah\n",
            "\n",
            "blah\n",
            "\n"
          ]
        }
      ],
      "source": [
        "with open(\"test.txt\", 'r') as file:\n",
        "  text = file.readline()\n",
        "  print(text)\n",
        "  for line in file:\n",
        "    print(line)\n"
      ]
    },
    {
      "cell_type": "markdown",
      "metadata": {
        "id": "aZP0mzil52R1"
      },
      "source": [
        "## Binary\n",
        "It is also possible to write binary instead of text.\n",
        "\n",
        "You can use the `bytes()` function to convert a list of integers into bytes"
      ]
    },
    {
      "cell_type": "code",
      "execution_count": null,
      "metadata": {
        "id": "yvq_egyU5wYc"
      },
      "outputs": [],
      "source": [
        "filename = \"test\"\n",
        "with open(filename, 'wb') as file:\n",
        "  int_list = [x for x in range(256)]\n",
        "  print(\"Int list:\", int_list)\n",
        "  file.write(bytes(int_list))"
      ]
    },
    {
      "cell_type": "markdown",
      "metadata": {
        "id": "itWzOS78ceFd"
      },
      "source": [
        "## CSV files\n"
      ]
    },
    {
      "cell_type": "markdown",
      "metadata": {
        "id": "1yiI4A4720in"
      },
      "source": [
        "Using the csv module can make things a bit easier when dealing with csv files. For example you can state what kind of quote style you want eg:\n",
        "\n",
        "quoting | effect\n",
        "--|--\n",
        "QUOTE_ALL | quote marks around every field\n",
        "QUOTE_NONNUMERIC | quote marks around strings but not numbers\n",
        "QUOTE_MINIMAL | quotes only used when necessary eg with special characters\n",
        "QUOTE_NONE | No quotes"
      ]
    },
    {
      "cell_type": "code",
      "execution_count": null,
      "metadata": {
        "id": "JZ12oe9Qckzv"
      },
      "outputs": [],
      "source": [
        "import csv\n",
        "with open('employee_file.csv', mode='w') as employee_file:\n",
        "    employee_writer = csv.writer(employee_file, delimiter=',', quotechar='\"', quoting=csv.QUOTE_NONNUMERIC)\n",
        "    employee_writer.writerow(['Name', 'Department', 'Birthday'])\n",
        "    employee_writer.writerow(['John Smith', 'Accounting', 'November'])\n",
        "    employee_writer.writerow(['Erica Meyers', 'IT', 'March'])"
      ]
    },
    {
      "cell_type": "code",
      "execution_count": null,
      "metadata": {
        "colab": {
          "base_uri": "https://localhost:8080/"
        },
        "id": "jAYnDajCc3-N",
        "outputId": "e42ea09e-2762-4a66-d4a7-7610f17a5bf0"
      },
      "outputs": [
        {
          "name": "stdout",
          "output_type": "stream",
          "text": [
            "Column names are Name, Department, Birthday\n",
            "\tJohn Smith works in the Accounting department, and was born in November.\n",
            "\tErica Meyers works in the IT department, and was born in March.\n",
            "Processed 2 lines.\n"
          ]
        }
      ],
      "source": [
        "import csv\n",
        "\n",
        "with open('employee_file.csv') as csv_file:\n",
        "    csv_reader = csv.reader(csv_file, delimiter=',')\n",
        "    for i, row in enumerate(csv_reader):\n",
        "        if i == 0:\n",
        "            print(f'Column names are {\", \".join(row)}')\n",
        "        else:\n",
        "            print(f'\\t{row[0]} works in the {row[1]} department, and was born in {row[2]}.')\n",
        "    print(f'Processed {i} lines.')"
      ]
    },
    {
      "cell_type": "code",
      "execution_count": null,
      "metadata": {
        "colab": {
          "base_uri": "https://localhost:8080/"
        },
        "id": "k20WHCi21lKs",
        "outputId": "488d299b-e8f4-43a1-ae9d-f7290863620a"
      },
      "outputs": [
        {
          "name": "stdout",
          "output_type": "stream",
          "text": [
            "John Smith Accounting\n",
            "Erica Meyers IT\n"
          ]
        }
      ],
      "source": [
        "with open('employee_file.csv','r') as csv_file:\n",
        "    data = csv.DictReader(csv_file, delimiter=',', quotechar='\"', quoting=csv.QUOTE_NONNUMERIC)\n",
        "    for row in data:\n",
        "        print(row['Name'], row['Department'])"
      ]
    },
    {
      "cell_type": "markdown",
      "metadata": {
        "id": "f1-x_i7415pJ"
      },
      "source": [
        "## JSON data"
      ]
    },
    {
      "cell_type": "code",
      "execution_count": null,
      "metadata": {
        "colab": {
          "base_uri": "https://localhost:8080/"
        },
        "id": "jGjDcyxF18iW",
        "outputId": "51f850b7-a16a-46dc-9be0-3bae2725e68b"
      },
      "outputs": [
        {
          "name": "stdout",
          "output_type": "stream",
          "text": [
            "\n",
            "Dictionary:\n",
            "{'gold': 1271, 'silver': 1284, 'platinum': 1270}\n",
            "\n",
            "String\n",
            "{\n",
            "  \"gold\": 1271,\n",
            "  \"silver\": 1284,\n",
            "  \"platinum\": 1270\n",
            "}\n",
            "\n",
            "Dictionary loaded from string:\n",
            "{'gold': 1271, 'silver': 1284, 'platinum': 1270}\n",
            "1271\n"
          ]
        }
      ],
      "source": [
        "import json\n",
        "print(\"\\nDictionary:\")\n",
        "data_dictionary = {\"gold\": 1271,\"silver\": 1284,\"platinum\": 1270}\n",
        "print(data_dictionary)\n",
        "\n",
        "print(\"\\nString\")\n",
        "data_string = json.dumps(data_dictionary, indent=2)\n",
        "print(data_string)\n",
        "\n",
        "print(\"\\nDictionary loaded from string:\")\n",
        "data = json.loads(data_string)\n",
        "print(data)\n",
        "print(data['gold'])\n",
        "\n",
        "\n",
        "\n"
      ]
    },
    {
      "cell_type": "code",
      "execution_count": null,
      "metadata": {
        "colab": {
          "base_uri": "https://localhost:8080/"
        },
        "id": "J0rwdqpj_vaV",
        "outputId": "a724d212-62e9-410c-8e67-e09b6499aa61"
      },
      "outputs": [
        {
          "name": "stdout",
          "output_type": "stream",
          "text": [
            "{\"name\":\"fred\",\"age\":58,\"count\":71413}\n"
          ]
        }
      ],
      "source": [
        "import urllib.request\n",
        "# download raw json object\n",
        "name = 'fred'\n",
        "url = f\"https://api.agify.io/?name={name}\"\n",
        "data = urllib.request.urlopen(url).read().decode()\n",
        "print(data)\n"
      ]
    },
    {
      "cell_type": "markdown",
      "metadata": {
        "id": "DWcgbcHC9uh5"
      },
      "source": [
        "## XML Files\n",
        "\n"
      ]
    },
    {
      "cell_type": "code",
      "execution_count": null,
      "metadata": {
        "colab": {
          "base_uri": "https://localhost:8080/"
        },
        "id": "xupz0OT33GPa",
        "outputId": "92d86162-a06c-4055-b0c4-7b385697aac1"
      },
      "outputs": [
        {
          "name": "stdout",
          "output_type": "stream",
          "text": [
            "<bookstore><book category=\"comedy\"><title>Watership Down</title><author>Richard Adams</author></book></bookstore>\n"
          ]
        }
      ],
      "source": [
        "import xml.etree.ElementTree as et\n",
        "\n",
        "# get root element\n",
        "root = et.Element(\"bookstore\")\n",
        "new_book = et.SubElement(root, 'book', {'category':'comedy'})\n",
        "# new_book.text = \"A book\"\n",
        "title = et.SubElement(new_book, 'title')\n",
        "title.text = \"Watership Down\"\n",
        "author = et.SubElement(new_book, 'author')\n",
        "author.text = \"Richard Adams\"\n",
        "# new_book.set('price', '100')\n",
        "# print(root)\n",
        "xml_string = et.tostring(root).decode('utf8')\n",
        "print(xml_string)"
      ]
    },
    {
      "cell_type": "code",
      "execution_count": null,
      "metadata": {
        "colab": {
          "base_uri": "https://localhost:8080/"
        },
        "id": "Yn-NTFg39wYI",
        "outputId": "6392d6ab-1397-463c-f34d-d5235ece236a"
      },
      "outputs": [
        {
          "name": "stdout",
          "output_type": "stream",
          "text": [
            "<bookstore><book category=\"comedy\" price=\"100.00\" year=\"2020\"><title>XML is Fun</title><author>Mr Lomax</author></book></bookstore>\n"
          ]
        }
      ],
      "source": [
        "import xml.etree.ElementTree as et\n",
        "\n",
        "# get root element\n",
        "root = et.Element(\"bookstore\")\n",
        "\n",
        "new_book = et.SubElement(root, 'book', {'category':'comedy'})\n",
        "title = et.SubElement(new_book, 'title')\n",
        "author = et.SubElement(new_book, 'author')\n",
        "title.text = 'XML is Fun'\n",
        "author.text = 'Mr Lomax'\n",
        "new_book.set('year', '2020')\n",
        "new_book.set('price', '100.00')\n",
        "\n",
        "xml_string = et.tostring(root).decode('utf8')\n",
        "print(xml_string)\n",
        "\n",
        "with open(\"books.xml\", \"w\") as xml_file:\n",
        "        xml_file.write(xml_string)\n"
      ]
    },
    {
      "cell_type": "code",
      "execution_count": null,
      "metadata": {
        "colab": {
          "base_uri": "https://localhost:8080/"
        },
        "id": "60umc89V-qXm",
        "outputId": "15ecfc3a-ac44-4362-ff8e-378d8bdc629c"
      },
      "outputs": [
        {
          "name": "stdout",
          "output_type": "stream",
          "text": [
            "<bookstore><book category=\"comedy\" price=\"100.00\" year=\"2020\"><title>XML is Fun</title><author>Mr Lomax</author></book></bookstore>\n"
          ]
        }
      ],
      "source": [
        "import xml.etree.ElementTree as et\n",
        "\n",
        "with open(\"books.xml\", 'r') as xmlfile:\n",
        "    data = xmlfile.read()\n",
        "\n",
        "root = et.fromstring(data)\n",
        "print(et.tostring(root).decode('utf8'))"
      ]
    },
    {
      "cell_type": "code",
      "execution_count": null,
      "metadata": {
        "colab": {
          "base_uri": "https://localhost:8080/",
          "height": 141
        },
        "id": "Uopcgr319PDN",
        "outputId": "2324241d-c7bf-44fa-d972-5d4957dcdd95"
      },
      "outputs": [
        {
          "data": {
            "application/vnd.google.colaboratory.intrinsic+json": {
              "type": "string"
            },
            "text/plain": [
              "'\\ufeff<Document><body><areaType>overview</areaType><areaCode>K02000001</areaCode><areaName>United Kingdom</areaName><date>2022-01-06</date><cumCasesByPublishDate>14015065</cumCasesByPublishDate></body><body><areaType>overview</areaType><areaCode>K02000001</areaCode><areaName>United Kingdom</areaName><date>2022-01-05</date><cumCasesByPublishDate>13835334</cumCasesByPublishDate></body><body><areaType>overview</areaType><areaCode>K02000001</areaCode><areaName>United Kingdom</areaName><date>2022-01-04</date><cumCasesByPublishDate>13641520</cumCasesByPublishDate></body><body><areaType>overview</areaType><areaCode>K02000001</areaCode><areaName>United Kingdom</areaName><date>2022-01-03</date><cumCasesByPublishDate>13422815</cumCasesByPublishDate></body><body><areaType>overview</areaType><areaCode>K02000001</areaCode><areaName>United Kingdom</areaName><date>2022-01-02</date><cumCasesByPublishDate>13266431</cumCasesByPublishDate></body><body><areaType>overview</areaType><areaCode>K02000001</areaCode><areaName>United Kingdom</areaName><date>2022-01-01</date><cumCasesByPublishDate>13117469</cumCasesByPublishDate></body><body><areaType>overview</areaType><areaCode>K02000001</areaCode><areaName>United Kingdom</areaName><date>2021-12-31</date><cumCasesByPublishDate>12937886</cumCasesByPublishDate></body><body><areaType>overview</areaType><areaCode>K02000001</areaCode><areaName>United Kingdom</areaName><date>2021-12-30</date><cumCasesByPublishDate>12748050</cumCasesByPublishDate></body><body><areaType>overview</areaType><areaCode>K02000001</areaCode><areaName>United Kingdom</areaName><date>2021-12-29</date><cumCasesByPublishDate>12559926</cumCasesByPublishDate></body><body><areaType>overview</areaType><areaCode>K02000001</areaCode><areaName>United Kingdom</areaName><date>2021-12-28</date><cumCasesByPublishDate>12377822</cumCasesByPublishDate></body><body><areaType>overview</areaType><areaCode>K02000001</areaCode><areaName>United Kingdom</areaName><date>2021-12-27</date><cumCasesByPublishDate>12239797</cumCasesByPublishDate></body><body><areaType>overview</areaType><areaCode>K02000001</areaCode><areaName>United Kingdom</areaName><date>2021-12-26</date><cumCasesByPublishDate>12132098</cumCasesByPublishDate></body><body><areaType>overview</areaType><areaCode>K02000001</areaCode><areaName>United Kingdom</areaName><date>2021-12-25</date><cumCasesByPublishDate>12013153</cumCasesByPublishDate></body><body><areaType>overview</areaType><areaCode>K02000001</areaCode><areaName>United Kingdom</areaName><date>2021-12-24</date><cumCasesByPublishDate>11891292</cumCasesByPublishDate></body><body><areaType>overview</areaType><areaCode>K02000001</areaCode><areaName>United Kingdom</areaName><date>2021-12-23</date><cumCasesByPublishDate>11769921</cumCasesByPublishDate></body><body><areaType>overview</areaType><areaCode>K02000001</areaCode><areaName>United Kingdom</areaName><date>2021-12-22</date><cumCasesByPublishDate>11647473</cumCasesByPublishDate></body><body><areaType>overview</areaType><areaCode>K02000001</areaCode><areaName>United Kingdom</areaName><date>2021-12-21</date><cumCasesByPublishDate>11542143</cumCasesByPublishDate></body><body><areaType>overview</areaType><areaCode>K02000001</areaCode><areaName>United Kingdom</areaName><date>2021-12-20</date><cumCasesByPublishDate>11453121</cumCasesByPublishDate></body><body><areaType>overview</areaType><areaCode>K02000001</areaCode><areaName>United Kingdom</areaName><date>2021-12-19</date><cumCasesByPublishDate>11361387</cumCasesByPublishDate></body><body><areaType>overview</areaType><areaCode>K02000001</areaCode><areaName>United Kingdom</areaName><date>2021-12-18</date><cumCasesByPublishDate>11279428</cumCasesByPublishDate></body><body><areaType>overview</areaType><areaCode>K02000001</areaCode><areaName>United Kingdom</areaName><date>2021-12-17</date><cumCasesByPublishDate>11190354</cumCasesByPublishDate></body><body><areaType>overview</areaType><areaCode>K02000001</areaCode><areaName>United Kingdom</areaName><date>2021-12-16</date><cumCasesByPublishDate>11097851</cumCasesByPublishDate></body><body><areaType>overview</areaType><areaCode>K02000001</areaCode><areaName>United Kingdom</areaName><date>2021-12-15</date><cumCasesByPublishDate>11010286</cumCasesByPublishDate></body><body><areaType>overview</areaType><areaCode>K02000001</areaCode><areaName>United Kingdom</areaName><date>2021-12-14</date><cumCasesByPublishDate>10932545</cumCasesByPublishDate></body><body><areaType>overview</areaType><areaCode>K02000001</areaCode><areaName>United Kingdom</areaName><date>2021-12-13</date><cumCasesByPublishDate>10873468</cumCasesByPublishDate></body><body><areaType>overview</areaType><areaCode>K02000001</areaCode><areaName>United Kingdom</areaName><date>2021-12-12</date><cumCasesByPublishDate>10819515</cumCasesByPublishDate></body><body><areaType>overview</areaType><areaCode>K02000001</areaCode><areaName>United Kingdom</areaName><date>2021-12-11</date><cumCasesByPublishDate>10771444</cumCasesByPublishDate></body><body><areaType>overview</areaType><areaCode>K02000001</areaCode><areaName>United Kingdom</areaName><date>2021-12-10</date><cumCasesByPublishDate>10719165</cumCasesByPublishDate></body><body><areaType>overview</areaType><areaCode>K02000001</areaCode><areaName>United Kingdom</areaName><date>2021-12-09</date><cumCasesByPublishDate>10660981</cumCasesByPublishDate></body><body><areaType>overview</areaType><areaCode>K02000001</areaCode><areaName>United Kingdom</areaName><date>2021-12-08</date><cumCasesByPublishDate>10610958</cumCasesByPublishDate></body><body><areaType>overview</areaType><areaCode>K02000001</areaCode><areaName>United Kingdom</areaName><date>2021-12-07</date><cumCasesByPublishDate>10560341</cumCasesByPublishDate></body><body><areaType>overview</areaType><areaCode>K02000001</areaCode><areaName>United Kingdom</areaName><date>2021-12-06</date><cumCasesByPublishDate>10515239</cumCasesByPublishDate></body><body><areaType>overview</areaType><areaCode>K02000001</areaCode><areaName>United Kingdom</areaName><date>2021-12-05</date><cumCasesByPublishDate>10464389</cumCasesByPublishDate></body><body><areaType>overview</areaType><areaCode>K02000001</areaCode><areaName>United Kingdom</areaName><date>2021-12-04</date><cumCasesByPublishDate>10421104</cumCasesByPublishDate></body><body><areaType>overview</areaType><areaCode>K02000001</areaCode><areaName>United Kingdom</areaName><date>2021-12-03</date><cumCasesByPublishDate>10379647</cumCasesByPublishDate></body><body><areaType>overview</areaType><areaCode>K02000001</areaCode><areaName>United Kingdom</areaName><date>2021-12-02</date><cumCasesByPublishDate>10329074</cumCasesByPublishDate></body><body><areaType>overview</areaType><areaCode>K02000001</areaCode><areaName>United Kingdom</areaName><date>2021-12-01</date><cumCasesByPublishDate>10276007</cumCasesByPublishDate></body><body><areaType>overview</areaType><areaCode>K02000001</areaCode><areaName>United Kingdom</areaName><date>2021-11-30</date><cumCasesByPublishDate>10228772</cumCasesByPublishDate></body><body><areaType>overview</areaType><areaCode>K02000001</areaCode><areaName>United Kingdom</areaName><date>2021-11-29</date><cumCasesByPublishDate>10189059</cumCasesByPublishDate></body><body><areaType>overview</areaType><areaCode>K02000001</areaCode><areaName>United Kingdom</areaName><date>2021-11-28</date><cumCasesByPublishDate>10146915</cumCasesByPublishDate></body><body><areaType>overview</areaType><areaCode>K02000001</areaCode><areaName>United Kingdom</areaName><date>2021-11-27</date><cumCasesByPublishDate>10110408</cumCasesByPublishDate></body><body><areaType>overview</areaType><areaCode>K02000001</areaCode><areaName>United Kingdom</areaName><date>2021-11-26</date><cumCasesByPublishDate>10070841</cumCasesByPublishDate></body><body><areaType>overview</areaType><areaCode>K02000001</areaCode><areaName>United Kingdom</areaName><date>2021-11-25</date><cumCasesByPublishDate>10021497</cumCasesByPublishDate></body><body><areaType>overview</areaType><areaCode>K02000001</areaCode><areaName>United Kingdom</areaName><date>2021-11-24</date><cumCasesByPublishDate>9974843</cumCasesByPublishDate></body><body><areaType>overview</areaType><areaCode>K02000001</areaCode><areaName>United Kingdom</areaName><date>2021-11-23</date><cumCasesByPublishDate>9932408</cumCasesByPublishDate></body><body><areaType>overview</areaType><areaCode>K02000001</areaCode><areaName>United Kingdom</areaName><date>2021-11-22</date><cumCasesByPublishDate>9889926</cumCasesByPublishDate></body><body><areaType>overview</areaType><areaCode>K02000001</areaCode><areaName>United Kingdom</areaName><date>2021-11-21</date><cumCasesByPublishDate>9845492</cumCasesByPublishDate></body><body><areaType>overview</areaType><areaCode>K02000001</areaCode><areaName>United Kingdom</areaName><date>2021-11-20</date><cumCasesByPublishDate>9806034</cumCasesByPublishDate></body><body><areaType>overview</areaType><areaCode>K02000001</areaCode><areaName>United Kingdom</areaName><date>2021-11-19</date><cumCasesByPublishDate>9766153</cumCasesByPublishDate></body><body><areaType>overview</areaType><areaCode>K02000001</areaCode><areaName>United Kingdom</areaName><date>2021-11-18</date><cumCasesByPublishDate>9721916</cumCasesByPublishDate></body><body><areaType>overview</areaType><areaCode>K02000001</areaCode><areaName>United Kingdom</areaName><date>2021-11-17</date><cumCasesByPublishDate>9675058</cumCasesByPublishDate></body><body><areaType>overview</areaType><areaCode>K02000001</areaCode><areaName>United Kingdom</areaName><date>2021-11-16</date><cumCasesByPublishDate>9637190</cumCasesByPublishDate></body><body><areaType>overview</areaType><areaCode>K02000001</areaCode><areaName>United Kingdom</areaName><date>2021-11-15</date><cumCasesByPublishDate>9600369</cumCasesByPublishDate></body><body><areaType>overview</areaType><areaCode>K02000001</areaCode><areaName>United Kingdom</areaName><date>2021-11-14</date><cumCasesByPublishDate>9561099</cumCasesByPublishDate></body><body><areaType>overview</areaType><areaCode>K02000001</areaCode><areaName>United Kingdom</areaName><date>2021-11-13</date><cumCasesByPublishDate>9524971</cumCasesByPublishDate></body><body><areaType>overview</areaType><areaCode>K02000001</areaCode><areaName>United Kingdom</areaName><date>2021-11-12</date><cumCasesByPublishDate>9487302</cumCasesByPublishDate></body><body><areaType>overview</areaType><areaCode>K02000001</areaCode><areaName>United Kingdom</areaName><date>2021-11-11</date><cumCasesByPublishDate>9448402</cumCasesByPublishDate></body><body><areaType>overview</areaType><areaCode>K02000001</areaCode><areaName>United Kingdom</areaName><date>2021-11-10</date><cumCasesByPublishDate>9406001</cumCasesByPublishDate></body><body><areaType>overview</areaType><areaCode>K02000001</areaCode><areaName>United Kingdom</areaName><date>2021-11-09</date><cumCasesByPublishDate>9366676</cumCasesByPublishDate></body><body><areaType>overview</areaType><areaCode>K02000001</areaCode><areaName>United Kingdom</areaName><date>2021-11-08</date><cumCasesByPublishDate>9333891</cumCasesByPublishDate></body><body><areaType>overview</areaType><areaCode>K02000001</areaCode><areaName>United Kingdom</areaName><date>2021-11-07</date><cumCasesByPublishDate>9301909</cumCasesByPublishDate></body><body><areaType>overview</areaType><areaCode>K02000001</areaCode><areaName>United Kingdom</areaName><date>2021-11-06</date><cumCasesByPublishDate>9272066</cumCasesByPublishDate></body><body><areaType>overview</areaType><areaCode>K02000001</areaCode><areaName>United Kingdom</areaName><date>2021-11-05</date><cumCasesByPublishDate>9241916</cumCasesByPublishDate></body><body><areaType>overview</areaType><areaCode>K02000001</areaCode><areaName>United Kingdom</areaName><date>2021-11-04</date><cumCasesByPublishDate>9208219</cumCasesByPublishDate></body><body><areaType>overview</areaType><areaCode>K02000001</areaCode><areaName>United Kingdom</areaName><date>2021-11-03</date><cumCasesByPublishDate>9171660</cumCasesByPublishDate></body><body><areaType>overview</areaType><areaCode>K02000001</areaCode><areaName>United Kingdom</areaName><date>2021-11-02</date><cumCasesByPublishDate>9130857</cumCasesByPublishDate></body><body><areaType>overview</areaType><areaCode>K02000001</areaCode><areaName>United Kingdom</areaName><date>2021-11-01</date><cumCasesByPublishDate>9097311</cumCasesByPublishDate></body><body><areaType>overview</areaType><areaCode>K02000001</areaCode><areaName>United Kingdom</areaName><date>2021-10-31</date><cumCasesByPublishDate>9057629</cumCasesByPublishDate></body><body><areaType>overview</areaType><areaCode>K02000001</areaCode><areaName>United Kingdom</areaName><date>2021-10-30</date><cumCasesByPublishDate>9019962</cumCasesByPublishDate></body><body><areaType>overview</areaType><areaCode>K02000001</areaCode><areaName>United Kingdom</areaName><date>2021-10-29</date><cumCasesByPublishDate>8979236</cumCasesByPublishDate></body><body><areaType>overview</areaType><areaCode>K02000001</areaCode><areaName>United Kingdom</areaName><date>2021-10-28</date><cumCasesByPublishDate>8936155</cumCasesByPublishDate></body><body><areaType>overview</areaType><areaCode>K02000001</areaCode><areaName>United Kingdom</areaName><date>2021-10-27</date><cumCasesByPublishDate>8897149</cumCasesByPublishDate></body><body><areaType>overview</areaType><areaCode>K02000001</areaCode><areaName>United Kingdom</areaName><date>2021-10-26</date><cumCasesByPublishDate>8853227</cumCasesByPublishDate></body><body><areaType>overview</areaType><areaCode>K02000001</areaCode><areaName>United Kingdom</areaName><date>2021-10-25</date><cumCasesByPublishDate>8809774</cumCasesByPublishDate></body><body><areaType>overview</areaType><areaCode>K02000001</areaCode><areaName>United Kingdom</areaName><date>2021-10-24</date><cumCasesByPublishDate>8773674</cumCasesByPublishDate></body><body><areaType>overview</areaType><areaCode>K02000001</areaCode><areaName>United Kingdom</areaName><date>2021-10-23</date><cumCasesByPublishDate>8734934</cumCasesByPublishDate></body><body><areaType>overview</areaType><areaCode>K02000001</areaCode><areaName>United Kingdom</areaName><date>2021-10-22</date><cumCasesByPublishDate>8689949</cumCasesByPublishDate></body><body><areaType>overview</areaType><areaCode>K02000001</areaCode><areaName>United Kingdom</areaName><date>2021-10-21</date><cumCasesByPublishDate>8641221</cumCasesByPublishDate></body><body><areaType>overview</areaType><areaCode>K02000001</areaCode><areaName>United Kingdom</areaName><date>2021-10-20</date><cumCasesByPublishDate>8589737</cumCasesByPublishDate></body><body><areaType>overview</areaType><areaCode>K02000001</areaCode><areaName>United Kingdom</areaName><date>2021-10-19</date><cumCasesByPublishDate>8541192</cumCasesByPublishDate></body><body><areaType>overview</areaType><areaCode>K02000001</areaCode><areaName>United Kingdom</areaName><date>2021-10-18</date><cumCasesByPublishDate>8497868</cumCasesByPublishDate></body><body><areaType>overview</areaType><areaCode>K02000001</areaCode><areaName>United Kingdom</areaName><date>2021-10-17</date><cumCasesByPublishDate>8449165</cumCasesByPublishDate></body><body><areaType>overview</areaType><areaCode>K02000001</areaCode><areaName>United Kingdom</areaName><date>2021-10-16</date><cumCasesByPublishDate>8404469</cumCasesByPublishDate></body><body><areaType>overview</areaType><areaCode>K02000001</areaCode><areaName>United Kingdom</areaName><date>2021-10-15</date><cumCasesByPublishDate>8361651</cumCasesByPublishDate></body><body><areaType>overview</areaType><areaCode>K02000001</areaCode><areaName>United Kingdom</areaName><date>2021-10-14</date><cumCasesByPublishDate>8317439</cumCasesByPublishDate></body><body><areaType>overview</areaType><areaCode>K02000001</areaCode><areaName>United Kingdom</areaName><date>2021-10-13</date><cumCasesByPublishDate>8272883</cumCasesByPublishDate></body><body><areaType>overview</areaType><areaCode>K02000001</areaCode><areaName>United Kingdom</areaName><date>2021-10-12</date><cumCasesByPublishDate>8231437</cumCasesByPublishDate></body><body><areaType>overview</areaType><areaCode>K02000001</areaCode><areaName>United Kingdom</areaName><date>2021-10-11</date><cumCasesByPublishDate>8193769</cumCasesByPublishDate></body><body><areaType>overview</areaType><areaCode>K02000001</areaCode><areaName>United Kingdom</areaName><date>2021-10-10</date><cumCasesByPublishDate>8154306</cumCasesByPublishDate></body><body><areaType>overview</areaType><areaCode>K02000001</areaCode><areaName>United Kingdom</areaName><date>2021-10-09</date><cumCasesByPublishDate>8120713</cumCasesByPublishDate></body><body><areaType>overview</areaType><areaCode>K02000001</areaCode><areaName>United Kingdom</areaName><date>2021-10-08</date><cumCasesByPublishDate>8087005</cumCasesByPublishDate></body><body><areaType>overview</areaType><areaCode>K02000001</areaCode><areaName>United Kingdom</areaName><date>2021-10-07</date><cumCasesByPublishDate>8046390</cumCasesByPublishDate></body><body><areaType>overview</areaType><areaCode>K02000001</areaCode><areaName>United Kingdom</areaName><date>2021-10-06</date><cumCasesByPublishDate>8006660</cumCasesByPublishDate></body><body><areaType>overview</areaType><areaCode>K02000001</areaCode><areaName>United Kingdom</areaName><date>2021-10-05</date><cumCasesByPublishDate>7967985</cumCasesByPublishDate></body><body><areaType>overview</areaType><areaCode>K02000001</areaCode><areaName>United Kingdom</areaName><date>2021-10-04</date><cumCasesByPublishDate>7934936</cumCasesByPublishDate></body><body><areaType>overview</areaType><areaCode>K02000001</areaCode><areaName>United Kingdom</areaName><date>2021-10-03</date><cumCasesByPublishDate>7900680</cumCasesByPublishDate></body><body><areaType>overview</areaType><areaCode>K02000001</areaCode><areaName>United Kingdom</areaName><date>2021-10-02</date><cumCasesByPublishDate>7871014</cumCasesByPublishDate></body><body><areaType>overview</areaType><areaCode>K02000001</areaCode><areaName>United Kingdom</areaName><date>2021-10-01</date><cumCasesByPublishDate>7841625</cumCasesByPublishDate></body><body><areaType>overview</areaType><areaCode>K02000001</areaCode><areaName>United Kingdom</areaName><date>2021-09-30</date><cumCasesByPublishDate>7807036</cumCasesByPublishDate></body><body><areaType>overview</areaType><areaCode>K02000001</areaCode><areaName>United Kingdom</areaName><date>2021-09-29</date><cumCasesByPublishDate>7771294</cumCasesByPublishDate></body><body><areaType>overview</areaType><areaCode>K02000001</areaCode><areaName>United Kingdom</areaName><date>2021-09-28</date><cumCasesByPublishDate>7736235</cumCasesByPublishDate></body><body><areaType>overview</areaType><areaCode>K02000001</areaCode><areaName>United Kingdom</areaName><date>2021-09-27</date><cumCasesByPublishDate>7701715</cumCasesByPublishDate></body><body><areaType>overview</areaType><areaCode>K02000001</areaCode><areaName>United Kingdom</areaName><date>2021-09-26</date><cumCasesByPublishDate>7664230</cumCasesByPublishDate></body><body><areaType>overview</areaType><areaCode>K02000001</areaCode><areaName>United Kingdom</areaName><date>2021-09-25</date><cumCasesByPublishDate>7632353</cumCasesByPublishDate></body><body><areaType>overview</areaType><areaCode>K02000001</areaCode><areaName>United Kingdom</areaName><date>2021-09-24</date><cumCasesByPublishDate>7601487</cumCasesByPublishDate></body><body><areaType>overview</areaType><areaCode>K02000001</areaCode><areaName>United Kingdom</areaName><date>2021-09-23</date><cumCasesByPublishDate>7565867</cumCasesByPublishDate></body><body><areaType>overview</areaType><areaCode>K02000001</areaCode><areaName>United Kingdom</areaName><date>2021-09-22</date><cumCasesByPublishDate>7530103</cumCasesByPublishDate></body><body><areaType>overview</areaType><areaCode>K02000001</areaCode><areaName>United Kingdom</areaName><date>2021-09-21</date><cumCasesByPublishDate>7496543</cumCasesByPublishDate></body><body><areaType>overview</areaType><areaCode>K02000001</areaCode><areaName>United Kingdom</areaName><date>2021-09-20</date><cumCasesByPublishDate>7465448</cumCasesByPublishDate></body><body><areaType>overview</areaType><areaCode>K02000001</areaCode><areaName>United Kingdom</areaName><date>2021-09-19</date><cumCasesByPublishDate>7429746</cumCasesByPublishDate></body><body><areaType>overview</areaType><areaCode>K02000001</areaCode><areaName>United Kingdom</areaName><date>2021-09-18</date><cumCasesByPublishDate>7400739</cumCasesByPublishDate></body><body><areaType>overview</areaType><areaCode>K02000001</areaCode><areaName>United Kingdom</areaName><date>2021-09-17</date><cumCasesByPublishDate>7371301</cumCasesByPublishDate></body><body><areaType>overview</areaType><areaCode>K02000001</areaCode><areaName>United Kingdom</areaName><date>2021-09-16</date><cumCasesByPublishDate>7339009</cumCasesByPublishDate></body><body><areaType>overview</areaType><areaCode>K02000001</areaCode><areaName>United Kingdom</areaName><date>2021-09-15</date><cumCasesByPublishDate>7312683</cumCasesByPublishDate></body><body><areaType>overview</areaType><areaCode>K02000001</areaCode><areaName>United Kingdom</areaName><date>2021-09-14</date><cumCasesByPublishDate>7282810</cumCasesByPublishDate></body><body><areaType>overview</areaType><areaCode>K02000001</areaCode><areaName>United Kingdom</areaName><date>2021-09-13</date><cumCasesByPublishDate>7256559</cumCasesByPublishDate></body><body><areaType>overview</areaType><areaCode>K02000001</areaCode><areaName>United Kingdom</areaName><date>2021-09-12</date><cumCasesByPublishDate>7226276</cumCasesByPublishDate></body><body><areaType>overview</areaType><areaCode>K02000001</areaCode><areaName>United Kingdom</areaName><date>2021-09-11</date><cumCasesByPublishDate>7197662</cumCasesByPublishDate></body><body><areaType>overview</areaType><areaCode>K02000001</areaCode><areaName>United Kingdom</areaName><date>2021-09-10</date><cumCasesByPublishDate>7168806</cumCasesByPublishDate></body><body><areaType>overview</areaType><areaCode>K02000001</areaCode><areaName>United Kingdom</areaName><date>2021-09-09</date><cumCasesByPublishDate>7132072</cumCasesByPublishDate></body><body><areaType>overview</areaType><areaCode>K02000001</areaCode><areaName>United Kingdom</areaName><date>2021-09-08</date><cumCasesByPublishDate>7094592</cumCasesByPublishDate></body><body><areaType>overview</areaType><areaCode>K02000001</areaCode><areaName>United Kingdom</areaName><date>2021-09-07</date><cumCasesByPublishDate>7056106</cumCasesByPublishDate></body><body><areaType>overview</areaType><areaCode>K02000001</areaCode><areaName>United Kingdom</areaName><date>2021-09-06</date><cumCasesByPublishDate>7018927</cumCasesByPublishDate></body><body><areaType>overview</areaType><areaCode>K02000001</areaCode><areaName>United Kingdom</areaName><date>2021-09-05</date><cumCasesByPublishDate>6978126</cumCasesByPublishDate></body><body><areaType>overview</areaType><areaCode>K02000001</areaCode><areaName>United Kingdom</areaName><date>2021-09-04</date><cumCasesByPublishDate>6941611</cumCasesByPublishDate></body><body><areaType>overview</areaType><areaCode>K02000001</areaCode><areaName>United Kingdom</areaName><date>2021-09-03</date><cumCasesByPublishDate>6904969</cumCasesByPublishDate></body><body><areaType>overview</areaType><areaCode>K02000001</areaCode><areaName>United Kingdom</areaName><date>2021-09-02</date><cumCasesByPublishDate>6862904</cumCasesByPublishDate></body><body><areaType>overview</areaType><areaCode>K02000001</areaCode><areaName>United Kingdom</areaName><date>2021-09-01</date><cumCasesByPublishDate>6825074</cumCasesByPublishDate></body><body><areaType>overview</areaType><areaCode>K02000001</areaCode><areaName>United Kingdom</areaName><date>2021-08-31</date><cumCasesByPublishDate>6789581</cumCasesByPublishDate></body><body><areaType>overview</areaType><areaCode>K02000001</areaCode><areaName>United Kingdom</areaName><date>2021-08-30</date><cumCasesByPublishDate>6757650</cumCasesByPublishDate></body><body><areaType>overview</areaType><areaCode>K02000001</areaCode><areaName>United Kingdom</areaName><date>2021-08-29</date><cumCasesByPublishDate>6731423</cumCasesByPublishDate></body><body><areaType>overview</areaType><areaCode>K02000001</areaCode><areaName>United Kingdom</areaName><date>2021-08-28</date><cumCasesByPublishDate>6698486</cumCasesByPublishDate></body><body><areaType>overview</areaType><areaCode>K02000001</areaCode><areaName>United Kingdom</areaName><date>2021-08-27</date><cumCasesByPublishDate>6666399</cumCasesByPublishDate></body><body><areaType>overview</areaType><areaCode>K02000001</areaCode><areaName>United Kingdom</areaName><date>2021-08-26</date><cumCasesByPublishDate>6628709</cumCasesByPublishDate></body><body><areaType>overview</areaType><areaCode>K02000001</areaCode><areaName>United Kingdom</areaName><date>2021-08-25</date><cumCasesByPublishDate>6590747</cumCasesByPublishDate></body><body><areaType>overview</areaType><areaCode>K02000001</areaCode><areaName>United Kingdom</areaName><date>2021-08-24</date><cumCasesByPublishDate>6555200</cumCasesByPublishDate></body><body><areaType>overview</areaType><areaCode>K02000001</areaCode><areaName>United Kingdom</areaName><date>2021-08-23</date><cumCasesByPublishDate>6524581</cumCasesByPublishDate></body><body><areaType>overview</areaType><areaCode>K02000001</areaCode><areaName>United Kingdom</areaName><date>2021-08-22</date><cumCasesByPublishDate>6492906</cumCasesByPublishDate></body><body><areaType>overview</areaType><areaCode>K02000001</areaCode><areaName>United Kingdom</areaName><date>2021-08-21</date><cumCasesByPublishDate>6460930</cumCasesByPublishDate></body><body><areaType>overview</areaType><areaCode>K02000001</areaCode><areaName>United Kingdom</areaName><date>2021-08-20</date><cumCasesByPublishDate>6429147</cumCasesByPublishDate></body><body><areaType>overview</areaType><areaCode>K02000001</areaCode><areaName>United Kingdom</areaName><date>2021-08-19</date><cumCasesByPublishDate>6392160</cumCasesByPublishDate></body><body><areaType>overview</areaType><areaCode>K02000001</areaCode><areaName>United Kingdom</areaName><date>2021-08-18</date><cumCasesByPublishDate>6355887</cumCasesByPublishDate></body><body><areaType>overview</areaType><areaCode>K02000001</areaCode><areaName>United Kingdom</areaName><date>2021-08-17</date><cumCasesByPublishDate>6322241</cumCasesByPublishDate></body><body><areaType>overview</areaType><areaCode>K02000001</areaCode><areaName>United Kingdom</areaName><date>2021-08-16</date><cumCasesByPublishDate>6295613</cumCasesByPublishDate></body><body><areaType>overview</areaType><areaCode>K02000001</areaCode><areaName>United Kingdom</areaName><date>2021-08-15</date><cumCasesByPublishDate>6267437</cumCasesByPublishDate></body><body><areaType>overview</areaType><areaCode>K02000001</areaCode><areaName>United Kingdom</areaName><date>2021-08-14</date><cumCasesByPublishDate>6241011</cumCasesByPublishDate></body><body><areaType>overview</areaType><areaCode>K02000001</areaCode><areaName>United Kingdom</areaName><date>2021-08-13</date><cumCasesByPublishDate>6211868</cumCasesByPublishDate></body><body><areaType>overview</areaType><areaCode>K02000001</areaCode><areaName>United Kingdom</areaName><date>2021-08-12</date><cumCasesByPublishDate>6179506</cumCasesByPublishDate></body><body><areaType>overview</areaType><areaCode>K02000001</areaCode><areaName>United Kingdom</areaName><date>2021-08-11</date><cumCasesByPublishDate>6146800</cumCasesByPublishDate></body><body><areaType>overview</areaType><areaCode>K02000001</areaCode><areaName>United Kingdom</areaName><date>2021-08-10</date><cumCasesByPublishDate>6117540</cumCasesByPublishDate></body><body><areaType>overview</areaType><areaCode>K02000001</areaCode><areaName>United Kingdom</areaName><date>2021-08-09</date><cumCasesByPublishDate>6094243</cumCasesByPublishDate></body><body><areaType>overview</areaType><areaCode>K02000001</areaCode><areaName>United Kingdom</areaName><date>2021-08-08</date><cumCasesByPublishDate>6069362</cumCasesByPublishDate></body><body><areaType>overview</areaType><areaCode>K02000001</areaCode><areaName>United Kingdom</areaName><date>2021-08-07</date><cumCasesByPublishDate>6042252</cumCasesByPublishDate></body><body><areaType>overview</areaType><areaCode>K02000001</areaCode><areaName>United Kingdom</areaName><date>2021-08-06</date><cumCasesByPublishDate>6014023</cumCasesByPublishDate></body><body><areaType>overview</areaType><areaCode>K02000001</areaCode><areaName>United Kingdom</areaName><date>2021-08-05</date><cumCasesByPublishDate>5982581</cumCasesByPublishDate></body><body><areaType>overview</areaType><areaCode>K02000001</areaCode><areaName>United Kingdom</areaName><date>2021-08-04</date><cumCasesByPublishDate>5952756</cumCasesByPublishDate></body><body><areaType>overview</areaType><areaCode>K02000001</areaCode><areaName>United Kingdom</areaName><date>2021-08-03</date><cumCasesByPublishDate>5923820</cumCasesByPublishDate></body><body><areaType>overview</areaType><areaCode>K02000001</areaCode><areaName>United Kingdom</areaName><date>2021-08-02</date><cumCasesByPublishDate>5902354</cumCasesByPublishDate></body><body><areaType>overview</areaType><areaCode>K02000001</areaCode><areaName>United Kingdom</areaName><date>2021-08-01</date><cumCasesByPublishDate>5880667</cumCasesByPublishDate></body><body><areaType>overview</areaType><areaCode>K02000001</areaCode><areaName>United Kingdom</areaName><date>2021-07-31</date><cumCasesByPublishDate>5856528</cumCasesByPublishDate></body><body><areaType>overview</areaType><areaCode>K02000001</areaCode><areaName>United Kingdom</areaName><date>2021-07-30</date><cumCasesByPublishDate>5830774</cumCasesByPublishDate></body><body><areaType>overview</areaType><areaCode>K02000001</areaCode><areaName>United Kingdom</areaName><date>2021-07-29</date><cumCasesByPublishDate>5801561</cumCasesByPublishDate></body><body><areaType>overview</areaType><areaCode>K02000001</areaCode><areaName>United Kingdom</areaName><date>2021-07-28</date><cumCasesByPublishDate>5770928</cumCasesByPublishDate></body><body><areaType>overview</areaType><areaCode>K02000001</areaCode><areaName>United Kingdom</areaName><date>2021-07-27</date><cumCasesByPublishDate>5745526</cumCasesByPublishDate></body><body><areaType>overview</areaType><areaCode>K02000001</areaCode><areaName>United Kingdom</areaName><date>2021-07-26</date><cumCasesByPublishDate>5722298</cumCasesByPublishDate></body><body><areaType>overview</areaType><areaCode>K02000001</areaCode><areaName>United Kingdom</areaName><date>2021-07-25</date><cumCasesByPublishDate>5697912</cumCasesByPublishDate></body><body><areaType>overview</areaType><areaCode>K02000001</areaCode><areaName>United Kingdom</areaName><date>2021-07-24</date><cumCasesByPublishDate>5669260</cumCasesByPublishDate></body><body><areaType>overview</areaType><areaCode>K02000001</areaCode><areaName>United Kingdom</areaName><date>2021-07-23</date><cumCasesByPublishDate>5637975</cumCasesByPublishDate></body><body><areaType>overview</areaType><areaCode>K02000001</areaCode><areaName>United Kingdom</areaName><date>2021-07-22</date><cumCasesByPublishDate>5602321</cumCasesByPublishDate></body><body><areaType>overview</areaType><areaCode>K02000001</areaCode><areaName>United Kingdom</areaName><date>2021-07-21</date><cumCasesByPublishDate>5563006</cumCasesByPublishDate></body><body><areaType>overview</areaType><areaCode>K02000001</areaCode><areaName>United Kingdom</areaName><date>2021-07-20</date><cumCasesByPublishDate>5519602</cumCasesByPublishDate></body><body><areaType>overview</areaType><areaCode>K02000001</areaCode><areaName>United Kingdom</areaName><date>2021-07-19</date><cumCasesByPublishDate>5473477</cumCasesByPublishDate></body><body><areaType>overview</areaType><areaCode>K02000001</areaCode><areaName>United Kingdom</areaName><date>2021-07-18</date><cumCasesByPublishDate>5433939</cumCasesByPublishDate></body><body><areaType>overview</areaType><areaCode>K02000001</areaCode><areaName>United Kingdom</areaName><date>2021-07-17</date><cumCasesByPublishDate>5386340</cumCasesByPublishDate></body><body><areaType>overview</areaType><areaCode>K02000001</areaCode><areaName>United Kingdom</areaName><date>2021-07-16</date><cumCasesByPublishDate>5332371</cumCasesByPublishDate></body><body><areaType>overview</areaType><areaCode>K02000001</areaCode><areaName>United Kingdom</areaName><date>2021-07-15</date><cumCasesByPublishDate>5281098</cumCasesByPublishDate></body><body><areaType>overview</areaType><areaCode>K02000001</areaCode><areaName>United Kingdom</areaName><date>2021-07-14</date><cumCasesByPublishDate>5233207</cumCasesByPublishDate></body><body><areaType>overview</areaType><areaCode>K02000001</areaCode><areaName>United Kingdom</areaName><date>2021-07-13</date><cumCasesByPublishDate>5191459</cumCasesByPublishDate></body><body><areaType>overview</areaType><areaCode>K02000001</areaCode><areaName>United Kingdom</areaName><date>2021-07-12</date><cumCasesByPublishDate>5155243</cumCasesByPublishDate></body><body><areaType>overview</areaType><areaCode>K02000001</areaCode><areaName>United Kingdom</areaName><date>2021-07-11</date><cumCasesByPublishDate>5121245</cumCasesByPublishDate></body><body><areaType>overview</areaType><areaCode>K02000001</areaCode><areaName>United Kingdom</areaName><date>2021-07-10</date><cumCasesByPublishDate>5089893</cumCasesByPublishDate></body><body><areaType>overview</areaType><areaCode>K02000001</areaCode><areaName>United Kingdom</areaName><date>2021-07-09</date><cumCasesByPublishDate>5058093</cumCasesByPublishDate></body><body><areaType>overview</areaType><areaCode>K02000001</areaCode><areaName>United Kingdom</areaName><date>2021-07-08</date><cumCasesByPublishDate>5022893</cumCasesByPublishDate></body><body><areaType>overview</areaType><areaCode>K02000001</areaCode><areaName>United Kingdom</areaName><date>2021-07-07</date><cumCasesByPublishDate>4990916</cumCasesByPublishDate></body><body><areaType>overview</areaType><areaCode>K02000001</areaCode><areaName>United Kingdom</areaName><date>2021-07-06</date><cumCasesByPublishDate>4958868</cumCasesByPublishDate></body><body><areaType>overview</areaType><areaCode>K02000001</areaCode><areaName>United Kingdom</areaName><date>2021-07-05</date><cumCasesByPublishDate>4930534</cumCasesByPublishDate></body><body><areaType>overview</areaType><areaCode>K02000001</areaCode><areaName>United Kingdom</areaName><date>2021-07-04</date><cumCasesByPublishDate>4903434</cumCasesByPublishDate></body><body><areaType>overview</areaType><areaCode>K02000001</areaCode><areaName>United Kingdom</areaName><date>2021-07-03</date><cumCasesByPublishDate>4879616</cumCasesByPublishDate></body><body><areaType>overview</areaType><areaCode>K02000001</areaCode><areaName>United Kingdom</areaName><date>2021-07-02</date><cumCasesByPublishDate>4855169</cumCasesByPublishDate></body><body><areaType>overview</areaType><areaCode>K02000001</areaCode><areaName>United Kingdom</areaName><date>2021-07-01</date><cumCasesByPublishDate>4828463</cumCasesByPublishDate></body><body><areaType>overview</areaType><areaCode>K02000001</areaCode><areaName>United Kingdom</areaName><date>2021-06-30</date><cumCasesByPublishDate>4800907</cumCasesByPublishDate></body><body><areaType>overview</areaType><areaCode>K02000001</areaCode><areaName>United Kingdom</areaName><date>2021-06-29</date><cumCasesByPublishDate>4775301</cumCasesByPublishDate></body><body><areaType>overview</areaType><areaCode>K02000001</areaCode><areaName>United Kingdom</areaName><date>2021-06-28</date><cumCasesByPublishDate>4755078</cumCasesByPublishDate></body><body><areaType>overview</areaType><areaCode>K02000001</areaCode><areaName>United Kingdom</areaName><date>2021-06-27</date><cumCasesByPublishDate>4732434</cumCasesByPublishDate></body><body><areaType>overview</areaType><areaCode>K02000001</areaCode><areaName>United Kingdom</areaName><date>2021-06-26</date><cumCasesByPublishDate>4717811</cumCasesByPublishDate></body><body><areaType>overview</areaType><areaCode>K02000001</areaCode><areaName>United Kingdom</areaName><date>2021-06-25</date><cumCasesByPublishDate>4699868</cumCasesByPublishDate></body><body><areaType>overview</areaType><areaCode>K02000001</areaCode><areaName>United Kingdom</areaName><date>2021-06-24</date><cumCasesByPublishDate>4684572</cumCasesByPublishDate></body><body><areaType>overview</areaType><areaCode>K02000001</areaCode><areaName>United Kingdom</areaName><date>2021-06-23</date><cumCasesByPublishDate>4667870</cumCasesByPublishDate></body><body><areaType>overview</areaType><areaCode>K02000001</areaCode><areaName>United Kingdom</areaName><date>2021-06-22</date><cumCasesByPublishDate>4651988</cumCasesByPublishDate></body><body><areaType>overview</areaType><areaCode>K02000001</areaCode><areaName>United Kingdom</areaName><date>2021-06-21</date><cumCasesByPublishDate>4640507</cumCasesByPublishDate></body><body><areaType>overview</areaType><areaCode>K02000001</areaCode><areaName>United Kingdom</areaName><date>2021-06-20</date><cumCasesByPublishDate>4630040</cumCasesByPublishDate></body><body><areaType>overview</areaType><areaCode>K02000001</areaCode><areaName>United Kingdom</areaName><date>2021-06-19</date><cumCasesByPublishDate>4620968</cumCasesByPublishDate></body><body><areaType>overview</areaType><areaCode>K02000001</areaCode><areaName>United Kingdom</areaName><date>2021-06-18</date><cumCasesByPublishDate>4610893</cumCasesByPublishDate></body><body><areaType>overview</areaType><areaCode>K02000001</areaCode><areaName>United Kingdom</areaName><date>2021-06-17</date><cumCasesByPublishDate>4600623</cumCasesByPublishDate></body><body><areaType>overview</areaType><areaCode>K02000001</areaCode><areaName>United Kingdom</areaName><date>2021-06-16</date><cumCasesByPublishDate>4589814</cumCasesByPublishDate></body><body><areaType>overview</areaType><areaCode>K02000001</areaCode><areaName>United Kingdom</areaName><date>2021-06-15</date><cumCasesByPublishDate>4581006</cumCasesByPublishDate></body><body><areaType>overview</areaType><areaCode>K02000001</areaCode><areaName>United Kingdom</areaName><date>2021-06-14</date><cumCasesByPublishDate>4573419</cumCasesByPublishDate></body><body><areaType>overview</areaType><areaCode>K02000001</areaCode><areaName>United Kingdom</areaName><date>2021-06-13</date><cumCasesByPublishDate>4565813</cumCasesByPublishDate></body><body><areaType>overview</areaType><areaCode>K02000001</areaCode><areaName>United Kingdom</areaName><date>2021-06-12</date><cumCasesByPublishDate>4558494</cumCasesByPublishDate></body><body><areaType>overview</areaType><areaCode>K02000001</areaCode><areaName>United Kingdom</areaName><date>2021-06-11</date><cumCasesByPublishDate>4550944</cumCasesByPublishDate></body><body><areaType>overview</areaType><areaCode>K02000001</areaCode><areaName>United Kingdom</areaName><date>2021-06-10</date><cumCasesByPublishDate>4542986</cumCasesByPublishDate></body><body><areaType>overview</areaType><areaCode>K02000001</areaCode><areaName>United Kingdom</areaName><date>2021-06-09</date><cumCasesByPublishDate>4535754</cumCasesByPublishDate></body><body><areaType>overview</areaType><areaCode>K02000001</areaCode><areaName>United Kingdom</areaName><date>2021-06-08</date><cumCasesByPublishDate>4528442</cumCasesByPublishDate></body><body><areaType>overview</areaType><areaCode>K02000001</areaCode><areaName>United Kingdom</areaName><date>2021-06-07</date><cumCasesByPublishDate>4522476</cumCasesByPublishDate></body><body><areaType>overview</areaType><areaCode>K02000001</areaCode><areaName>United Kingdom</areaName><date>2021-06-06</date><cumCasesByPublishDate>4516892</cumCasesByPublishDate></body><body><areaType>overview</areaType><areaCode>K02000001</areaCode><areaName>United Kingdom</areaName><date>2021-06-05</date><cumCasesByPublishDate>4511669</cumCasesByPublishDate></body><body><areaType>overview</areaType><areaCode>K02000001</areaCode><areaName>United Kingdom</areaName><date>2021-06-04</date><cumCasesByPublishDate>4506018</cumCasesByPublishDate></body><body><areaType>overview</areaType><areaCode>K02000001</areaCode><areaName>United Kingdom</areaName><date>2021-06-03</date><cumCasesByPublishDate>4499878</cumCasesByPublishDate></body><body><areaType>overview</areaType><areaCode>K02000001</areaCode><areaName>United Kingdom</areaName><date>2021-06-02</date><cumCasesByPublishDate>4494699</cumCasesByPublishDate></body><body><areaType>overview</areaType><areaCode>K02000001</areaCode><areaName>United Kingdom</areaName><date>2021-06-01</date><cumCasesByPublishDate>4490438</cumCasesByPublishDate></body><body><areaType>overview</areaType><areaCode>K02000001</areaCode><areaName>United Kingdom</areaName><date>2021-05-31</date><cumCasesByPublishDate>4487339</cumCasesByPublishDate></body><body><areaType>overview</areaType><areaCode>K02000001</areaCode><areaName>United Kingdom</areaName><date>2021-05-30</date><cumCasesByPublishDate>4484056</cumCasesByPublishDate></body><body><areaType>overview</areaType><areaCode>K02000001</areaCode><areaName>United Kingdom</areaName><date>2021-05-29</date><cumCasesByPublishDate>4480945</cumCasesByPublishDate></body><body><areaType>overview</areaType><areaCode>K02000001</areaCode><areaName>United Kingdom</areaName><date>2021-05-28</date><cumCasesByPublishDate>4477705</cumCasesByPublishDate></body><body><areaType>overview</areaType><areaCode>K02000001</areaCode><areaName>United Kingdom</areaName><date>2021-05-27</date><cumCasesByPublishDate>4473677</cumCasesByPublishDate></body><body><areaType>overview</areaType><areaCode>K02000001</areaCode><areaName>United Kingdom</areaName><date>2021-05-26</date><cumCasesByPublishDate>4470297</cumCasesByPublishDate></body><body><areaType>overview</areaType><areaCode>K02000001</areaCode><areaName>United Kingdom</areaName><date>2021-05-25</date><cumCasesByPublishDate>4467310</cumCasesByPublishDate></body><body><areaType>overview</areaType><areaCode>K02000001</areaCode><areaName>United Kingdom</areaName><date>2021-05-24</date><cumCasesByPublishDate>4464900</cumCasesByPublishDate></body><body><areaType>overview</areaType><areaCode>K02000001</areaCode><areaName>United Kingdom</areaName><date>2021-05-23</date><cumCasesByPublishDate>4462538</cumCasesByPublishDate></body><body><areaType>overview</areaType><areaCode>K02000001</areaCode><areaName>United Kingdom</areaName><date>2021-05-22</date><cumCasesByPublishDate>4460446</cumCasesByPublishDate></body><body><areaType>overview</areaType><areaCode>K02000001</areaCode><areaName>United Kingdom</areaName><date>2021-05-21</date><cumCasesByPublishDate>4457923</cumCasesByPublishDate></body><body><areaType>overview</areaType><areaCode>K02000001</areaCode><areaName>United Kingdom</areaName><date>2021-05-20</date><cumCasesByPublishDate>4455221</cumCasesByPublishDate></body><body><areaType>overview</areaType><areaCode>K02000001</areaCode><areaName>United Kingdom</areaName><date>2021-05-19</date><cumCasesByPublishDate>4452527</cumCasesByPublishDate></body><body><areaType>overview</areaType><areaCode>K02000001</areaCode><areaName>United Kingdom</areaName><date>2021-05-18</date><cumCasesByPublishDate>4450392</cumCasesByPublishDate></body><body><areaType>overview</areaType><areaCode>K02000001</areaCode><areaName>United Kingdom</areaName><date>2021-05-17</date><cumCasesByPublishDate>4452756</cumCasesByPublishDate></body><body><areaType>overview</areaType><areaCode>K02000001</areaCode><areaName>United Kingdom</areaName><date>2021-05-16</date><cumCasesByPublishDate>4450777</cumCasesByPublishDate></body><body><areaType>overview</areaType><areaCode>K02000001</areaCode><areaName>United Kingdom</areaName><date>2021-05-15</date><cumCasesByPublishDate>4448851</cumCasesByPublishDate></body><body><areaType>overview</areaType><areaCode>K02000001</areaCode><areaName>United Kingdom</areaName><date>2021-05-14</date><cumCasesByPublishDate>4446824</cumCasesByPublishDate></body><body><areaType>overview</areaType><areaCode>K02000001</areaCode><areaName>United Kingdom</areaName><date>2021-05-13</date><cumCasesByPublishDate>4444631</cumCasesByPublishDate></body><body><areaType>overview</areaType><areaCode>K02000001</areaCode><areaName>United Kingdom</areaName><date>2021-05-12</date><cumCasesByPublishDate>4441975</cumCasesByPublishDate></body><body><areaType>overview</areaType><areaCode>K02000001</areaCode><areaName>United Kingdom</areaName><date>2021-05-11</date><cumCasesByPublishDate>4439691</cumCasesByPublishDate></body><body><areaType>overview</areaType><areaCode>K02000001</areaCode><areaName>United Kingdom</areaName><date>2021-05-10</date><cumCasesByPublishDate>4437217</cumCasesByPublishDate></body><body><areaType>overview</areaType><areaCode>K02000001</areaCode><areaName>United Kingdom</areaName><date>2021-05-09</date><cumCasesByPublishDate>4434860</cumCasesByPublishDate></body><body><areaType>overview</areaType><areaCode>K02000001</areaCode><areaName>United Kingdom</areaName><date>2021-05-08</date><cumCasesByPublishDate>4433090</cumCasesByPublishDate></body><body><areaType>overview</areaType><areaCode>K02000001</areaCode><areaName>United Kingdom</areaName><date>2021-05-07</date><cumCasesByPublishDate>4431043</cumCasesByPublishDate></body><body><areaType>overview</areaType><areaCode>K02000001</areaCode><areaName>United Kingdom</areaName><date>2021-05-06</date><cumCasesByPublishDate>4428553</cumCasesByPublishDate></body><body><areaType>overview</areaType><areaCode>K02000001</areaCode><areaName>United Kingdom</areaName><date>2021-05-05</date><cumCasesByPublishDate>4425940</cumCasesByPublishDate></body><body><areaType>overview</areaType><areaCode>K02000001</areaCode><areaName>United Kingdom</areaName><date>2021-05-04</date><cumCasesByPublishDate>4423796</cumCasesByPublishDate></body><body><areaType>overview</areaType><areaCode>K02000001</areaCode><areaName>United Kingdom</areaName><date>2021-05-03</date><cumCasesByPublishDate>4421850</cumCasesByPublishDate></body><body><areaType>overview</areaType><areaCode>K02000001</areaCode><areaName>United Kingdom</areaName><date>2021-05-02</date><cumCasesByPublishDate>4420201</cumCasesByPublishDate></body><body><areaType>overview</areaType><areaCode>K02000001</areaCode><areaName>United Kingdom</areaName><date>2021-05-01</date><cumCasesByPublishDate>4418530</cumCasesByPublishDate></body><body><areaType>overview</areaType><areaCode>K02000001</areaCode><areaName>United Kingdom</areaName><date>2021-04-30</date><cumCasesByPublishDate>4416623</cumCasesByPublishDate></body><body><areaType>overview</areaType><areaCode>K02000001</areaCode><areaName>United Kingdom</areaName><date>2021-04-29</date><cumCasesByPublishDate>4414242</cumCasesByPublishDate></body><body><areaType>overview</areaType><areaCode>K02000001</areaCode><areaName>United Kingdom</areaName><date>2021-04-28</date><cumCasesByPublishDate>4411797</cumCasesByPublishDate></body><body><areaType>overview</areaType><areaCode>K02000001</areaCode><areaName>United Kingdom</areaName><date>2021-04-27</date><cumCasesByPublishDate>4409631</cumCasesByPublishDate></body><body><areaType>overview</areaType><areaCode>K02000001</areaCode><areaName>United Kingdom</areaName><date>2021-04-26</date><cumCasesByPublishDate>4406946</cumCasesByPublishDate></body><body><areaType>overview</areaType><areaCode>K02000001</areaCode><areaName>United Kingdom</areaName><date>2021-04-25</date><cumCasesByPublishDate>4404882</cumCasesByPublishDate></body><body><areaType>overview</areaType><areaCode>K02000001</areaCode><areaName>United Kingdom</areaName><date>2021-04-24</date><cumCasesByPublishDate>4403170</cumCasesByPublishDate></body><body><areaType>overview</areaType><areaCode>K02000001</areaCode><areaName>United Kingdom</areaName><date>2021-04-23</date><cumCasesByPublishDate>4401109</cumCasesByPublishDate></body><body><areaType>overview</areaType><areaCode>K02000001</areaCode><areaName>United Kingdom</areaName><date>2021-04-22</date><cumCasesByPublishDate>4398431</cumCasesByPublishDate></body><body><areaType>overview</areaType><areaCode>K02000001</areaCode><areaName>United Kingdom</areaName><date>2021-04-21</date><cumCasesByPublishDate>4395703</cumCasesByPublishDate></body><body><areaType>overview</areaType><areaCode>K02000001</areaCode><areaName>United Kingdom</areaName><date>2021-04-20</date><cumCasesByPublishDate>4393307</cumCasesByPublishDate></body><body><areaType>overview</areaType><areaCode>K02000001</areaCode><areaName>United Kingdom</areaName><date>2021-04-19</date><cumCasesByPublishDate>4390783</cumCasesByPublishDate></body><body><areaType>overview</areaType><areaCode>K02000001</areaCode><areaName>United Kingdom</areaName><date>2021-04-18</date><cumCasesByPublishDate>4387820</cumCasesByPublishDate></body><body><areaType>overview</areaType><areaCode>K02000001</areaCode><areaName>United Kingdom</areaName><date>2021-04-17</date><cumCasesByPublishDate>4385938</cumCasesByPublishDate></body><body><areaType>overview</areaType><areaCode>K02000001</areaCode><areaName>United Kingdom</areaName><date>2021-04-16</date><cumCasesByPublishDate>4383732</cumCasesByPublishDate></body><body><areaType>overview</areaType><areaCode>K02000001</areaCode><areaName>United Kingdom</areaName><date>2021-04-15</date><cumCasesByPublishDate>4380976</cumCasesByPublishDate></body><body><areaType>overview</areaType><areaCode>K02000001</areaCode><areaName>United Kingdom</areaName><date>2021-04-14</date><cumCasesByPublishDate>4378305</cumCasesByPublishDate></body><body><areaType>overview</areaType><areaCode>K02000001</areaCode><areaName>United Kingdom</areaName><date>2021-04-13</date><cumCasesByPublishDate>4375814</cumCasesByPublishDate></body><body><areaType>overview</areaType><areaCode>K02000001</areaCode><areaName>United Kingdom</areaName><date>2021-04-12</date><cumCasesByPublishDate>4373343</cumCasesByPublishDate></body><body><areaType>overview</areaType><areaCode>K02000001</areaCode><areaName>United Kingdom</areaName><date>2021-04-11</date><cumCasesByPublishDate>4369775</cumCasesByPublishDate></body><body><areaType>overview</areaType><areaCode>K02000001</areaCode><areaName>United Kingdom</areaName><date>2021-04-10</date><cumCasesByPublishDate>4368045</cumCasesByPublishDate></body><body><areaType>overview</areaType><areaCode>K02000001</areaCode><areaName>United Kingdom</areaName><date>2021-04-09</date><cumCasesByPublishDate>4365461</cumCasesByPublishDate></body><body><areaType>overview</areaType><areaCode>K02000001</areaCode><areaName>United Kingdom</areaName><date>2021-04-08</date><cumCasesByPublishDate>4370321</cumCasesByPublishDate></body><body><areaType>overview</areaType><areaCode>K02000001</areaCode><areaName>United Kingdom</areaName><date>2021-04-07</date><cumCasesByPublishDate>4367291</cumCasesByPublishDate></body><body><areaType>overview</areaType><areaCode>K02000001</areaCode><areaName>United Kingdom</areaName><date>2021-04-06</date><cumCasesByPublishDate>4364529</cumCasesByPublishDate></body><body><areaType>overview</areaType><areaCode>K02000001</areaCode><areaName>United Kingdom</areaName><date>2021-04-05</date><cumCasesByPublishDate>4362150</cumCasesByPublishDate></body><body><areaType>overview</areaType><areaCode>K02000001</areaCode><areaName>United Kingdom</areaName><date>2021-04-04</date><cumCasesByPublishDate>4359388</cumCasesByPublishDate></body><body><areaType>overview</areaType><areaCode>K02000001</areaCode><areaName>United Kingdom</areaName><date>2021-04-03</date><cumCasesByPublishDate>4357091</cumCasesByPublishDate></body><body><areaType>overview</areaType><areaCode>K02000001</areaCode><areaName>United Kingdom</areaName><date>2021-04-02</date><cumCasesByPublishDate>4353668</cumCasesByPublishDate></body><body><areaType>overview</areaType><areaCode>K02000001</areaCode><areaName>United Kingdom</areaName><date>2021-04-01</date><cumCasesByPublishDate>4350266</cumCasesByPublishDate></body><body><areaType>overview</areaType><areaCode>K02000001</areaCode><areaName>United Kingdom</areaName><date>2021-03-31</date><cumCasesByPublishDate>4345788</cumCasesByPublishDate></body><body><areaType>overview</areaType><areaCode>K02000001</areaCode><areaName>United Kingdom</areaName><date>2021-03-30</date><cumCasesByPublishDate>4341736</cumCasesByPublishDate></body><body><areaType>overview</areaType><areaCode>K02000001</areaCode><areaName>United Kingdom</areaName><date>2021-03-29</date><cumCasesByPublishDate>4337696</cumCasesByPublishDate></body><body><areaType>overview</areaType><areaCode>K02000001</areaCode><areaName>United Kingdom</areaName><date>2021-03-28</date><cumCasesByPublishDate>4333042</cumCasesByPublishDate></body><body><areaType>overview</areaType><areaCode>K02000001</areaCode><areaName>United Kingdom</areaName><date>2021-03-27</date><cumCasesByPublishDate>4329180</cumCasesByPublishDate></body><body><areaType>overview</areaType><areaCode>K02000001</areaCode><areaName>United Kingdom</areaName><date>2021-03-26</date><cumCasesByPublishDate>4325315</cumCasesByPublishDate></body><body><areaType>overview</areaType><areaCode>K02000001</areaCode><areaName>United Kingdom</areaName><date>2021-03-25</date><cumCasesByPublishDate>4319128</cumCasesByPublishDate></body><body><areaType>overview</areaType><areaCode>K02000001</areaCode><areaName>United Kingdom</areaName><date>2021-03-24</date><cumCasesByPublishDate>4312908</cumCasesByPublishDate></body><body><areaType>overview</areaType><areaCode>K02000001</areaCode><areaName>United Kingdom</areaName><date>2021-03-23</date><cumCasesByPublishDate>4307304</cumCasesByPublishDate></body><body><areaType>overview</areaType><areaCode>K02000001</areaCode><areaName>United Kingdom</areaName><date>2021-03-22</date><cumCasesByPublishDate>4301925</cumCasesByPublishDate></body><body><areaType>overview</areaType><areaCode>K02000001</areaCode><areaName>United Kingdom</areaName><date>2021-03-21</date><cumCasesByPublishDate>4296583</cumCasesByPublishDate></body><body><areaType>overview</areaType><areaCode>K02000001</areaCode><areaName>United Kingdom</areaName><date>2021-03-20</date><cumCasesByPublishDate>4291271</cumCasesByPublishDate></body><body><areaType>overview</areaType><areaCode>K02000001</areaCode><areaName>United Kingdom</areaName><date>2021-03-19</date><cumCasesByPublishDate>4285684</cumCasesByPublishDate></body><body><areaType>overview</areaType><areaCode>K02000001</areaCode><areaName>United Kingdom</areaName><date>2021-03-18</date><cumCasesByPublishDate>4280882</cumCasesByPublishDate></body><body><areaType>overview</areaType><areaCode>K02000001</areaCode><areaName>United Kingdom</areaName><date>2021-03-17</date><cumCasesByPublishDate>4274579</cumCasesByPublishDate></body><body><areaType>overview</areaType><areaCode>K02000001</areaCode><areaName>United Kingdom</areaName><date>2021-03-16</date><cumCasesByPublishDate>4268821</cumCasesByPublishDate></body><body><areaType>overview</areaType><areaCode>K02000001</areaCode><areaName>United Kingdom</areaName><date>2021-03-15</date><cumCasesByPublishDate>4263527</cumCasesByPublishDate></body><body><areaType>overview</areaType><areaCode>K02000001</areaCode><areaName>United Kingdom</areaName><date>2021-03-14</date><cumCasesByPublishDate>4258438</cumCasesByPublishDate></body><body><areaType>overview</areaType><areaCode>K02000001</areaCode><areaName>United Kingdom</areaName><date>2021-03-13</date><cumCasesByPublishDate>4253820</cumCasesByPublishDate></body><body><areaType>overview</areaType><areaCode>K02000001</areaCode><areaName>United Kingdom</areaName><date>2021-03-12</date><cumCasesByPublishDate>4248286</cumCasesByPublishDate></body><body><areaType>overview</areaType><areaCode>K02000001</areaCode><areaName>United Kingdom</areaName><date>2021-03-11</date><cumCasesByPublishDate>4241677</cumCasesByPublishDate></body><body><areaType>overview</areaType><areaCode>K02000001</areaCode><areaName>United Kingdom</areaName><date>2021-03-10</date><cumCasesByPublishDate>4234924</cumCasesByPublishDate></body><body><areaType>overview</areaType><areaCode>K02000001</areaCode><areaName>United Kingdom</areaName><date>2021-03-09</date><cumCasesByPublishDate>4228998</cumCasesByPublishDate></body><body><areaType>overview</areaType><areaCode>K02000001</areaCode><areaName>United Kingdom</areaName><date>2021-03-08</date><cumCasesByPublishDate>4223232</cumCasesByPublishDate></body><body><areaType>overview</areaType><areaCode>K02000001</areaCode><areaName>United Kingdom</areaName><date>2021-03-07</date><cumCasesByPublishDate>4218520</cumCasesByPublishDate></body><body><areaType>overview</areaType><areaCode>K02000001</areaCode><areaName>United Kingdom</areaName><date>2021-03-06</date><cumCasesByPublishDate>4213343</cumCasesByPublishDate></body><body><areaType>overview</areaType><areaCode>K02000001</areaCode><areaName>United Kingdom</areaName><date>2021-03-05</date><cumCasesByPublishDate>4207304</cumCasesByPublishDate></body><body><areaType>overview</areaType><areaCode>K02000001</areaCode><areaName>United Kingdom</areaName><date>2021-03-04</date><cumCasesByPublishDate>4201358</cumCasesByPublishDate></body><body><areaType>overview</areaType><areaCode>K02000001</areaCode><areaName>United Kingdom</areaName><date>2021-03-03</date><cumCasesByPublishDate>4194785</cumCasesByPublishDate></body><body><areaType>overview</areaType><areaCode>K02000001</areaCode><areaName>United Kingdom</areaName><date>2021-03-02</date><cumCasesByPublishDate>4188400</cumCasesByPublishDate></body><body><areaType>overview</areaType><areaCode>K02000001</areaCode><areaName>United Kingdom</areaName><date>2021-03-01</date><cumCasesByPublishDate>4182009</cumCasesByPublishDate></body><body><areaType>overview</areaType><areaCode>K02000001</areaCode><areaName>United Kingdom</areaName><date>2021-02-28</date><cumCasesByPublishDate>4176554</cumCasesByPublishDate></body><body><areaType>overview</areaType><areaCode>K02000001</areaCode><areaName>United Kingdom</areaName><date>2021-02-27</date><cumCasesByPublishDate>4170519</cumCasesByPublishDate></body><body><areaType>overview</areaType><areaCode>K02000001</areaCode><areaName>United Kingdom</areaName><date>2021-02-26</date><cumCasesByPublishDate>4163085</cumCasesByPublishDate></body><body><areaType>overview</areaType><areaCode>K02000001</areaCode><areaName>United Kingdom</areaName><date>2021-02-25</date><cumCasesByPublishDate>4154562</cumCasesByPublishDate></body><body><areaType>overview</areaType><areaCode>K02000001</areaCode><areaName>United Kingdom</areaName><date>2021-02-24</date><cumCasesByPublishDate>4144577</cumCasesByPublishDate></body><body><areaType>overview</areaType><areaCode>K02000001</areaCode><areaName>United Kingdom</areaName><date>2021-02-23</date><cumCasesByPublishDate>4134639</cumCasesByPublishDate></body><body><areaType>overview</areaType><areaCode>K02000001</areaCode><areaName>United Kingdom</areaName><date>2021-02-22</date><cumCasesByPublishDate>4126150</cumCasesByPublishDate></body><body><areaType>overview</areaType><areaCode>K02000001</areaCode><areaName>United Kingdom</areaName><date>2021-02-21</date><cumCasesByPublishDate>4115509</cumCasesByPublishDate></body><body><areaType>overview</areaType><areaCode>K02000001</areaCode><areaName>United Kingdom</areaName><date>2021-02-20</date><cumCasesByPublishDate>4105675</cumCasesByPublishDate></body><body><areaType>overview</areaType><areaCode>K02000001</areaCode><areaName>United Kingdom</areaName><date>2021-02-19</date><cumCasesByPublishDate>4095269</cumCasesByPublishDate></body><body><areaType>overview</areaType><areaCode>K02000001</areaCode><areaName>United Kingdom</areaName><date>2021-02-18</date><cumCasesByPublishDate>4083242</cumCasesByPublishDate></body><body><areaType>overview</areaType><areaCode>K02000001</areaCode><areaName>United Kingdom</areaName><date>2021-02-17</date><cumCasesByPublishDate>4071185</cumCasesByPublishDate></body><body><areaType>overview</areaType><areaCode>K02000001</areaCode><areaName>United Kingdom</areaName><date>2021-02-16</date><cumCasesByPublishDate>4058468</cumCasesByPublishDate></body><body><areaType>overview</areaType><areaCode>K02000001</areaCode><areaName>United Kingdom</areaName><date>2021-02-15</date><cumCasesByPublishDate>4047843</cumCasesByPublishDate></body><body><areaType>overview</areaType><areaCode>K02000001</areaCode><areaName>United Kingdom</areaName><date>2021-02-14</date><cumCasesByPublishDate>4038078</cumCasesByPublishDate></body><body><areaType>overview</areaType><areaCode>K02000001</areaCode><areaName>United Kingdom</areaName><date>2021-02-13</date><cumCasesByPublishDate>4027106</cumCasesByPublishDate></body><body><areaType>overview</areaType><areaCode>K02000001</areaCode><areaName>United Kingdom</areaName><date>2021-02-12</date><cumCasesByPublishDate>4013799</cumCasesByPublishDate></body><body><areaType>overview</areaType><areaCode>K02000001</areaCode><areaName>United Kingdom</areaName><date>2021-02-11</date><cumCasesByPublishDate>3998655</cumCasesByPublishDate></body><body><areaType>overview</areaType><areaCode>K02000001</areaCode><areaName>United Kingdom</areaName><date>2021-02-10</date><cumCasesByPublishDate>3985161</cumCasesByPublishDate></body><body><areaType>overview</areaType><areaCode>K02000001</areaCode><areaName>United Kingdom</areaName><date>2021-02-09</date><cumCasesByPublishDate>3972148</cumCasesByPublishDate></body><body><areaType>overview</areaType><areaCode>K02000001</areaCode><areaName>United Kingdom</areaName><date>2021-02-08</date><cumCasesByPublishDate>3959784</cumCasesByPublishDate></body><body><areaType>overview</areaType><areaCode>K02000001</areaCode><areaName>United Kingdom</areaName><date>2021-02-07</date><cumCasesByPublishDate>3945680</cumCasesByPublishDate></body><body><areaType>overview</areaType><areaCode>K02000001</areaCode><areaName>United Kingdom</areaName><date>2021-02-06</date><cumCasesByPublishDate>3929835</cumCasesByPublishDate></body><body><areaType>overview</areaType><areaCode>K02000001</areaCode><areaName>United Kingdom</areaName><date>2021-02-05</date><cumCasesByPublishDate>3911573</cumCasesByPublishDate></body><body><areaType>overview</areaType><areaCode>K02000001</areaCode><areaName>United Kingdom</areaName><date>2021-02-04</date><cumCasesByPublishDate>3892459</cumCasesByPublishDate></body><body><areaType>overview</areaType><areaCode>K02000001</areaCode><areaName>United Kingdom</areaName><date>2021-02-03</date><cumCasesByPublishDate>3871825</cumCasesByPublishDate></body><body><areaType>overview</areaType><areaCode>K02000001</areaCode><areaName>United Kingdom</areaName><date>2021-02-02</date><cumCasesByPublishDate>3852623</cumCasesByPublishDate></body><body><areaType>overview</areaType><areaCode>K02000001</areaCode><areaName>United Kingdom</areaName><date>2021-02-01</date><cumCasesByPublishDate>3835783</cumCasesByPublishDate></body><body><areaType>overview</areaType><areaCode>K02000001</areaCode><areaName>United Kingdom</areaName><date>2021-01-31</date><cumCasesByPublishDate>3817176</cumCasesByPublishDate></body><body><areaType>overview</areaType><areaCode>K02000001</areaCode><areaName>United Kingdom</areaName><date>2021-01-30</date><cumCasesByPublishDate>3796088</cumCasesByPublishDate></body><body><areaType>overview</areaType><areaCode>K02000001</areaCode><areaName>United Kingdom</areaName><date>2021-01-29</date><cumCasesByPublishDate>3772813</cumCasesByPublishDate></body><body><areaType>overview</areaType><areaCode>K02000001</areaCode><areaName>United Kingdom</areaName><date>2021-01-28</date><cumCasesByPublishDate>3743734</cumCasesByPublishDate></body><body><areaType>overview</areaType><areaCode>K02000001</areaCode><areaName>United Kingdom</areaName><date>2021-01-27</date><cumCasesByPublishDate>3715054</cumCasesByPublishDate></body><body><areaType>overview</areaType><areaCode>K02000001</areaCode><areaName>United Kingdom</areaName><date>2021-01-26</date><cumCasesByPublishDate>3689746</cumCasesByPublishDate></body><body><areaType>overview</areaType><areaCode>K02000001</areaCode><areaName>United Kingdom</areaName><date>2021-01-25</date><cumCasesByPublishDate>3669658</cumCasesByPublishDate></body><body><areaType>overview</areaType><areaCode>K02000001</areaCode><areaName>United Kingdom</areaName><date>2021-01-24</date><cumCasesByPublishDate>3647463</cumCasesByPublishDate></body><body><areaType>overview</areaType><areaCode>K02000001</areaCode><areaName>United Kingdom</areaName><date>2021-01-23</date><cumCasesByPublishDate>3617459</cumCasesByPublishDate></body><body><areaType>overview</areaType><areaCode>K02000001</areaCode><areaName>United Kingdom</areaName><date>2021-01-22</date><cumCasesByPublishDate>3583907</cumCasesByPublishDate></body><body><areaType>overview</areaType><areaCode>K02000001</areaCode><areaName>United Kingdom</areaName><date>2021-01-21</date><cumCasesByPublishDate>3543646</cumCasesByPublishDate></body><body><areaType>overview</areaType><areaCode>K02000001</areaCode><areaName>United Kingdom</areaName><date>2021-01-20</date><cumCasesByPublishDate>3505754</cumCasesByPublishDate></body><body><areaType>overview</areaType><areaCode>K02000001</areaCode><areaName>United Kingdom</areaName><date>2021-01-19</date><cumCasesByPublishDate>3466849</cumCasesByPublishDate></body><body><areaType>overview</areaType><areaCode>K02000001</areaCode><areaName>United Kingdom</areaName><date>2021-01-18</date><cumCasesByPublishDate>3433494</cumCasesByPublishDate></body><body><areaType>overview</areaType><areaCode>K02000001</areaCode><areaName>United Kingdom</areaName><date>2021-01-17</date><cumCasesByPublishDate>3395959</cumCasesByPublishDate></body><body><areaType>overview</areaType><areaCode>K02000001</areaCode><areaName>United Kingdom</areaName><date>2021-01-16</date><cumCasesByPublishDate>3357361</cumCasesByPublishDate></body><body><areaType>overview</areaType><areaCode>K02000001</areaCode><areaName>United Kingdom</areaName><date>2021-01-15</date><cumCasesByPublishDate>3316019</cumCasesByPublishDate></body><body><areaType>overview</areaType><areaCode>K02000001</areaCode><areaName>United Kingdom</areaName><date>2021-01-14</date><cumCasesByPublishDate>3260258</cumCasesByPublishDate></body><body><areaType>overview</areaType><areaCode>K02000001</areaCode><areaName>United Kingdom</areaName><date>2021-01-13</date><cumCasesByPublishDate>3211576</cumCasesByPublishDate></body><body><areaType>overview</areaType><areaCode>K02000001</areaCode><areaName>United Kingdom</areaName><date>2021-01-12</date><cumCasesByPublishDate>3164051</cumCasesByPublishDate></body><body><areaType>overview</areaType><areaCode>K02000001</areaCode><areaName>United Kingdom</areaName><date>2021-01-11</date><cumCasesByPublishDate>3118518</cumCasesByPublishDate></body><body><areaType>overview</areaType><areaCode>K02000001</areaCode><areaName>United Kingdom</areaName><date>2021-01-10</date><cumCasesByPublishDate>3072349</cumCasesByPublishDate></body><body><areaType>overview</areaType><areaCode>K02000001</areaCode><areaName>United Kingdom</areaName><date>2021-01-09</date><cumCasesByPublishDate>3017409</cumCasesByPublishDate></body><body><areaType>overview</areaType><areaCode>K02000001</areaCode><areaName>United Kingdom</areaName><date>2021-01-08</date><cumCasesByPublishDate>2957472</cumCasesByPublishDate></body><body><areaType>overview</areaType><areaCode>K02000001</areaCode><areaName>United Kingdom</areaName><date>2021-01-07</date><cumCasesByPublishDate>2889419</cumCasesByPublishDate></body><body><areaType>overview</areaType><areaCode>K02000001</areaCode><areaName>United Kingdom</areaName><date>2021-01-06</date><cumCasesByPublishDate>2836801</cumCasesByPublishDate></body><body><areaType>overview</areaType><areaCode>K02000001</areaCode><areaName>United Kingdom</areaName><date>2021-01-05</date><cumCasesByPublishDate>2774479</cumCasesByPublishDate></body><body><areaType>overview</areaType><areaCode>K02000001</areaCode><areaName>United Kingdom</areaName><date>2021-01-04</date><cumCasesByPublishDate>2713563</cumCasesByPublishDate></body><body><areaType>overview</areaType><areaCode>K02000001</areaCode><areaName>United Kingdom</areaName><date>2021-01-03</date><cumCasesByPublishDate>2654779</cumCasesByPublishDate></body><body><areaType>overview</areaType><areaCode>K02000001</areaCode><areaName>United Kingdom</areaName><date>2021-01-02</date><cumCasesByPublishDate>2599789</cumCasesByPublishDate></body><body><areaType>overview</areaType><areaCode>K02000001</areaCode><areaName>United Kingdom</areaName><date>2021-01-01</date><cumCasesByPublishDate>2542065</cumCasesByPublishDate></body><body><areaType>overview</areaType><areaCode>K02000001</areaCode><areaName>United Kingdom</areaName><date>2020-12-31</date><cumCasesByPublishDate>2488780</cumCasesByPublishDate></body><body><areaType>overview</areaType><areaCode>K02000001</areaCode><areaName>United Kingdom</areaName><date>2020-12-30</date><cumCasesByPublishDate>2432888</cumCasesByPublishDate></body><body><areaType>overview</areaType><areaCode>K02000001</areaCode><areaName>United Kingdom</areaName><date>2020-12-29</date><cumCasesByPublishDate>2382865</cumCasesByPublishDate></body><body><areaType>overview</areaType><areaCode>K02000001</areaCode><areaName>United Kingdom</areaName><date>2020-12-28</date><cumCasesByPublishDate>2329730</cumCasesByPublishDate></body><body><areaType>overview</areaType><areaCode>K02000001</areaCode><areaName>United Kingdom</areaName><date>2020-12-27</date><cumCasesByPublishDate>2288345</cumCasesByPublishDate></body><body><areaType>overview</areaType><areaCode>K02000001</areaCode><areaName>United Kingdom</areaName><date>2020-12-26</date><cumCasesByPublishDate>2257844</cumCasesByPublishDate></body><body><areaType>overview</areaType><areaCode>K02000001</areaCode><areaName>United Kingdom</areaName><date>2020-12-25</date><cumCasesByPublishDate>2222153</cumCasesByPublishDate></body><body><areaType>overview</areaType><areaCode>K02000001</areaCode><areaName>United Kingdom</areaName><date>2020-12-24</date><cumCasesByPublishDate>2189428</cumCasesByPublishDate></body><body><areaType>overview</areaType><areaCode>K02000001</areaCode><areaName>United Kingdom</areaName><date>2020-12-23</date><cumCasesByPublishDate>2149551</cumCasesByPublishDate></body><body><areaType>overview</areaType><areaCode>K02000001</areaCode><areaName>United Kingdom</areaName><date>2020-12-22</date><cumCasesByPublishDate>2110314</cumCasesByPublishDate></body><body><areaType>overview</areaType><areaCode>K02000001</areaCode><areaName>United Kingdom</areaName><date>2020-12-21</date><cumCasesByPublishDate>2073511</cumCasesByPublishDate></body><body><areaType>overview</areaType><areaCode>K02000001</areaCode><areaName>United Kingdom</areaName><date>2020-12-20</date><cumCasesByPublishDate>2040147</cumCasesByPublishDate></body><body><areaType>overview</areaType><areaCode>K02000001</areaCode><areaName>United Kingdom</areaName><date>2020-12-19</date><cumCasesByPublishDate>2004219</cumCasesByPublishDate></body><body><areaType>overview</areaType><areaCode>K02000001</areaCode><areaName>United Kingdom</areaName><date>2020-12-18</date><cumCasesByPublishDate>1977167</cumCasesByPublishDate></body><body><areaType>overview</areaType><areaCode>K02000001</areaCode><areaName>United Kingdom</areaName><date>2020-12-17</date><cumCasesByPublishDate>1948660</cumCasesByPublishDate></body><body><areaType>overview</areaType><areaCode>K02000001</areaCode><areaName>United Kingdom</areaName><date>2020-12-16</date><cumCasesByPublishDate>1913277</cumCasesByPublishDate></body><body><areaType>overview</areaType><areaCode>K02000001</areaCode><areaName>United Kingdom</areaName><date>2020-12-15</date><cumCasesByPublishDate>1888116</cumCasesByPublishDate></body><body><areaType>overview</areaType><areaCode>K02000001</areaCode><areaName>United Kingdom</areaName><date>2020-12-14</date><cumCasesByPublishDate>1869666</cumCasesByPublishDate></body><body><areaType>overview</areaType><areaCode>K02000001</areaCode><areaName>United Kingdom</areaName><date>2020-12-13</date><cumCasesByPublishDate>1849403</cumCasesByPublishDate></body><body><areaType>overview</areaType><areaCode>K02000001</areaCode><areaName>United Kingdom</areaName><date>2020-12-12</date><cumCasesByPublishDate>1830956</cumCasesByPublishDate></body><body><areaType>overview</areaType><areaCode>K02000001</areaCode><areaName>United Kingdom</areaName><date>2020-12-11</date><cumCasesByPublishDate>1809455</cumCasesByPublishDate></body><body><areaType>overview</areaType><areaCode>K02000001</areaCode><areaName>United Kingdom</areaName><date>2020-12-10</date><cumCasesByPublishDate>1787783</cumCasesByPublishDate></body><body><areaType>overview</areaType><areaCode>K02000001</areaCode><areaName>United Kingdom</areaName><date>2020-12-09</date><cumCasesByPublishDate>1766819</cumCasesByPublishDate></body><body><areaType>overview</areaType><areaCode>K02000001</areaCode><areaName>United Kingdom</areaName><date>2020-12-08</date><cumCasesByPublishDate>1750241</cumCasesByPublishDate></body><body><areaType>overview</areaType><areaCode>K02000001</areaCode><areaName>United Kingdom</areaName><date>2020-12-07</date><cumCasesByPublishDate>1737960</cumCasesByPublishDate></body><body><areaType>overview</areaType><areaCode>K02000001</areaCode><areaName>United Kingdom</areaName><date>2020-12-06</date><cumCasesByPublishDate>1723242</cumCasesByPublishDate></body><body><areaType>overview</areaType><areaCode>K02000001</areaCode><areaName>United Kingdom</areaName><date>2020-12-05</date><cumCasesByPublishDate>1705971</cumCasesByPublishDate></body><body><areaType>overview</areaType><areaCode>K02000001</areaCode><areaName>United Kingdom</areaName><date>2020-12-04</date><cumCasesByPublishDate>1690432</cumCasesByPublishDate></body><body><areaType>overview</areaType><areaCode>K02000001</areaCode><areaName>United Kingdom</areaName><date>2020-12-03</date><cumCasesByPublishDate>1674134</cumCasesByPublishDate></body><body><areaType>overview</areaType><areaCode>K02000001</areaCode><areaName>United Kingdom</areaName><date>2020-12-02</date><cumCasesByPublishDate>1659256</cumCasesByPublishDate></body><body><areaType>overview</areaType><areaCode>K02000001</areaCode><areaName>United Kingdom</areaName><date>2020-12-01</date><cumCasesByPublishDate>1643086</cumCasesByPublishDate></body><body><areaType>overview</areaType><areaCode>K02000001</areaCode><areaName>United Kingdom</areaName><date>2020-11-30</date><cumCasesByPublishDate>1629657</cumCasesByPublishDate></body><body><areaType>overview</areaType><areaCode>K02000001</areaCode><areaName>United Kingdom</areaName><date>2020-11-29</date><cumCasesByPublishDate>1617327</cumCasesByPublishDate></body><body><areaType>overview</areaType><areaCode>K02000001</areaCode><areaName>United Kingdom</areaName><date>2020-11-28</date><cumCasesByPublishDate>1605172</cumCasesByPublishDate></body><body><areaType>overview</areaType><areaCode>K02000001</areaCode><areaName>United Kingdom</areaName><date>2020-11-27</date><cumCasesByPublishDate>1589301</cumCasesByPublishDate></body><body><areaType>overview</areaType><areaCode>K02000001</areaCode><areaName>United Kingdom</areaName><date>2020-11-26</date><cumCasesByPublishDate>1574562</cumCasesByPublishDate></body><body><areaType>overview</areaType><areaCode>K02000001</areaCode><areaName>United Kingdom</areaName><date>2020-11-25</date><cumCasesByPublishDate>1557007</cumCasesByPublishDate></body><body><areaType>overview</areaType><areaCode>K02000001</areaCode><areaName>United Kingdom</areaName><date>2020-11-24</date><cumCasesByPublishDate>1538794</cumCasesByPublishDate></body><body><areaType>overview</areaType><areaCode>K02000001</areaCode><areaName>United Kingdom</areaName><date>2020-11-23</date><cumCasesByPublishDate>1527495</cumCasesByPublishDate></body><body><areaType>overview</areaType><areaCode>K02000001</areaCode><areaName>United Kingdom</areaName><date>2020-11-22</date><cumCasesByPublishDate>1512045</cumCasesByPublishDate></body><body><areaType>overview</areaType><areaCode>K02000001</areaCode><areaName>United Kingdom</areaName><date>2020-11-21</date><cumCasesByPublishDate>1493383</cumCasesByPublishDate></body><body><areaType>overview</areaType><areaCode>K02000001</areaCode><areaName>United Kingdom</areaName><date>2020-11-20</date><cumCasesByPublishDate>1473508</cumCasesByPublishDate></body><body><areaType>overview</areaType><areaCode>K02000001</areaCode><areaName>United Kingdom</areaName><date>2020-11-19</date><cumCasesByPublishDate>1453256</cumCasesByPublishDate></body><body><areaType>overview</areaType><areaCode>K02000001</areaCode><areaName>United Kingdom</areaName><date>2020-11-18</date><cumCasesByPublishDate>1430341</cumCasesByPublishDate></body><body><areaType>overview</areaType><areaCode>K02000001</areaCode><areaName>United Kingdom</areaName><date>2020-11-17</date><cumCasesByPublishDate>1410732</cumCasesByPublishDate></body><body><areaType>overview</areaType><areaCode>K02000001</areaCode><areaName>United Kingdom</areaName><date>2020-11-16</date><cumCasesByPublishDate>1390681</cumCasesByPublishDate></body><body><areaType>overview</areaType><areaCode>K02000001</areaCode><areaName>United Kingdom</areaName><date>2020-11-15</date><cumCasesByPublishDate>1369318</cumCasesByPublishDate></body><body><areaType>overview</areaType><areaCode>K02000001</areaCode><areaName>United Kingdom</areaName><date>2020-11-14</date><cumCasesByPublishDate>1344356</cumCasesByPublishDate></body><body><areaType>overview</areaType><areaCode>K02000001</areaCode><areaName>United Kingdom</areaName><date>2020-11-13</date><cumCasesByPublishDate>1317496</cumCasesByPublishDate></body><body><areaType>overview</areaType><areaCode>K02000001</areaCode><areaName>United Kingdom</areaName><date>2020-11-12</date><cumCasesByPublishDate>1290195</cumCasesByPublishDate></body><body><areaType>overview</areaType><areaCode>K02000001</areaCode><areaName>United Kingdom</areaName><date>2020-11-11</date><cumCasesByPublishDate>1256725</cumCasesByPublishDate></body><body><areaType>overview</areaType><areaCode>K02000001</areaCode><areaName>United Kingdom</areaName><date>2020-11-10</date><cumCasesByPublishDate>1233775</cumCasesByPublishDate></body><body><areaType>overview</areaType><areaCode>K02000001</areaCode><areaName>United Kingdom</areaName><date>2020-11-09</date><cumCasesByPublishDate>1213363</cumCasesByPublishDate></body><body><areaType>overview</areaType><areaCode>K02000001</areaCode><areaName>United Kingdom</areaName><date>2020-11-08</date><cumCasesByPublishDate>1192013</cumCasesByPublishDate></body><body><areaType>overview</areaType><areaCode>K02000001</areaCode><areaName>United Kingdom</areaName><date>2020-11-07</date><cumCasesByPublishDate>1171441</cumCasesByPublishDate></body><body><areaType>overview</areaType><areaCode>K02000001</areaCode><areaName>United Kingdom</areaName><date>2020-11-06</date><cumCasesByPublishDate>1146484</cumCasesByPublishDate></body><body><areaType>overview</areaType><areaCode>K02000001</areaCode><areaName>United Kingdom</areaName><date>2020-11-05</date><cumCasesByPublishDate>1123197</cumCasesByPublishDate></body><body><areaType>overview</areaType><areaCode>K02000001</areaCode><areaName>United Kingdom</areaName><date>2020-11-04</date><cumCasesByPublishDate>1099059</cumCasesByPublishDate></body><body><areaType>overview</areaType><areaCode>K02000001</areaCode><areaName>United Kingdom</areaName><date>2020-11-03</date><cumCasesByPublishDate>1073882</cumCasesByPublishDate></body><body><areaType>overview</areaType><areaCode>K02000001</areaCode><areaName>United Kingdom</areaName><date>2020-11-02</date><cumCasesByPublishDate>1053864</cumCasesByPublishDate></body><body><areaType>overview</areaType><areaCode>K02000001</areaCode><areaName>United Kingdom</areaName><date>2020-11-01</date><cumCasesByPublishDate>1034914</cumCasesByPublishDate></body><body><areaType>overview</areaType><areaCode>K02000001</areaCode><areaName>United Kingdom</areaName><date>2020-10-31</date><cumCasesByPublishDate>1011660</cumCasesByPublishDate></body><body><areaType>overview</areaType><areaCode>K02000001</areaCode><areaName>United Kingdom</areaName><date>2020-10-30</date><cumCasesByPublishDate>989745</cumCasesByPublishDate></body><body><areaType>overview</areaType><areaCode>K02000001</areaCode><areaName>United Kingdom</areaName><date>2020-10-29</date><cumCasesByPublishDate>965340</cumCasesByPublishDate></body><body><areaType>overview</areaType><areaCode>K02000001</areaCode><areaName>United Kingdom</areaName><date>2020-10-28</date><cumCasesByPublishDate>942275</cumCasesByPublishDate></body><body><areaType>overview</areaType><areaCode>K02000001</areaCode><areaName>United Kingdom</areaName><date>2020-10-27</date><cumCasesByPublishDate>917575</cumCasesByPublishDate></body><body><areaType>overview</areaType><areaCode>K02000001</areaCode><areaName>United Kingdom</areaName><date>2020-10-26</date><cumCasesByPublishDate>894690</cumCasesByPublishDate></body><body><areaType>overview</areaType><areaCode>K02000001</areaCode><areaName>United Kingdom</areaName><date>2020-10-25</date><cumCasesByPublishDate>873800</cumCasesByPublishDate></body><body><areaType>overview</areaType><areaCode>K02000001</areaCode><areaName>United Kingdom</areaName><date>2020-10-24</date><cumCasesByPublishDate>854010</cumCasesByPublishDate></body><body><areaType>overview</areaType><areaCode>K02000001</areaCode><areaName>United Kingdom</areaName><date>2020-10-23</date><cumCasesByPublishDate>830998</cumCasesByPublishDate></body><body><areaType>overview</areaType><areaCode>K02000001</areaCode><areaName>United Kingdom</areaName><date>2020-10-22</date><cumCasesByPublishDate>810467</cumCasesByPublishDate></body><body><areaType>overview</areaType><areaCode>K02000001</areaCode><areaName>United Kingdom</areaName><date>2020-10-21</date><cumCasesByPublishDate>789229</cumCasesByPublishDate></body><body><areaType>overview</areaType><areaCode>K02000001</areaCode><areaName>United Kingdom</areaName><date>2020-10-20</date><cumCasesByPublishDate>762542</cumCasesByPublishDate></body><body><areaType>overview</areaType><areaCode>K02000001</areaCode><areaName>United Kingdom</areaName><date>2020-10-19</date><cumCasesByPublishDate>741212</cumCasesByPublishDate></body><body><areaType>overview</areaType><areaCode>K02000001</areaCode><areaName>United Kingdom</areaName><date>2020-10-18</date><cumCasesByPublishDate>722409</cumCasesByPublishDate></body><body><areaType>overview</areaType><areaCode>K02000001</areaCode><areaName>United Kingdom</areaName><date>2020-10-17</date><cumCasesByPublishDate>705428</cumCasesByPublishDate></body><body><areaType>overview</areaType><areaCode>K02000001</areaCode><areaName>United Kingdom</areaName><date>2020-10-16</date><cumCasesByPublishDate>689257</cumCasesByPublishDate></body><body><areaType>overview</areaType><areaCode>K02000001</areaCode><areaName>United Kingdom</areaName><date>2020-10-15</date><cumCasesByPublishDate>673622</cumCasesByPublishDate></body><body><areaType>overview</areaType><areaCode>K02000001</areaCode><areaName>United Kingdom</areaName><date>2020-10-14</date><cumCasesByPublishDate>654644</cumCasesByPublishDate></body><body><areaType>overview</areaType><areaCode>K02000001</areaCode><areaName>United Kingdom</areaName><date>2020-10-13</date><cumCasesByPublishDate>634920</cumCasesByPublishDate></body><body><areaType>overview</areaType><areaCode>K02000001</areaCode><areaName>United Kingdom</areaName><date>2020-10-12</date><cumCasesByPublishDate>617688</cumCasesByPublishDate></body><body><areaType>overview</areaType><areaCode>K02000001</areaCode><areaName>United Kingdom</areaName><date>2020-10-11</date><cumCasesByPublishDate>603716</cumCasesByPublishDate></body><body><areaType>overview</areaType><areaCode>K02000001</areaCode><areaName>United Kingdom</areaName><date>2020-10-10</date><cumCasesByPublishDate>590844</cumCasesByPublishDate></body><body><areaType>overview</areaType><areaCode>K02000001</areaCode><areaName>United Kingdom</areaName><date>2020-10-09</date><cumCasesByPublishDate>575679</cumCasesByPublishDate></body><body><areaType>overview</areaType><areaCode>K02000001</areaCode><areaName>United Kingdom</areaName><date>2020-10-08</date><cumCasesByPublishDate>561815</cumCasesByPublishDate></body><body><areaType>overview</areaType><areaCode>K02000001</areaCode><areaName>United Kingdom</areaName><date>2020-10-07</date><cumCasesByPublishDate>544275</cumCasesByPublishDate></body><body><areaType>overview</areaType><areaCode>K02000001</areaCode><areaName>United Kingdom</areaName><date>2020-10-06</date><cumCasesByPublishDate>530113</cumCasesByPublishDate></body><body><areaType>overview</areaType><areaCode>K02000001</areaCode><areaName>United Kingdom</areaName><date>2020-10-05</date><cumCasesByPublishDate>515571</cumCasesByPublishDate></body><body><areaType>overview</areaType><areaCode>K02000001</areaCode><areaName>United Kingdom</areaName><date>2020-10-04</date><cumCasesByPublishDate>502978</cumCasesByPublishDate></body><body><areaType>overview</areaType><areaCode>K02000001</areaCode><areaName>United Kingdom</areaName><date>2020-10-03</date><cumCasesByPublishDate>480017</cumCasesByPublishDate></body><body><areaType>overview</areaType><areaCode>K02000001</areaCode><areaName>United Kingdom</areaName><date>2020-10-02</date><cumCasesByPublishDate>467146</cumCasesByPublishDate></body><body><areaType>overview</areaType><areaCode>K02000001</areaCode><areaName>United Kingdom</areaName><date>2020-10-01</date><cumCasesByPublishDate>460178</cumCasesByPublishDate></body><body><areaType>overview</areaType><areaCode>K02000001</areaCode><areaName>United Kingdom</areaName><date>2020-09-30</date><cumCasesByPublishDate>453264</cumCasesByPublishDate></body><body><areaType>overview</areaType><areaCode>K02000001</areaCode><areaName>United Kingdom</areaName><date>2020-09-29</date><cumCasesByPublishDate>446156</cumCasesByPublishDate></body><body><areaType>overview</areaType><areaCode>K02000001</areaCode><areaName>United Kingdom</areaName><date>2020-09-28</date><cumCasesByPublishDate>439013</cumCasesByPublishDate></body><body><areaType>overview</areaType><areaCode>K02000001</areaCode><areaName>United Kingdom</areaName><date>2020-09-27</date><cumCasesByPublishDate>434969</cumCasesByPublishDate></body><body><areaType>overview</areaType><areaCode>K02000001</areaCode><areaName>United Kingdom</areaName><date>2020-09-26</date><cumCasesByPublishDate>429277</cumCasesByPublishDate></body><body><areaType>overview</areaType><areaCode>K02000001</areaCode><areaName>United Kingdom</areaName><date>2020-09-25</date><cumCasesByPublishDate>423236</cumCasesByPublishDate></body><body><areaType>overview</areaType><areaCode>K02000001</areaCode><areaName>United Kingdom</areaName><date>2020-09-24</date><cumCasesByPublishDate>416363</cumCasesByPublishDate></body><body><areaType>overview</areaType><areaCode>K02000001</areaCode><areaName>United Kingdom</areaName><date>2020-09-23</date><cumCasesByPublishDate>409729</cumCasesByPublishDate></body><body><areaType>overview</areaType><areaCode>K02000001</areaCode><areaName>United Kingdom</areaName><date>2020-09-22</date><cumCasesByPublishDate>403551</cumCasesByPublishDate></body><body><areaType>overview</areaType><areaCode>K02000001</areaCode><areaName>United Kingdom</areaName><date>2020-09-21</date><cumCasesByPublishDate>398625</cumCasesByPublishDate></body><body><areaType>overview</areaType><areaCode>K02000001</areaCode><areaName>United Kingdom</areaName><date>2020-09-20</date><cumCasesByPublishDate>394257</cumCasesByPublishDate></body><body><areaType>overview</areaType><areaCode>K02000001</areaCode><areaName>United Kingdom</areaName><date>2020-09-19</date><cumCasesByPublishDate>390358</cumCasesByPublishDate></body><body><areaType>overview</areaType><areaCode>K02000001</areaCode><areaName>United Kingdom</areaName><date>2020-09-18</date><cumCasesByPublishDate>385936</cumCasesByPublishDate></body><body><areaType>overview</areaType><areaCode>K02000001</areaCode><areaName>United Kingdom</areaName><date>2020-09-17</date><cumCasesByPublishDate>381614</cumCasesByPublishDate></body><body><areaType>overview</areaType><areaCode>K02000001</areaCode><areaName>United Kingdom</areaName><date>2020-09-16</date><cumCasesByPublishDate>378219</cumCasesByPublishDate></body><body><areaType>overview</areaType><areaCode>K02000001</areaCode><areaName>United Kingdom</areaName><date>2020-09-15</date><cumCasesByPublishDate>374228</cumCasesByPublishDate></body><body><areaType>overview</areaType><areaCode>K02000001</areaCode><areaName>United Kingdom</areaName><date>2020-09-14</date><cumCasesByPublishDate>371125</cumCasesByPublishDate></body><body><areaType>overview</areaType><areaCode>K02000001</areaCode><areaName>United Kingdom</areaName><date>2020-09-13</date><cumCasesByPublishDate>368504</cumCasesByPublishDate></body><body><areaType>overview</areaType><areaCode>K02000001</areaCode><areaName>United Kingdom</areaName><date>2020-09-12</date><cumCasesByPublishDate>365174</cumCasesByPublishDate></body><body><areaType>overview</areaType><areaCode>K02000001</areaCode><areaName>United Kingdom</areaName><date>2020-09-11</date><cumCasesByPublishDate>361677</cumCasesByPublishDate></body><body><areaType>overview</areaType><areaCode>K02000001</areaCode><areaName>United Kingdom</areaName><date>2020-09-10</date><cumCasesByPublishDate>358138</cumCasesByPublishDate></body><body><areaType>overview</areaType><areaCode>K02000001</areaCode><areaName>United Kingdom</areaName><date>2020-09-09</date><cumCasesByPublishDate>355219</cumCasesByPublishDate></body><body><areaType>overview</areaType><areaCode>K02000001</areaCode><areaName>United Kingdom</areaName><date>2020-09-08</date><cumCasesByPublishDate>352560</cumCasesByPublishDate></body><body><areaType>overview</areaType><areaCode>K02000001</areaCode><areaName>United Kingdom</areaName><date>2020-09-07</date><cumCasesByPublishDate>350100</cumCasesByPublishDate></body><body><areaType>overview</areaType><areaCode>K02000001</areaCode><areaName>United Kingdom</areaName><date>2020-09-06</date><cumCasesByPublishDate>347152</cumCasesByPublishDate></body><body><areaType>overview</areaType><areaCode>K02000001</areaCode><areaName>United Kingdom</areaName><date>2020-09-05</date><cumCasesByPublishDate>344164</cumCasesByPublishDate></body><body><areaType>overview</areaType><areaCode>K02000001</areaCode><areaName>United Kingdom</areaName><date>2020-09-04</date><cumCasesByPublishDate>342351</cumCasesByPublishDate></body><body><areaType>overview</areaType><areaCode>K02000001</areaCode><areaName>United Kingdom</areaName><date>2020-09-03</date><cumCasesByPublishDate>340411</cumCasesByPublishDate></body><body><areaType>overview</areaType><areaCode>K02000001</areaCode><areaName>United Kingdom</areaName><date>2020-09-02</date><cumCasesByPublishDate>338676</cumCasesByPublishDate></body><body><areaType>overview</areaType><areaCode>K02000001</areaCode><areaName>United Kingdom</areaName><date>2020-09-01</date><cumCasesByPublishDate>337168</cumCasesByPublishDate></body><body><areaType>overview</areaType><areaCode>K02000001</areaCode><areaName>United Kingdom</areaName><date>2020-08-31</date><cumCasesByPublishDate>335873</cumCasesByPublishDate></body><body><areaType>overview</areaType><areaCode>K02000001</areaCode><areaName>United Kingdom</areaName><date>2020-08-30</date><cumCasesByPublishDate>334467</cumCasesByPublishDate></body><body><areaType>overview</areaType><areaCode>K02000001</areaCode><areaName>United Kingdom</areaName><date>2020-08-29</date><cumCasesByPublishDate>332752</cumCasesByPublishDate></body><body><areaType>overview</areaType><areaCode>K02000001</areaCode><areaName>United Kingdom</areaName><date>2020-08-28</date><cumCasesByPublishDate>331644</cumCasesByPublishDate></body><body><areaType>overview</areaType><areaCode>K02000001</areaCode><areaName>United Kingdom</areaName><date>2020-08-27</date><cumCasesByPublishDate>330368</cumCasesByPublishDate></body><body><areaType>overview</areaType><areaCode>K02000001</areaCode><areaName>United Kingdom</areaName><date>2020-08-26</date><cumCasesByPublishDate>328846</cumCasesByPublishDate></body><body><areaType>overview</areaType><areaCode>K02000001</areaCode><areaName>United Kingdom</areaName><date>2020-08-25</date><cumCasesByPublishDate>327798</cumCasesByPublishDate></body><body><areaType>overview</areaType><areaCode>K02000001</areaCode><areaName>United Kingdom</areaName><date>2020-08-24</date><cumCasesByPublishDate>326614</cumCasesByPublishDate></body><body><areaType>overview</areaType><areaCode>K02000001</areaCode><areaName>United Kingdom</areaName><date>2020-08-23</date><cumCasesByPublishDate>325761</cumCasesByPublishDate></body><body><areaType>overview</areaType><areaCode>K02000001</areaCode><areaName>United Kingdom</areaName><date>2020-08-22</date><cumCasesByPublishDate>324601</cumCasesByPublishDate></body><body><areaType>overview</areaType><areaCode>K02000001</areaCode><areaName>United Kingdom</areaName><date>2020-08-21</date><cumCasesByPublishDate>323313</cumCasesByPublishDate></body><body><areaType>overview</areaType><areaCode>K02000001</areaCode><areaName>United Kingdom</areaName><date>2020-08-20</date><cumCasesByPublishDate>322280</cumCasesByPublishDate></body><body><areaType>overview</areaType><areaCode>K02000001</areaCode><areaName>United Kingdom</areaName><date>2020-08-19</date><cumCasesByPublishDate>321098</cumCasesByPublishDate></body><body><areaType>overview</areaType><areaCode>K02000001</areaCode><areaName>United Kingdom</areaName><date>2020-08-18</date><cumCasesByPublishDate>320286</cumCasesByPublishDate></body><body><areaType>overview</areaType><areaCode>K02000001</areaCode><areaName>United Kingdom</areaName><date>2020-08-17</date><cumCasesByPublishDate>319197</cumCasesByPublishDate></body><body><areaType>overview</areaType><areaCode>K02000001</areaCode><areaName>United Kingdom</areaName><date>2020-08-16</date><cumCasesByPublishDate>318484</cumCasesByPublishDate></body><body><areaType>overview</areaType><areaCode>K02000001</areaCode><areaName>United Kingdom</areaName><date>2020-08-15</date><cumCasesByPublishDate>317444</cumCasesByPublishDate></body><body><areaType>overview</areaType><areaCode>K02000001</areaCode><areaName>United Kingdom</areaName><date>2020-08-14</date><cumCasesByPublishDate>316367</cumCasesByPublishDate></body><body><areaType>overview</areaType><areaCode>K02000001</areaCode><areaName>United Kingdom</areaName><date>2020-08-13</date><cumCasesByPublishDate>314927</cumCasesByPublishDate></body><body><areaType>overview</areaType><areaCode>K02000001</areaCode><areaName>United Kingdom</areaName><date>2020-08-12</date><cumCasesByPublishDate>313798</cumCasesByPublishDate></body><body><areaType>overview</areaType><areaCode>K02000001</areaCode><areaName>United Kingdom</areaName><date>2020-08-11</date><cumCasesByPublishDate>312789</cumCasesByPublishDate></body><body><areaType>overview</areaType><areaCode>K02000001</areaCode><areaName>United Kingdom</areaName><date>2020-08-10</date><cumCasesByPublishDate>311641</cumCasesByPublishDate></body><body><areaType>overview</areaType><areaCode>K02000001</areaCode><areaName>United Kingdom</areaName><date>2020-08-09</date><cumCasesByPublishDate>310825</cumCasesByPublishDate></body><body><areaType>overview</areaType><areaCode>K02000001</areaCode><areaName>United Kingdom</areaName><date>2020-08-08</date><cumCasesByPublishDate>309763</cumCasesByPublishDate></body><body><areaType>overview</areaType><areaCode>K02000001</areaCode><areaName>United Kingdom</areaName><date>2020-08-07</date><cumCasesByPublishDate>309005</cumCasesByPublishDate></body><body><areaType>overview</areaType><areaCode>K02000001</areaCode><areaName>United Kingdom</areaName><date>2020-08-06</date><cumCasesByPublishDate>308134</cumCasesByPublishDate></body><body><areaType>overview</areaType><areaCode>K02000001</areaCode><areaName>United Kingdom</areaName><date>2020-08-05</date><cumCasesByPublishDate>307184</cumCasesByPublishDate></body><body><areaType>overview</areaType><areaCode>K02000001</areaCode><areaName>United Kingdom</areaName><date>2020-08-04</date><cumCasesByPublishDate>306293</cumCasesByPublishDate></body><body><areaType>overview</areaType><areaCode>K02000001</areaCode><areaName>United Kingdom</areaName><date>2020-08-03</date><cumCasesByPublishDate>305623</cumCasesByPublishDate></body><body><areaType>overview</areaType><areaCode>K02000001</areaCode><areaName>United Kingdom</areaName><date>2020-08-02</date><cumCasesByPublishDate>304685</cumCasesByPublishDate></body><body><areaType>overview</areaType><areaCode>K02000001</areaCode><areaName>United Kingdom</areaName><date>2020-08-01</date><cumCasesByPublishDate>303942</cumCasesByPublishDate></body><body><areaType>overview</areaType><areaCode>K02000001</areaCode><areaName>United Kingdom</areaName><date>2020-07-31</date><cumCasesByPublishDate>303181</cumCasesByPublishDate></body><body><areaType>overview</areaType><areaCode>K02000001</areaCode><areaName>United Kingdom</areaName><date>2020-07-30</date><cumCasesByPublishDate>302301</cumCasesByPublishDate></body><body><areaType>overview</areaType><areaCode>K02000001</areaCode><areaName>United Kingdom</areaName><date>2020-07-29</date><cumCasesByPublishDate>301455</cumCasesByPublishDate></body><body><areaType>overview</areaType><areaCode>K02000001</areaCode><areaName>United Kingdom</areaName><date>2020-07-28</date><cumCasesByPublishDate>300692</cumCasesByPublishDate></body><body><areaType>overview</areaType><areaCode>K02000001</areaCode><areaName>United Kingdom</areaName><date>2020-07-27</date><cumCasesByPublishDate>300111</cumCasesByPublishDate></body><body><areaType>overview</areaType><areaCode>K02000001</areaCode><areaName>United Kingdom</areaName><date>2020-07-26</date><cumCasesByPublishDate>299426</cumCasesByPublishDate></body><body><areaType>overview</areaType><areaCode>K02000001</areaCode><areaName>United Kingdom</areaName><date>2020-07-25</date><cumCasesByPublishDate>298681</cumCasesByPublishDate></body><body><areaType>overview</areaType><areaCode>K02000001</areaCode><areaName>United Kingdom</areaName><date>2020-07-24</date><cumCasesByPublishDate>297914</cumCasesByPublishDate></body><body><areaType>overview</areaType><areaCode>K02000001</areaCode><areaName>United Kingdom</areaName><date>2020-07-23</date><cumCasesByPublishDate>297146</cumCasesByPublishDate></body><body><areaType>overview</areaType><areaCode>K02000001</areaCode><areaName>United Kingdom</areaName><date>2020-07-22</date><cumCasesByPublishDate>296377</cumCasesByPublishDate></body><body><areaType>overview</areaType><areaCode>K02000001</areaCode><areaName>United Kingdom</areaName><date>2020-07-21</date><cumCasesByPublishDate>295817</cumCasesByPublishDate></body><body><areaType>overview</areaType><areaCode>K02000001</areaCode><areaName>United Kingdom</areaName><date>2020-07-20</date><cumCasesByPublishDate>295372</cumCasesByPublishDate></body><body><areaType>overview</areaType><areaCode>K02000001</areaCode><areaName>United Kingdom</areaName><date>2020-07-19</date><cumCasesByPublishDate>294792</cumCasesByPublishDate></body><body><areaType>overview</areaType><areaCode>K02000001</areaCode><areaName>United Kingdom</areaName><date>2020-07-18</date><cumCasesByPublishDate>294066</cumCasesByPublishDate></body><body><areaType>overview</areaType><areaCode>K02000001</areaCode><areaName>United Kingdom</areaName><date>2020-07-17</date><cumCasesByPublishDate>293239</cumCasesByPublishDate></body><body><areaType>overview</areaType><areaCode>K02000001</areaCode><areaName>United Kingdom</areaName><date>2020-07-16</date><cumCasesByPublishDate>292552</cumCasesByPublishDate></body><body><areaType>overview</areaType><areaCode>K02000001</areaCode><areaName>United Kingdom</areaName><date>2020-07-15</date><cumCasesByPublishDate>291911</cumCasesByPublishDate></body><body><areaType>overview</areaType><areaCode>K02000001</areaCode><areaName>United Kingdom</areaName><date>2020-07-14</date><cumCasesByPublishDate>291373</cumCasesByPublishDate></body><body><areaType>overview</areaType><areaCode>K02000001</areaCode><areaName>United Kingdom</areaName><date>2020-07-13</date><cumCasesByPublishDate>290133</cumCasesByPublishDate></body><body><areaType>overview</areaType><areaCode>K02000001</areaCode><areaName>United Kingdom</areaName><date>2020-07-12</date><cumCasesByPublishDate>289603</cumCasesByPublishDate></body><body><areaType>overview</areaType><areaCode>K02000001</areaCode><areaName>United Kingdom</areaName><date>2020-07-11</date><cumCasesByPublishDate>288953</cumCasesByPublishDate></body><body><areaType>overview</areaType><areaCode>K02000001</areaCode><areaName>United Kingdom</areaName><date>2020-07-10</date><cumCasesByPublishDate>288133</cumCasesByPublishDate></body><body><areaType>overview</areaType><areaCode>K02000001</areaCode><areaName>United Kingdom</areaName><date>2020-07-09</date><cumCasesByPublishDate>287621</cumCasesByPublishDate></body><body><areaType>overview</areaType><areaCode>K02000001</areaCode><areaName>United Kingdom</areaName><date>2020-07-08</date><cumCasesByPublishDate>286979</cumCasesByPublishDate></body><body><areaType>overview</areaType><areaCode>K02000001</areaCode><areaName>United Kingdom</areaName><date>2020-07-07</date><cumCasesByPublishDate>286349</cumCasesByPublishDate></body><body><areaType>overview</areaType><areaCode>K02000001</areaCode><areaName>United Kingdom</areaName><date>2020-07-06</date><cumCasesByPublishDate>285768</cumCasesByPublishDate></body><body><areaType>overview</areaType><areaCode>K02000001</areaCode><areaName>United Kingdom</areaName><date>2020-07-05</date><cumCasesByPublishDate>285416</cumCasesByPublishDate></body><body><areaType>overview</areaType><areaCode>K02000001</areaCode><areaName>United Kingdom</areaName><date>2020-07-04</date><cumCasesByPublishDate>284900</cumCasesByPublishDate></body><body><areaType>overview</areaType><areaCode>K02000001</areaCode><areaName>United Kingdom</areaName><date>2020-07-03</date><cumCasesByPublishDate>284276</cumCasesByPublishDate></body><body><areaType>overview</areaType><areaCode>K02000001</areaCode><areaName>United Kingdom</areaName><date>2020-07-02</date><cumCasesByPublishDate>283757</cumCasesByPublishDate></body><body><areaType>overview</areaType><areaCode>K02000001</areaCode><areaName>United Kingdom</areaName><date>2020-07-01</date><cumCasesByPublishDate>313483</cumCasesByPublishDate></body><body><areaType>overview</areaType><areaCode>K02000001</areaCode><areaName>United Kingdom</areaName><date>2020-06-30</date><cumCasesByPublishDate>312654</cumCasesByPublishDate></body><body><areaType>overview</areaType><areaCode>K02000001</areaCode><areaName>United Kingdom</areaName><date>2020-06-29</date><cumCasesByPublishDate>311965</cumCasesByPublishDate></body><body><areaType>overview</areaType><areaCode>K02000001</areaCode><areaName>United Kingdom</areaName><date>2020-06-28</date><cumCasesByPublishDate>311151</cumCasesByPublishDate></body><body><areaType>overview</areaType><areaCode>K02000001</areaCode><areaName>United Kingdom</areaName><date>2020-06-27</date><cumCasesByPublishDate>310250</cumCasesByPublishDate></body><body><areaType>overview</areaType><areaCode>K02000001</areaCode><areaName>United Kingdom</areaName><date>2020-06-26</date><cumCasesByPublishDate>309360</cumCasesByPublishDate></body><body><areaType>overview</areaType><areaCode>K02000001</areaCode><areaName>United Kingdom</areaName><date>2020-06-25</date><cumCasesByPublishDate>307980</cumCasesByPublishDate></body><body><areaType>overview</areaType><areaCode>K02000001</areaCode><areaName>United Kingdom</areaName><date>2020-06-24</date><cumCasesByPublishDate>306862</cumCasesByPublishDate></body><body><areaType>overview</areaType><areaCode>K02000001</areaCode><areaName>United Kingdom</areaName><date>2020-06-23</date><cumCasesByPublishDate>306210</cumCasesByPublishDate></body><body><areaType>overview</areaType><areaCode>K02000001</areaCode><areaName>United Kingdom</areaName><date>2020-06-22</date><cumCasesByPublishDate>305289</cumCasesByPublishDate></body><body><areaType>overview</areaType><areaCode>K02000001</areaCode><areaName>United Kingdom</areaName><date>2020-06-21</date><cumCasesByPublishDate>304331</cumCasesByPublishDate></body><body><areaType>overview</areaType><areaCode>K02000001</areaCode><areaName>United Kingdom</areaName><date>2020-06-20</date><cumCasesByPublishDate>303110</cumCasesByPublishDate></body><body><areaType>overview</areaType><areaCode>K02000001</areaCode><areaName>United Kingdom</areaName><date>2020-06-19</date><cumCasesByPublishDate>301815</cumCasesByPublishDate></body><body><areaType>overview</areaType><areaCode>K02000001</areaCode><areaName>United Kingdom</areaName><date>2020-06-18</date><cumCasesByPublishDate>300469</cumCasesByPublishDate></body><body><areaType>overview</areaType><areaCode>K02000001</areaCode><areaName>United Kingdom</areaName><date>2020-06-17</date><cumCasesByPublishDate>299251</cumCasesByPublishDate></body><body><areaType>overview</areaType><areaCode>K02000001</areaCode><areaName>United Kingdom</areaName><date>2020-06-16</date><cumCasesByPublishDate>298136</cumCasesByPublishDate></body><body><areaType>overview</areaType><areaCode>K02000001</areaCode><areaName>United Kingdom</areaName><date>2020-06-15</date><cumCasesByPublishDate>296857</cumCasesByPublishDate></body><body><areaType>overview</areaType><areaCode>K02000001</areaCode><areaName>United Kingdom</areaName><date>2020-06-14</date><cumCasesByPublishDate>295889</cumCasesByPublishDate></body><body><areaType>overview</areaType><areaCode>K02000001</areaCode><areaName>United Kingdom</areaName><date>2020-06-13</date><cumCasesByPublishDate>294375</cumCasesByPublishDate></body><body><areaType>overview</areaType><areaCode>K02000001</areaCode><areaName>United Kingdom</areaName><date>2020-06-12</date><cumCasesByPublishDate>292950</cumCasesByPublishDate></body><body><areaType>overview</areaType><areaCode>K02000001</areaCode><areaName>United Kingdom</areaName><date>2020-06-11</date><cumCasesByPublishDate>291409</cumCasesByPublishDate></body><body><areaType>overview</areaType><areaCode>K02000001</areaCode><areaName>United Kingdom</areaName><date>2020-06-10</date><cumCasesByPublishDate>290143</cumCasesByPublishDate></body><body><areaType>overview</areaType><areaCode>K02000001</areaCode><areaName>United Kingdom</areaName><date>2020-06-09</date><cumCasesByPublishDate>289140</cumCasesByPublishDate></body><body><areaType>overview</areaType><areaCode>K02000001</areaCode><areaName>United Kingdom</areaName><date>2020-06-08</date><cumCasesByPublishDate>287399</cumCasesByPublishDate></body><body><areaType>overview</areaType><areaCode>K02000001</areaCode><areaName>United Kingdom</areaName><date>2020-06-07</date><cumCasesByPublishDate>286194</cumCasesByPublishDate></body><body><areaType>overview</areaType><areaCode>K02000001</areaCode><areaName>United Kingdom</areaName><date>2020-06-06</date><cumCasesByPublishDate>284868</cumCasesByPublishDate></body><body><areaType>overview</areaType><areaCode>K02000001</areaCode><areaName>United Kingdom</areaName><date>2020-06-05</date><cumCasesByPublishDate>283311</cumCasesByPublishDate></body><body><areaType>overview</areaType><areaCode>K02000001</areaCode><areaName>United Kingdom</areaName><date>2020-06-04</date><cumCasesByPublishDate>281661</cumCasesByPublishDate></body><body><areaType>overview</areaType><areaCode>K02000001</areaCode><areaName>United Kingdom</areaName><date>2020-06-03</date><cumCasesByPublishDate>279856</cumCasesByPublishDate></body><body><areaType>overview</areaType><areaCode>K02000001</areaCode><areaName>United Kingdom</areaName><date>2020-06-02</date><cumCasesByPublishDate>277985</cumCasesByPublishDate></body><body><areaType>overview</areaType><areaCode>K02000001</areaCode><areaName>United Kingdom</areaName><date>2020-06-01</date><cumCasesByPublishDate>276332</cumCasesByPublishDate></body><body><areaType>overview</areaType><areaCode>K02000001</areaCode><areaName>United Kingdom</areaName><date>2020-05-31</date><cumCasesByPublishDate>274762</cumCasesByPublishDate></body><body><areaType>overview</areaType><areaCode>K02000001</areaCode><areaName>United Kingdom</areaName><date>2020-05-30</date><cumCasesByPublishDate>272826</cumCasesByPublishDate></body><body><areaType>overview</areaType><areaCode>K02000001</areaCode><areaName>United Kingdom</areaName><date>2020-05-29</date><cumCasesByPublishDate>271222</cumCasesByPublishDate></body><body><areaType>overview</areaType><areaCode>K02000001</areaCode><areaName>United Kingdom</areaName><date>2020-05-28</date><cumCasesByPublishDate>269127</cumCasesByPublishDate></body><body><areaType>overview</areaType><areaCode>K02000001</areaCode><areaName>United Kingdom</areaName><date>2020-05-27</date><cumCasesByPublishDate>267240</cumCasesByPublishDate></body><body><areaType>overview</areaType><areaCode>K02000001</areaCode><areaName>United Kingdom</areaName><date>2020-05-26</date><cumCasesByPublishDate>265227</cumCasesByPublishDate></body><body><areaType>overview</areaType><areaCode>K02000001</areaCode><areaName>United Kingdom</areaName><date>2020-05-25</date><cumCasesByPublishDate>261184</cumCasesByPublishDate></body><body><areaType>overview</areaType><areaCode>K02000001</areaCode><areaName>United Kingdom</areaName><date>2020-05-24</date><cumCasesByPublishDate>259559</cumCasesByPublishDate></body><body><areaType>overview</areaType><areaCode>K02000001</areaCode><areaName>United Kingdom</areaName><date>2020-05-23</date><cumCasesByPublishDate>257154</cumCasesByPublishDate></body><body><areaType>overview</areaType><areaCode>K02000001</areaCode><areaName>United Kingdom</areaName><date>2020-05-22</date><cumCasesByPublishDate>254195</cumCasesByPublishDate></body><body><areaType>overview</areaType><areaCode>K02000001</areaCode><areaName>United Kingdom</areaName><date>2020-05-21</date><cumCasesByPublishDate>250908</cumCasesByPublishDate></body><body><areaType>overview</areaType><areaCode>K02000001</areaCode><areaName>United Kingdom</areaName><date>2020-05-20</date><cumCasesByPublishDate>248293</cumCasesByPublishDate></body><body><areaType>overview</areaType><areaCode>K02000001</areaCode><areaName>United Kingdom</areaName><date>2020-05-19</date><cumCasesByPublishDate>248818</cumCasesByPublishDate></body><body><areaType>overview</areaType><areaCode>K02000001</areaCode><areaName>United Kingdom</areaName><date>2020-05-18</date><cumCasesByPublishDate>246406</cumCasesByPublishDate></body><body><areaType>overview</areaType><areaCode>K02000001</areaCode><areaName>United Kingdom</areaName><date>2020-05-17</date><cumCasesByPublishDate>243723</cumCasesByPublishDate></body><body><areaType>overview</areaType><areaCode>K02000001</areaCode><areaName>United Kingdom</areaName><date>2020-05-16</date><cumCasesByPublishDate>240161</cumCasesByPublishDate></body><body><areaType>overview</areaType><areaCode>K02000001</areaCode><areaName>United Kingdom</areaName><date>2020-05-15</date><cumCasesByPublishDate>236711</cumCasesByPublishDate></body><body><areaType>overview</areaType><areaCode>K02000001</areaCode><areaName>United Kingdom</areaName><date>2020-05-14</date><cumCasesByPublishDate>233151</cumCasesByPublishDate></body><body><areaType>overview</areaType><areaCode>K02000001</areaCode><areaName>United Kingdom</areaName><date>2020-05-13</date><cumCasesByPublishDate>229705</cumCasesByPublishDate></body><body><areaType>overview</areaType><areaCode>K02000001</areaCode><areaName>United Kingdom</areaName><date>2020-05-12</date><cumCasesByPublishDate>226463</cumCasesByPublishDate></body><body><areaType>overview</areaType><areaCode>K02000001</areaCode><areaName>United Kingdom</areaName><date>2020-05-11</date><cumCasesByPublishDate>223060</cumCasesByPublishDate></body><body><areaType>overview</areaType><areaCode>K02000001</areaCode><areaName>United Kingdom</areaName><date>2020-05-10</date><cumCasesByPublishDate>219183</cumCasesByPublishDate></body><body><areaType>overview</areaType><areaCode>K02000001</areaCode><areaName>United Kingdom</areaName><date>2020-05-09</date><cumCasesByPublishDate>215260</cumCasesByPublishDate></body><body><areaType>overview</areaType><areaCode>K02000001</areaCode><areaName>United Kingdom</areaName><date>2020-05-08</date><cumCasesByPublishDate>211364</cumCasesByPublishDate></body><body><areaType>overview</areaType><areaCode>K02000001</areaCode><areaName>United Kingdom</areaName><date>2020-05-07</date><cumCasesByPublishDate>206715</cumCasesByPublishDate></body><body><areaType>overview</areaType><areaCode>K02000001</areaCode><areaName>United Kingdom</areaName><date>2020-05-06</date><cumCasesByPublishDate>201101</cumCasesByPublishDate></body><body><areaType>overview</areaType><areaCode>K02000001</areaCode><areaName>United Kingdom</areaName><date>2020-05-05</date><cumCasesByPublishDate>194990</cumCasesByPublishDate></body><body><areaType>overview</areaType><areaCode>K02000001</areaCode><areaName>United Kingdom</areaName><date>2020-05-04</date><cumCasesByPublishDate>190584</cumCasesByPublishDate></body><body><areaType>overview</areaType><areaCode>K02000001</areaCode><areaName>United Kingdom</areaName><date>2020-05-03</date><cumCasesByPublishDate>186599</cumCasesByPublishDate></body><body><areaType>overview</areaType><areaCode>K02000001</areaCode><areaName>United Kingdom</areaName><date>2020-05-02</date><cumCasesByPublishDate>182260</cumCasesByPublishDate></body><body><areaType>overview</areaType><areaCode>K02000001</areaCode><areaName>United Kingdom</areaName><date>2020-05-01</date><cumCasesByPublishDate>177454</cumCasesByPublishDate></body><body><areaType>overview</areaType><areaCode>K02000001</areaCode><areaName>United Kingdom</areaName><date>2020-04-30</date><cumCasesByPublishDate>171253</cumCasesByPublishDate></body><body><areaType>overview</areaType><areaCode>K02000001</areaCode><areaName>United Kingdom</areaName><date>2020-04-29</date><cumCasesByPublishDate>165221</cumCasesByPublishDate></body><body><areaType>overview</areaType><areaCode>K02000001</areaCode><areaName>United Kingdom</areaName><date>2020-04-28</date><cumCasesByPublishDate>161145</cumCasesByPublishDate></body><body><areaType>overview</areaType><areaCode>K02000001</areaCode><areaName>United Kingdom</areaName><date>2020-04-27</date><cumCasesByPublishDate>157149</cumCasesByPublishDate></body><body><areaType>overview</areaType><areaCode>K02000001</areaCode><areaName>United Kingdom</areaName><date>2020-04-26</date><cumCasesByPublishDate>152840</cumCasesByPublishDate></body><body><areaType>overview</areaType><areaCode>K02000001</areaCode><areaName>United Kingdom</areaName><date>2020-04-25</date><cumCasesByPublishDate>148377</cumCasesByPublishDate></body><body><areaType>overview</areaType><areaCode>K02000001</areaCode><areaName>United Kingdom</areaName><date>2020-04-24</date><cumCasesByPublishDate>143464</cumCasesByPublishDate></body><body><areaType>overview</areaType><areaCode>K02000001</areaCode><areaName>United Kingdom</areaName><date>2020-04-23</date><cumCasesByPublishDate>138078</cumCasesByPublishDate></body><body><areaType>overview</areaType><areaCode>K02000001</areaCode><areaName>United Kingdom</areaName><date>2020-04-22</date><cumCasesByPublishDate>133495</cumCasesByPublishDate></body><body><areaType>overview</areaType><areaCode>K02000001</areaCode><areaName>United Kingdom</areaName><date>2020-04-21</date><cumCasesByPublishDate>129044</cumCasesByPublishDate></body><body><areaType>overview</areaType><areaCode>K02000001</areaCode><areaName>United Kingdom</areaName><date>2020-04-20</date><cumCasesByPublishDate>124743</cumCasesByPublishDate></body><body><areaType>overview</areaType><areaCode>K02000001</areaCode><areaName>United Kingdom</areaName><date>2020-04-19</date><cumCasesByPublishDate>120067</cumCasesByPublishDate></body><body><areaType>overview</areaType><areaCode>K02000001</areaCode><areaName>United Kingdom</areaName><date>2020-04-18</date><cumCasesByPublishDate>114217</cumCasesByPublishDate></body><body><areaType>overview</areaType><areaCode>K02000001</areaCode><areaName>United Kingdom</areaName><date>2020-04-17</date><cumCasesByPublishDate>108692</cumCasesByPublishDate></body><body><areaType>overview</areaType><areaCode>K02000001</areaCode><areaName>United Kingdom</areaName><date>2020-04-16</date><cumCasesByPublishDate>103093</cumCasesByPublishDate></body><body><areaType>overview</areaType><areaCode>K02000001</areaCode><areaName>United Kingdom</areaName><date>2020-04-15</date><cumCasesByPublishDate>98476</cumCasesByPublishDate></body><body><areaType>overview</areaType><areaCode>K02000001</areaCode><areaName>United Kingdom</areaName><date>2020-04-14</date><cumCasesByPublishDate>93873</cumCasesByPublishDate></body><body><areaType>overview</areaType><areaCode>K02000001</areaCode><areaName>United Kingdom</areaName><date>2020-04-13</date><cumCasesByPublishDate>88621</cumCasesByPublishDate></body><body><areaType>overview</areaType><areaCode>K02000001</areaCode><areaName>United Kingdom</areaName><date>2020-04-12</date><cumCasesByPublishDate>84279</cumCasesByPublishDate></body><body><areaType>overview</areaType><areaCode>K02000001</areaCode><areaName>United Kingdom</areaName><date>2020-04-11</date><cumCasesByPublishDate>78991</cumCasesByPublishDate></body><body><areaType>overview</areaType><areaCode>K02000001</areaCode><areaName>United Kingdom</areaName><date>2020-04-10</date><cumCasesByPublishDate>73758</cumCasesByPublishDate></body><body><areaType>overview</areaType><areaCode>K02000001</areaCode><areaName>United Kingdom</areaName><date>2020-04-09</date><cumCasesByPublishDate>68052</cumCasesByPublishDate></body><body><areaType>overview</areaType><areaCode>K02000001</areaCode><areaName>United Kingdom</areaName><date>2020-04-08</date><cumCasesByPublishDate>63377</cumCasesByPublishDate></body><body><areaType>overview</areaType><areaCode>K02000001</areaCode><areaName>United Kingdom</areaName><date>2020-04-07</date><cumCasesByPublishDate>57512</cumCasesByPublishDate></body><body><areaType>overview</areaType><areaCode>K02000001</areaCode><areaName>United Kingdom</areaName><date>2020-04-06</date><cumCasesByPublishDate>53624</cumCasesByPublishDate></body><body><areaType>overview</areaType><areaCode>K02000001</areaCode><areaName>United Kingdom</areaName><date>2020-04-05</date><cumCasesByPublishDate>49481</cumCasesByPublishDate></body><body><areaType>overview</areaType><areaCode>K02000001</areaCode><areaName>United Kingdom</areaName><date>2020-04-04</date><cumCasesByPublishDate>43282</cumCasesByPublishDate></body><body><areaType>overview</areaType><areaCode>K02000001</areaCode><areaName>United Kingdom</areaName><date>2020-04-03</date><cumCasesByPublishDate>39282</cumCasesByPublishDate></body><body><areaType>overview</areaType><areaCode>K02000001</areaCode><areaName>United Kingdom</areaName><date>2020-04-02</date><cumCasesByPublishDate>34610</cumCasesByPublishDate></body><body><areaType>overview</areaType><areaCode>K02000001</areaCode><areaName>United Kingdom</areaName><date>2020-04-01</date><cumCasesByPublishDate>30088</cumCasesByPublishDate></body><body><areaType>overview</areaType><areaCode>K02000001</areaCode><areaName>United Kingdom</areaName><date>2020-03-31</date><cumCasesByPublishDate>25521</cumCasesByPublishDate></body><body><areaType>overview</areaType><areaCode>K02000001</areaCode><areaName>United Kingdom</areaName><date>2020-03-30</date><cumCasesByPublishDate>22271</cumCasesByPublishDate></body><body><areaType>overview</areaType><areaCode>K02000001</areaCode><areaName>United Kingdom</areaName><date>2020-03-29</date><cumCasesByPublishDate>19606</cumCasesByPublishDate></body><body><areaType>overview</areaType><areaCode>K02000001</areaCode><areaName>United Kingdom</areaName><date>2020-03-28</date><cumCasesByPublishDate>17104</cumCasesByPublishDate></body><body><areaType>overview</areaType><areaCode>K02000001</areaCode><areaName>United Kingdom</areaName><date>2020-03-27</date><cumCasesByPublishDate>14548</cumCasesByPublishDate></body><body><areaType>overview</areaType><areaCode>K02000001</areaCode><areaName>United Kingdom</areaName><date>2020-03-26</date><cumCasesByPublishDate>11658</cumCasesByPublishDate></body><body><areaType>overview</areaType><areaCode>K02000001</areaCode><areaName>United Kingdom</areaName><date>2020-03-25</date><cumCasesByPublishDate>9529</cumCasesByPublishDate></body><body><areaType>overview</areaType><areaCode>K02000001</areaCode><areaName>United Kingdom</areaName><date>2020-03-24</date><cumCasesByPublishDate>8077</cumCasesByPublishDate></body><body><areaType>overview</areaType><areaCode>K02000001</areaCode><areaName>United Kingdom</areaName><date>2020-03-23</date><cumCasesByPublishDate>6650</cumCasesByPublishDate></body><body><areaType>overview</areaType><areaCode>K02000001</areaCode><areaName>United Kingdom</areaName><date>2020-03-22</date><cumCasesByPublishDate>5683</cumCasesByPublishDate></body><body><areaType>overview</areaType><areaCode>K02000001</areaCode><areaName>United Kingdom</areaName><date>2020-03-21</date><cumCasesByPublishDate>5018</cumCasesByPublishDate></body><body><areaType>overview</areaType><areaCode>K02000001</areaCode><areaName>United Kingdom</areaName><date>2020-03-20</date><cumCasesByPublishDate>3983</cumCasesByPublishDate></body><body><areaType>overview</areaType><areaCode>K02000001</areaCode><areaName>United Kingdom</areaName><date>2020-03-19</date><cumCasesByPublishDate>3269</cumCasesByPublishDate></body><body><areaType>overview</areaType><areaCode>K02000001</areaCode><areaName>United Kingdom</areaName><date>2020-03-18</date><cumCasesByPublishDate>2626</cumCasesByPublishDate></body><body><areaType>overview</areaType><areaCode>K02000001</areaCode><areaName>United Kingdom</areaName><date>2020-03-17</date><cumCasesByPublishDate>1950</cumCasesByPublishDate></body><body><areaType>overview</areaType><areaCode>K02000001</areaCode><areaName>United Kingdom</areaName><date>2020-03-16</date><cumCasesByPublishDate>1543</cumCasesByPublishDate></body><body><areaType>overview</areaType><areaCode>K02000001</areaCode><areaName>United Kingdom</areaName><date>2020-03-15</date><cumCasesByPublishDate>1391</cumCasesByPublishDate></body><body><areaType>overview</areaType><areaCode>K02000001</areaCode><areaName>United Kingdom</areaName><date>2020-03-14</date><cumCasesByPublishDate>1061</cumCasesByPublishDate></body><body><areaType>overview</areaType><areaCode>K02000001</areaCode><areaName>United Kingdom</areaName><date>2020-03-13</date><cumCasesByPublishDate>797</cumCasesByPublishDate></body><body><areaType>overview</areaType><areaCode>K02000001</areaCode><areaName>United Kingdom</areaName><date>2020-03-12</date><cumCasesByPublishDate>590</cumCasesByPublishDate></body><body><areaType>overview</areaType><areaCode>K02000001</areaCode><areaName>United Kingdom</areaName><date>2020-03-11</date><cumCasesByPublishDate>456</cumCasesByPublishDate></body><body><areaType>overview</areaType><areaCode>K02000001</areaCode><areaName>United Kingdom</areaName><date>2020-03-10</date><cumCasesByPublishDate>373</cumCasesByPublishDate></body><body><areaType>overview</areaType><areaCode>K02000001</areaCode><areaName>United Kingdom</areaName><date>2020-03-09</date><cumCasesByPublishDate>321</cumCasesByPublishDate></body><body><areaType>overview</areaType><areaCode>K02000001</areaCode><areaName>United Kingdom</areaName><date>2020-03-08</date><cumCasesByPublishDate>271</cumCasesByPublishDate></body><body><areaType>overview</areaType><areaCode>K02000001</areaCode><areaName>United Kingdom</areaName><date>2020-03-07</date><cumCasesByPublishDate>206</cumCasesByPublishDate></body><body><areaType>overview</areaType><areaCode>K02000001</areaCode><areaName>United Kingdom</areaName><date>2020-03-06</date><cumCasesByPublishDate>160</cumCasesByPublishDate></body><body><areaType>overview</areaType><areaCode>K02000001</areaCode><areaName>United Kingdom</areaName><date>2020-03-05</date><cumCasesByPublishDate>114</cumCasesByPublishDate></body><body><areaType>overview</areaType><areaCode>K02000001</areaCode><areaName>United Kingdom</areaName><date>2020-03-04</date><cumCasesByPublishDate>85</cumCasesByPublishDate></body><body><areaType>overview</areaType><areaCode>K02000001</areaCode><areaName>United Kingdom</areaName><date>2020-03-03</date><cumCasesByPublishDate>51</cumCasesByPublishDate></body><body><areaType>overview</areaType><areaCode>K02000001</areaCode><areaName>United Kingdom</areaName><date>2020-03-02</date><cumCasesByPublishDate>40</cumCasesByPublishDate></body><body><areaType>overview</areaType><areaCode>K02000001</areaCode><areaName>United Kingdom</areaName><date>2020-03-01</date><cumCasesByPublishDate>35</cumCasesByPublishDate></body><body><areaType>overview</areaType><areaCode>K02000001</areaCode><areaName>United Kingdom</areaName><date>2020-02-29</date><cumCasesByPublishDate>23</cumCasesByPublishDate></body><body><areaType>overview</areaType><areaCode>K02000001</areaCode><areaName>United Kingdom</areaName><date>2020-02-28</date><cumCasesByPublishDate>19</cumCasesByPublishDate></body><body><areaType>overview</areaType><areaCode>K02000001</areaCode><areaName>United Kingdom</areaName><date>2020-02-27</date><cumCasesByPublishDate>13</cumCasesByPublishDate></body><body><areaType>overview</areaType><areaCode>K02000001</areaCode><areaName>United Kingdom</areaName><date>2020-02-26</date><cumCasesByPublishDate>13</cumCasesByPublishDate></body><body><areaType>overview</areaType><areaCode>K02000001</areaCode><areaName>United Kingdom</areaName><date>2020-02-25</date><cumCasesByPublishDate>13</cumCasesByPublishDate></body><body><areaType>overview</areaType><areaCode>K02000001</areaCode><areaName>United Kingdom</areaName><date>2020-02-24</date><cumCasesByPublishDate>13</cumCasesByPublishDate></body><body><areaType>overview</areaType><areaCode>K02000001</areaCode><areaName>United Kingdom</areaName><date>2020-02-23</date><cumCasesByPublishDate>9</cumCasesByPublishDate></body><body><areaType>overview</areaType><areaCode>K02000001</areaCode><areaName>United Kingdom</areaName><date>2020-02-22</date><cumCasesByPublishDate>9</cumCasesByPublishDate></body><body><areaType>overview</areaType><areaCode>K02000001</areaCode><areaName>United Kingdom</areaName><date>2020-02-21</date><cumCasesByPublishDate>9</cumCasesByPublishDate></body><body><areaType>overview</areaType><areaCode>K02000001</areaCode><areaName>United Kingdom</areaName><date>2020-02-20</date><cumCasesByPublishDate>9</cumCasesByPublishDate></body><body><areaType>overview</areaType><areaCode>K02000001</areaCode><areaName>United Kingdom</areaName><date>2020-02-19</date><cumCasesByPublishDate>9</cumCasesByPublishDate></body><body><areaType>overview</areaType><areaCode>K02000001</areaCode><areaName>United Kingdom</areaName><date>2020-02-18</date><cumCasesByPublishDate>9</cumCasesByPublishDate></body><body><areaType>overview</areaType><areaCode>K02000001</areaCode><areaName>United Kingdom</areaName><date>2020-02-17</date><cumCasesByPublishDate>9</cumCasesByPublishDate></body><body><areaType>overview</areaType><areaCode>K02000001</areaCode><areaName>United Kingdom</areaName><date>2020-02-16</date><cumCasesByPublishDate>9</cumCasesByPublishDate></body><body><areaType>overview</areaType><areaCode>K02000001</areaCode><areaName>United Kingdom</areaName><date>2020-02-15</date><cumCasesByPublishDate>9</cumCasesByPublishDate></body><body><areaType>overview</areaType><areaCode>K02000001</areaCode><areaName>United Kingdom</areaName><date>2020-02-14</date><cumCasesByPublishDate>9</cumCasesByPublishDate></body><body><areaType>overview</areaType><areaCode>K02000001</areaCode><areaName>United Kingdom</areaName><date>2020-02-13</date><cumCasesByPublishDate>9</cumCasesByPublishDate></body><body><areaType>overview</areaType><areaCode>K02000001</areaCode><areaName>United Kingdom</areaName><date>2020-02-12</date><cumCasesByPublishDate>8</cumCasesByPublishDate></body><body><areaType>overview</areaType><areaCode>K02000001</areaCode><areaName>United Kingdom</areaName><date>2020-02-11</date><cumCasesByPublishDate>8</cumCasesByPublishDate></body><body><areaType>overview</areaType><areaCode>K02000001</areaCode><areaName>United Kingdom</areaName><date>2020-02-10</date><cumCasesByPublishDate>8</cumCasesByPublishDate></body><body><areaType>overview</areaType><areaCode>K02000001</areaCode><areaName>United Kingdom</areaName><date>2020-02-09</date><cumCasesByPublishDate>4</cumCasesByPublishDate></body><body><areaType>overview</areaType><areaCode>K02000001</areaCode><areaName>United Kingdom</areaName><date>2020-02-08</date><cumCasesByPublishDate>3</cumCasesByPublishDate></body><body><areaType>overview</areaType><areaCode>K02000001</areaCode><areaName>United Kingdom</areaName><date>2020-02-07</date><cumCasesByPublishDate>3</cumCasesByPublishDate></body><body><areaType>overview</areaType><areaCode>K02000001</areaCode><areaName>United Kingdom</areaName><date>2020-02-06</date><cumCasesByPublishDate>3</cumCasesByPublishDate></body><body><areaType>overview</areaType><areaCode>K02000001</areaCode><areaName>United Kingdom</areaName><date>2020-02-05</date><cumCasesByPublishDate>2</cumCasesByPublishDate></body><body><areaType>overview</areaType><areaCode>K02000001</areaCode><areaName>United Kingdom</areaName><date>2020-02-04</date><cumCasesByPublishDate>2</cumCasesByPublishDate></body><body><areaType>overview</areaType><areaCode>K02000001</areaCode><areaName>United Kingdom</areaName><date>2020-02-03</date><cumCasesByPublishDate>2</cumCasesByPublishDate></body><body><areaType>overview</areaType><areaCode>K02000001</areaCode><areaName>United Kingdom</areaName><date>2020-02-02</date><cumCasesByPublishDate>2</cumCasesByPublishDate></body><body><areaType>overview</areaType><areaCode>K02000001</areaCode><areaName>United Kingdom</areaName><date>2020-02-01</date><cumCasesByPublishDate>2</cumCasesByPublishDate></body><body><areaType>overview</areaType><areaCode>K02000001</areaCode><areaName>United Kingdom</areaName><date>2020-01-31</date><cumCasesByPublishDate>2</cumCasesByPublishDate></body></Document>'"
            ]
          },
          "execution_count": 1,
          "metadata": {},
          "output_type": "execute_result"
        }
      ],
      "source": [
        "import urllib.request\n",
        "# url of rss feed\n",
        "rssurl = 'https://api.coronavirus.data.gov.uk/v2/data?areaType=overview&metric=cumCasesByPublishDate&format=xml'\n",
        "# creating HTTP response object from given url\n",
        "resp = urllib.request.urlopen(rssurl)\n",
        "resp.read().decode(\"utf8\")\n",
        "\n"
      ]
    },
    {
      "cell_type": "markdown",
      "metadata": {
        "id": "SGtqXu2-UXd5"
      },
      "source": [
        "# SQLite3 Database"
      ]
    },
    {
      "cell_type": "code",
      "execution_count": null,
      "metadata": {
        "colab": {
          "base_uri": "https://localhost:8080/"
        },
        "id": "_eB6G6azVtre",
        "outputId": "ed55e43a-293c-4f93-b005-8f79314d23ec"
      },
      "outputs": [
        {
          "name": "stdout",
          "output_type": "stream",
          "text": [
            "Opened database successfully\n",
            "301 Chopin: Piano Concertos Nos. 1 & 2\n",
            "304 Beethoven Piano Sonatas: Moonlight & Pastorale\n",
            "337 Szymanowski: Piano Works, Vol. 1\n",
            "Operation done successfully\n"
          ]
        }
      ],
      "source": [
        "import sqlite3\n",
        "\n",
        "conn = sqlite3.connect('sample_data//chinook.db')\n",
        "print(\"Opened database successfully\")\n",
        "\n",
        "cursor = conn.execute(\"SELECT * from albums where Title like '%piano%'\")\n",
        "for row in cursor:\n",
        "    print(row[0], row[1])\n",
        "\n",
        "print(\"Operation done successfully\")\n",
        "conn.close()\n"
      ]
    },
    {
      "cell_type": "code",
      "execution_count": null,
      "metadata": {
        "colab": {
          "base_uri": "https://localhost:8080/"
        },
        "id": "BkdgLuF6Uorw",
        "outputId": "f1f8e126-278a-4f5f-8572-0d4ab8d2ad96"
      },
      "outputs": [
        {
          "name": "stdout",
          "output_type": "stream",
          "text": [
            "Opened database successfully\n",
            "1 Arthur (1, 'Arthur', 'Dent')\n",
            "2 Ford (2, 'Ford', 'Prefect')\n",
            "3 Zaphod (3, 'Zaphod', 'Beeblebrox')\n",
            "Operation done successfully\n"
          ]
        }
      ],
      "source": [
        "import sqlite3\n",
        "\n",
        "conn = sqlite3.connect('test.db')\n",
        "print(\"Opened database successfully\")\n",
        "conn.execute(\"DROP TABLE students\")\n",
        "conn.execute(\"CREATE TABLE students (StudentID INTEGER PRIMARY KEY AUTOINCREMENT, FirstName TEXT, LastName TEXT)\")\n",
        "names = ('Arthur','Dent'), ('Ford','Prefect'), ('Zaphod','Beeblebrox')\n",
        "conn.executemany(\"INSERT INTO students (FirstName, LastName) VALUES (?, ?)\", names)\n",
        "\n",
        "results = conn.execute(\"SELECT * FROM students\")\n",
        "for row in results:\n",
        "    print(row[0], row[1], row)\n",
        "\n",
        "conn.commit()\n",
        "\n",
        "print(\"Operation done successfully\")\n",
        "conn.close()\n"
      ]
    },
    {
      "cell_type": "code",
      "execution_count": null,
      "metadata": {
        "colab": {
          "base_uri": "https://localhost:8080/"
        },
        "id": "WXJYy2zPX1OA",
        "outputId": "72cc76c2-90ff-437a-f158-975e7cd9c27c"
      },
      "outputs": [
        {
          "name": "stdout",
          "output_type": "stream",
          "text": [
            "Opened database successfully\n",
            "1 Arthur (1, 'Arthur', 'Dent')\n",
            "2 Ford (2, 'Ford', 'Prefect')\n",
            "3 Zaphod (3, 'Zaphod', 'Beeblebrox')\n",
            "Operation done successfully\n"
          ]
        }
      ],
      "source": [
        "import sqlite3\n",
        "\n",
        "conn = sqlite3.connect('test.db')\n",
        "print(\"Opened database successfully\")\n",
        "\n",
        "results = conn.execute(\"SELECT * FROM students\")\n",
        "for row in results:\n",
        "    print(row[0], row[1], row)\n",
        "\n",
        "print(\"Operation done successfully\")\n",
        "conn.close()\n"
      ]
    },
    {
      "cell_type": "markdown",
      "metadata": {
        "id": "JkNVdjuBNB9n"
      },
      "source": [
        "# Miscellaneous Notes"
      ]
    },
    {
      "cell_type": "code",
      "execution_count": null,
      "metadata": {
        "colab": {
          "base_uri": "https://localhost:8080/",
          "height": 218
        },
        "id": "3XGaHpgd4oaN",
        "outputId": "db64ab04-8da8-45bd-8ad0-d47aca775a65"
      },
      "outputs": [
        {
          "name": "stdout",
          "output_type": "stream",
          "text": [
            "(1.8369701987210297e-16+3j)\n"
          ]
        },
        {
          "ename": "ValueError",
          "evalue": "ignored",
          "output_type": "error",
          "traceback": [
            "\u001b[0;31m---------------------------------------------------------------------------\u001b[0m",
            "\u001b[0;31mValueError\u001b[0m                                Traceback (most recent call last)",
            "\u001b[0;32m<ipython-input-3-cc2b4d3240f1>\u001b[0m in \u001b[0;36m<module>\u001b[0;34m()\u001b[0m\n\u001b[1;32m      1\u001b[0m \u001b[0;32mimport\u001b[0m \u001b[0mmath\u001b[0m\u001b[0;34m\u001b[0m\u001b[0;34m\u001b[0m\u001b[0m\n\u001b[1;32m      2\u001b[0m \u001b[0mprint\u001b[0m\u001b[0;34m(\u001b[0m\u001b[0;34m(\u001b[0m\u001b[0;34m-\u001b[0m\u001b[0;36m9\u001b[0m\u001b[0;34m)\u001b[0m\u001b[0;34m**\u001b[0m\u001b[0;36m0.5\u001b[0m\u001b[0;34m)\u001b[0m\u001b[0;34m\u001b[0m\u001b[0;34m\u001b[0m\u001b[0m\n\u001b[0;32m----> 3\u001b[0;31m \u001b[0mprint\u001b[0m\u001b[0;34m(\u001b[0m\u001b[0mmath\u001b[0m\u001b[0;34m.\u001b[0m\u001b[0msqrt\u001b[0m\u001b[0;34m(\u001b[0m\u001b[0;34m-\u001b[0m\u001b[0;36m9\u001b[0m\u001b[0;34m)\u001b[0m\u001b[0;34m)\u001b[0m\u001b[0;34m\u001b[0m\u001b[0;34m\u001b[0m\u001b[0m\n\u001b[0m",
            "\u001b[0;31mValueError\u001b[0m: math domain error"
          ]
        }
      ],
      "source": [
        "import math\n",
        "print((-9)**0.5)\n",
        "print(math.sqrt(-9))"
      ]
    },
    {
      "cell_type": "markdown",
      "metadata": {
        "id": "ePKc51tKNNHJ"
      },
      "source": [
        "## 30th September 2020"
      ]
    },
    {
      "cell_type": "code",
      "execution_count": null,
      "metadata": {
        "colab": {
          "base_uri": "https://localhost:8080/",
          "height": 85
        },
        "id": "0aZ9y7gWNQ8o",
        "outputId": "01c5351c-442f-4e07-b868-6c109276c7fa"
      },
      "outputs": [
        {
          "name": "stdout",
          "output_type": "stream",
          "text": [
            "a: 1, b: 2\n",
            "a: 2, b: 3\n",
            "a: 1, b: 2\n",
            "a: 2, b: 3\n"
          ]
        }
      ],
      "source": [
        "# Finonacci sequence\n",
        "a = 1\n",
        "b = 2\n",
        "print(f'a: {a}, b: {b}')\n",
        "# Three lines of code needed.\n",
        "c = a+b\n",
        "a = b\n",
        "b = c\n",
        "print(f'a: {a}, b: {b}')\n",
        "\n",
        "###########\n",
        "\n",
        "a = 1\n",
        "b = 2\n",
        "print(f'a: {a}, b: {b}')\n",
        "# Or just one line using tuples\n",
        "a, b = b, a+b\n",
        "print(f'a: {a}, b: {b}')\n"
      ]
    },
    {
      "cell_type": "code",
      "execution_count": null,
      "metadata": {
        "colab": {
          "base_uri": "https://localhost:8080/",
          "height": 51
        },
        "id": "oPQk-aFLN3c1",
        "outputId": "f30cbc49-bb49-4974-d3a9-59486bce9950"
      },
      "outputs": [
        {
          "name": "stdout",
          "output_type": "stream",
          "text": [
            "1 2\n",
            "2 1\n"
          ]
        }
      ],
      "source": [
        "## Same technique used to swap two numbers\n",
        "a, b = 1, 2\n",
        "print(a, b)\n",
        "a, b = b, a\n",
        "print(a, b)"
      ]
    },
    {
      "cell_type": "markdown",
      "metadata": {
        "id": "RjmF1CtPQTsx"
      },
      "source": [
        "FizzBuzz:\n",
        "\n",
        "If 3 and 5 are both factors, then 3x5 is a factor. So you can test for i % 15 == 0"
      ]
    },
    {
      "cell_type": "code",
      "execution_count": null,
      "metadata": {
        "colab": {
          "base_uri": "https://localhost:8080/",
          "height": 1000
        },
        "id": "yQ_NORP2UOUp",
        "outputId": "d74819ee-d883-46d5-de20-e86ff72c3279"
      },
      "outputs": [
        {
          "name": "stdout",
          "output_type": "stream",
          "text": [
            "1\n",
            "2\n",
            "FIZZ\n",
            "4\n",
            "BUZZ\n",
            "FIZZ\n",
            "7\n",
            "8\n",
            "FIZZ\n",
            "BUZZ\n",
            "11\n",
            "FIZZ\n",
            "13\n",
            "14\n",
            "FIZZBUZZ\n",
            "16\n",
            "17\n",
            "FIZZ\n",
            "19\n",
            "BUZZ\n",
            "FIZZ\n",
            "22\n",
            "23\n",
            "FIZZ\n",
            "BUZZ\n",
            "26\n",
            "FIZZ\n",
            "28\n",
            "29\n",
            "FIZZBUZZ\n",
            "31\n",
            "32\n",
            "FIZZ\n",
            "34\n",
            "BUZZ\n",
            "FIZZ\n",
            "37\n",
            "38\n",
            "FIZZ\n",
            "BUZZ\n",
            "41\n",
            "FIZZ\n",
            "43\n",
            "44\n",
            "FIZZBUZZ\n",
            "46\n",
            "47\n",
            "FIZZ\n",
            "49\n",
            "BUZZ\n",
            "FIZZ\n",
            "52\n",
            "53\n",
            "FIZZ\n",
            "BUZZ\n",
            "56\n",
            "FIZZ\n",
            "58\n",
            "59\n",
            "FIZZBUZZ\n",
            "61\n",
            "62\n",
            "FIZZ\n",
            "64\n",
            "BUZZ\n",
            "FIZZ\n",
            "67\n",
            "68\n",
            "FIZZ\n",
            "BUZZ\n",
            "71\n",
            "FIZZ\n",
            "73\n",
            "74\n",
            "FIZZBUZZ\n",
            "76\n",
            "77\n",
            "FIZZ\n",
            "79\n",
            "BUZZ\n",
            "FIZZ\n",
            "82\n",
            "83\n",
            "FIZZ\n",
            "BUZZ\n",
            "86\n",
            "FIZZ\n",
            "88\n",
            "89\n",
            "FIZZBUZZ\n",
            "91\n",
            "92\n",
            "FIZZ\n",
            "94\n",
            "BUZZ\n",
            "FIZZ\n",
            "97\n",
            "98\n",
            "FIZZ\n",
            "BUZZ\n"
          ]
        }
      ],
      "source": [
        "# This works but be reordering the if statements you could make some of the conditions implicit.\n",
        "for x in range(1, 101):\n",
        "  if x % 3 == 0 and not x % 5 == 0:\n",
        "    print('FIZZ')\n",
        "  elif x % 5 == 0 and not x % 3 == 0:\n",
        "    print('BUZZ')\n",
        "  elif x % 5 == 0 and x % 3 == 0:\n",
        "    print('FIZZBUZZ')\n",
        "  else:\n",
        "    print(x)"
      ]
    },
    {
      "cell_type": "code",
      "execution_count": null,
      "metadata": {
        "colab": {
          "base_uri": "https://localhost:8080/",
          "height": 1000
        },
        "id": "znHWiePySm4A",
        "outputId": "ff7e69b2-d746-42d2-c28c-0d4fe1ac5cb6"
      },
      "outputs": [
        {
          "name": "stdout",
          "output_type": "stream",
          "text": [
            "1\n",
            "2\n",
            "Fizz\n",
            "4\n",
            "Buzz\n",
            "Fizz\n",
            "7\n",
            "8\n",
            "Fizz\n",
            "Buzz\n",
            "11\n",
            "Fizz\n",
            "13\n",
            "14\n",
            "FizzBuzz\n",
            "16\n",
            "17\n",
            "Fizz\n",
            "19\n",
            "Buzz\n",
            "Fizz\n",
            "22\n",
            "23\n",
            "Fizz\n",
            "Buzz\n",
            "26\n",
            "Fizz\n",
            "28\n",
            "29\n",
            "FizzBuzz\n",
            "31\n",
            "32\n",
            "Fizz\n",
            "34\n",
            "Buzz\n",
            "Fizz\n",
            "37\n",
            "38\n",
            "Fizz\n",
            "Buzz\n",
            "41\n",
            "Fizz\n",
            "43\n",
            "44\n",
            "FizzBuzz\n",
            "46\n",
            "47\n",
            "Fizz\n",
            "49\n",
            "Buzz\n",
            "Fizz\n",
            "52\n",
            "53\n",
            "Fizz\n",
            "Buzz\n",
            "56\n",
            "Fizz\n",
            "58\n",
            "59\n",
            "FizzBuzz\n",
            "61\n",
            "62\n",
            "Fizz\n",
            "64\n",
            "Buzz\n",
            "Fizz\n",
            "67\n",
            "68\n",
            "Fizz\n",
            "Buzz\n",
            "71\n",
            "Fizz\n",
            "73\n",
            "74\n",
            "FizzBuzz\n",
            "76\n",
            "77\n",
            "Fizz\n",
            "79\n",
            "Buzz\n",
            "Fizz\n",
            "82\n",
            "83\n",
            "Fizz\n",
            "Buzz\n",
            "86\n",
            "Fizz\n",
            "88\n",
            "89\n",
            "FizzBuzz\n",
            "91\n",
            "92\n",
            "Fizz\n",
            "94\n",
            "Buzz\n",
            "Fizz\n",
            "97\n",
            "98\n",
            "Fizz\n",
            "Buzz\n"
          ]
        }
      ],
      "source": [
        "for x in range(1, 101):\n",
        "  if x % 3 == 0 and x % 5 == 0:\n",
        "    print(\"FizzBuzz\")\n",
        "  elif x % 3 == 0:\n",
        "    print(\"Fizz\")\n",
        "  elif x % 5 == 0:\n",
        "    print(\"Buzz\")\n",
        "  else:\n",
        "    print(x)"
      ]
    },
    {
      "cell_type": "code",
      "execution_count": null,
      "metadata": {
        "id": "f_6kP4v5Rffh"
      },
      "outputs": [],
      "source": [
        "# What's wrong with the logic here?\n",
        "def fizz_buzz():\n",
        "    for i in range(100):\n",
        "        x = i + 1\n",
        "        if x % 3 == 0:\n",
        "            if x % 3 == 0:\n",
        "                print(\"Fizz\")\n",
        "            elif x % 5 == 0:\n",
        "                print(\"FizzBuzz\")\n",
        "        elif x % 5 == 0:\n",
        "            print(\"Buzz\")\n",
        "        else:\n",
        "            print(x)\n",
        "\n",
        "fizz_buzz()"
      ]
    },
    {
      "cell_type": "code",
      "execution_count": null,
      "metadata": {
        "colab": {
          "base_uri": "https://localhost:8080/",
          "height": 1000
        },
        "id": "hLLgZ_zKSdk7",
        "outputId": "a60c36ec-0dca-4ab8-b121-f469bb39c5ab"
      },
      "outputs": [
        {
          "name": "stdout",
          "output_type": "stream",
          "text": [
            "1\n",
            "2\n",
            "Fizz\n",
            "4\n",
            "Buzz\n",
            "Fizz\n",
            "7\n",
            "8\n",
            "Fizz\n",
            "Buzz\n",
            "11\n",
            "Fizz\n",
            "13\n",
            "14\n",
            "FizzBuzz\n",
            "16\n",
            "17\n",
            "Fizz\n",
            "19\n",
            "Buzz\n",
            "Fizz\n",
            "22\n",
            "23\n",
            "Fizz\n",
            "Buzz\n",
            "26\n",
            "Fizz\n",
            "28\n",
            "29\n",
            "FizzBuzz\n",
            "31\n",
            "32\n",
            "Fizz\n",
            "34\n",
            "Buzz\n",
            "Fizz\n",
            "37\n",
            "38\n",
            "Fizz\n",
            "Buzz\n",
            "41\n",
            "Fizz\n",
            "43\n",
            "44\n",
            "FizzBuzz\n",
            "46\n",
            "47\n",
            "Fizz\n",
            "49\n",
            "Buzz\n",
            "Fizz\n",
            "52\n",
            "53\n",
            "Fizz\n",
            "Buzz\n",
            "56\n",
            "Fizz\n",
            "58\n",
            "59\n",
            "FizzBuzz\n",
            "61\n",
            "62\n",
            "Fizz\n",
            "64\n",
            "Buzz\n",
            "Fizz\n",
            "67\n",
            "68\n",
            "Fizz\n",
            "Buzz\n",
            "71\n",
            "Fizz\n",
            "73\n",
            "74\n",
            "FizzBuzz\n",
            "76\n",
            "77\n",
            "Fizz\n",
            "79\n",
            "Buzz\n",
            "Fizz\n",
            "82\n",
            "83\n",
            "Fizz\n",
            "Buzz\n",
            "86\n",
            "Fizz\n",
            "88\n",
            "89\n",
            "FizzBuzz\n",
            "91\n",
            "92\n",
            "Fizz\n",
            "94\n",
            "Buzz\n",
            "Fizz\n",
            "97\n",
            "98\n",
            "Fizz\n",
            "Buzz\n"
          ]
        }
      ],
      "source": [
        "# An alternative solution\n",
        "for i in range(1,101):\n",
        "    if i % 3 == 0: print('Fizz', end='')\n",
        "    if i % 5 == 0: print('Buzz', end='')\n",
        "    if i % 3 and i % 5: print(i, end='')\n",
        "    print()"
      ]
    },
    {
      "cell_type": "markdown",
      "metadata": {
        "id": "pk631X0tDjXa"
      },
      "source": [
        "## 2nd October 2020 - Happy Numbers"
      ]
    },
    {
      "cell_type": "code",
      "execution_count": null,
      "metadata": {
        "id": "4nLNEMq3DtHE"
      },
      "outputs": [],
      "source": [
        "# Happy numbers\n",
        "def is_happy(test_number):\n",
        "    while test_number != 1:\n",
        "        # If the new test number is a 4 it would cycle for ever, so the number must be sad.\n",
        "        if test_number == 4 or test_number == 0:\n",
        "            return False\n",
        "\n",
        "        # Cast integer to string for indexing each digit\n",
        "        test_string = str(test_number)\n",
        "        total = 0\n",
        "        # Calculate each digit in the number\n",
        "        for digit in test_string:\n",
        "            # Cast the digit to an integer\n",
        "            digit = int(digit)\n",
        "            # Calculate the new number\n",
        "            total = total + (digit * digit)\n",
        "        test_number = total\n",
        "    return True"
      ]
    },
    {
      "cell_type": "code",
      "execution_count": null,
      "metadata": {
        "colab": {
          "base_uri": "https://localhost:8080/",
          "height": 34
        },
        "id": "MAsjC05bKXWe",
        "outputId": "8412ecc0-844f-49fc-a7f6-d9e94c2f080b"
      },
      "outputs": [
        {
          "data": {
            "text/plain": [
              "True"
            ]
          },
          "execution_count": 7,
          "metadata": {
            "tags": []
          },
          "output_type": "execute_result"
        }
      ],
      "source": [
        "is_happy(7)"
      ]
    },
    {
      "cell_type": "code",
      "execution_count": null,
      "metadata": {
        "colab": {
          "base_uri": "https://localhost:8080/",
          "height": 54
        },
        "id": "vUxmiW4yKter",
        "outputId": "5e3dbd5d-376b-4a67-97fa-36d37685f9b1"
      },
      "outputs": [
        {
          "name": "stdout",
          "output_type": "stream",
          "text": [
            "[1, 7, 10, 13, 19, 23, 28, 31, 32, 44, 49, 68, 70, 79, 82, 86, 91, 94, 97, 100, 103, 109, 129, 130, 133, 139, 167, 176, 188, 190, 192, 193, 203, 208, 219, 226, 230, 236, 239, 262, 263, 280, 291, 293, 301, 302, 310, 313, 319, 320, 326, 329, 331, 338, 356, 362, 365, 367, 368, 376, 379, 383, 386, 391, 392, 397, 404, 409, 440, 446, 464, 469, 478, 487, 490, 496, 536, 556, 563, 565, 566, 608, 617, 622, 623, 632, 635, 637, 638, 644, 649, 653, 655, 656, 665, 671, 673, 680, 683, 694, 700, 709, 716, 736, 739, 748, 761, 763, 784, 790, 793, 802, 806, 818, 820, 833, 836, 847, 860, 863, 874, 881, 888, 899, 901, 904, 907, 910, 912, 913, 921, 923, 931, 932, 937, 940, 946, 964, 970, 973, 989, 998, 1000, 1003, 1009, 1029, 1030, 1033, 1039, 1067, 1076, 1088, 1090, 1092, 1093, 1112, 1114, 1115, 1121, 1122, 1125, 1128, 1141, 1148, 1151, 1152, 1158, 1177, 1182, 1184, 1185, 1188, 1209, 1211, 1212, 1215, 1218, 1221, 1222, 1233, 1247, 1251, 1257, 1258, 1274, 1275, 1277, 1281, 1285, 1288, 1290, 1299, 1300, 1303, 1309, 1323, 1330, 1332, 1333, 1335, 1337, 1339, 1353, 1366, 1373, 1390, 1393, 1411, 1418, 1427, 1444, 1447, 1448, 1457, 1472, 1474, 1475, 1478, 1481, 1484, 1487, 1511, 1512, 1518, 1521, 1527, 1528, 1533, 1547, 1557, 1572, 1574, 1575, 1578, 1581, 1582, 1587, 1599, 1607, 1636, 1663, 1666, 1670, 1679, 1697, 1706, 1717, 1724, 1725, 1727, 1733, 1742, 1744, 1745, 1748, 1752, 1754, 1755, 1758, 1760, 1769, 1771, 1772, 1784, 1785, 1796, 1808, 1812, 1814, 1815, 1818, 1821, 1825, 1828, 1841, 1844, 1847, 1851, 1852, 1857, 1874, 1875, 1880, 1881, 1882, 1888, 1900, 1902, 1903, 1920, 1929, 1930, 1933, 1959, 1967, 1976, 1992, 1995, 2003, 2008, 2019, 2026, 2030, 2036, 2039, 2062, 2063, 2080, 2091, 2093, 2109, 2111, 2112, 2115, 2118, 2121, 2122, 2133, 2147, 2151, 2157, 2158, 2174, 2175, 2177, 2181, 2185, 2188, 2190, 2199, 2206, 2211, 2212, 2221, 2224, 2242, 2245, 2254, 2257, 2258, 2260, 2275, 2285, 2300, 2306, 2309, 2313, 2331, 2333, 2338, 2339, 2360, 2369, 2383, 2390, 2393, 2396, 2417, 2422, 2425, 2448, 2452, 2455, 2457, 2458, 2471, 2475, 2478, 2484, 2485, 2487, 2511, 2517, 2518, 2524, 2527, 2528, 2542, 2545, 2547, 2548, 2554, 2555, 2557, 2568, 2571, 2572, 2574, 2575, 2581, 2582, 2584, 2586, 2602, 2603, 2620, 2630, 2639, 2658, 2685, 2693, 2714, 2715, 2717, 2725, 2741, 2745, 2748, 2751, 2752, 2754, 2755, 2771, 2784, 2800, 2811, 2815, 2818, 2825, 2833, 2844, 2845, 2847, 2851, 2852, 2854, 2856, 2865, 2874, 2881, 2899, 2901, 2903, 2910, 2919, 2930, 2933, 2936, 2963, 2989, 2991, 2998, 3001, 3002, 3010, 3013, 3019, 3020, 3026, 3029, 3031, 3038, 3056, 3062, 3065, 3067, 3068, 3076, 3079, 3083, 3086, 3091, 3092, 3097, 3100, 3103, 3109, 3123, 3130, 3132, 3133, 3135, 3137, 3139, 3153, 3166, 3173, 3190, 3193, 3200, 3206, 3209, 3213, 3231, 3233, 3238, 3239, 3260, 3269, 3283, 3290, 3293, 3296, 3301, 3308, 3310, 3312, 3313, 3315, 3317, 3319, 3321, 3323, 3328, 3329, 3331, 3332, 3338, 3346, 3351, 3355, 3356, 3364, 3365, 3367, 3371, 3376, 3380, 3382, 3383, 3391, 3392, 3436, 3456, 3463, 3465, 3466, 3506, 3513, 3531, 3535, 3536, 3546, 3553, 3560, 3563, 3564, 3602, 3605, 3607, 3608, 3616, 3620, 3629, 3634, 3635, 3637, 3643, 3645, 3646, 3650, 3653, 3654, 3661, 3664, 3667, 3670, 3673, 3676, 3680, 3689, 3692, 3698, 3706, 3709, 3713, 3731, 3736, 3760, 3763, 3766, 3779, 3789, 3790, 3797, 3798, 3803, 3806, 3823, 3830, 3832, 3833, 3860, 3869, 3879, 3896, 3897, 3901, 3902, 3907, 3910, 3913, 3920, 3923, 3926, 3931, 3932, 3962, 3968, 3970, 3977, 3978, 3986, 3987, 4004, 4009, 4040, 4046, 4064, 4069, 4078, 4087, 4090, 4096, 4111, 4118, 4127, 4144, 4147, 4148, 4157, 4172, 4174, 4175, 4178, 4181, 4184, 4187, 4217, 4222, 4225, 4248, 4252, 4255, 4257, 4258, 4271, 4275, 4278, 4284, 4285, 4287, 4336, 4356, 4363, 4365, 4366, 4400, 4406, 4414, 4417, 4418, 4428, 4441, 4447, 4449, 4455, 4460, 4471, 4474, 4477, 4481, 4482, 4494, 4517, 4522, 4525, 4527, 4528, 4536, 4545, 4552, 4554, 4555, 4558, 4563, 4571, 4572, 4577, 4582, 4585, 4599, 4604, 4609, 4633, 4635, 4636, 4640, 4653, 4663, 4690, 4708, 4712, 4714, 4715, 4718, 4721, 4725, 4728, 4741, 4744, 4747, 4751, 4752, 4757, 4774, 4775, 4780, 4781, 4782, 4788, 4807, 4811, 4814, 4817, 4824, 4825, 4827, 4841, 4842, 4852, 4855, 4870, 4871, 4872, 4878, 4887, 4888, 4900, 4906, 4944, 4959, 4960, 4995, 5036, 5056, 5063, 5065, 5066, 5111, 5112, 5118, 5121, 5127, 5128, 5133, 5147, 5157, 5172, 5174, 5175, 5178, 5181, 5182, 5187, 5199, 5211, 5217, 5218, 5224, 5227, 5228, 5242, 5245, 5247, 5248, 5254, 5255, 5257, 5268, 5271, 5272, 5274, 5275, 5281, 5282, 5284, 5286, 5306, 5313, 5331, 5335, 5336, 5346, 5353, 5360, 5363, 5364, 5417, 5422, 5425, 5427, 5428, 5436, 5445, 5452, 5454, 5455, 5458, 5463, 5471, 5472, 5477, 5482, 5485, 5499, 5506, 5517, 5524, 5525, 5527, 5533, 5542, 5544, 5545, 5548, 5552, 5554, 5555, 5558, 5560, 5569, 5571, 5572, 5584, 5585, 5596, 5603, 5605, 5606, 5628, 5630, 5633, 5634, 5643, 5650, 5659, 5660, 5666, 5682, 5695, 5712, 5714, 5715, 5718, 5721, 5722, 5724, 5725, 5741, 5742, 5747, 5751, 5752, 5774, 5781, 5789, 5798, 5799, 5811, 5812, 5817, 5821, 5822, 5824, 5826, 5842, 5845, 5854, 5855, 5862, 5871, 5879, 5897, 5919, 5949, 5956, 5965, 5978, 5979, 5987, 5991, 5994, 5997, 6008, 6017, 6022, 6023, 6032, 6035, 6037, 6038, 6044, 6049, 6053, 6055, 6056, 6065, 6071, 6073, 6080, 6083, 6094, 6107, 6136, 6163, 6166, 6170, 6179, 6197, 6202, 6203, 6220, 6230, 6239, 6258, 6285, 6293, 6302, 6305, 6307, 6308, 6316, 6320, 6329, 6334, 6335, 6337, 6343, 6345, 6346, 6350, 6353, 6354, 6361, 6364, 6367, 6370, 6373, 6376, 6380, 6389, 6392, 6398, 6404, 6409, 6433, 6435, 6436, 6440, 6453, 6463, 6490, 6503, 6505, 6506, 6528, 6530, 6533, 6534, 6543, 6550, 6559, 6560, 6566, 6582, 6595, 6605, 6613, 6616, 6631, 6634, 6637, 6643, 6650, 6656, 6661, 6665, 6673, 6701, 6703, 6710, 6719, 6730, 6733, 6736, 6763, 6789, 6791, 6798, 6800, 6803, 6825, 6830, 6839, 6852, 6879, 6893, 6897, 6899, 6904, 6917, 6923, 6932, 6938, 6940, 6955, 6971, 6978, 6983, 6987, 6989, 6998, 7000, 7009, 7016, 7036, 7039, 7048, 7061, 7063, 7084, 7090, 7093, 7106, 7117, 7124, 7125, 7127, 7133, 7142, 7144, 7145, 7148, 7152, 7154, 7155, 7158, 7160, 7169, 7171, 7172, 7184, 7185, 7196, 7214, 7215, 7217, 7225, 7241, 7245, 7248, 7251, 7252, 7254, 7255, 7271, 7284, 7306, 7309, 7313, 7331, 7336, 7360, 7363, 7366, 7379, 7389, 7390, 7397, 7398, 7408, 7412, 7414, 7415, 7418, 7421, 7425, 7428, 7441, 7444, 7447, 7451, 7452, 7457, 7474, 7475, 7480, 7481, 7482, 7488, 7512, 7514, 7515, 7518, 7521, 7522, 7524, 7525, 7541, 7542, 7547, 7551, 7552, 7574, 7581, 7589, 7598, 7599, 7601, 7603, 7610, 7619, 7630, 7633, 7636, 7663, 7689, 7691, 7698, 7711, 7712, 7721, 7739, 7744, 7745, 7754, 7788, 7793, 7804, 7814, 7815, 7824, 7839, 7840, 7841, 7842, 7848, 7851, 7859, 7869, 7878, 7884, 7887, 7893, 7895, 7896, 7900, 7903, 7916, 7930, 7937, 7938, 7958, 7959, 7961, 7968, 7973, 7983, 7985, 7986, 7995, 8002, 8006, 8018, 8020, 8033, 8036, 8047, 8060, 8063, 8074, 8081, 8088, 8099, 8108, 8112, 8114, 8115, 8118, 8121, 8125, 8128, 8141, 8144, 8147, 8151, 8152, 8157, 8174, 8175, 8180, 8181, 8182, 8188, 8200, 8211, 8215, 8218, 8225, 8233, 8244, 8245, 8247, 8251, 8252, 8254, 8256, 8265, 8274, 8281, 8299, 8303, 8306, 8323, 8330, 8332, 8333, 8360, 8369, 8379, 8396, 8397, 8407, 8411, 8414, 8417, 8424, 8425, 8427, 8441, 8442, 8452, 8455, 8470, 8471, 8472, 8478, 8487, 8488, 8511, 8512, 8517, 8521, 8522, 8524, 8526, 8542, 8545, 8554, 8555, 8562, 8571, 8579, 8597, 8600, 8603, 8625, 8630, 8639, 8652, 8679, 8693, 8697, 8699, 8704, 8714, 8715, 8724, 8739, 8740, 8741, 8742, 8748, 8751, 8759, 8769, 8778, 8784, 8787, 8793, 8795, 8796, 8801, 8808, 8810, 8811, 8812, 8818, 8821, 8847, 8848, 8874, 8877, 8880, 8881, 8884, 8909, 8929, 8936, 8937, 8957, 8963, 8967, 8969, 8973, 8975, 8976, 8990, 8992, 8996, 9001, 9004, 9007, 9010, 9012, 9013, 9021, 9023, 9031, 9032, 9037, 9040, 9046, 9064, 9070, 9073, 9089, 9098, 9100, 9102, 9103, 9120, 9129, 9130, 9133, 9159, 9167, 9176, 9192, 9195, 9201, 9203, 9210, 9219, 9230, 9233, 9236, 9263, 9289, 9291, 9298, 9301, 9302, 9307, 9310, 9313, 9320, 9323, 9326, 9331, 9332, 9362, 9368, 9370, 9377, 9378, 9386, 9387, 9400, 9406, 9444, 9459, 9460, 9495, 9519, 9549, 9556, 9565, 9578, 9579, 9587, 9591, 9594, 9597, 9604, 9617, 9623, 9632, 9638, 9640, 9655, 9671, 9678, 9683, 9687, 9689, 9698, 9700, 9703, 9716, 9730, 9737, 9738, 9758, 9759, 9761, 9768, 9773, 9783, 9785, 9786, 9795, 9809, 9829, 9836, 9837, 9857, 9863, 9867, 9869, 9873, 9875, 9876, 9890, 9892, 9896, 9908, 9912, 9915, 9921, 9928, 9945, 9951, 9954, 9957, 9968, 9975, 9980, 9982, 9986, 10000, 10003, 10009, 10029, 10030, 10033, 10039, 10067, 10076, 10088, 10090, 10092, 10093, 10112, 10114, 10115, 10121, 10122, 10125, 10128, 10141, 10148, 10151, 10152, 10158, 10177, 10182, 10184, 10185, 10188, 10209, 10211, 10212, 10215, 10218, 10221, 10222, 10233, 10247, 10251, 10257, 10258, 10274, 10275, 10277, 10281, 10285, 10288, 10290, 10299, 10300, 10303, 10309, 10323, 10330, 10332, 10333, 10335, 10337, 10339, 10353, 10366, 10373, 10390, 10393, 10411, 10418, 10427, 10444, 10447, 10448, 10457, 10472, 10474, 10475, 10478, 10481, 10484, 10487, 10511, 10512, 10518, 10521, 10527, 10528, 10533, 10547, 10557, 10572, 10574, 10575, 10578, 10581, 10582, 10587, 10599, 10607, 10636, 10663, 10666, 10670, 10679, 10697, 10706, 10717, 10724, 10725, 10727, 10733, 10742, 10744, 10745, 10748, 10752, 10754, 10755, 10758, 10760, 10769, 10771, 10772, 10784, 10785, 10796, 10808, 10812, 10814, 10815, 10818, 10821, 10825, 10828, 10841, 10844, 10847, 10851, 10852, 10857, 10874, 10875, 10880, 10881, 10882, 10888, 10900, 10902, 10903, 10920, 10929, 10930, 10933, 10959, 10967, 10976, 10992, 10995, 11012, 11014, 11015, 11021, 11022, 11025, 11028, 11041, 11048, 11051, 11052, 11058, 11077, 11082, 11084, 11085, 11088, 11102, 11104, 11105, 11113, 11118, 11120, 11124, 11125, 11131, 11134, 11140, 11142, 11143, 11145, 11147, 11149, 11150, 11152, 11154, 11159, 11168, 11174, 11179, 11181, 11186, 11194, 11195, 11197, 11201, 11202, 11205, 11208, 11210, 11214, 11215, 11220, 11223, 11229, 11232, 11234, 11238, 11241, 11243, 11248, 11249, 11250, 11251, 11267, 11276, 11280, 11283, 11284, 11292, 11294, 11311, 11314, 11322, 11324, 11328, 11341, 11342, 11348, 11358, 11377, 11382, 11384, 11385, 11388, 11401, 11408, 11410, 11412, 11413, 11415, 11417, 11419, 11421, 11423, 11428, 11429, 11431, 11432, 11438, 11446, 11451, 11455, 11456, 11464, 11465, 11467, 11471, 11476, 11480, 11482, 11483, 11491, 11492, 11501, 11502, 11508, 11510, 11512, 11514, 11519, 11520, 11521, 11538, 11541, 11545, 11546, 11554, 11559, 11564, 11580, 11583, 11591, 11595, 11618, 11627, 11644, 11645, 11647, 11654, 11672, 11674, 11681, 11707, 11714, 11719, 11726, 11737, 11741, 11746, 11762, 11764, 11770, 11773, 11791, 11802, 11804, 11805, 11808, 11811, 11816, 11820, 11823, 11824, 11832, 11834, 11835, 11838, 11840, 11842, 11843, 11850, 11853, 11861, 11880, 11883, 11914, 11915, 11917, 11922, 11924, 11941, 11942, 11951, 11955, 11971, 12009, 12011, 12012, 12015, 12018, 12021, 12022, 12033, 12047, 12051, 12057, 12058, 12074, 12075, 12077, 12081, 12085, 12088, 12090, 12099, 12101, 12102, 12105, 12108, 12110, 12114, 12115, 12120, 12123, 12129, 12132, 12134, 12138, 12141, 12143, 12148, 12149, 12150, 12151, 12167, 12176, 12180, 12183, 12184, 12192, 12194, 12201, 12202, 12210, 12213, 12219, 12220, 12226, 12229, 12231, 12238, 12256, 12262, 12265, 12267, 12268, 12276, 12279, 12283, 12286, 12291, 12292, 12297, 12303, 12312, 12314, 12318, 12321, 12328, 12330, 12333, 12341, 12347, 12348, 12358, 12366, 12374, 12381, 12382, 12384, 12385, 12399, 12407, 12411, 12413, 12418, 12419, 12431, 12437, 12438, 12447, 12456, 12465, 12470, 12473, 12474, 12481, 12483, 12491, 12501, 12507, 12508, 12510, 12511, 12526, 12538, 12546, 12556, 12562, 12564, 12565, 12568, 12570, 12580, 12583, 12586, 12599, 12617, 12622, 12625, 12627, 12628, 12636, 12645, 12652, 12654, 12655, 12658, 12663, 12671, 12672, 12677, 12682, 12685, 12699, 12704, 12705, 12707, 12716, 12726, 12729, 12734, 12740, 12743, 12744, 12750, 12761, 12762, 12767, 12770, 12776, 12778, 12787, 12792, 12801, 12805, 12808, 12810, 12813, 12814, 12823, 12826, 12831, 12832, 12834, 12835, 12841, 12843, 12850, 12853, 12856, 12862, 12865, 12877, 12880, 12900, 12909, 12912, 12914, 12921, 12922, 12927, 12939, 12941, 12959, 12969, 12972, 12990, 12993, 12995, 12996, 13000, 13003, 13009, 13023, 13030, 13032, 13033, 13035, 13037, 13039, 13053, 13066, 13073, 13090, 13093, 13111, 13114, 13122, 13124, 13128, 13141, 13142, 13148, 13158, 13177, 13182, 13184, 13185, 13188, 13203, 13212, 13214, 13218, 13221, 13228, 13230, 13233, 13241, 13247, 13248, 13258, 13266, 13274, 13281, 13282, 13284, 13285, 13299, 13300, 13302, 13303, 13305, 13307, 13309, 13320, 13323, 13330, 13332, 13334, 13339, 13343, 13350, 13366, 13370, 13390, 13393, 13411, 13412, 13418, 13421, 13427, 13428, 13433, 13447, 13457, 13472, 13474, 13475, 13478, 13481, 13482, 13487, 13499, 13503, 13518, 13528, 13530, 13547, 13557, 13574, 13575, 13577, 13581, 13582, 13606, 13626, 13636, 13660, 13662, 13663, 13679, 13697, 13699, 13703, 13717, 13724, 13730, 13742, 13744, 13745, 13748, 13754, 13755, 13757, 13769, 13771, 13775, 13784, 13796, 13812, 13814, 13815, 13818, 13821, 13822, 13824, 13825, 13841, 13842, 13847, 13851, 13852, 13874, 13881, 13889, 13898, 13899, 13900, 13903, 13929, 13930, 13933, 13949, 13967, 13969, 13976, 13988, 13989, 13992, 13994, 13996, 13998, 14011, 14018, 14027, 14044, 14047, 14048, 14057, 14072, 14074, 14075, 14078, 14081, 14084, 14087, 14101, 14108, 14110, 14112, 14113, 14115, 14117, 14119, 14121, 14123, 14128, 14129, 14131, 14132, 14138, 14146, 14151, 14155, 14156, 14164, 14165, 14167, 14171, 14176, 14180, 14182, 14183, 14191, 14192, 14207, 14211, 14213, 14218, 14219, 14231, 14237, 14238, 14247, 14256, 14265, 14270, 14273, 14274, 14281, 14283, 14291, 14311, 14312, 14318, 14321, 14327, 14328, 14333, 14347, 14357, 14372, 14374, 14375, 14378, 14381, 14382, 14387, 14399, 14404, 14407, 14408, 14416, 14427, 14437, 14440, 14449, 14456, 14459, 14461, 14465, 14468, 14470, 14472, 14473, 14480, 14486, 14494, 14495, 14507, 14511, 14515, 14516, 14526, 14537, 14546, 14549, 14551, 14556, 14561, 14562, 14564, 14565, 14570, 14573, 14594, 14614, 14615, 14617, 14625, 14641, 14645, 14648, 14651, 14652, 14654, 14655, 14671, 14684, 14702, 14704, 14705, 14708, 14711, 14716, 14720, 14723, 14724, 14732, 14734, 14735, 14738, 14740, 14742, 14743, 14750, 14753, 14761, 14780, 14783, 14801, 14804, 14807, 14810, 14812, 14813, 14821, 14823, 14831, 14832, 14837, 14840, 14846, 14864, 14870, 14873, 14889, 14898, 14911, 14912, 14921, 14939, 14944, 14945, 14954, 14988, 14993, 15011, 15012, 15018, 15021, 15027, 15028, 15033, 15047, 15057, 15072, 15074, 15075, 15078, 15081, 15082, 15087, 15099, 15101, 15102, 15108, 15110, 15112, 15114, 15119, 15120, 15121, 15138, 15141, 15145, 15146, 15154, 15159, 15164, 15180, 15183, 15191, 15195, 15201, 15207, 15208, 15210, 15211, 15226, 15238, 15246, 15256, 15262, 15264, 15265, 15268, 15270, 15280, 15283, 15286, 15299, 15303, 15318, 15328, 15330, 15347, 15357, 15374, 15375, 15377, 15381, 15382, 15407, 15411, 15415, 15416, 15426, 15437, 15446, 15449, 15451, 15456, 15461, 15462, 15464, 15465, 15470, 15473, 15494, 15507, 15514, 15519, 15526, 15537, 15541, 15546, 15562, 15564, 15570, 15573, 15591, 15614, 15622, 15624, 15625, 15628, 15641, 15642, 15644, 15645, 15652, 15654, 15679, 15682, 15688, 15697, 15702, 15704, 15705, 15708, 15720, 15734, 15735, 15737, 15740, 15743, 15750, 15753, 15769, 15773, 15778, 15780, 15787, 15788, 15796, 15801, 15802, 15807, 15810, 15813, 15820, 15823, 15826, 15831, 15832, 15862, 15868, 15870, 15877, 15878, 15886, 15887, 15909, 15911, 15915, 15929, 15944, 15951, 15967, 15976, 15990, 15992, 16007, 16036, 16063, 16066, 16070, 16079, 16097, 16118, 16127, 16144, 16145, 16147, 16154, 16172, 16174, 16181, 16217, 16222, 16225, 16227, 16228, 16236, 16245, 16252, 16254, 16255, 16258, 16263, 16271, 16272, 16277, 16282, 16285, 16299, 16306, 16326, 16336, 16360, 16362, 16363, 16379, 16397, 16399, 16414, 16415, 16417, 16425, 16441, 16445, 16448, 16451, 16452, 16454, 16455, 16471, 16484, 16514, 16522, 16524, 16525, 16528, 16541, 16542, 16544, 16545, 16552, 16554, 16579, 16582, 16588, 16597, 16603, 16606, 16623, 16630, 16632, 16633, 16660, 16669, 16679, 16696, 16697, 16700, 16709, 16712, 16714, 16721, 16722, 16727, 16739, 16741, 16759, 16769, 16772, 16790, 16793, 16795, 16796, 16811, 16822, 16825, 16844, 16852, 16858, 16885, 16899, 16907, 16929, 16937, 16939, 16957, 16966, 16967, 16970, 16973, 16975, 16976, 16989, 16992, 16993, 16998, 16999, 17006, 17017, 17024, 17025, 17027, 17033, 17042, 17044, 17045, 17048, 17052, 17054, 17055, 17058, 17060, 17069, 17071, 17072, 17084, 17085, 17096, 17107, 17114, 17119, 17126, 17137, 17141, 17146, 17162, 17164, 17170, 17173, 17191, 17204, 17205, 17207, 17216, 17226, 17229, 17234, 17240, 17243, 17244, 17250, 17261, 17262, 17267, 17270, 17276, 17278, 17287, 17292, 17303, 17317, 17324, 17330, 17342, 17344, 17345, 17348, 17354, 17355, 17357, 17369, 17371, 17375, 17384, 17396, 17402, 17404, 17405, 17408, 17411, 17416, 17420, 17423, 17424, 17432, 17434, 17435, 17438, 17440, 17442, 17443, 17450, 17453, 17461, 17480, 17483, 17502, 17504, 17505, 17508, 17520, 17534, 17535, 17537, 17540, 17543, 17550, 17553, 17569, 17573, 17578, 17580, 17587, 17588, 17596, 17600, 17609, 17612, 17614, 17621, 17622, 17627, 17639, 17641, 17659, 17669, 17672, 17690, 17693, 17695, 17696, 17701, 17702, 17710, 17713, 17720, 17726, 17728, 17731, 17735, 17753, 17758, 17762, 17782, 17785, 17804, 17805, 17827, 17834, 17840, 17843, 17850, 17857, 17858, 17872, 17875, 17885, 17906, 17911, 17922, 17936, 17956, 17960, 17963, 17965, 17966, 17999, 18008, 18012, 18014, 18015, 18018, 18021, 18025, 18028, 18041, 18044, 18047, 18051, 18052, 18057, 18074, 18075, 18080, 18081, 18082, 18088, 18102, 18104, 18105, 18108, 18111, 18116, 18120, 18123, 18124, 18132, 18134, 18135, 18138, 18140, 18142, 18143, 18150, 18153, 18161, 18180, 18183, 18201, 18205, 18208, 18210, 18213, 18214, 18223, 18226, 18231, 18232, 18234, 18235, 18241, 18243, 18250, 18253, 18256, 18262, 18265, 18277, 18280, 18312, 18314, 18315, 18318, 18321, 18322, 18324, 18325, 18341, 18342, 18347, 18351, 18352, 18374, 18381, 18389, 18398, 18399, 18401, 18404, 18407, 18410, 18412, 18413, 18421, 18423, 18431, 18432, 18437, 18440, 18446, 18464, 18470, 18473, 18489, 18498, 18501, 18502, 18507, 18510, 18513, 18520, 18523, 18526, 18531, 18532, 18562, 18568, 18570, 18577, 18578, 18586, 18587, 18611, 18622, 18625, 18644, 18652, 18658, 18685, 18699, 18704, 18705, 18727, 18734, 18740, 18743, 18750, 18757, 18758, 18772, 18775, 18785, 18800, 18801, 18802, 18808, 18810, 18813, 18820, 18831, 18839, 18849, 18856, 18857, 18865, 18875, 18880, 18893, 18894, 18899, 18938, 18939, 18948, 18969, 18983, 18984, 18989, 18993, 18996, 18998, 19000, 19002, 19003, 19020, 19029, 19030, 19033, 19059, 19067, 19076, 19092, 19095, 19114, 19115, 19117, 19122, 19124, 19141, 19142, 19151, 19155, 19171, 19200, 19209, 19212, 19214, 19221, 19222, 19227, 19239, 19241, 19259, 19269, 19272, 19290, 19293, 19295, 19296, 19300, 19303, 19329, 19330, 19333, 19349, 19367, 19369, 19376, 19388, 19389, 19392, 19394, 19396, 19398, 19411, 19412, 19421, 19439, 19444, 19445, 19454, 19488, 19493, 19509, 19511, 19515, 19529, 19544, 19551, 19567, 19576, 19590, 19592, 19607, 19629, 19637, 19639, 19657, 19666, 19667, 19670, 19673, 19675, 19676, 19689, 19692, 19693, 19698, 19699, 19706, 19711, 19722, 19736, 19756, 19760, 19763, 19765, 19766, 19799, 19838, 19839, 19848, 19869, 19883, 19884, 19889, 19893, 19896, 19898, 19902, 19905, 19920, 19923, 19925, 19926, 19932, 19934, 19936, 19938, 19943, 19950, 19952, 19962, 19963, 19968, 19969, 19979, 19983, 19986, 19988, 19996, 19997, 20003, 20008, 20019, 20026, 20030, 20036, 20039, 20062, 20063, 20080, 20091, 20093, 20109, 20111, 20112, 20115, 20118, 20121, 20122, 20133, 20147, 20151, 20157, 20158, 20174, 20175, 20177, 20181, 20185, 20188, 20190, 20199, 20206, 20211, 20212, 20221, 20224, 20242, 20245, 20254, 20257, 20258, 20260, 20275, 20285, 20300, 20306, 20309, 20313, 20331, 20333, 20338, 20339, 20360, 20369, 20383, 20390, 20393, 20396, 20417, 20422, 20425, 20448, 20452, 20455, 20457, 20458, 20471, 20475, 20478, 20484, 20485, 20487, 20511, 20517, 20518, 20524, 20527, 20528, 20542, 20545, 20547, 20548, 20554, 20555, 20557, 20568, 20571, 20572, 20574, 20575, 20581, 20582, 20584, 20586, 20602, 20603, 20620, 20630, 20639, 20658, 20685, 20693, 20714, 20715, 20717, 20725, 20741, 20745, 20748, 20751, 20752, 20754, 20755, 20771, 20784, 20800, 20811, 20815, 20818, 20825, 20833, 20844, 20845, 20847, 20851, 20852, 20854, 20856, 20865, 20874, 20881, 20899, 20901, 20903, 20910, 20919, 20930, 20933, 20936, 20963, 20989, 20991, 20998, 21009, 21011, 21012, 21015, 21018, 21021, 21022, 21033, 21047, 21051, 21057, 21058, 21074, 21075, 21077, 21081, 21085, 21088, 21090, 21099, 21101, 21102, 21105, 21108, 21110, 21114, 21115, 21120, 21123, 21129, 21132, 21134, 21138, 21141, 21143, 21148, 21149, 21150, 21151, 21167, 21176, 21180, 21183, 21184, 21192, 21194, 21201, 21202, 21210, 21213, 21219, 21220, 21226, 21229, 21231, 21238, 21256, 21262, 21265, 21267, 21268, 21276, 21279, 21283, 21286, 21291, 21292, 21297, 21303, 21312, 21314, 21318, 21321, 21328, 21330, 21333, 21341, 21347, 21348, 21358, 21366, 21374, 21381, 21382, 21384, 21385, 21399, 21407, 21411, 21413, 21418, 21419, 21431, 21437, 21438, 21447, 21456, 21465, 21470, 21473, 21474, 21481, 21483, 21491, 21501, 21507, 21508, 21510, 21511, 21526, 21538, 21546, 21556, 21562, 21564, 21565, 21568, 21570, 21580, 21583, 21586, 21599, 21617, 21622, 21625, 21627, 21628, 21636, 21645, 21652, 21654, 21655, 21658, 21663, 21671, 21672, 21677, 21682, 21685, 21699, 21704, 21705, 21707, 21716, 21726, 21729, 21734, 21740, 21743, 21744, 21750, 21761, 21762, 21767, 21770, 21776, 21778, 21787, 21792, 21801, 21805, 21808, 21810, 21813, 21814, 21823, 21826, 21831, 21832, 21834, 21835, 21841, 21843, 21850, 21853, 21856, 21862, 21865, 21877, 21880, 21900, 21909, 21912, 21914, 21921, 21922, 21927, 21939, 21941, 21959, 21969, 21972, 21990, 21993, 21995, 21996, 22006, 22011, 22012, 22021, 22024, 22042, 22045, 22054, 22057, 22058, 22060, 22075, 22085, 22101, 22102, 22110, 22113, 22119, 22120, 22126, 22129, 22131, 22138, 22156, 22162, 22165, 22167, 22168, 22176, 22179, 22183, 22186, 22191, 22192, 22197, 22201, 22204, 22210, 22216, 22219, 22224, 22229, 22237, 22240, 22242, 22244, 22249, 22257, 22261, 22267, 22269, 22273, 22275, 22276, 22291, 22292, 22294, 22296, 22311, 22318, 22327, 22344, 22347, 22348, 22357, 22372, 22374, 22375, 22378, 22381, 22384, 22387, 22402, 22405, 22420, 22422, 22424, 22429, 22434, 22437, 22438, 22442, 22443, 22450, 22459, 22467, 22473, 22476, 22483, 22492, 22495, 22504, 22507, 22508, 22516, 22527, 22537, 22540, 22549, 22556, 22559, 22561, 22565, 22568, 22570, 22572, 22573, 22580, 22586, 22594, 22595, 22600, 22612, 22615, 22617, 22618, 22621, 22627, 22629, 22647, 22651, 22655, 22658, 22667, 22671, 22672, 22674, 22676, 22681, 22685, 22692, 22705, 22716, 22719, 22723, 22725, 22726, 22732, 22734, 22735, 22738, 22743, 22746, 22750, 22752, 22753, 22761, 22762, 22764, 22766, 22783, 22791, 22799, 22805, 22813, 22816, 22831, 22834, 22837, 22843, 22850, 22856, 22861, 22865, 22873, 22911, 22912, 22917, 22921, 22922, 22924, 22926, 22942, 22945, 22954, 22955, 22962, 22971, 22979, 22997, 23000, 23006, 23009, 23013, 23031, 23033, 23038, 23039, 23060, 23069, 23083, 23090, 23093, 23096, 23103, 23112, 23114, 23118, 23121, 23128, 23130, 23133, 23141, 23147, 23148, 23158, 23166, 23174, 23181, 23182, 23184, 23185, 23199, 23211, 23218, 23227, 23244, 23247, 23248, 23257, 23272, 23274, 23275, 23278, 23281, 23284, 23287, 23301, 23303, 23308, 23309, 23310, 23313, 23330, 23331, 23366, 23369, 23380, 23389, 23390, 23396, 23398, 23411, 23417, 23418, 23424, 23427, 23428, 23442, 23445, 23447, 23448, 23454, 23455, 23457, 23468, 23471, 23472, 23474, 23475, 23481, 23482, 23484, 23486, 23518, 23527, 23544, 23545, 23547, 23554, 23572, 23574, 23581, 23600, 23609, 23616, 23636, 23639, 23648, 23661, 23663, 23684, 23690, 23693, 23714, 23722, 23724, 23725, 23728, 23741, 23742, 23744, 23745, 23752, 23754, 23779, 23782, 23788, 23797, 23803, 23811, 23812, 23814, 23815, 23821, 23824, 23827, 23830, 23839, 23841, 23842, 23844, 23846, 23851, 23864, 23872, 23878, 23887, 23893, 23899, 23900, 23903, 23906, 23919, 23930, 23936, 23938, 23960, 23963, 23977, 23983, 23989, 23991, 23998, 24017, 24022, 24025, 24048, 24052, 24055, 24057, 24058, 24071, 24075, 24078, 24084, 24085, 24087, 24107, 24111, 24113, 24118, 24119, 24131, 24137, 24138, 24147, 24156, 24165, 24170, 24173, 24174, 24181, 24183, 24191, 24202, 24205, 24220, 24222, 24224, 24229, 24234, 24237, 24238, 24242, 24243, 24250, 24259, 24267, 24273, 24276, 24283, 24292, 24295, 24311, 24317, 24318, 24324, 24327, 24328, 24342, 24345, 24347, 24348, 24354, 24355, 24357, 24368, 24371, 24372, 24374, 24375, 24381, 24382, 24384, 24386, 24408, 24417, 24422, 24423, 24432, 24435, 24437, 24438, 24444, 24449, 24453, 24455, 24456, 24465, 24471, 24473, 24480, 24483, 24494, 24502, 24505, 24507, 24508, 24516, 24520, 24529, 24534, 24535, 24537, 24543, 24545, 24546, 24550, 24553, 24554, 24561, 24564, 24567, 24570, 24573, 24576, 24580, 24589, 24592, 24598, 24615, 24627, 24638, 24645, 24651, 24654, 24657, 24672, 24675, 24683, 24701, 24705, 24708, 24710, 24713, 24714, 24723, 24726, 24731, 24732, 24734, 24735, 24741, 24743, 24750, 24753, 24756, 24762, 24765, 24777, 24780, 24804, 24805, 24807, 24811, 24813, 24823, 24831, 24832, 24834, 24836, 24840, 24843, 24850, 24859, 24863, 24870, 24895, 24911, 24922, 24925, 24944, 24952, 24958, 24985, 24999, 25011, 25017, 25018, 25024, 25027, 25028, 25042, 25045, 25047, 25048, 25054, 25055, 25057, 25068, 25071, 25072, 25074, 25075, 25081, 25082, 25084, 25086, 25101, 25107, 25108, 25110, 25111, 25126, 25138, 25146, 25156, 25162, 25164, 25165, 25168, 25170, 25180, 25183, 25186, 25199, 25204, 25207, 25208, 25216, 25227, 25237, 25240, 25249, 25256, 25259, 25261, 25265, 25268, 25270, 25272, 25273, 25280, 25286, 25294, 25295, 25318, 25327, 25344, 25345, 25347, 25354, 25372, 25374, 25381, 25402, 25405, 25407, 25408, 25416, 25420, 25429, 25434, 25435, 25437, 25443, 25445, 25446, 25450, 25453, 25454, 25461, 25464, 25467, 25470, 25473, 25476, 25480, 25489, 25492, 25498, 25504, 25505, 25507, 25516, 25526, 25529, 25534, 25540, 25543, 25544, 25550, 25561, 25562, 25567, 25570, 25576, 25578, 25587, 25592, 25608, 25612, 25614, 25615, 25618, 25621, 25625, 25628, 25641, 25644, 25647, 25651, 25652, 25657, 25674, 25675, 25680, 25681, 25682, 25688, 25701, 25702, 25704, 25705, 25710, 25720, 25722, 25723, 25732, 25734, 25740, 25743, 25746, 25750, 25756, 25758, 25764, 25765, 25777, 25779, 25785, 25797, 25801, 25802, 25804, 25806, 25810, 25813, 25816, 25820, 25826, 25831, 25840, 25849, 25857, 25860, 25861, 25862, 25868, 25875, 25886, 25894, 25919, 25924, 25925, 25942, 25948, 25952, 25977, 25984, 25991, 26002, 26003, 26020, 26030, 26039, 26058, 26085, 26093, 26117, 26122, 26125, 26127, 26128, 26136, 26145, 26152, 26154, 26155, 26158, 26163, 26171, 26172, 26177, 26182, 26185, 26199, 26200, 26212, 26215, 26217, 26218, 26221, 26227, 26229, 26247, 26251, 26255, 26258, 26267, 26271, 26272, 26274, 26276, 26281, 26285, 26292, 26300, 26309, 26316, 26336, 26339, 26348, 26361, 26363, 26384, 26390, 26393, 26415, 26427, 26438, 26445, 26451, 26454, 26457, 26472, 26475, 26483, 26508, 26512, 26514, 26515, 26518, 26521, 26525, 26528, 26541, 26544, 26547, 26551, 26552, 26557, 26574, 26575, 26580, 26581, 26582, 26588, 26613, 26627, 26631, 26633, 26668, 26669, 26672, 26686, 26696, 26711, 26712, 26717, 26721, 26722, 26724, 26726, 26742, 26745, 26754, 26755, 26762, 26771, 26779, 26797, 26805, 26812, 26815, 26821, 26825, 26834, 26843, 26850, 26851, 26852, 26858, 26866, 26885, 26903, 26919, 26922, 26930, 26933, 26966, 26977, 26991, 27014, 27015, 27017, 27025, 27041, 27045, 27048, 27051, 27052, 27054, 27055, 27071, 27084, 27104, 27105, 27107, 27116, 27126, 27129, 27134, 27140, 27143, 27144, 27150, 27161, 27162, 27167, 27170, 27176, 27178, 27187, 27192, 27205, 27216, 27219, 27223, 27225, 27226, 27232, 27234, 27235, 27238, 27243, 27246, 27250, 27252, 27253, 27261, 27262, 27264, 27266, 27283, 27291, 27299, 27314, 27322, 27324, 27325, 27328, 27341, 27342, 27344, 27345, 27352, 27354, 27379, 27382, 27388, 27397, 27401, 27405, 27408, 27410, 27413, 27414, 27423, 27426, 27431, 27432, 27434, 27435, 27441, 27443, 27450, 27453, 27456, 27462, 27465, 27477, 27480, 27501, 27502, 27504, 27505, 27510, 27520, 27522, 27523, 27532, 27534, 27540, 27543, 27546, 27550, 27556, 27558, 27564, 27565, 27577, 27579, 27585, 27597, 27611, 27612, 27617, 27621, 27622, 27624, 27626, 27642, 27645, 27654, 27655, 27662, 27671, 27679, 27697, 27701, 27710, 27716, 27718, 27739, 27747, 27757, 27759, 27761, 27769, 27774, 27775, 27781, 27788, 27793, 27795, 27796, 27804, 27817, 27823, 27832, 27838, 27840, 27855, 27871, 27878, 27883, 27887, 27889, 27898, 27912, 27921, 27929, 27937, 27957, 27967, 27973, 27975, 27976, 27988, 27992, 28000, 28011, 28015, 28018, 28025, 28033, 28044, 28045, 28047, 28051, 28052, 28054, 28056, 28065, 28074, 28081, 28099, 28101, 28105, 28108, 28110, 28113, 28114, 28123, 28126, 28131, 28132, 28134, 28135, 28141, 28143, 28150, 28153, 28156, 28162, 28165, 28177, 28180, 28205, 28213, 28216, 28231, 28234, 28237, 28243, 28250, 28256, 28261, 28265, 28273, 28303, 28311, 28312, 28314, 28315, 28321, 28324, 28327, 28330, 28339, 28341, 28342, 28344, 28346, 28351, 28364, 28372, 28378, 28387, 28393, 28399, 28404, 28405, 28407, 28411, 28413, 28423, 28431, 28432, 28434, 28436, 28440, 28443, 28450, 28459, 28463, 28470, 28495, 28501, 28502, 28504, 28506, 28510, 28513, 28516, 28520, 28526, 28531, 28540, 28549, 28557, 28560, 28561, 28562, 28568, 28575, 28586, 28594, 28605, 28612, 28615, 28621, 28625, 28634, 28643, 28650, 28651, 28652, 28658, 28666, 28685, 28704, 28717, 28723, 28732, 28738, 28740, 28755, 28771, 28778, 28783, 28787, 28789, 28798, 28801, 28810, 28837, 28856, 28865, 28873, 28877, 28879, 28897, 28909, 28933, 28939, 28945, 28954, 28978, 28987, 28990, 28993, 29001, 29003, 29010, 29019, 29030, 29033, 29036, 29063, 29089, 29091, 29098, 29100, 29109, 29112, 29114, 29121, 29122, 29127, 29139, 29141, 29159, 29169, 29172, 29190, 29193, 29195, 29196, 29211, 29212, 29217, 29221, 29222, 29224, 29226, 29242, 29245, 29254, 29255, 29262, 29271, 29279, 29297, 29300, 29303, 29306, 29319, 29330, 29336, 29338, 29360, 29363, 29377, 29383, 29389, 29391, 29398, 29411, 29422, 29425, 29444, 29452, 29458, 29485, 29499, 29519, 29524, 29525, 29542, 29548, 29552, 29577, 29584, 29591, 29603, 29619, 29622, 29630, 29633, 29666, 29677, 29691, 29712, 29721, 29729, 29737, 29757, 29767, 29773, 29775, 29776, 29788, 29792, 29809, 29833, 29839, 29845, 29854, 29878, 29887, 29890, 29893, 29901, 29908, 29910, 29913, 29915, 29916, 29927, 29931, 29938, 29949, 29951, 29961, 29972, 29980, 29983, 29994, 30001, 30002, 30010, 30013, 30019, 30020, 30026, 30029, 30031, 30038, 30056, 30062, 30065, 30067, 30068, 30076, 30079, 30083, 30086, 30091, 30092, 30097, 30100, 30103, 30109, 30123, 30130, 30132, 30133, 30135, 30137, 30139, 30153, 30166, 30173, 30190, 30193, 30200, 30206, 30209, 30213, 30231, 30233, 30238, 30239, 30260, 30269, 30283, 30290, 30293, 30296, 30301, 30308, 30310, 30312, 30313, 30315, 30317, 30319, 30321, 30323, 30328, 30329, 30331, 30332, 30338, 30346, 30351, 30355, 30356, 30364, 30365, 30367, 30371, 30376, 30380, 30382, 30383, 30391, 30392, 30436, 30456, 30463, 30465, 30466, 30506, 30513, 30531, 30535, 30536, 30546, 30553, 30560, 30563, 30564, 30602, 30605, 30607, 30608, 30616, 30620, 30629, 30634, 30635, 30637, 30643, 30645, 30646, 30650, 30653, 30654, 30661, 30664, 30667, 30670, 30673, 30676, 30680, 30689, 30692, 30698, 30706, 30709, 30713, 30731, 30736, 30760, 30763, 30766, 30779, 30789, 30790, 30797, 30798, 30803, 30806, 30823, 30830, 30832, 30833, 30860, 30869, 30879, 30896, 30897, 30901, 30902, 30907, 30910, 30913, 30920, 30923, 30926, 30931, 30932, 30962, 30968, 30970, 30977, 30978, 30986, 30987, 31000, 31003, 31009, 31023, 31030, 31032, 31033, 31035, 31037, 31039, 31053, 31066, 31073, 31090, 31093, 31111, 31114, 31122, 31124, 31128, 31141, 31142, 31148, 31158, 31177, 31182, 31184, 31185, 31188, 31203, 31212, 31214, 31218, 31221, 31228, 31230, 31233, 31241, 31247, 31248, 31258, 31266, 31274, 31281, 31282, 31284, 31285, 31299, 31300, 31302, 31303, 31305, 31307, 31309, 31320, 31323, 31330, 31332, 31334, 31339, 31343, 31350, 31366, 31370, 31390, 31393, 31411, 31412, 31418, 31421, 31427, 31428, 31433, 31447, 31457, 31472, 31474, 31475, 31478, 31481, 31482, 31487, 31499, 31503, 31518, 31528, 31530, 31547, 31557, 31574, 31575, 31577, 31581, 31582, 31606, 31626, 31636, 31660, 31662, 31663, 31679, 31697, 31699, 31703, 31717, 31724, 31730, 31742, 31744, 31745, 31748, 31754, 31755, 31757, 31769, 31771, 31775, 31784, 31796, 31812, 31814, 31815, 31818, 31821, 31822, 31824, 31825, 31841, 31842, 31847, 31851, 31852, 31874, 31881, 31889, 31898, 31899, 31900, 31903, 31929, 31930, 31933, 31949, 31967, 31969, 31976, 31988, 31989, 31992, 31994, 31996, 31998, 32000, 32006, 32009, 32013, 32031, 32033, 32038, 32039, 32060, 32069, 32083, 32090, 32093, 32096, 32103, 32112, 32114, 32118, 32121, 32128, 32130, 32133, 32141, 32147, 32148, 32158, 32166, 32174, 32181, 32182, 32184, 32185, 32199, 32211, 32218, 32227, 32244, 32247, 32248, 32257, 32272, 32274, 32275, 32278, 32281, 32284, 32287, 32301, 32303, 32308, 32309, 32310, 32313, 32330, 32331, 32366, 32369, 32380, 32389, 32390, 32396, 32398, 32411, 32417, 32418, 32424, 32427, 32428, 32442, 32445, 32447, 32448, 32454, 32455, 32457, 32468, 32471, 32472, 32474, 32475, 32481, 32482, 32484, 32486, 32518, 32527, 32544, 32545, 32547, 32554, 32572, 32574, 32581, 32600, 32609, 32616, 32636, 32639, 32648, 32661, 32663, 32684, 32690, 32693, 32714, 32722, 32724, 32725, 32728, 32741, 32742, 32744, 32745, 32752, 32754, 32779, 32782, 32788, 32797, 32803, 32811, 32812, 32814, 32815, 32821, 32824, 32827, 32830, 32839, 32841, 32842, 32844, 32846, 32851, 32864, 32872, 32878, 32887, 32893, 32899, 32900, 32903, 32906, 32919, 32930, 32936, 32938, 32960, 32963, 32977, 32983, 32989, 32991, 32998, 33001, 33008, 33010, 33012, 33013, 33015, 33017, 33019, 33021, 33023, 33028, 33029, 33031, 33032, 33038, 33046, 33051, 33055, 33056, 33064, 33065, 33067, 33071, 33076, 33080, 33082, 33083, 33091, 33092, 33100, 33102, 33103, 33105, 33107, 33109, 33120, 33123, 33130, 33132, 33134, 33139, 33143, 33150, 33166, 33170, 33190, 33193, 33201, 33203, 33208, 33209, 33210, 33213, 33230, 33231, 33266, 33269, 33280, 33289, 33290, 33296, 33298, 33301, 33302, 33308, 33310, 33312, 33314, 33319, 33320, 33321, 33338, 33341, 33345, 33346, 33354, 33359, 33364, 33380, 33383, 33391, 33395, 33406, 33413, 33431, 33435, 33436, 33446, 33453, 33460, 33463, 33464, 33501, 33505, 33506, 33510, 33534, 33539, 33543, 33550, 33560, 33589, 33593, 33598, 33604, 33605, 33607, 33616, 33626, 33629, 33634, 33640, 33643, 33644, 33650, 33661, 33662, 33667, 33670, 33676, 33678, 33687, 33692, 33701, 33706, 33710, 33760, 33766, 33768, 33786, 33800, 33802, 33803, 33820, 33829, 33830, 33833, 33859, 33867, 33876, 33892, 33895, 33901, 33902, 33910, 33913, 33920, 33926, 33928, 33931, 33935, 33953, 33958, 33962, 33982, 33985, 34036, 34056, 34063, 34065, 34066, 34111, 34112, 34118, 34121, 34127, 34128, 34133, 34147, 34157, 34172, 34174, 34175, 34178, 34181, 34182, 34187, 34199, 34211, 34217, 34218, 34224, 34227, 34228, 34242, 34245, 34247, 34248, 34254, 34255, 34257, 34268, 34271, 34272, 34274, 34275, 34281, 34282, 34284, 34286, 34306, 34313, 34331, 34335, 34336, 34346, 34353, 34360, 34363, 34364, 34417, 34422, 34425, 34427, 34428, 34436, 34445, 34452, 34454, 34455, 34458, 34463, 34471, 34472, 34477, 34482, 34485, 34499, 34506, 34517, 34524, 34525, 34527, 34533, 34542, 34544, 34545, 34548, 34552, 34554, 34555, 34558, 34560, 34569, 34571, 34572, 34584, 34585, 34596, 34603, 34605, 34606, 34628, 34630, 34633, 34634, 34643, 34650, 34659, 34660, 34666, 34682, 34695, 34712, 34714, 34715, 34718, 34721, 34722, 34724, 34725, 34741, 34742, 34747, 34751, 34752, 34774, 34781, 34789, 34798, 34799, 34811, 34812, 34817, 34821, 34822, 34824, 34826, 34842, 34845, 34854, 34855, 34862, 34871, 34879, 34897, 34919, 34949, 34956, 34965, 34978, 34979, 34987, 34991, 34994, 34997, 35006, 35013, 35031, 35035, 35036, 35046, 35053, 35060, 35063, 35064, 35103, 35118, 35128, 35130, 35147, 35157, 35174, 35175, 35177, 35181, 35182, 35218, 35227, 35244, 35245, 35247, 35254, 35272, 35274, 35281, 35301, 35305, 35306, 35310, 35334, 35339, 35343, 35350, 35360, 35389, 35393, 35398, 35406, 35417, 35424, 35425, 35427, 35433, 35442, 35444, 35445, 35448, 35452, 35454, 35455, 35458, 35460, 35469, 35471, 35472, 35484, 35485, 35496, 35503, 35517, 35524, 35530, 35542, 35544, 35545, 35548, 35554, 35555, 35557, 35569, 35571, 35575, 35584, 35596, 35600, 35603, 35604, 35630, 35640, 35649, 35659, 35694, 35695, 35714, 35715, 35717, 35722, 35724, 35741, 35742, 35751, 35755, 35771, 35811, 35812, 35821, 35839, 35844, 35845, 35854, 35888, 35893, 35933, 35938, 35946, 35956, 35964, 35965, 35983, 36002, 36005, 36007, 36008, 36016, 36020, 36029, 36034, 36035, 36037, 36043, 36045, 36046, 36050, 36053, 36054, 36061, 36064, 36067, 36070, 36073, 36076, 36080, 36089, 36092, 36098, 36106, 36126, 36136, 36160, 36162, 36163, 36179, 36197, 36199, 36200, 36209, 36216, 36236, 36239, 36248, 36261, 36263, 36284, 36290, 36293, 36304, 36305, 36307, 36316, 36326, 36329, 36334, 36340, 36343, 36344, 36350, 36361, 36362, 36367, 36370, 36376, 36378, 36387, 36392, 36403, 36405, 36406, 36428, 36430, 36433, 36434, 36443, 36450, 36459, 36460, 36466, 36482, 36495, 36500, 36503, 36504, 36530, 36540, 36549, 36559, 36594, 36595, 36601, 36604, 36607, 36610, 36612, 36613, 36621, 36623, 36631, 36632, 36637, 36640, 36646, 36664, 36670, 36673, 36689, 36698, 36700, 36703, 36706, 36719, 36730, 36736, 36738, 36760, 36763, 36777, 36783, 36789, 36791, 36798, 36800, 36809, 36824, 36837, 36842, 36869, 36873, 36879, 36890, 36896, 36897, 36902, 36908, 36917, 36919, 36920, 36923, 36932, 36945, 36954, 36955, 36968, 36971, 36978, 36980, 36986, 36987, 36991, 37006, 37009, 37013, 37031, 37036, 37060, 37063, 37066, 37079, 37089, 37090, 37097, 37098, 37103, 37117, 37124, 37130, 37142, 37144, 37145, 37148, 37154, 37155, 37157, 37169, 37171, 37175, 37184, 37196, 37214, 37222, 37224, 37225, 37228, 37241, 37242, 37244, 37245, 37252, 37254, 37279, 37282, 37288, 37297, 37301, 37306, 37310, 37360, 37366, 37368, 37386, 37412, 37414, 37415, 37418, 37421, 37422, 37424, 37425, 37441, 37442, 37447, 37451, 37452, 37474, 37481, 37489, 37498, 37499, 37514, 37515, 37517, 37522, 37524, 37541, 37542, 37551, 37555, 37571, 37600, 37603, 37606, 37619, 37630, 37636, 37638, 37660, 37663, 37677, 37683, 37689, 37691, 37698, 37709, 37711, 37715, 37729, 37744, 37751, 37767, 37776, 37790, 37792, 37809, 37814, 37822, 37828, 37836, 37841, 37849, 37863, 37869, 37882, 37890, 37894, 37896, 37900, 37907, 37908, 37916, 37927, 37948, 37949, 37961, 37968, 37970, 37972, 37980, 37984, 37986, 37994, 37999, 38003, 38006, 38023, 38030, 38032, 38033, 38060, 38069, 38079, 38096, 38097, 38112, 38114, 38115, 38118, 38121, 38122, 38124, 38125, 38141, 38142, 38147, 38151, 38152, 38174, 38181, 38189, 38198, 38199, 38203, 38211, 38212, 38214, 38215, 38221, 38224, 38227, 38230, 38239, 38241, 38242, 38244, 38246, 38251, 38264, 38272, 38278, 38287, 38293, 38299, 38300, 38302, 38303, 38320, 38329, 38330, 38333, 38359, 38367, 38376, 38392, 38395, 38411, 38412, 38417, 38421, 38422, 38424, 38426, 38442, 38445, 38454, 38455, 38462, 38471, 38479, 38497, 38511, 38512, 38521, 38539, 38544, 38545, 38554, 38588, 38593, 38600, 38609, 38624, 38637, 38642, 38669, 38673, 38679, 38690, 38696, 38697, 38709, 38714, 38722, 38728, 38736, 38741, 38749, 38763, 38769, 38782, 38790, 38794, 38796, 38811, 38819, 38827, 38858, 38872, 38885, 38891, 38906, 38907, 38918, 38919, 38923, 38929, 38932, 38935, 38947, 38953, 38960, 38966, 38967, 38970, 38974, 38976, 38981, 38991, 38992, 39001, 39002, 39007, 39010, 39013, 39020, 39023, 39026, 39031, 39032, 39062, 39068, 39070, 39077, 39078, 39086, 39087, 39100, 39103, 39129, 39130, 39133, 39149, 39167, 39169, 39176, 39188, 39189, 39192, 39194, 39196, 39198, 39200, 39203, 39206, 39219, 39230, 39236, 39238, 39260, 39263, 39277, 39283, 39289, 39291, 39298, 39301, 39302, 39310, 39313, 39320, 39326, 39328, 39331, 39335, 39353, 39358, 39362, 39382, 39385, 39419, 39449, 39456, 39465, 39478, 39479, 39487, 39491, 39494, 39497, 39533, 39538, 39546, 39556, 39564, 39565, 39583, 39602, 39608, 39617, 39619, 39620, 39623, 39632, 39645, 39654, 39655, 39668, 39671, 39678, 39680, 39686, 39687, 39691, 39700, 39707, 39708, 39716, 39727, 39748, 39749, 39761, 39768, 39770, 39772, 39780, 39784, 39786, 39794, 39799, 39806, 39807, 39818, 39819, 39823, 39829, 39832, 39835, 39847, 39853, 39860, 39866, 39867, 39870, 39874, 39876, 39881, 39891, 39892, 39912, 39914, 39916, 39918, 39921, 39928, 39941, 39944, 39947, 39961, 39974, 39979, 39981, 39982, 39997, 40004, 40009, 40040, 40046, 40064, 40069, 40078, 40087, 40090, 40096, 40111, 40118, 40127, 40144, 40147, 40148, 40157, 40172, 40174, 40175, 40178, 40181, 40184, 40187, 40217, 40222, 40225, 40248, 40252, 40255, 40257, 40258, 40271, 40275, 40278, 40284, 40285, 40287, 40336, 40356, 40363, 40365, 40366, 40400, 40406, 40414, 40417, 40418, 40428, 40441, 40447, 40449, 40455, 40460, 40471, 40474, 40477, 40481, 40482, 40494, 40517, 40522, 40525, 40527, 40528, 40536, 40545, 40552, 40554, 40555, 40558, 40563, 40571, 40572, 40577, 40582, 40585, 40599, 40604, 40609, 40633, 40635, 40636, 40640, 40653, 40663, 40690, 40708, 40712, 40714, 40715, 40718, 40721, 40725, 40728, 40741, 40744, 40747, 40751, 40752, 40757, 40774, 40775, 40780, 40781, 40782, 40788, 40807, 40811, 40814, 40817, 40824, 40825, 40827, 40841, 40842, 40852, 40855, 40870, 40871, 40872, 40878, 40887, 40888, 40900, 40906, 40944, 40959, 40960, 40995, 41011, 41018, 41027, 41044, 41047, 41048, 41057, 41072, 41074, 41075, 41078, 41081, 41084, 41087, 41101, 41108, 41110, 41112, 41113, 41115, 41117, 41119, 41121, 41123, 41128, 41129, 41131, 41132, 41138, 41146, 41151, 41155, 41156, 41164, 41165, 41167, 41171, 41176, 41180, 41182, 41183, 41191, 41192, 41207, 41211, 41213, 41218, 41219, 41231, 41237, 41238, 41247, 41256, 41265, 41270, 41273, 41274, 41281, 41283, 41291, 41311, 41312, 41318, 41321, 41327, 41328, 41333, 41347, 41357, 41372, 41374, 41375, 41378, 41381, 41382, 41387, 41399, 41404, 41407, 41408, 41416, 41427, 41437, 41440, 41449, 41456, 41459, 41461, 41465, 41468, 41470, 41472, 41473, 41480, 41486, 41494, 41495, 41507, 41511, 41515, 41516, 41526, 41537, 41546, 41549, 41551, 41556, 41561, 41562, 41564, 41565, 41570, 41573, 41594, 41614, 41615, 41617, 41625, 41641, 41645, 41648, 41651, 41652, 41654, 41655, 41671, 41684, 41702, 41704, 41705, 41708, 41711, 41716, 41720, 41723, 41724, 41732, 41734, 41735, 41738, 41740, 41742, 41743, 41750, 41753, 41761, 41780, 41783, 41801, 41804, 41807, 41810, 41812, 41813, 41821, 41823, 41831, 41832, 41837, 41840, 41846, 41864, 41870, 41873, 41889, 41898, 41911, 41912, 41921, 41939, 41944, 41945, 41954, 41988, 41993, 42017, 42022, 42025, 42048, 42052, 42055, 42057, 42058, 42071, 42075, 42078, 42084, 42085, 42087, 42107, 42111, 42113, 42118, 42119, 42131, 42137, 42138, 42147, 42156, 42165, 42170, 42173, 42174, 42181, 42183, 42191, 42202, 42205, 42220, 42222, 42224, 42229, 42234, 42237, 42238, 42242, 42243, 42250, 42259, 42267, 42273, 42276, 42283, 42292, 42295, 42311, 42317, 42318, 42324, 42327, 42328, 42342, 42345, 42347, 42348, 42354, 42355, 42357, 42368, 42371, 42372, 42374, 42375, 42381, 42382, 42384, 42386, 42408, 42417, 42422, 42423, 42432, 42435, 42437, 42438, 42444, 42449, 42453, 42455, 42456, 42465, 42471, 42473, 42480, 42483, 42494, 42502, 42505, 42507, 42508, 42516, 42520, 42529, 42534, 42535, 42537, 42543, 42545, 42546, 42550, 42553, 42554, 42561, 42564, 42567, 42570, 42573, 42576, 42580, 42589, 42592, 42598, 42615, 42627, 42638, 42645, 42651, 42654, 42657, 42672, 42675, 42683, 42701, 42705, 42708, 42710, 42713, 42714, 42723, 42726, 42731, 42732, 42734, 42735, 42741, 42743, 42750, 42753, 42756, 42762, 42765, 42777, 42780, 42804, 42805, 42807, 42811, 42813, 42823, 42831, 42832, 42834, 42836, 42840, 42843, 42850, 42859, 42863, 42870, 42895, 42911, 42922, 42925, 42944, 42952, 42958, 42985, 42999, 43036, 43056, 43063, 43065, 43066, 43111, 43112, 43118, 43121, 43127, 43128, 43133, 43147, 43157, 43172, 43174, 43175, 43178, 43181, 43182, 43187, 43199, 43211, 43217, 43218, 43224, 43227, 43228, 43242, 43245, 43247, 43248, 43254, 43255, 43257, 43268, 43271, 43272, 43274, 43275, 43281, 43282, 43284, 43286, 43306, 43313, 43331, 43335, 43336, 43346, 43353, 43360, 43363, 43364, 43417, 43422, 43425, 43427, 43428, 43436, 43445, 43452, 43454, 43455, 43458, 43463, 43471, 43472, 43477, 43482, 43485, 43499, 43506, 43517, 43524, 43525, 43527, 43533, 43542, 43544, 43545, 43548, 43552, 43554, 43555, 43558, 43560, 43569, 43571, 43572, 43584, 43585, 43596, 43603, 43605, 43606, 43628, 43630, 43633, 43634, 43643, 43650, 43659, 43660, 43666, 43682, 43695, 43712, 43714, 43715, 43718, 43721, 43722, 43724, 43725, 43741, 43742, 43747, 43751, 43752, 43774, 43781, 43789, 43798, 43799, 43811, 43812, 43817, 43821, 43822, 43824, 43826, 43842, 43845, 43854, 43855, 43862, 43871, 43879, 43897, 43919, 43949, 43956, 43965, 43978, 43979, 43987, 43991, 43994, 43997, 44000, 44006, 44014, 44017, 44018, 44028, 44041, 44047, 44049, 44055, 44060, 44071, 44074, 44077, 44081, 44082, 44094, 44104, 44107, 44108, 44116, 44127, 44137, 44140, 44149, 44156, 44159, 44161, 44165, 44168, 44170, 44172, 44173, 44180, 44186, 44194, 44195, 44208, 44217, 44222, 44223, 44232, 44235, 44237, 44238, 44244, 44249, 44253, 44255, 44256, 44265, 44271, 44273, 44280, 44283, 44294, 44317, 44322, 44325, 44327, 44328, 44336, 44345, 44352, 44354, 44355, 44358, 44363, 44371, 44372, 44377, 44382, 44385, 44399, 44401, 44407, 44409, 44410, 44419, 44424, 44429, 44435, 44442, 44446, 44453, 44456, 44464, 44465, 44467, 44470, 44476, 44488, 44489, 44490, 44491, 44492, 44498, 44505, 44516, 44519, 44523, 44525, 44526, 44532, 44534, 44535, 44538, 44543, 44546, 44550, 44552, 44553, 44561, 44562, 44564, 44566, 44583, 44591, 44599, 44600, 44611, 44615, 44618, 44625, 44633, 44644, 44645, 44647, 44651, 44652, 44654, 44656, 44665, 44674, 44681, 44699, 44701, 44704, 44707, 44710, 44712, 44713, 44721, 44723, 44731, 44732, 44737, 44740, 44746, 44764, 44770, 44773, 44789, 44798, 44801, 44802, 44810, 44816, 44820, 44823, 44832, 44835, 44848, 44849, 44853, 44861, 44879, 44884, 44894, 44897, 44904, 44914, 44915, 44924, 44939, 44940, 44941, 44942, 44948, 44951, 44959, 44969, 44978, 44984, 44987, 44993, 44995, 44996, 45017, 45022, 45025, 45027, 45028, 45036, 45045, 45052, 45054, 45055, 45058, 45063, 45071, 45072, 45077, 45082, 45085, 45099, 45107, 45111, 45115, 45116, 45126, 45137, 45146, 45149, 45151, 45156, 45161, 45162, 45164, 45165, 45170, 45173, 45194, 45202, 45205, 45207, 45208, 45216, 45220, 45229, 45234, 45235, 45237, 45243, 45245, 45246, 45250, 45253, 45254, 45261, 45264, 45267, 45270, 45273, 45276, 45280, 45289, 45292, 45298, 45306, 45317, 45324, 45325, 45327, 45333, 45342, 45344, 45345, 45348, 45352, 45354, 45355, 45358, 45360, 45369, 45371, 45372, 45384, 45385, 45396, 45405, 45416, 45419, 45423, 45425, 45426, 45432, 45434, 45435, 45438, 45443, 45446, 45450, 45452, 45453, 45461, 45462, 45464, 45466, 45483, 45491, 45499, 45502, 45504, 45505, 45508, 45511, 45516, 45520, 45523, 45524, 45532, 45534, 45535, 45538, 45540, 45542, 45543, 45550, 45553, 45561, 45580, 45583, 45603, 45611, 45612, 45614, 45615, 45621, 45624, 45627, 45630, 45639, 45641, 45642, 45644, 45646, 45651, 45664, 45672, 45678, 45687, 45693, 45699, 45701, 45702, 45707, 45710, 45713, 45720, 45723, 45726, 45731, 45732, 45762, 45768, 45770, 45777, 45778, 45786, 45787, 45802, 45805, 45820, 45829, 45834, 45835, 45843, 45850, 45853, 45867, 45876, 45877, 45892, 45909, 45914, 45922, 45928, 45936, 45941, 45949, 45963, 45969, 45982, 45990, 45994, 45996, 46004, 46009, 46033, 46035, 46036, 46040, 46053, 46063, 46090, 46114, 46115, 46117, 46125, 46141, 46145, 46148, 46151, 46152, 46154, 46155, 46171, 46184, 46215, 46227, 46238, 46245, 46251, 46254, 46257, 46272, 46275, 46283, 46303, 46305, 46306, 46328, 46330, 46333, 46334, 46343, 46350, 46359, 46360, 46366, 46382, 46395, 46400, 46411, 46415, 46418, 46425, 46433, 46444, 46445, 46447, 46451, 46452, 46454, 46456, 46465, 46474, 46481, 46499, 46503, 46511, 46512, 46514, 46515, 46521, 46524, 46527, 46530, 46539, 46541, 46542, 46544, 46546, 46551, 46564, 46572, 46578, 46587, 46593, 46599, 46603, 46630, 46636, 46645, 46654, 46663, 46668, 46686, 46711, 46722, 46725, 46744, 46752, 46758, 46785, 46799, 46814, 46823, 46832, 46841, 46857, 46866, 46875, 46900, 46935, 46949, 46953, 46959, 46979, 46994, 46995, 46997, 47008, 47012, 47014, 47015, 47018, 47021, 47025, 47028, 47041, 47044, 47047, 47051, 47052, 47057, 47074, 47075, 47080, 47081, 47082, 47088, 47102, 47104, 47105, 47108, 47111, 47116, 47120, 47123, 47124, 47132, 47134, 47135, 47138, 47140, 47142, 47143, 47150, 47153, 47161, 47180, 47183, 47201, 47205, 47208, 47210, 47213, 47214, 47223, 47226, 47231, 47232, 47234, 47235, 47241, 47243, 47250, 47253, 47256, 47262, 47265, 47277, 47280, 47312, 47314, 47315, 47318, 47321, 47322, 47324, 47325, 47341, 47342, 47347, 47351, 47352, 47374, 47381, 47389, 47398, 47399, 47401, 47404, 47407, 47410, 47412, 47413, 47421, 47423, 47431, 47432, 47437, 47440, 47446, 47464, 47470, 47473, 47489, 47498, 47501, 47502, 47507, 47510, 47513, 47520, 47523, 47526, 47531, 47532, 47562, 47568, 47570, 47577, 47578, 47586, 47587, 47611, 47622, 47625, 47644, 47652, 47658, 47685, 47699, 47704, 47705, 47727, 47734, 47740, 47743, 47750, 47757, 47758, 47772, 47775, 47785, 47800, 47801, 47802, 47808, 47810, 47813, 47820, 47831, 47839, 47849, 47856, 47857, 47865, 47875, 47880, 47893, 47894, 47899, 47938, 47939, 47948, 47969, 47983, 47984, 47989, 47993, 47996, 47998, 48007, 48011, 48014, 48017, 48024, 48025, 48027, 48041, 48042, 48052, 48055, 48070, 48071, 48072, 48078, 48087, 48088, 48101, 48104, 48107, 48110, 48112, 48113, 48121, 48123, 48131, 48132, 48137, 48140, 48146, 48164, 48170, 48173, 48189, 48198, 48204, 48205, 48207, 48211, 48213, 48223, 48231, 48232, 48234, 48236, 48240, 48243, 48250, 48259, 48263, 48270, 48295, 48311, 48312, 48317, 48321, 48322, 48324, 48326, 48342, 48345, 48354, 48355, 48362, 48371, 48379, 48397, 48401, 48402, 48410, 48416, 48420, 48423, 48432, 48435, 48448, 48449, 48453, 48461, 48479, 48484, 48494, 48497, 48502, 48505, 48520, 48529, 48534, 48535, 48543, 48550, 48553, 48567, 48576, 48577, 48592, 48614, 48623, 48632, 48641, 48657, 48666, 48675, 48700, 48701, 48702, 48708, 48710, 48713, 48720, 48731, 48739, 48749, 48756, 48757, 48765, 48775, 48780, 48793, 48794, 48799, 48807, 48808, 48819, 48844, 48870, 48880, 48891, 48918, 48925, 48937, 48944, 48947, 48952, 48973, 48974, 48979, 48981, 48997, 49000, 49006, 49044, 49059, 49060, 49095, 49111, 49112, 49121, 49139, 49144, 49145, 49154, 49188, 49193, 49211, 49222, 49225, 49244, 49252, 49258, 49285, 49299, 49319, 49349, 49356, 49365, 49378, 49379, 49387, 49391, 49394, 49397, 49404, 49414, 49415, 49424, 49439, 49440, 49441, 49442, 49448, 49451, 49459, 49469, 49478, 49484, 49487, 49493, 49495, 49496, 49509, 49514, 49522, 49528, 49536, 49541, 49549, 49563, 49569, 49582, 49590, 49594, 49596, 49600, 49635, 49649, 49653, 49659, 49679, 49694, 49695, 49697, 49738, 49739, 49748, 49769, 49783, 49784, 49789, 49793, 49796, 49798, 49818, 49825, 49837, 49844, 49847, 49852, 49873, 49874, 49879, 49881, 49897, 49905, 49913, 49929, 49931, 49934, 49937, 49943, 49945, 49946, 49950, 49954, 49956, 49964, 49965, 49967, 49973, 49976, 49978, 49987, 49992, 50036, 50056, 50063, 50065, 50066, 50111, 50112, 50118, 50121, 50127, 50128, 50133, 50147, 50157, 50172, 50174, 50175, 50178, 50181, 50182, 50187, 50199, 50211, 50217, 50218, 50224, 50227, 50228, 50242, 50245, 50247, 50248, 50254, 50255, 50257, 50268, 50271, 50272, 50274, 50275, 50281, 50282, 50284, 50286, 50306, 50313, 50331, 50335, 50336, 50346, 50353, 50360, 50363, 50364, 50417, 50422, 50425, 50427, 50428, 50436, 50445, 50452, 50454, 50455, 50458, 50463, 50471, 50472, 50477, 50482, 50485, 50499, 50506, 50517, 50524, 50525, 50527, 50533, 50542, 50544, 50545, 50548, 50552, 50554, 50555, 50558, 50560, 50569, 50571, 50572, 50584, 50585, 50596, 50603, 50605, 50606, 50628, 50630, 50633, 50634, 50643, 50650, 50659, 50660, 50666, 50682, 50695, 50712, 50714, 50715, 50718, 50721, 50722, 50724, 50725, 50741, 50742, 50747, 50751, 50752, 50774, 50781, 50789, 50798, 50799, 50811, 50812, 50817, 50821, 50822, 50824, 50826, 50842, 50845, 50854, 50855, 50862, 50871, 50879, 50897, 50919, 50949, 50956, 50965, 50978, 50979, 50987, 50991, 50994, 50997, 51011, 51012, 51018, 51021, 51027, 51028, 51033, 51047, 51057, 51072, 51074, 51075, 51078, 51081, 51082, 51087, 51099, 51101, 51102, 51108, 51110, 51112, 51114, 51119, 51120, 51121, 51138, 51141, 51145, 51146, 51154, 51159, 51164, 51180, 51183, 51191, 51195, 51201, 51207, 51208, 51210, 51211, 51226, 51238, 51246, 51256, 51262, 51264, 51265, 51268, 51270, 51280, 51283, 51286, 51299, 51303, 51318, 51328, 51330, 51347, 51357, 51374, 51375, 51377, 51381, 51382, 51407, 51411, 51415, 51416, 51426, 51437, 51446, 51449, 51451, 51456, 51461, 51462, 51464, 51465, 51470, 51473, 51494, 51507, 51514, 51519, 51526, 51537, 51541, 51546, 51562, 51564, 51570, 51573, 51591, 51614, 51622, 51624, 51625, 51628, 51641, 51642, 51644, 51645, 51652, 51654, 51679, 51682, 51688, 51697, 51702, 51704, 51705, 51708, 51720, 51734, 51735, 51737, 51740, 51743, 51750, 51753, 51769, 51773, 51778, 51780, 51787, 51788, 51796, 51801, 51802, 51807, 51810, 51813, 51820, 51823, 51826, 51831, 51832, 51862, 51868, 51870, 51877, 51878, 51886, 51887, 51909, 51911, 51915, 51929, 51944, 51951, 51967, 51976, 51990, 51992, 52011, 52017, 52018, 52024, 52027, 52028, 52042, 52045, 52047, 52048, 52054, 52055, 52057, 52068, 52071, 52072, 52074, 52075, 52081, 52082, 52084, 52086, 52101, 52107, 52108, 52110, 52111, 52126, 52138, 52146, 52156, 52162, 52164, 52165, 52168, 52170, 52180, 52183, 52186, 52199, 52204, 52207, 52208, 52216, 52227, 52237, 52240, 52249, 52256, 52259, 52261, 52265, 52268, 52270, 52272, 52273, 52280, 52286, 52294, 52295, 52318, 52327, 52344, 52345, 52347, 52354, 52372, 52374, 52381, 52402, 52405, 52407, 52408, 52416, 52420, 52429, 52434, 52435, 52437, 52443, 52445, 52446, 52450, 52453, 52454, 52461, 52464, 52467, 52470, 52473, 52476, 52480, 52489, 52492, 52498, 52504, 52505, 52507, 52516, 52526, 52529, 52534, 52540, 52543, 52544, 52550, 52561, 52562, 52567, 52570, 52576, 52578, 52587, 52592, 52608, 52612, 52614, 52615, 52618, 52621, 52625, 52628, 52641, 52644, 52647, 52651, 52652, 52657, 52674, 52675, 52680, 52681, 52682, 52688, 52701, 52702, 52704, 52705, 52710, 52720, 52722, 52723, 52732, 52734, 52740, 52743, 52746, 52750, 52756, 52758, 52764, 52765, 52777, 52779, 52785, 52797, 52801, 52802, 52804, 52806, 52810, 52813, 52816, 52820, 52826, 52831, 52840, 52849, 52857, 52860, 52861, 52862, 52868, 52875, 52886, 52894, 52919, 52924, 52925, 52942, 52948, 52952, 52977, 52984, 52991, 53006, 53013, 53031, 53035, 53036, 53046, 53053, 53060, 53063, 53064, 53103, 53118, 53128, 53130, 53147, 53157, 53174, 53175, 53177, 53181, 53182, 53218, 53227, 53244, 53245, 53247, 53254, 53272, 53274, 53281, 53301, 53305, 53306, 53310, 53334, 53339, 53343, 53350, 53360, 53389, 53393, 53398, 53406, 53417, 53424, 53425, 53427, 53433, 53442, 53444, 53445, 53448, 53452, 53454, 53455, 53458, 53460, 53469, 53471, 53472, 53484, 53485, 53496, 53503, 53517, 53524, 53530, 53542, 53544, 53545, 53548, 53554, 53555, 53557, 53569, 53571, 53575, 53584, 53596, 53600, 53603, 53604, 53630, 53640, 53649, 53659, 53694, 53695, 53714, 53715, 53717, 53722, 53724, 53741, 53742, 53751, 53755, 53771, 53811, 53812, 53821, 53839, 53844, 53845, 53854, 53888, 53893, 53933, 53938, 53946, 53956, 53964, 53965, 53983, 54017, 54022, 54025, 54027, 54028, 54036, 54045, 54052, 54054, 54055, 54058, 54063, 54071, 54072, 54077, 54082, 54085, 54099, 54107, 54111, 54115, 54116, 54126, 54137, 54146, 54149, 54151, 54156, 54161, 54162, 54164, 54165, 54170, 54173, 54194, 54202, 54205, 54207, 54208, 54216, 54220, 54229, 54234, 54235, 54237, 54243, 54245, 54246, 54250, 54253, 54254, 54261, 54264, 54267, 54270, 54273, 54276, 54280, 54289, 54292, 54298, 54306, 54317, 54324, 54325, 54327, 54333, 54342, 54344, 54345, 54348, 54352, 54354, 54355, 54358, 54360, 54369, 54371, 54372, 54384, 54385, 54396, 54405, 54416, 54419, 54423, 54425, 54426, 54432, 54434, 54435, 54438, 54443, 54446, 54450, 54452, 54453, 54461, 54462, 54464, 54466, 54483, 54491, 54499, 54502, 54504, 54505, 54508, 54511, 54516, 54520, 54523, 54524, 54532, 54534, 54535, 54538, 54540, 54542, 54543, 54550, 54553, 54561, 54580, 54583, 54603, 54611, 54612, 54614, 54615, 54621, 54624, 54627, 54630, 54639, 54641, 54642, 54644, 54646, 54651, 54664, 54672, 54678, 54687, 54693, 54699, 54701, 54702, 54707, 54710, 54713, 54720, 54723, 54726, 54731, 54732, 54762, 54768, 54770, 54777, 54778, 54786, 54787, 54802, 54805, 54820, 54829, 54834, 54835, 54843, 54850, 54853, 54867, 54876, 54877, 54892, 54909, 54914, 54922, 54928, 54936, 54941, 54949, 54963, 54969, 54982, 54990, 54994, 54996, 55006, 55017, 55024, 55025, 55027, 55033, 55042, 55044, 55045, 55048, 55052, 55054, 55055, 55058, 55060, 55069, 55071, 55072, 55084, 55085, 55096, 55107, 55114, 55119, 55126, 55137, 55141, 55146, 55162, 55164, 55170, 55173, 55191, 55204, 55205, 55207, 55216, 55226, 55229, 55234, 55240, 55243, 55244, 55250, 55261, 55262, 55267, 55270, 55276, 55278, 55287, 55292, 55303, 55317, 55324, 55330, 55342, 55344, 55345, 55348, 55354, 55355, 55357, 55369, 55371, 55375, 55384, 55396, 55402, 55404, 55405, 55408, 55411, 55416, 55420, 55423, 55424, 55432, 55434, 55435, 55438, 55440, 55442, 55443, 55450, 55453, 55461, 55480, 55483, 55502, 55504, 55505, 55508, 55520, 55534, 55535, 55537, 55540, 55543, 55550, 55553, 55569, 55573, 55578, 55580, 55587, 55588, 55596, 55600, 55609, 55612, 55614, 55621, 55622, 55627, 55639, 55641, 55659, 55669, 55672, 55690, 55693, 55695, 55696, 55701, 55702, 55710, 55713, 55720, 55726, 55728, 55731, 55735, 55753, 55758, 55762, 55782, 55785, 55804, 55805, 55827, 55834, 55840, 55843, 55850, 55857, 55858, 55872, 55875, 55885, 55906, 55911, 55922, 55936, 55956, 55960, 55963, 55965, 55966, 55999, 56003, 56005, 56006, 56028, 56030, 56033, 56034, 56043, 56050, 56059, 56060, 56066, 56082, 56095, 56114, 56122, 56124, 56125, 56128, 56141, 56142, 56144, 56145, 56152, 56154, 56179, 56182, 56188, 56197, 56208, 56212, 56214, 56215, 56218, 56221, 56225, 56228, 56241, 56244, 56247, 56251, 56252, 56257, 56274, 56275, 56280, 56281, 56282, 56288, 56300, 56303, 56304, 56330, 56340, 56349, 56359, 56394, 56395, 56403, 56411, 56412, 56414, 56415, 56421, 56424, 56427, 56430, 56439, 56441, 56442, 56444, 56446, 56451, 56464, 56472, 56478, 56487, 56493, 56499, 56500, 56509, 56512, 56514, 56521, 56522, 56527, 56539, 56541, 56559, 56569, 56572, 56590, 56593, 56595, 56596, 56600, 56606, 56644, 56659, 56660, 56695, 56719, 56724, 56725, 56742, 56748, 56752, 56777, 56784, 56791, 56802, 56812, 56818, 56820, 56821, 56822, 56828, 56847, 56874, 56881, 56882, 56905, 56917, 56934, 56935, 56943, 56949, 56950, 56953, 56955, 56956, 56965, 56971, 56994, 57012, 57014, 57015, 57018, 57021, 57022, 57024, 57025, 57041, 57042, 57047, 57051, 57052, 57074, 57081, 57089, 57098, 57099, 57102, 57104, 57105, 57108, 57120, 57134, 57135, 57137, 57140, 57143, 57150, 57153, 57169, 57173, 57178, 57180, 57187, 57188, 57196, 57201, 57202, 57204, 57205, 57210, 57220, 57222, 57223, 57232, 57234, 57240, 57243, 57246, 57250, 57256, 57258, 57264, 57265, 57277, 57279, 57285, 57297, 57314, 57315, 57317, 57322, 57324, 57341, 57342, 57351, 57355, 57371, 57401, 57402, 57407, 57410, 57413, 57420, 57423, 57426, 57431, 57432, 57462, 57468, 57470, 57477, 57478, 57486, 57487, 57501, 57502, 57510, 57513, 57520, 57526, 57528, 57531, 57535, 57553, 57558, 57562, 57582, 57585, 57619, 57624, 57625, 57642, 57648, 57652, 57677, 57684, 57691, 57704, 57713, 57718, 57727, 57729, 57731, 57740, 57747, 57748, 57767, 57772, 57774, 57776, 57778, 57781, 57784, 57787, 57792, 57801, 57809, 57810, 57817, 57818, 57825, 57846, 57847, 57852, 57855, 57864, 57871, 57874, 57877, 57881, 57890, 57908, 57909, 57916, 57927, 57961, 57972, 57980, 57990, 58011, 58012, 58017, 58021, 58022, 58024, 58026, 58042, 58045, 58054, 58055, 58062, 58071, 58079, 58097, 58101, 58102, 58107, 58110, 58113, 58120, 58123, 58126, 58131, 58132, 58162, 58168, 58170, 58177, 58178, 58186, 58187, 58201, 58202, 58204, 58206, 58210, 58213, 58216, 58220, 58226, 58231, 58240, 58249, 58257, 58260, 58261, 58262, 58268, 58275, 58286, 58294, 58311, 58312, 58321, 58339, 58344, 58345, 58354, 58388, 58393, 58402, 58405, 58420, 58429, 58434, 58435, 58443, 58450, 58453, 58467, 58476, 58477, 58492, 58504, 58505, 58527, 58534, 58540, 58543, 58550, 58557, 58558, 58572, 58575, 58585, 58602, 58612, 58618, 58620, 58621, 58622, 58628, 58647, 58674, 58681, 58682, 58701, 58709, 58710, 58717, 58718, 58725, 58746, 58747, 58752, 58755, 58764, 58771, 58774, 58777, 58781, 58790, 58816, 58817, 58826, 58838, 58855, 58861, 58862, 58871, 58883, 58907, 58924, 58933, 58942, 58970, 59019, 59049, 59056, 59065, 59078, 59079, 59087, 59091, 59094, 59097, 59109, 59111, 59115, 59129, 59144, 59151, 59167, 59176, 59190, 59192, 59219, 59224, 59225, 59242, 59248, 59252, 59277, 59284, 59291, 59333, 59338, 59346, 59356, 59364, 59365, 59383, 59409, 59414, 59422, 59428, 59436, 59441, 59449, 59463, 59469, 59482, 59490, 59494, 59496, 59506, 59511, 59522, 59536, 59556, 59560, 59563, 59565, 59566, 59599, 59605, 59617, 59634, 59635, 59643, 59649, 59650, 59653, 59655, 59656, 59665, 59671, 59694, 59708, 59709, 59716, 59727, 59761, 59772, 59780, 59790, 59807, 59824, 59833, 59842, 59870, 59901, 59904, 59907, 59910, 59912, 59921, 59940, 59944, 59946, 59959, 59964, 59970, 59995, 60008, 60017, 60022, 60023, 60032, 60035, 60037, 60038, 60044, 60049, 60053, 60055, 60056, 60065, 60071, 60073, 60080, 60083, 60094, 60107, 60136, 60163, 60166, 60170, 60179, 60197, 60202, 60203, 60220, 60230, 60239, 60258, 60285, 60293, 60302, 60305, 60307, 60308, 60316, 60320, 60329, 60334, 60335, 60337, 60343, 60345, 60346, 60350, 60353, 60354, 60361, 60364, 60367, 60370, 60373, 60376, 60380, 60389, 60392, 60398, 60404, 60409, 60433, 60435, 60436, 60440, 60453, 60463, 60490, 60503, 60505, 60506, 60528, 60530, 60533, 60534, 60543, 60550, 60559, 60560, 60566, 60582, 60595, 60605, 60613, 60616, 60631, 60634, 60637, 60643, 60650, 60656, 60661, 60665, 60673, 60701, 60703, 60710, 60719, 60730, 60733, 60736, 60763, 60789, 60791, 60798, 60800, 60803, 60825, 60830, 60839, 60852, 60879, 60893, 60897, 60899, 60904, 60917, 60923, 60932, 60938, 60940, 60955, 60971, 60978, 60983, 60987, 60989, 60998, 61007, 61036, 61063, 61066, 61070, 61079, 61097, 61118, 61127, 61144, 61145, 61147, 61154, 61172, 61174, 61181, 61217, 61222, 61225, 61227, 61228, 61236, 61245, 61252, 61254, 61255, 61258, 61263, 61271, 61272, 61277, 61282, 61285, 61299, 61306, 61326, 61336, 61360, 61362, 61363, 61379, 61397, 61399, 61414, 61415, 61417, 61425, 61441, 61445, 61448, 61451, 61452, 61454, 61455, 61471, 61484, 61514, 61522, 61524, 61525, 61528, 61541, 61542, 61544, 61545, 61552, 61554, 61579, 61582, 61588, 61597, 61603, 61606, 61623, 61630, 61632, 61633, 61660, 61669, 61679, 61696, 61697, 61700, 61709, 61712, 61714, 61721, 61722, 61727, 61739, 61741, 61759, 61769, 61772, 61790, 61793, 61795, 61796, 61811, 61822, 61825, 61844, 61852, 61858, 61885, 61899, 61907, 61929, 61937, 61939, 61957, 61966, 61967, 61970, 61973, 61975, 61976, 61989, 61992, 61993, 61998, 61999, 62002, 62003, 62020, 62030, 62039, 62058, 62085, 62093, 62117, 62122, 62125, 62127, 62128, 62136, 62145, 62152, 62154, 62155, 62158, 62163, 62171, 62172, 62177, 62182, 62185, 62199, 62200, 62212, 62215, 62217, 62218, 62221, 62227, 62229, 62247, 62251, 62255, 62258, 62267, 62271, 62272, 62274, 62276, 62281, 62285, 62292, 62300, 62309, 62316, 62336, 62339, 62348, 62361, 62363, 62384, 62390, 62393, 62415, 62427, 62438, 62445, 62451, 62454, 62457, 62472, 62475, 62483, 62508, 62512, 62514, 62515, 62518, 62521, 62525, 62528, 62541, 62544, 62547, 62551, 62552, 62557, 62574, 62575, 62580, 62581, 62582, 62588, 62613, 62627, 62631, 62633, 62668, 62669, 62672, 62686, 62696, 62711, 62712, 62717, 62721, 62722, 62724, 62726, 62742, 62745, 62754, 62755, 62762, 62771, 62779, 62797, 62805, 62812, 62815, 62821, 62825, 62834, 62843, 62850, 62851, 62852, 62858, 62866, 62885, 62903, 62919, 62922, 62930, 62933, 62966, 62977, 62991, 63002, 63005, 63007, 63008, 63016, 63020, 63029, 63034, 63035, 63037, 63043, 63045, 63046, 63050, 63053, 63054, 63061, 63064, 63067, 63070, 63073, 63076, 63080, 63089, 63092, 63098, 63106, 63126, 63136, 63160, 63162, 63163, 63179, 63197, 63199, 63200, 63209, 63216, 63236, 63239, 63248, 63261, 63263, 63284, 63290, 63293, 63304, 63305, 63307, 63316, 63326, 63329, 63334, 63340, 63343, 63344, 63350, 63361, 63362, 63367, 63370, 63376, 63378, 63387, 63392, 63403, 63405, 63406, 63428, 63430, 63433, 63434, 63443, 63450, 63459, 63460, 63466, 63482, 63495, 63500, 63503, 63504, 63530, 63540, 63549, 63559, 63594, 63595, 63601, 63604, 63607, 63610, 63612, 63613, 63621, 63623, 63631, 63632, 63637, 63640, 63646, 63664, 63670, 63673, 63689, 63698, 63700, 63703, 63706, 63719, 63730, 63736, 63738, 63760, 63763, 63777, 63783, 63789, 63791, 63798, 63800, 63809, 63824, 63837, 63842, 63869, 63873, 63879, 63890, 63896, 63897, 63902, 63908, 63917, 63919, 63920, 63923, 63932, 63945, 63954, 63955, 63968, 63971, 63978, 63980, 63986, 63987, 63991, 64004, 64009, 64033, 64035, 64036, 64040, 64053, 64063, 64090, 64114, 64115, 64117, 64125, 64141, 64145, 64148, 64151, 64152, 64154, 64155, 64171, 64184, 64215, 64227, 64238, 64245, 64251, 64254, 64257, 64272, 64275, 64283, 64303, 64305, 64306, 64328, 64330, 64333, 64334, 64343, 64350, 64359, 64360, 64366, 64382, 64395, 64400, 64411, 64415, 64418, 64425, 64433, 64444, 64445, 64447, 64451, 64452, 64454, 64456, 64465, 64474, 64481, 64499, 64503, 64511, 64512, 64514, 64515, 64521, 64524, 64527, 64530, 64539, 64541, 64542, 64544, 64546, 64551, 64564, 64572, 64578, 64587, 64593, 64599, 64603, 64630, 64636, 64645, 64654, 64663, 64668, 64686, 64711, 64722, 64725, 64744, 64752, 64758, 64785, 64799, 64814, 64823, 64832, 64841, 64857, 64866, 64875, 64900, 64935, 64949, 64953, 64959, 64979, 64994, 64995, 64997, 65003, 65005, 65006, 65028, 65030, 65033, 65034, 65043, 65050, 65059, 65060, 65066, 65082, 65095, 65114, 65122, 65124, 65125, 65128, 65141, 65142, 65144, 65145, 65152, 65154, 65179, 65182, 65188, 65197, 65208, 65212, 65214, 65215, 65218, 65221, 65225, 65228, 65241, 65244, 65247, 65251, 65252, 65257, 65274, 65275, 65280, 65281, 65282, 65288, 65300, 65303, 65304, 65330, 65340, 65349, 65359, 65394, 65395, 65403, 65411, 65412, 65414, 65415, 65421, 65424, 65427, 65430, 65439, 65441, 65442, 65444, 65446, 65451, 65464, 65472, 65478, 65487, 65493, 65499, 65500, 65509, 65512, 65514, 65521, 65522, 65527, 65539, 65541, 65559, 65569, 65572, 65590, 65593, 65595, 65596, 65600, 65606, 65644, 65659, 65660, 65695, 65719, 65724, 65725, 65742, 65748, 65752, 65777, 65784, 65791, 65802, 65812, 65818, 65820, 65821, 65822, 65828, 65847, 65874, 65881, 65882, 65905, 65917, 65934, 65935, 65943, 65949, 65950, 65953, 65955, 65956, 65965, 65971, 65994, 66005, 66013, 66016, 66031, 66034, 66037, 66043, 66050, 66056, 66061, 66065, 66073, 66103, 66106, 66123, 66130, 66132, 66133, 66160, 66169, 66179, 66196, 66197, 66213, 66227, 66231, 66233, 66268, 66269, 66272, 66286, 66296, 66301, 66304, 66307, 66310, 66312, 66313, 66321, 66323, 66331, 66332, 66337, 66340, 66346, 66364, 66370, 66373, 66389, 66398, 66403, 66430, 66436, 66445, 66454, 66463, 66468, 66486, 66500, 66506, 66544, 66559, 66560, 66595, 66601, 66605, 66610, 66619, 66628, 66629, 66634, 66643, 66648, 66650, 66667, 66668, 66676, 66682, 66684, 66686, 66688, 66691, 66692, 66703, 66719, 66722, 66730, 66733, 66766, 66777, 66791, 66826, 66839, 66846, 66862, 66864, 66866, 66868, 66886, 66893, 66916, 66917, 66926, 66938, 66955, 66961, 66962, 66971, 66983, 67001, 67003, 67010, 67019, 67030, 67033, 67036, 67063, 67089, 67091, 67098, 67100, 67109, 67112, 67114, 67121, 67122, 67127, 67139, 67141, 67159, 67169, 67172, 67190, 67193, 67195, 67196, 67211, 67212, 67217, 67221, 67222, 67224, 67226, 67242, 67245, 67254, 67255, 67262, 67271, 67279, 67297, 67300, 67303, 67306, 67319, 67330, 67336, 67338, 67360, 67363, 67377, 67383, 67389, 67391, 67398, 67411, 67422, 67425, 67444, 67452, 67458, 67485, 67499, 67519, 67524, 67525, 67542, 67548, 67552, 67577, 67584, 67591, 67603, 67619, 67622, 67630, 67633, 67666, 67677, 67691, 67712, 67721, 67729, 67737, 67757, 67767, 67773, 67775, 67776, 67788, 67792, 67809, 67833, 67839, 67845, 67854, 67878, 67887, 67890, 67893, 67901, 67908, 67910, 67913, 67915, 67916, 67927, 67931, 67938, 67949, 67951, 67961, 67972, 67980, 67983, 67994, 68000, 68003, 68025, 68030, 68039, 68052, 68079, 68093, 68097, 68099, 68111, 68122, 68125, 68144, 68152, 68158, 68185, 68199, 68205, 68212, 68215, 68221, 68225, 68234, 68243, 68250, 68251, 68252, 68258, 68266, 68285, 68300, 68309, 68324, 68337, 68342, 68369, 68373, 68379, 68390, 68396, 68397, 68414, 68423, 68432, 68441, 68457, 68466, 68475, 68502, 68512, 68518, 68520, 68521, 68522, 68528, 68547, 68574, 68581, 68582, 68626, 68639, 68646, 68662, 68664, 68666, 68668, 68686, 68693, 68709, 68733, 68739, 68745, 68754, 68778, 68787, 68790, 68793, 68815, 68825, 68851, 68852, 68866, 68877, 68899, 68903, 68907, 68909, 68919, 68930, 68936, 68937, 68963, 68970, 68973, 68989, 68990, 68991, 68998, 69004, 69017, 69023, 69032, 69038, 69040, 69055, 69071, 69078, 69083, 69087, 69089, 69098, 69107, 69129, 69137, 69139, 69157, 69166, 69167, 69170, 69173, 69175, 69176, 69189, 69192, 69193, 69198, 69199, 69203, 69219, 69222, 69230, 69233, 69266, 69277, 69291, 69302, 69308, 69317, 69319, 69320, 69323, 69332, 69345, 69354, 69355, 69368, 69371, 69378, 69380, 69386, 69387, 69391, 69400, 69435, 69449, 69453, 69459, 69479, 69494, 69495, 69497, 69505, 69517, 69534, 69535, 69543, 69549, 69550, 69553, 69555, 69556, 69565, 69571, 69594, 69616, 69617, 69626, 69638, 69655, 69661, 69662, 69671, 69683, 69701, 69708, 69710, 69713, 69715, 69716, 69727, 69731, 69738, 69749, 69751, 69761, 69772, 69780, 69783, 69794, 69803, 69807, 69809, 69819, 69830, 69836, 69837, 69863, 69870, 69873, 69889, 69890, 69891, 69898, 69908, 69912, 69913, 69918, 69919, 69921, 69931, 69944, 69945, 69947, 69954, 69974, 69980, 69981, 69988, 69991, 70000, 70009, 70016, 70036, 70039, 70048, 70061, 70063, 70084, 70090, 70093, 70106, 70117, 70124, 70125, 70127, 70133, 70142, 70144, 70145, 70148, 70152, 70154, 70155, 70158, 70160, 70169, 70171, 70172, 70184, 70185, 70196, 70214, 70215, 70217, 70225, 70241, 70245, 70248, 70251, 70252, 70254, 70255, 70271, 70284, 70306, 70309, 70313, 70331, 70336, 70360, 70363, 70366, 70379, 70389, 70390, 70397, 70398, 70408, 70412, 70414, 70415, 70418, 70421, 70425, 70428, 70441, 70444, 70447, 70451, 70452, 70457, 70474, 70475, 70480, 70481, 70482, 70488, 70512, 70514, 70515, 70518, 70521, 70522, 70524, 70525, 70541, 70542, 70547, 70551, 70552, 70574, 70581, 70589, 70598, 70599, 70601, 70603, 70610, 70619, 70630, 70633, 70636, 70663, 70689, 70691, 70698, 70711, 70712, 70721, 70739, 70744, 70745, 70754, 70788, 70793, 70804, 70814, 70815, 70824, 70839, 70840, 70841, 70842, 70848, 70851, 70859, 70869, 70878, 70884, 70887, 70893, 70895, 70896, 70900, 70903, 70916, 70930, 70937, 70938, 70958, 70959, 70961, 70968, 70973, 70983, 70985, 70986, 70995, 71006, 71017, 71024, 71025, 71027, 71033, 71042, 71044, 71045, 71048, 71052, 71054, 71055, 71058, 71060, 71069, 71071, 71072, 71084, 71085, 71096, 71107, 71114, 71119, 71126, 71137, 71141, 71146, 71162, 71164, 71170, 71173, 71191, 71204, 71205, 71207, 71216, 71226, 71229, 71234, 71240, 71243, 71244, 71250, 71261, 71262, 71267, 71270, 71276, 71278, 71287, 71292, 71303, 71317, 71324, 71330, 71342, 71344, 71345, 71348, 71354, 71355, 71357, 71369, 71371, 71375, 71384, 71396, 71402, 71404, 71405, 71408, 71411, 71416, 71420, 71423, 71424, 71432, 71434, 71435, 71438, 71440, 71442, 71443, 71450, 71453, 71461, 71480, 71483, 71502, 71504, 71505, 71508, 71520, 71534, 71535, 71537, 71540, 71543, 71550, 71553, 71569, 71573, 71578, 71580, 71587, 71588, 71596, 71600, 71609, 71612, 71614, 71621, 71622, 71627, 71639, 71641, 71659, 71669, 71672, 71690, 71693, 71695, 71696, 71701, 71702, 71710, 71713, 71720, 71726, 71728, 71731, 71735, 71753, 71758, 71762, 71782, 71785, 71804, 71805, 71827, 71834, 71840, 71843, 71850, 71857, 71858, 71872, 71875, 71885, 71906, 71911, 71922, 71936, 71956, 71960, 71963, 71965, 71966, 71999, 72014, 72015, 72017, 72025, 72041, 72045, 72048, 72051, 72052, 72054, 72055, 72071, 72084, 72104, 72105, 72107, 72116, 72126, 72129, 72134, 72140, 72143, 72144, 72150, 72161, 72162, 72167, 72170, 72176, 72178, 72187, 72192, 72205, 72216, 72219, 72223, 72225, 72226, 72232, 72234, 72235, 72238, 72243, 72246, 72250, 72252, 72253, 72261, 72262, 72264, 72266, 72283, 72291, 72299, 72314, 72322, 72324, 72325, 72328, 72341, 72342, 72344, 72345, 72352, 72354, 72379, 72382, 72388, 72397, 72401, 72405, 72408, 72410, 72413, 72414, 72423, 72426, 72431, 72432, 72434, 72435, 72441, 72443, 72450, 72453, 72456, 72462, 72465, 72477, 72480, 72501, 72502, 72504, 72505, 72510, 72520, 72522, 72523, 72532, 72534, 72540, 72543, 72546, 72550, 72556, 72558, 72564, 72565, 72577, 72579, 72585, 72597, 72611, 72612, 72617, 72621, 72622, 72624, 72626, 72642, 72645, 72654, 72655, 72662, 72671, 72679, 72697, 72701, 72710, 72716, 72718, 72739, 72747, 72757, 72759, 72761, 72769, 72774, 72775, 72781, 72788, 72793, 72795, 72796, 72804, 72817, 72823, 72832, 72838, 72840, 72855, 72871, 72878, 72883, 72887, 72889, 72898, 72912, 72921, 72929, 72937, 72957, 72967, 72973, 72975, 72976, 72988, 72992, 73006, 73009, 73013, 73031, 73036, 73060, 73063, 73066, 73079, 73089, 73090, 73097, 73098, 73103, 73117, 73124, 73130, 73142, 73144, 73145, 73148, 73154, 73155, 73157, 73169, 73171, 73175, 73184, 73196, 73214, 73222, 73224, 73225, 73228, 73241, 73242, 73244, 73245, 73252, 73254, 73279, 73282, 73288, 73297, 73301, 73306, 73310, 73360, 73366, 73368, 73386, 73412, 73414, 73415, 73418, 73421, 73422, 73424, 73425, 73441, 73442, 73447, 73451, 73452, 73474, 73481, 73489, 73498, 73499, 73514, 73515, 73517, 73522, 73524, 73541, 73542, 73551, 73555, 73571, 73600, 73603, 73606, 73619, 73630, 73636, 73638, 73660, 73663, 73677, 73683, 73689, 73691, 73698, 73709, 73711, 73715, 73729, 73744, 73751, 73767, 73776, 73790, 73792, 73809, 73814, 73822, 73828, 73836, 73841, 73849, 73863, 73869, 73882, 73890, 73894, 73896, 73900, 73907, 73908, 73916, 73927, 73948, 73949, 73961, 73968, 73970, 73972, 73980, 73984, 73986, 73994, 73999, 74008, 74012, 74014, 74015, 74018, 74021, 74025, 74028, 74041, 74044, 74047, 74051, 74052, 74057, 74074, 74075, 74080, 74081, 74082, 74088, 74102, 74104, 74105, 74108, 74111, 74116, 74120, 74123, 74124, 74132, 74134, 74135, 74138, 74140, 74142, 74143, 74150, 74153, 74161, 74180, 74183, 74201, 74205, 74208, 74210, 74213, 74214, 74223, 74226, 74231, 74232, 74234, 74235, 74241, 74243, 74250, 74253, 74256, 74262, 74265, 74277, 74280, 74312, 74314, 74315, 74318, 74321, 74322, 74324, 74325, 74341, 74342, 74347, 74351, 74352, 74374, 74381, 74389, 74398, 74399, 74401, 74404, 74407, 74410, 74412, 74413, 74421, 74423, 74431, 74432, 74437, 74440, 74446, 74464, 74470, 74473, 74489, 74498, 74501, 74502, 74507, 74510, 74513, 74520, 74523, 74526, 74531, 74532, 74562, 74568, 74570, 74577, 74578, 74586, 74587, 74611, 74622, 74625, 74644, 74652, 74658, 74685, 74699, 74704, 74705, 74727, 74734, 74740, 74743, 74750, 74757, 74758, 74772, 74775, 74785, 74800, 74801, 74802, 74808, 74810, 74813, 74820, 74831, 74839, 74849, 74856, 74857, 74865, 74875, 74880, 74893, 74894, 74899, 74938, 74939, 74948, 74969, 74983, 74984, 74989, 74993, 74996, 74998, 75012, 75014, 75015, 75018, 75021, 75022, 75024, 75025, 75041, 75042, 75047, 75051, 75052, 75074, 75081, 75089, 75098, 75099, 75102, 75104, 75105, 75108, 75120, 75134, 75135, 75137, 75140, 75143, 75150, 75153, 75169, 75173, 75178, 75180, 75187, 75188, 75196, 75201, 75202, 75204, 75205, 75210, 75220, 75222, 75223, 75232, 75234, 75240, 75243, 75246, 75250, 75256, 75258, 75264, 75265, 75277, 75279, 75285, 75297, 75314, 75315, 75317, 75322, 75324, 75341, 75342, 75351, 75355, 75371, 75401, 75402, 75407, 75410, 75413, 75420, 75423, 75426, 75431, 75432, 75462, 75468, 75470, 75477, 75478, 75486, 75487, 75501, 75502, 75510, 75513, 75520, 75526, 75528, 75531, 75535, 75553, 75558, 75562, 75582, 75585, 75619, 75624, 75625, 75642, 75648, 75652, 75677, 75684, 75691, 75704, 75713, 75718, 75727, 75729, 75731, 75740, 75747, 75748, 75767, 75772, 75774, 75776, 75778, 75781, 75784, 75787, 75792, 75801, 75809, 75810, 75817, 75818, 75825, 75846, 75847, 75852, 75855, 75864, 75871, 75874, 75877, 75881, 75890, 75908, 75909, 75916, 75927, 75961, 75972, 75980, 75990, 76001, 76003, 76010, 76019, 76030, 76033, 76036, 76063, 76089, 76091, 76098, 76100, 76109, 76112, 76114, 76121, 76122, 76127, 76139, 76141, 76159, 76169, 76172, 76190, 76193, 76195, 76196, 76211, 76212, 76217, 76221, 76222, 76224, 76226, 76242, 76245, 76254, 76255, 76262, 76271, 76279, 76297, 76300, 76303, 76306, 76319, 76330, 76336, 76338, 76360, 76363, 76377, 76383, 76389, 76391, 76398, 76411, 76422, 76425, 76444, 76452, 76458, 76485, 76499, 76519, 76524, 76525, 76542, 76548, 76552, 76577, 76584, 76591, 76603, 76619, 76622, 76630, 76633, 76666, 76677, 76691, 76712, 76721, 76729, 76737, 76757, 76767, 76773, 76775, 76776, 76788, 76792, 76809, 76833, 76839, 76845, 76854, 76878, 76887, 76890, 76893, 76901, 76908, 76910, 76913, 76915, 76916, 76927, 76931, 76938, 76949, 76951, 76961, 76972, 76980, 76983, 76994, 77011, 77012, 77021, 77039, 77044, 77045, 77054, 77088, 77093, 77101, 77102, 77110, 77113, 77120, 77126, 77128, 77131, 77135, 77153, 77158, 77162, 77182, 77185, 77201, 77210, 77216, 77218, 77239, 77247, 77257, 77259, 77261, 77269, 77274, 77275, 77281, 77288, 77293, 77295, 77296, 77309, 77311, 77315, 77329, 77344, 77351, 77367, 77376, 77390, 77392, 77404, 77405, 77427, 77434, 77440, 77443, 77450, 77457, 77458, 77472, 77475, 77485, 77504, 77513, 77518, 77527, 77529, 77531, 77540, 77547, 77548, 77567, 77572, 77574, 77576, 77578, 77581, 77584, 77587, 77592, 77612, 77621, 77629, 77637, 77657, 77667, 77673, 77675, 77676, 77688, 77692, 77724, 77725, 77736, 77742, 77745, 77752, 77754, 77756, 77758, 77763, 77765, 77766, 77785, 77808, 77812, 77815, 77821, 77828, 77845, 77851, 77854, 77857, 77868, 77875, 77880, 77882, 77886, 77903, 77923, 77925, 77926, 77930, 77932, 77952, 77962, 78004, 78014, 78015, 78024, 78039, 78040, 78041, 78042, 78048, 78051, 78059, 78069, 78078, 78084, 78087, 78093, 78095, 78096, 78104, 78105, 78127, 78134, 78140, 78143, 78150, 78157, 78158, 78172, 78175, 78185, 78204, 78217, 78223, 78232, 78238, 78240, 78255, 78271, 78278, 78283, 78287, 78289, 78298, 78309, 78314, 78322, 78328, 78336, 78341, 78349, 78363, 78369, 78382, 78390, 78394, 78396, 78400, 78401, 78402, 78408, 78410, 78413, 78420, 78431, 78439, 78449, 78456, 78457, 78465, 78475, 78480, 78493, 78494, 78499, 78501, 78509, 78510, 78517, 78518, 78525, 78546, 78547, 78552, 78555, 78564, 78571, 78574, 78577, 78581, 78590, 78609, 78633, 78639, 78645, 78654, 78678, 78687, 78690, 78693, 78708, 78712, 78715, 78721, 78728, 78745, 78751, 78754, 78757, 78768, 78775, 78780, 78782, 78786, 78804, 78807, 78815, 78823, 78827, 78829, 78832, 78840, 78851, 78867, 78870, 78872, 78876, 78892, 78903, 78905, 78906, 78928, 78930, 78934, 78936, 78943, 78944, 78949, 78950, 78960, 78963, 78982, 78994, 78999, 79000, 79003, 79016, 79030, 79037, 79038, 79058, 79059, 79061, 79068, 79073, 79083, 79085, 79086, 79095, 79106, 79111, 79122, 79136, 79156, 79160, 79163, 79165, 79166, 79199, 79212, 79221, 79229, 79237, 79257, 79267, 79273, 79275, 79276, 79288, 79292, 79300, 79307, 79308, 79316, 79327, 79348, 79349, 79361, 79368, 79370, 79372, 79380, 79384, 79386, 79394, 79399, 79438, 79439, 79448, 79469, 79483, 79484, 79489, 79493, 79496, 79498, 79508, 79509, 79516, 79527, 79561, 79572, 79580, 79590, 79601, 79608, 79610, 79613, 79615, 79616, 79627, 79631, 79638, 79649, 79651, 79661, 79672, 79680, 79683, 79694, 79703, 79723, 79725, 79726, 79730, 79732, 79752, 79762, 79803, 79805, 79806, 79828, 79830, 79834, 79836, 79843, 79844, 79849, 79850, 79860, 79863, 79882, 79894, 79899, 79905, 79919, 79922, 79934, 79939, 79943, 79946, 79948, 79950, 79964, 79984, 79989, 79991, 79993, 79998, 80002, 80006, 80018, 80020, 80033, 80036, 80047, 80060, 80063, 80074, 80081, 80088, 80099, 80108, 80112, 80114, 80115, 80118, 80121, 80125, 80128, 80141, 80144, 80147, 80151, 80152, 80157, 80174, 80175, 80180, 80181, 80182, 80188, 80200, 80211, 80215, 80218, 80225, 80233, 80244, 80245, 80247, 80251, 80252, 80254, 80256, 80265, 80274, 80281, 80299, 80303, 80306, 80323, 80330, 80332, 80333, 80360, 80369, 80379, 80396, 80397, 80407, 80411, 80414, 80417, 80424, 80425, 80427, 80441, 80442, 80452, 80455, 80470, 80471, 80472, 80478, 80487, 80488, 80511, 80512, 80517, 80521, 80522, 80524, 80526, 80542, 80545, 80554, 80555, 80562, 80571, 80579, 80597, 80600, 80603, 80625, 80630, 80639, 80652, 80679, 80693, 80697, 80699, 80704, 80714, 80715, 80724, 80739, 80740, 80741, 80742, 80748, 80751, 80759, 80769, 80778, 80784, 80787, 80793, 80795, 80796, 80801, 80808, 80810, 80811, 80812, 80818, 80821, 80847, 80848, 80874, 80877, 80880, 80881, 80884, 80909, 80929, 80936, 80937, 80957, 80963, 80967, 80969, 80973, 80975, 80976, 80990, 80992, 80996, 81008, 81012, 81014, 81015, 81018, 81021, 81025, 81028, 81041, 81044, 81047, 81051, 81052, 81057, 81074, 81075, 81080, 81081, 81082, 81088, 81102, 81104, 81105, 81108, 81111, 81116, 81120, 81123, 81124, 81132, 81134, 81135, 81138, 81140, 81142, 81143, 81150, 81153, 81161, 81180, 81183, 81201, 81205, 81208, 81210, 81213, 81214, 81223, 81226, 81231, 81232, 81234, 81235, 81241, 81243, 81250, 81253, 81256, 81262, 81265, 81277, 81280, 81312, 81314, 81315, 81318, 81321, 81322, 81324, 81325, 81341, 81342, 81347, 81351, 81352, 81374, 81381, 81389, 81398, 81399, 81401, 81404, 81407, 81410, 81412, 81413, 81421, 81423, 81431, 81432, 81437, 81440, 81446, 81464, 81470, 81473, 81489, 81498, 81501, 81502, 81507, 81510, 81513, 81520, 81523, 81526, 81531, 81532, 81562, 81568, 81570, 81577, 81578, 81586, 81587, 81611, 81622, 81625, 81644, 81652, 81658, 81685, 81699, 81704, 81705, 81727, 81734, 81740, 81743, 81750, 81757, 81758, 81772, 81775, 81785, 81800, 81801, 81802, 81808, 81810, 81813, 81820, 81831, 81839, 81849, 81856, 81857, 81865, 81875, 81880, 81893, 81894, 81899, 81938, 81939, 81948, 81969, 81983, 81984, 81989, 81993, 81996, 81998, 82000, 82011, 82015, 82018, 82025, 82033, 82044, 82045, 82047, 82051, 82052, 82054, 82056, 82065, 82074, 82081, 82099, 82101, 82105, 82108, 82110, 82113, 82114, 82123, 82126, 82131, 82132, 82134, 82135, 82141, 82143, 82150, 82153, 82156, 82162, 82165, 82177, 82180, 82205, 82213, 82216, 82231, 82234, 82237, 82243, 82250, 82256, 82261, 82265, 82273, 82303, 82311, 82312, 82314, 82315, 82321, 82324, 82327, 82330, 82339, 82341, 82342, 82344, 82346, 82351, 82364, 82372, 82378, 82387, 82393, 82399, 82404, 82405, 82407, 82411, 82413, 82423, 82431, 82432, 82434, 82436, 82440, 82443, 82450, 82459, 82463, 82470, 82495, 82501, 82502, 82504, 82506, 82510, 82513, 82516, 82520, 82526, 82531, 82540, 82549, 82557, 82560, 82561, 82562, 82568, 82575, 82586, 82594, 82605, 82612, 82615, 82621, 82625, 82634, 82643, 82650, 82651, 82652, 82658, 82666, 82685, 82704, 82717, 82723, 82732, 82738, 82740, 82755, 82771, 82778, 82783, 82787, 82789, 82798, 82801, 82810, 82837, 82856, 82865, 82873, 82877, 82879, 82897, 82909, 82933, 82939, 82945, 82954, 82978, 82987, 82990, 82993, 83003, 83006, 83023, 83030, 83032, 83033, 83060, 83069, 83079, 83096, 83097, 83112, 83114, 83115, 83118, 83121, 83122, 83124, 83125, 83141, 83142, 83147, 83151, 83152, 83174, 83181, 83189, 83198, 83199, 83203, 83211, 83212, 83214, 83215, 83221, 83224, 83227, 83230, 83239, 83241, 83242, 83244, 83246, 83251, 83264, 83272, 83278, 83287, 83293, 83299, 83300, 83302, 83303, 83320, 83329, 83330, 83333, 83359, 83367, 83376, 83392, 83395, 83411, 83412, 83417, 83421, 83422, 83424, 83426, 83442, 83445, 83454, 83455, 83462, 83471, 83479, 83497, 83511, 83512, 83521, 83539, 83544, 83545, 83554, 83588, 83593, 83600, 83609, 83624, 83637, 83642, 83669, 83673, 83679, 83690, 83696, 83697, 83709, 83714, 83722, 83728, 83736, 83741, 83749, 83763, 83769, 83782, 83790, 83794, 83796, 83811, 83819, 83827, 83858, 83872, 83885, 83891, 83906, 83907, 83918, 83919, 83923, 83929, 83932, 83935, 83947, 83953, 83960, 83966, 83967, 83970, 83974, 83976, 83981, 83991, 83992, 84007, 84011, 84014, 84017, 84024, 84025, 84027, 84041, 84042, 84052, 84055, 84070, 84071, 84072, 84078, 84087, 84088, 84101, 84104, 84107, 84110, 84112, 84113, 84121, 84123, 84131, 84132, 84137, 84140, 84146, 84164, 84170, 84173, 84189, 84198, 84204, 84205, 84207, 84211, 84213, 84223, 84231, 84232, 84234, 84236, 84240, 84243, 84250, 84259, 84263, 84270, 84295, 84311, 84312, 84317, 84321, 84322, 84324, 84326, 84342, 84345, 84354, 84355, 84362, 84371, 84379, 84397, 84401, 84402, 84410, 84416, 84420, 84423, 84432, 84435, 84448, 84449, 84453, 84461, 84479, 84484, 84494, 84497, 84502, 84505, 84520, 84529, 84534, 84535, 84543, 84550, 84553, 84567, 84576, 84577, 84592, 84614, 84623, 84632, 84641, 84657, 84666, 84675, 84700, 84701, 84702, 84708, 84710, 84713, 84720, 84731, 84739, 84749, 84756, 84757, 84765, 84775, 84780, 84793, 84794, 84799, 84807, 84808, 84819, 84844, 84870, 84880, 84891, 84918, 84925, 84937, 84944, 84947, 84952, 84973, 84974, 84979, 84981, 84997, 85011, 85012, 85017, 85021, 85022, 85024, 85026, 85042, 85045, 85054, 85055, 85062, 85071, 85079, 85097, 85101, 85102, 85107, 85110, 85113, 85120, 85123, 85126, 85131, 85132, 85162, 85168, 85170, 85177, 85178, 85186, 85187, 85201, 85202, 85204, 85206, 85210, 85213, 85216, 85220, 85226, 85231, 85240, 85249, 85257, 85260, 85261, 85262, 85268, 85275, 85286, 85294, 85311, 85312, 85321, 85339, 85344, 85345, 85354, 85388, 85393, 85402, 85405, 85420, 85429, 85434, 85435, 85443, 85450, 85453, 85467, 85476, 85477, 85492, 85504, 85505, 85527, 85534, 85540, 85543, 85550, 85557, 85558, 85572, 85575, 85585, 85602, 85612, 85618, 85620, 85621, 85622, 85628, 85647, 85674, 85681, 85682, 85701, 85709, 85710, 85717, 85718, 85725, 85746, 85747, 85752, 85755, 85764, 85771, 85774, 85777, 85781, 85790, 85816, 85817, 85826, 85838, 85855, 85861, 85862, 85871, 85883, 85907, 85924, 85933, 85942, 85970, 86000, 86003, 86025, 86030, 86039, 86052, 86079, 86093, 86097, 86099, 86111, 86122, 86125, 86144, 86152, 86158, 86185, 86199, 86205, 86212, 86215, 86221, 86225, 86234, 86243, 86250, 86251, 86252, 86258, 86266, 86285, 86300, 86309, 86324, 86337, 86342, 86369, 86373, 86379, 86390, 86396, 86397, 86414, 86423, 86432, 86441, 86457, 86466, 86475, 86502, 86512, 86518, 86520, 86521, 86522, 86528, 86547, 86574, 86581, 86582, 86626, 86639, 86646, 86662, 86664, 86666, 86668, 86686, 86693, 86709, 86733, 86739, 86745, 86754, 86778, 86787, 86790, 86793, 86815, 86825, 86851, 86852, 86866, 86877, 86899, 86903, 86907, 86909, 86919, 86930, 86936, 86937, 86963, 86970, 86973, 86989, 86990, 86991, 86998, 87004, 87014, 87015, 87024, 87039, 87040, 87041, 87042, 87048, 87051, 87059, 87069, 87078, 87084, 87087, 87093, 87095, 87096, 87104, 87105, 87127, 87134, 87140, 87143, 87150, 87157, 87158, 87172, 87175, 87185, 87204, 87217, 87223, 87232, 87238, 87240, 87255, 87271, 87278, 87283, 87287, 87289, 87298, 87309, 87314, 87322, 87328, 87336, 87341, 87349, 87363, 87369, 87382, 87390, 87394, 87396, 87400, 87401, 87402, 87408, 87410, 87413, 87420, 87431, 87439, 87449, 87456, 87457, 87465, 87475, 87480, 87493, 87494, 87499, 87501, 87509, 87510, 87517, 87518, 87525, 87546, 87547, 87552, 87555, 87564, 87571, 87574, 87577, 87581, 87590, 87609, 87633, 87639, 87645, 87654, 87678, 87687, 87690, 87693, 87708, 87712, 87715, 87721, 87728, 87745, 87751, 87754, 87757, 87768, 87775, 87780, 87782, 87786, 87804, 87807, 87815, 87823, 87827, 87829, 87832, 87840, 87851, 87867, 87870, 87872, 87876, 87892, 87903, 87905, 87906, 87928, 87930, 87934, 87936, 87943, 87944, 87949, 87950, 87960, 87963, 87982, 87994, 87999, 88001, 88008, 88010, 88011, 88012, 88018, 88021, 88047, 88048, 88074, 88077, 88080, 88081, 88084, 88100, 88101, 88102, 88108, 88110, 88113, 88120, 88131, 88139, 88149, 88156, 88157, 88165, 88175, 88180, 88193, 88194, 88199, 88201, 88210, 88237, 88256, 88265, 88273, 88277, 88279, 88297, 88311, 88319, 88327, 88358, 88372, 88385, 88391, 88407, 88408, 88419, 88444, 88470, 88480, 88491, 88516, 88517, 88526, 88538, 88555, 88561, 88562, 88571, 88583, 88615, 88625, 88651, 88652, 88666, 88677, 88699, 88704, 88707, 88715, 88723, 88727, 88729, 88732, 88740, 88751, 88767, 88770, 88772, 88776, 88792, 88800, 88801, 88804, 88810, 88835, 88840, 88853, 88888, 88913, 88914, 88919, 88927, 88931, 88941, 88969, 88972, 88991, 88996, 89009, 89029, 89036, 89037, 89057, 89063, 89067, 89069, 89073, 89075, 89076, 89090, 89092, 89096, 89138, 89139, 89148, 89169, 89183, 89184, 89189, 89193, 89196, 89198, 89209, 89233, 89239, 89245, 89254, 89278, 89287, 89290, 89293, 89306, 89307, 89318, 89319, 89323, 89329, 89332, 89335, 89347, 89353, 89360, 89366, 89367, 89370, 89374, 89376, 89381, 89391, 89392, 89418, 89425, 89437, 89444, 89447, 89452, 89473, 89474, 89479, 89481, 89497, 89507, 89524, 89533, 89542, 89570, 89603, 89607, 89609, 89619, 89630, 89636, 89637, 89663, 89670, 89673, 89689, 89690, 89691, 89698, 89703, 89705, 89706, 89728, 89730, 89734, 89736, 89743, 89744, 89749, 89750, 89760, 89763, 89782, 89794, 89799, 89813, 89814, 89819, 89827, 89831, 89841, 89869, 89872, 89891, 89896, 89900, 89902, 89906, 89913, 89916, 89918, 89920, 89923, 89931, 89932, 89947, 89960, 89961, 89968, 89974, 89979, 89981, 89986, 89997, 90001, 90004, 90007, 90010, 90012, 90013, 90021, 90023, 90031, 90032, 90037, 90040, 90046, 90064, 90070, 90073, 90089, 90098, 90100, 90102, 90103, 90120, 90129, 90130, 90133, 90159, 90167, 90176, 90192, 90195, 90201, 90203, 90210, 90219, 90230, 90233, 90236, 90263, 90289, 90291, 90298, 90301, 90302, 90307, 90310, 90313, 90320, 90323, 90326, 90331, 90332, 90362, 90368, 90370, 90377, 90378, 90386, 90387, 90400, 90406, 90444, 90459, 90460, 90495, 90519, 90549, 90556, 90565, 90578, 90579, 90587, 90591, 90594, 90597, 90604, 90617, 90623, 90632, 90638, 90640, 90655, 90671, 90678, 90683, 90687, 90689, 90698, 90700, 90703, 90716, 90730, 90737, 90738, 90758, 90759, 90761, 90768, 90773, 90783, 90785, 90786, 90795, 90809, 90829, 90836, 90837, 90857, 90863, 90867, 90869, 90873, 90875, 90876, 90890, 90892, 90896, 90908, 90912, 90915, 90921, 90928, 90945, 90951, 90954, 90957, 90968, 90975, 90980, 90982, 90986, 91000, 91002, 91003, 91020, 91029, 91030, 91033, 91059, 91067, 91076, 91092, 91095, 91114, 91115, 91117, 91122, 91124, 91141, 91142, 91151, 91155, 91171, 91200, 91209, 91212, 91214, 91221, 91222, 91227, 91239, 91241, 91259, 91269, 91272, 91290, 91293, 91295, 91296, 91300, 91303, 91329, 91330, 91333, 91349, 91367, 91369, 91376, 91388, 91389, 91392, 91394, 91396, 91398, 91411, 91412, 91421, 91439, 91444, 91445, 91454, 91488, 91493, 91509, 91511, 91515, 91529, 91544, 91551, 91567, 91576, 91590, 91592, 91607, 91629, 91637, 91639, 91657, 91666, 91667, 91670, 91673, 91675, 91676, 91689, 91692, 91693, 91698, 91699, 91706, 91711, 91722, 91736, 91756, 91760, 91763, 91765, 91766, 91799, 91838, 91839, 91848, 91869, 91883, 91884, 91889, 91893, 91896, 91898, 91902, 91905, 91920, 91923, 91925, 91926, 91932, 91934, 91936, 91938, 91943, 91950, 91952, 91962, 91963, 91968, 91969, 91979, 91983, 91986, 91988, 91996, 91997, 92001, 92003, 92010, 92019, 92030, 92033, 92036, 92063, 92089, 92091, 92098, 92100, 92109, 92112, 92114, 92121, 92122, 92127, 92139, 92141, 92159, 92169, 92172, 92190, 92193, 92195, 92196, 92211, 92212, 92217, 92221, 92222, 92224, 92226, 92242, 92245, 92254, 92255, 92262, 92271, 92279, 92297, 92300, 92303, 92306, 92319, 92330, 92336, 92338, 92360, 92363, 92377, 92383, 92389, 92391, 92398, 92411, 92422, 92425, 92444, 92452, 92458, 92485, 92499, 92519, 92524, 92525, 92542, 92548, 92552, 92577, 92584, 92591, 92603, 92619, 92622, 92630, 92633, 92666, 92677, 92691, 92712, 92721, 92729, 92737, 92757, 92767, 92773, 92775, 92776, 92788, 92792, 92809, 92833, 92839, 92845, 92854, 92878, 92887, 92890, 92893, 92901, 92908, 92910, 92913, 92915, 92916, 92927, 92931, 92938, 92949, 92951, 92961, 92972, 92980, 92983, 92994, 93001, 93002, 93007, 93010, 93013, 93020, 93023, 93026, 93031, 93032, 93062, 93068, 93070, 93077, 93078, 93086, 93087, 93100, 93103, 93129, 93130, 93133, 93149, 93167, 93169, 93176, 93188, 93189, 93192, 93194, 93196, 93198, 93200, 93203, 93206, 93219, 93230, 93236, 93238, 93260, 93263, 93277, 93283, 93289, 93291, 93298, 93301, 93302, 93310, 93313, 93320, 93326, 93328, 93331, 93335, 93353, 93358, 93362, 93382, 93385, 93419, 93449, 93456, 93465, 93478, 93479, 93487, 93491, 93494, 93497, 93533, 93538, 93546, 93556, 93564, 93565, 93583, 93602, 93608, 93617, 93619, 93620, 93623, 93632, 93645, 93654, 93655, 93668, 93671, 93678, 93680, 93686, 93687, 93691, 93700, 93707, 93708, 93716, 93727, 93748, 93749, 93761, 93768, 93770, 93772, 93780, 93784, 93786, 93794, 93799, 93806, 93807, 93818, 93819, 93823, 93829, 93832, 93835, 93847, 93853, 93860, 93866, 93867, 93870, 93874, 93876, 93881, 93891, 93892, 93912, 93914, 93916, 93918, 93921, 93928, 93941, 93944, 93947, 93961, 93974, 93979, 93981, 93982, 93997, 94000, 94006, 94044, 94059, 94060, 94095, 94111, 94112, 94121, 94139, 94144, 94145, 94154, 94188, 94193, 94211, 94222, 94225, 94244, 94252, 94258, 94285, 94299, 94319, 94349, 94356, 94365, 94378, 94379, 94387, 94391, 94394, 94397, 94404, 94414, 94415, 94424, 94439, 94440, 94441, 94442, 94448, 94451, 94459, 94469, 94478, 94484, 94487, 94493, 94495, 94496, 94509, 94514, 94522, 94528, 94536, 94541, 94549, 94563, 94569, 94582, 94590, 94594, 94596, 94600, 94635, 94649, 94653, 94659, 94679, 94694, 94695, 94697, 94738, 94739, 94748, 94769, 94783, 94784, 94789, 94793, 94796, 94798, 94818, 94825, 94837, 94844, 94847, 94852, 94873, 94874, 94879, 94881, 94897, 94905, 94913, 94929, 94931, 94934, 94937, 94943, 94945, 94946, 94950, 94954, 94956, 94964, 94965, 94967, 94973, 94976, 94978, 94987, 94992, 95019, 95049, 95056, 95065, 95078, 95079, 95087, 95091, 95094, 95097, 95109, 95111, 95115, 95129, 95144, 95151, 95167, 95176, 95190, 95192, 95219, 95224, 95225, 95242, 95248, 95252, 95277, 95284, 95291, 95333, 95338, 95346, 95356, 95364, 95365, 95383, 95409, 95414, 95422, 95428, 95436, 95441, 95449, 95463, 95469, 95482, 95490, 95494, 95496, 95506, 95511, 95522, 95536, 95556, 95560, 95563, 95565, 95566, 95599, 95605, 95617, 95634, 95635, 95643, 95649, 95650, 95653, 95655, 95656, 95665, 95671, 95694, 95708, 95709, 95716, 95727, 95761, 95772, 95780, 95790, 95807, 95824, 95833, 95842, 95870, 95901, 95904, 95907, 95910, 95912, 95921, 95940, 95944, 95946, 95959, 95964, 95970, 95995, 96004, 96017, 96023, 96032, 96038, 96040, 96055, 96071, 96078, 96083, 96087, 96089, 96098, 96107, 96129, 96137, 96139, 96157, 96166, 96167, 96170, 96173, 96175, 96176, 96189, 96192, 96193, 96198, 96199, 96203, 96219, 96222, 96230, 96233, 96266, 96277, 96291, 96302, 96308, 96317, 96319, 96320, 96323, 96332, 96345, 96354, 96355, 96368, 96371, 96378, 96380, 96386, 96387, 96391, 96400, 96435, 96449, 96453, 96459, 96479, 96494, 96495, 96497, 96505, 96517, 96534, 96535, 96543, 96549, 96550, 96553, 96555, 96556, 96565, 96571, 96594, 96616, 96617, 96626, 96638, 96655, 96661, 96662, 96671, 96683, 96701, 96708, 96710, 96713, 96715, 96716, 96727, 96731, 96738, 96749, 96751, 96761, 96772, 96780, 96783, 96794, 96803, 96807, 96809, 96819, 96830, 96836, 96837, 96863, 96870, 96873, 96889, 96890, 96891, 96898, 96908, 96912, 96913, 96918, 96919, 96921, 96931, 96944, 96945, 96947, 96954, 96974, 96980, 96981, 96988, 96991, 97000, 97003, 97016, 97030, 97037, 97038, 97058, 97059, 97061, 97068, 97073, 97083, 97085, 97086, 97095, 97106, 97111, 97122, 97136, 97156, 97160, 97163, 97165, 97166, 97199, 97212, 97221, 97229, 97237, 97257, 97267, 97273, 97275, 97276, 97288, 97292, 97300, 97307, 97308, 97316, 97327, 97348, 97349, 97361, 97368, 97370, 97372, 97380, 97384, 97386, 97394, 97399, 97438, 97439, 97448, 97469, 97483, 97484, 97489, 97493, 97496, 97498, 97508, 97509, 97516, 97527, 97561, 97572, 97580, 97590, 97601, 97608, 97610, 97613, 97615, 97616, 97627, 97631, 97638, 97649, 97651, 97661, 97672, 97680, 97683, 97694, 97703, 97723, 97725, 97726, 97730, 97732, 97752, 97762, 97803, 97805, 97806, 97828, 97830, 97834, 97836, 97843, 97844, 97849, 97850, 97860, 97863, 97882, 97894, 97899, 97905, 97919, 97922, 97934, 97939, 97943, 97946, 97948, 97950, 97964, 97984, 97989, 97991, 97993, 97998, 98009, 98029, 98036, 98037, 98057, 98063, 98067, 98069, 98073, 98075, 98076, 98090, 98092, 98096, 98138, 98139, 98148, 98169, 98183, 98184, 98189, 98193, 98196, 98198, 98209, 98233, 98239, 98245, 98254, 98278, 98287, 98290, 98293, 98306, 98307, 98318, 98319, 98323, 98329, 98332, 98335, 98347, 98353, 98360, 98366, 98367, 98370, 98374, 98376, 98381, 98391, 98392, 98418, 98425, 98437, 98444, 98447, 98452, 98473, 98474, 98479, 98481, 98497, 98507, 98524, 98533, 98542, 98570, 98603, 98607, 98609, 98619, 98630, 98636, 98637, 98663, 98670, 98673, 98689, 98690, 98691, 98698, 98703, 98705, 98706, 98728, 98730, 98734, 98736, 98743, 98744, 98749, 98750, 98760, 98763, 98782, 98794, 98799, 98813, 98814, 98819, 98827, 98831, 98841, 98869, 98872, 98891, 98896, 98900, 98902, 98906, 98913, 98916, 98918, 98920, 98923, 98931, 98932, 98947, 98960, 98961, 98968, 98974, 98979, 98981, 98986, 98997, 99008, 99012, 99015, 99021, 99028, 99045, 99051, 99054, 99057, 99068, 99075, 99080, 99082, 99086, 99102, 99105, 99120, 99123, 99125, 99126, 99132, 99134, 99136, 99138, 99143, 99150, 99152, 99162, 99163, 99168, 99169, 99179, 99183, 99186, 99188, 99196, 99197, 99201, 99208, 99210, 99213, 99215, 99216, 99227, 99231, 99238, 99249, 99251, 99261, 99272, 99280, 99283, 99294, 99312, 99314, 99316, 99318, 99321, 99328, 99341, 99344, 99347, 99361, 99374, 99379, 99381, 99382, 99397, 99405, 99413, 99429, 99431, 99434, 99437, 99443, 99445, 99446, 99450, 99454, 99456, 99464, 99465, 99467, 99473, 99476, 99478, 99487, 99492, 99501, 99504, 99507, 99510, 99512, 99521, 99540, 99544, 99546, 99559, 99564, 99570, 99595, 99608, 99612, 99613, 99618, 99619, 99621, 99631, 99644, 99645, 99647, 99654, 99674, 99680, 99681, 99688, 99691, 99705, 99719, 99722, 99734, 99739, 99743, 99746, 99748, 99750, 99764, 99784, 99789, 99791, 99793, 99798, 99800, 99802, 99806, 99813, 99816, 99818, 99820, 99823, 99831, 99832, 99847, 99860, 99861, 99868, 99874, 99879, 99881, 99886, 99897, 99916, 99917, 99924, 99937, 99942, 99955, 99961, 99971, 99973, 99978, 99987]\n"
          ]
        }
      ],
      "source": [
        "happy_list = []\n",
        "for i in range(1, 100000):\n",
        "    if is_happy(i):\n",
        "        happy_list.append(i)\n",
        "\n",
        "print(happy_list)"
      ]
    },
    {
      "cell_type": "code",
      "execution_count": null,
      "metadata": {
        "id": "TGfzh0tKL4pg"
      },
      "outputs": [],
      "source": [
        "def is_happy_optimised1(test_number):\n",
        "    while test_number != 1:\n",
        "        # If the new test number is a 4 it would cycle for ever, so the number must be sad.\n",
        "        if test_number in {0, 4, 16, 37, 58, 89, 145, 42, 20}:\n",
        "            return False\n",
        "\n",
        "        # Cast integer to string for indexing each digit\n",
        "        test_string = str(test_number)\n",
        "        total = 0\n",
        "        # Calculate each digit in the number\n",
        "        for digit in test_string:\n",
        "            # Cast the digit to an integer\n",
        "            digit = int(digit)\n",
        "            # Calculate the new number\n",
        "            total = total + (digit * digit)\n",
        "        test_number = total\n",
        "    return True"
      ]
    },
    {
      "cell_type": "code",
      "execution_count": null,
      "metadata": {
        "id": "eM3s67YgLia0"
      },
      "outputs": [],
      "source": [
        "def is_happy_optimised2(test_number):\n",
        "    happy_set = {1}\n",
        "    while test_number not in happy_set:\n",
        "        # If the new test number is a 4 it would cycle for ever, so the number must be sad.\n",
        "        if test_number in {0, 4, 16, 37, 58, 89, 145, 42, 20}:\n",
        "            return False\n",
        "\n",
        "        # Cast integer to string for indexing each digit\n",
        "        test_string = str(test_number)\n",
        "        total = 0\n",
        "        # Calculate each digit in the number\n",
        "        for digit in test_string:\n",
        "            # Cast the digit to an integer\n",
        "            digit = int(digit)\n",
        "            # Calculate the new number\n",
        "            total = total + (digit * digit)\n",
        "        test_number = total\n",
        "        happy_set.add(test_number)\n",
        "    return True"
      ]
    },
    {
      "cell_type": "code",
      "execution_count": null,
      "metadata": {
        "id": "OXXIZCxLLj_d"
      },
      "outputs": [],
      "source": [
        "def is_happy_optimised3(test_number):\n",
        "    happy_set = {1}\n",
        "    while int(''.join(sorted(str(test_number)))) not in happy_set:\n",
        "        # If the new test number is a 4 it would cycle for ever, so the number must be sad.\n",
        "        if test_number in {0, 4, 16, 37, 58, 89, 145, 42, 20}:\n",
        "            return False\n",
        "\n",
        "        # Cast integer to string for indexing each digit\n",
        "        test_string = str(test_number)\n",
        "        total = 0\n",
        "        # Calculate each digit in the number\n",
        "        for digit in test_string:\n",
        "            # Cast the digit to an integer\n",
        "            digit = int(digit)\n",
        "            # Calculate the new number\n",
        "            total = total + (digit * digit)\n",
        "        test_number = total\n",
        "        happy_set.add(int(''.join(sorted(str(test_number)))))\n",
        "    return True"
      ]
    },
    {
      "cell_type": "code",
      "execution_count": null,
      "metadata": {
        "colab": {
          "base_uri": "https://localhost:8080/",
          "height": 85
        },
        "id": "FqdQIXRWLovd",
        "outputId": "54b1b882-be2d-483e-ad17-a41a90450deb"
      },
      "outputs": [
        {
          "name": "stdout",
          "output_type": "stream",
          "text": [
            "is_happy: t = 0.00063\n",
            "is_happy_optimised1: t = 0.00025\n",
            "is_happy_optimised2: t = 0.00011\n",
            "is_happy_optimised3: t = 0.00029\n"
          ]
        }
      ],
      "source": [
        "import time\n",
        "\n",
        "# Test every number between 1 and 1000.\n",
        "# Add it to a list if it is happy.\n",
        "def time_test(happy_func, n):\n",
        "    t1 = time.perf_counter()\n",
        "    happy_list = []\n",
        "    for i in range(1, n):\n",
        "        if happy_func(i):\n",
        "            happy_list.append(i)\n",
        "        # print(f'{i}: {is_happy(i)}')\n",
        "    return time.perf_counter()-t1\n",
        "\n",
        "\n",
        "def test_multiple_functions(function_list, n, i):\n",
        "    for test_func in function_list:\n",
        "        t = 0\n",
        "        for _ in range(i):\n",
        "            t += time_test(test_func, n)\n",
        "\n",
        "        print(f\"{test_func.__name__}: t = {t / i:.5f}\")\n",
        "\n",
        "\n",
        "test_multiple_functions([is_happy, is_happy_optimised1, is_happy_optimised2, is_happy_optimised3], 100, 10)"
      ]
    }
  ],
  "metadata": {
    "colab": {
      "collapsed_sections": [
        "ePKc51tKNNHJ",
        "pk631X0tDjXa"
      ],
      "provenance": []
    },
    "kernelspec": {
      "display_name": "Python 3.10.6 64-bit",
      "language": "python",
      "name": "python3"
    },
    "language_info": {
      "codemirror_mode": {
        "name": "ipython",
        "version": 3
      },
      "file_extension": ".py",
      "mimetype": "text/x-python",
      "name": "python",
      "nbconvert_exporter": "python",
      "pygments_lexer": "ipython3",
      "version": "3.10.8"
    },
    "vscode": {
      "interpreter": {
        "hash": "e7370f93d1d0cde622a1f8e1c04877d8463912d04d973331ad4851f04de6915a"
      }
    }
  },
  "nbformat": 4,
  "nbformat_minor": 0
}

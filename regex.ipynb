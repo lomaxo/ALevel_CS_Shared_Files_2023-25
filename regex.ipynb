{
 "cells": [
  {
   "cell_type": "code",
   "execution_count": null,
   "metadata": {},
   "outputs": [],
   "source": [
    "import re\n",
    "\n",
    "txt = \"The rain in Spain falls mainly\""
   ]
  },
  {
   "cell_type": "code",
   "execution_count": null,
   "metadata": {},
   "outputs": [],
   "source": [
    "match = re.search(' [A-Z][a-z]{4}', txt)\n",
    "print(match)"
   ]
  },
  {
   "cell_type": "code",
   "execution_count": null,
   "metadata": {},
   "outputs": [],
   "source": [
    "match = re.findall('in', txt)\n",
    "print(match)"
   ]
  },
  {
   "cell_type": "code",
   "execution_count": null,
   "metadata": {},
   "outputs": [],
   "source": [
    "matches = re.finditer('in', txt)\n",
    "for match in matches:\n",
    "    print(match.group(), match.span(), match.string)"
   ]
  },
  {
   "cell_type": "code",
   "execution_count": null,
   "metadata": {},
   "outputs": [],
   "source": [
    "def validate_carreg(reg: str):\n",
    "    reg_exp = '^[A-Z]{2}[0-9]{2} [A-Z]{3}$'\n",
    "    reg_exp = '^([A-Z]{2}[0-9]{2} [A-Z]{3})$|^([A-Z][0-9]{1,3} [A-Z]{3})$'\n",
    "\n",
    "    mat = re.search(reg_exp, reg)\n",
    "    if mat: \n",
    "        return True\n",
    "    else:\n",
    "        return False"
   ]
  },
  {
   "cell_type": "code",
   "execution_count": null,
   "metadata": {},
   "outputs": [],
   "source": [
    "validate_carreg('WU65 GJV')"
   ]
  },
  {
   "cell_type": "code",
   "execution_count": null,
   "metadata": {},
   "outputs": [],
   "source": [
    "def test_validate_reg():\n",
    "    tests = [('WU65 GJV', True),\n",
    "            ('AB12 QWE', True),\n",
    "            ('AB12 123', False),\n",
    "            ('ASF FDS1', False),\n",
    "            ('AS3 ABD', False),\n",
    "            ('ZAX12 AJH', False),\n",
    "            ('F417 HRH', True)]\n",
    "    for test in tests:\n",
    "        result = validate_carreg(test[0])\n",
    "        message = f'Vadidating {test[0]}. Expecting '\n",
    "        if test[1]:\n",
    "            message += 'pass'\n",
    "        else:\n",
    "            message += 'fail'\n",
    "        message += ': '\n",
    "        if result == test[1]:\n",
    "            message += 'Ok'\n",
    "        else:\n",
    "            message += 'ERROR'\n",
    "        print(message)\n",
    "\n",
    "test_validate_reg()"
   ]
  },
  {
   "cell_type": "code",
   "execution_count": 52,
   "metadata": {},
   "outputs": [],
   "source": [
    "## 123,324.14\n",
    "def validate_number(num_str: str):\n",
    "    re_number = '^([0-9]{1,3})(,[0-9]{3})*[.][0-9]{2}$'\n",
    "    re_number = '^(\\d{1,3})(,\\d{3})*[.]\\d{2}$'\n",
    "\n",
    "    mat = re.search(re_number, num_str) \n",
    "    return mat\n"
   ]
  },
  {
   "cell_type": "code",
   "execution_count": 55,
   "metadata": {},
   "outputs": [],
   "source": [
    "def test_validate_number():\n",
    "    tests = [('1.24', True),\n",
    "             ('125.64', True),\n",
    "             ('1235.25', False),\n",
    "             ('1,123.76', True),\n",
    "             ('1,123,654.76', True),\n",
    "             ('1564,123.76', False),\n",
    "             ('1123.76', False),\n",
    "             ('.65', False),\n",
    "             ('0.14', True),\n",
    "             ]\n",
    "    for test in tests:\n",
    "        result = validate_number(test[0])\n",
    "        message = f'Testing \"{test[0]}\". Expect {\"pass\" if test[1] else \"fail\"} validation: ' \n",
    "        print(f'{message:<50}', end= '')\n",
    "        if result and test[1]:\n",
    "            print('Ok')\n",
    "        elif result is None and test[1] == False:\n",
    "            print('Ok')\n",
    "        else:\n",
    "            print('\\tFAIL') "
   ]
  },
  {
   "cell_type": "code",
   "execution_count": 56,
   "metadata": {},
   "outputs": [
    {
     "name": "stdout",
     "output_type": "stream",
     "text": [
      "Testing \"1.24\". Expect pass validation:           Ok\n",
      "Testing \"125.64\". Expect pass validation:         Ok\n",
      "Testing \"1235.25\". Expect fail validation:        Ok\n",
      "Testing \"1,123.76\". Expect pass validation:       Ok\n",
      "Testing \"1,123,654.76\". Expect pass validation:   Ok\n",
      "Testing \"1564,123.76\". Expect fail validation:    Ok\n",
      "Testing \"1123.76\". Expect fail validation:        Ok\n",
      "Testing \".65\". Expect fail validation:            Ok\n",
      "Testing \"0.14\". Expect pass validation:           Ok\n"
     ]
    }
   ],
   "source": [
    "test_validate_number()"
   ]
  },
  {
   "cell_type": "code",
   "execution_count": 57,
   "metadata": {},
   "outputs": [
    {
     "name": "stdout",
     "output_type": "stream",
     "text": [
      " along the\n",
      "Carpathians. I found my smattering of German very useful here; indeed, I\n",
      "don't know how I should be able to get on without it.\n",
      "\n",
      "Having had some time at my disposal when in London, I had visited the\n",
      "British Museum, and made search among the books and maps in the library\n",
      "regarding Transylvania; it had struck me that some foreknowledge of the\n",
      "country could hardly fail to have some importance in dealing with a\n",
      "nobleman of that country. I find that the district he named is in the\n",
      "extreme e\n"
     ]
    }
   ],
   "source": [
    "with open('../file_testing/dracula.txt', 'r') as drac:\n",
    "    text = drac.read()\n",
    "\n",
    "print(text[5000:5500])"
   ]
  },
  {
   "cell_type": "code",
   "execution_count": 142,
   "metadata": {},
   "outputs": [
    {
     "name": "stdout",
     "output_type": "stream",
     "text": [
      ". When I asked him if he knew Count Dracula\n",
      ". The last I saw of Count Dracula\n",
      ". It is only a line dated from Castle Dracula\n",
      ". The Dracula\n",
      ". Even my own terrible experiences in Castle Dracula\n",
      "5 matches found.\n"
     ]
    }
   ],
   "source": [
    "# matches = re.finditer(\"([.]) ([\\w,; ]+)+ (Dracula) ([\\w,; ]+)+[.]\", text)\n",
    "# matches = re.finditer(\"(\\w+) (Count)\", text)\n",
    "matches = re.finditer(\"[.] (\\w+ )+(Dracula)\", text)\n",
    "\n",
    "count = 0\n",
    "for match in matches:\n",
    "    count+=1\n",
    "    # print(match.span())\n",
    "    print(match.group())\n",
    "print(f'{count} matches found.')"
   ]
  },
  {
   "cell_type": "code",
   "execution_count": 151,
   "metadata": {},
   "outputs": [
    {
     "name": "stdout",
     "output_type": "stream",
     "text": [
      "{'STORIES', 'STRICT', 'Andersen', 'Pass', 'Park', '2 ', 'Memorandum', 'Hamlet', 'Act', 'Magyar', 'Archipelago', 'Purfleet', 'Americanism', 'Great', 'COURT', 'U ', 'Bartel', 'Lombard', 'Geordie', 'Section', 'M ', 'HARKER', 'Ste', 'Paxton', 'Sunday', 'Being', 'New', 'Almighty', 'Somehow', 'Rents', 'Many', 'WOLF', 'Andres', 'General', 'PATERSON', 'XIV', 'Galatz', 'Hospadars', 'Behold', 'Phonograph', 'INJURED', 'East', 'Paddington', 'Honourable', 'Walworth', 'THAT', 'Icelander', 'DISTRIBUTOR', 'Doolittle', 'Friend', 'Europe', 'e ', 'HEADSTRONG', 'Navy', 'Two', 'Abramoff', 'Superintendent', 'Morpheus', 'Sirs', 'Moneybag', 'Thus', 'THE', 'Redistribution', 'Carfax', 'Sphinges_', 'Africa', 'DAMAGES', 'Nights', 'Voivode', 'Lady', 'g ', 'Co', 'Enoch', 'Smollet', 'Guide', 'Lake', 'Szekelys', 'Day', 'Alas', 'Well', 'FULL', 'Suddenly', 'Come', 'Father', 'Oriental', 'They', 'July_', 'Donelson', 'Sereth', 'Crescent', 'Guiliano', 'Orange', 'Was', 'Steinkoff', 'Klausenburg', 'Jamaica', 'Moving', 'Cape', 'Renfield', 'Patrick', 'HORROR', 'Pole', 'Crucifix', 'At', 'Herr', 'Before', 'And', 'OF', 'HENNESSEY', 'IN', 'Wholeman', 'XIX', 'POSSIBILITY', 'Mackenzie', 'Turk', 'Real', 'Seward', 'United', 'Scholomance', 'DISCLAIMER', 'Wallach', 'Michael', 'CARTER', 'Bilder', 'Gibralter', 'Alphabetical', 'Count', 'Donations', 'a ', 'Dailygraph', 'Unless', 'Devil', 'Holmwood', 'WORK', 'Agatha', 'DRACULA', 'Wrapper', 'Melan', 'Tell', 'Morris', 'Lucy', 'Wallachs', 'Servian', 'Cszeks', 'British', 'Arminus', 'INCLUDING', 'Slovaks', 'Antwerp', 'DIRECT', 'INK', 'Switzerland', 'Romany', 'Jack', 'SAFETY', 'Aitetropos', 'Additional', 'FOR', 'Some', 'Complete', 'Master', 'Bethnal', 'Zoo', 'Wodin', 'Russian', '& ', 'Art', 'E ', 'Archive', 'Hebrew', 'MURDER', 'PGLAF', 'INDIRECT', 'London', 'Todten', 'One', 'Kukri', 'HOMMY', '  ', 'ANOTHER', 'MILL', 'CANDY', 'FROM', 'EBook', 'Her', 'May', 'Germany', 'Kettleness', 'Replacement', 'CONSEQUENTIAL', 'Angels', 'OWNER', 'GARDEN', 'Bloxam', 'Aud', 'German', 'Heaven', 'Vanderpool', 'As', 'Son', 'Sussex', 'Holland', 'STATES', 'Journal_', 'King', 'Team', 'Tropics', 'Pincher', 'Royalty', 'Vice', 'Morning', 'Pampas', 'Street', 'Bucharest', 'Riding', 'Project', 'h ', 'Online', 'n ', 'Medusa', 'A ', '> ', 'Frenchmen', 'Refund', 'April', 'Burdon', 'III', 'To', 'These', 'Green', 'Dead', 'Christian', 'XVII', 'Moldavia', 'Hon', 'D ', 'Corner', 'Scotland', 'American', 'Dunlap', 'R ', 'Buda', 'Mission', 'Ville', 'Him', 'Hotel', 'Arminius', 'Express', 'Jamrach', 'Bram', 'Arthur', 'Attila', 'John', '- ', 'XVI', 'Ophelia', 'When', 'Malvolio', 'Fiction', 'Redistributing', '_ ', 'LIFE', 'Information', 'WILL', 'Mississippi', 'Sons', 'License', 'XXII', 'XII', 'Then', 'Conquistadores', '; ', 'Copyright', 'Parr', 'Congress', 'Foundation', 'Grosset', 'Index', 'Lord', 'LOG', 'Scriptural', 'INTERVIEWER', 'd ', 'Wednesday', 'End', 'Viaduct', 'Transylvania', 'Harkers', 'Noon', 'You', 'List', 'k ', 'Government', 'Disraeli', 'June', 'Borgo', 'Incorporated', 'March', 'St', 'Tobolsk', 'Norfolk', 'European', 'VII', 'All', 'Plan', 'November', '3 ', 'MIDDLE', 'XXI', 'GIVE', 'Cassova', 'Sir', 'Lordship', 'Your', 'Indian', 'IV', 'South', 'Asylum', 'CONTRACT', 'Once', 'About', 'Blessed', 'Director', 'Having', 'Avar', 'HAVE', 'Munich', 'Customs', 'Consulate', 'Quincey', 'G ', 'Hereafter', 'Doctor', 'Friday', 'GROSSET', '5 ', 'Whilst', 'Bosphorus', 'Company', 'Kingdom', 'SON', 'Shakespeare', 'Sam', 'Murray', 'Danube', 'During', 'Council', 'Though', 'Marquand', 'Rail', 'Alley', '9 ', 'There', 'Gabriel', 'XI', 'War', '1 ', 'ANYTHING', 'Even', 'Desdemona', 'AT', 'Heath', 'Korkrans', 'Finland', 'LIMITED', 'Andrew', 'Value', 'Harris', 'Hun', 'u ', 'Deil', 'Sections', 'IMPLIED', 'Varna', 'Church', 'y ', 'August', 'AK', 'Lombroso', 'Texas', 'Wilhelmina', 'Tate', 'Petrofsky', 'Oh', 'Aërated', 'MANY', 'Despite', 'Whitby', 'm ', 'Himmel', 'With', 'Spencelagh', 'SEWARD', 'Spohr', 'WITH', 'Rome', 'Inn', 'Westenra', 'EIN', ') ', 'READ', 'NEGLIGENCE', 'China', 'Soho', 'Host', 'Madame', 'Hildesheim', 'Charing', 'DAILYGRAPH', 'Hungarian', 'Bistritz', 'Vincent', 'Do', 'LOST', 'L ', 'He', 't ', 'Underground', 'Hillingham', 'Black', 'Burgen', 'WOLVES', 'AUGUST', 'Again', 'VAN', 'Ghoorka', 'Without', 'Honfoglalas', 'Smith', 'Three', 'Omnipotent', 'Spanish', 'Yard', 'Gott', 'PG', 'Peter', 'Thing', 'India', 'Paris', 'Water', 'SECRET', 'Web', 'Herren', 'Austrian', 'Miss', 'Not', 'f ', 'Providence', 'MURRAY', 'Viking', 'Helsing', 'Stabbing', 'MY', 'Esk', 'Gibraltar', 'Bank', 'DUNLAP', 'S ', 'Olgaren', 'Van', 'His', 'Standard', 'Noon_', 'So', 'America', 'Public', 'Berkeley', 'Exeter', 'XXV', 'For', '6 ', '\" ', 'Mile', '* ', 'Contributions', 'West', 'Pier', 'Diary', 'O ', 'Pruth', 'Dacians', 'France', 'Dover', 'Wafer', 'FRIEND', 'Madam', 'Red', 'Contact', 'Of', 'Lor', 'WARGRAVE', '7 ', 'Y ', 'Evening', 'Arlington', 'XV', 'MS', 'Hyde', 'My', 'Mulgrave', 'Chuck', 'EXPRESS', 'If', 'BEFORE', 'Dudding', 'Slovak', 'Westminister', 'Romæ', 'Moth', 'Greek', 'Admiralty', 'Robin', 'HAMPSTEAD', 'WARRANTY', 'Greenland', 'IRS', 'Pop', 'Mina', 'Date', 'Turkish', 'How', 'Bersicker', 'Road', 'THOSE', 'AND', 'Roman', 'Potter', 'VIII', 'NEW', 'Love', 'PHONOGRAPH', 'Golden', 'Petrof', 'YOU', 'Ordnance', 'September', 'Ring', 'HEAVEN', 'See', ': ', 'USE', 'Lidderdale', 'Moon', 'Stars', 'We', 'Burial', 'September_', 'North', 'Titicaca', 'SPOKEN', 'York', 'Trade', 'Carter', 'Turkey', 'Something', 'DISTRIBUTE', 'Poplar', 'Four', 'Dun', 'Mittel', 'XXIV', 'Hull', 'Eastern', 'Saxon', 'REMEDIES', 'XVIII', 'Who', 'Mohács', 'Western', 'Nearly', 'OR', 'DONATIONS', 'Hill', 'By', 'Winchester', 'English', 'Mitchell', 'Holy', 'T ', 'Nature', 'Bulgar', 'Pit', 'Haarlem', 'JOURNAL', 'After', 'Old', 'Duck', 'Junior', 'Straits', 'START', 'K ', 'Good', 'Chief', 'Marquesas', '0 ', 'Sacred', 'Lloyd', '8 ', 'Mr', 'Here', 'Ristics', 'Sale', 'Correspondent', 'Kensington', 'Immanuel', 'In', 'SONS', 'Hawkins', 'Mrs', 'Bay', 'Its', 'Magyars', 'Samuel', 'Authors', 'Danes', 'Treaty', 'Runswick', 'Professor', 'Internal', 'Roumanian', 'Abraham', 'Salt', 'The', 'River', 'Asia', 'Straw', 'Service', 'Floridas', 'Special', 'KING', 'Braithwaite', 'Any', 'George', 'Chernosese', 'Mall', 'Defect', 'HELSING', 'Hamburg', 'IX', 'Sheppard', 'Fenchurch', 'Ho', 'Strasba', 'Scythia', 'Union', 'Candy', 'Tokay', 'Salvation', 'Hungary', 'White', 'TO', 's ', 'Poor', 'NOT', 'Daily', 'PRINTED', 'Land', 'Compliance', 'Stores', 'Bermondsey', 'Thor', 'God', 'Hood', 'Roumanians', 'Scott', 'Billreuth', 'Skinsky', 'UT', 'Staithes', 'Carpathian', 'Biscay', 'Zoölogical', 'Museum', 'Drawbridge', 'Hampstead', 'ESCAPE', 'Nuremberg', 'Stay', 'VI', 'Follow', 'Indulgence', 'Harker', 'Down', 'Judgment', 'BREACH', 'Angel', 'She', 'Hell', 'THIS', 'Monroe', 'Fundu', 'XX', 'AMALGAMATION', 'Campaign', 'Romanoffs', 'England', 'Carpathians', 'Cross', 'Turks', 'Hardy', 'Catherine_', 'FOUNDATION', 'Dr', 'NOTE', 'Vanilla', 'Diary_', 'Women', 'Ellen', 'Woman', 'Gazette', 'More', 'Almanac', 'Klausenburgh', 'Row', 'Greece', 'Thursday', 'Draculas', 'Directory', 'Straightway', 'IF', 'Life', 'INDEMNITY', 'Copyrighted', 'Casino', 'Winchesters', 'F ', 'XXIII', 'Consul', 'Literary', 'OTHER', 'XIII', 'Poters', 'SUCH', 'Stripes', 'VALLEY', 'Sister', 'Casabianca', 'Solicitors', 'Evil', 'Society', 'Thames', 'r ', 'Slav', 'August_', 'PURPOSE', 'Dutchman', 'o ', 'Chicksand', 'Winter', 'Journal', 'Yorkshire', 'Lethe', 'That', 'This', 'b ', 'END', 'Recording', 'Full', 'Board', 'l ', 'Vampire', 'However', 'DIARY', 'July', 'French', 'Chatham', 'Keeper', 'Transylvanian', 'Psalmist', 'Domine', 'Ferrier', 'Dardanelles', 'Hospital', 'Pall', 'May_', 'Bukovina', 'Other', 'It', 'KIND', 'Poter', 'BE', 'RAYNER', 'Stop', \"' \", 'Jonathan', 'PERILOUS', 'Hampton', 'Harwich', 'Amsterdam', 'City', 'Waterloo', 'CO', 'Rig', 'Newcastle', 'Gulf', 'Byron', 'Gutenberg', 'Lincoln', 'HILL', 'PROJECT', 'Castle', 'Ugric', 'w ', 'Greeks', 'Liverpool', 'Bistritza', 'p ', 'Captain', 'Turning', 'Superior', 'No', 'II', '4 ', 'Mary', 'Japanese', 'Port', 'Derby', 'Corcoran', 'Thomas', 'Wharf', 'Death', 'Un', 'ANNEXATION', 'Except', 'Dame', 'Whitaker', 'Coming', 'Veresti', ', ', 'Westminster', 'Godalming', 'XXVI', 'Strange', 'October', 'Use', 'Email', 'Court', 'Piccadilly', 'Page', 'Messrs', 'Adelphi', 'Simmons', 'PUNITIVE', 'On', 'Paterson', 'Burger', 'Huns', 'House', 'Dracula', 'AGATHA', 'XXVII', 'Szgany', 'N ', 'GUTENBERG', 'University'}\n",
      "855\n"
     ]
    }
   ],
   "source": [
    "re_capitalised = '([^.?!] )([A-Z]\\w+)'\n",
    "# re_capitalised = '(?:[^.!?] )([A-Z]\\w+)'\n",
    "\n",
    "matches = re.finditer(re_capitalised, text)\n",
    "\n",
    "proper_nouns = set()\n",
    "for match in matches:\n",
    "    for group in match.groups():\n",
    "        proper_nouns.add(group)\n",
    "\n",
    "print(proper_nouns)\n",
    "print(len(proper_nouns))"
   ]
  }
 ],
 "metadata": {
  "kernelspec": {
   "display_name": ".venv",
   "language": "python",
   "name": "python3"
  },
  "language_info": {
   "codemirror_mode": {
    "name": "ipython",
    "version": 3
   },
   "file_extension": ".py",
   "mimetype": "text/x-python",
   "name": "python",
   "nbconvert_exporter": "python",
   "pygments_lexer": "ipython3",
   "version": "3.10.12"
  },
  "orig_nbformat": 4
 },
 "nbformat": 4,
 "nbformat_minor": 2
}
